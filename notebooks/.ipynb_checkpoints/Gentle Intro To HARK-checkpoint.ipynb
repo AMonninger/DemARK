{
 "cells": [
  {
   "cell_type": "markdown",
   "metadata": {},
   "source": [
    "# A Gentle Introduction to Using HARK\n",
    "\n",
    "This notebook provides a simple, hands on tutorial for first time HARK users-- and potentially first time Python users.  It does not go \"into the weeds\" - we have hidden some code cells that do boring things that you don't need to digest on your first experience with HARK.  Our aim is to convey a feel for how the toolkit works and how to set up and use different $\\texttt{AgentType}$s.\n",
    "\n",
    "For readers for whom this is your very first experience with Python, we have put important Python concepts in $\\textbf{boldface}$. Only cursory definitions (if any) are provided here.  If you want to learn more, there are many online Python tutorials."
   ]
  },
  {
   "cell_type": "code",
   "execution_count": 1,
   "metadata": {
    "code_folding": [
     0
    ],
    "collapsed": false
   },
   "outputs": [],
   "source": [
    "# This cell has just a bit of initial setup. You can click the arrow to expand it.\n",
    "%matplotlib inline\n",
    "import matplotlib.pyplot as plt\n",
    "\n",
    "# The first step is to be able to bring things in from different directories\n",
    "import sys \n",
    "import os\n",
    "\n",
    "sys.path.insert(0, os.path.abspath('../lib'))\n",
    "\n",
    "from util import log_progress\n",
    "\n",
    "import numpy as np\n",
    "import HARK # Prevents import error from Demos repo\n",
    "from time import clock\n",
    "from copy import deepcopy\n",
    "mystr = lambda number : \"{:.4f}\".format(number)\n",
    "from HARK.utilities import plotFuncs"
   ]
  },
  {
   "cell_type": "markdown",
   "metadata": {},
   "source": [
    "## Your First HARK Model: Perfect Foresight\n",
    "\n",
    "For the sake of simplicity, let's start with the almost the simplest possible consumption model: a problem in which the consumer has perfect foresight about everything except the date of death, which is stochastic (this is captured by a \"survival probability\" $\\mathsf{D} < 1$).  Income $Y_t$ grows from period to period by a factor $\\Gamma_t$.  Each period $t$, he must choose how much of his market resources $M_t$ to consume $C_t$ and how much to retain in a riskless asset $A_t$ with return factor $R$. The agent receives a flow of utility $U(C_t)$ from consumption (with CRRA preferences) and geometrically discounts future utility flows by factor $\\beta$. Between periods, the agent dies with probability $\\mathsf{D}_t$, ending his problem.\n",
    "\n",
    "The agent's problem can be written in Bellman form as:\n",
    "\n",
    "\\begin{eqnarray*}\n",
    "V_t(M_t) &=& \\max_{C_t} U(C_t) + \\beta (1-\\mathsf{D}_{t+1}) V_{t+1}(M_{t+1}), \\\\\n",
    "A_t &=& M_t - C_t, \\\\\n",
    "M_{t+1} &=& R A_t + Y_{t+1}, \\\\\n",
    "Y_{t+1} &=& \\Gamma_{t+1} Y_t, \\\\\n",
    "U(C) &=& \\frac{C^{1-\\rho}}{1-\\rho}.\n",
    "\\end{eqnarray*}\n",
    "\n",
    "A particular perfect foresight agent's problem can be characterized by values of risk aversion $\\rho$, discount factor $\\beta$, and return factor $R$, along with sequences of income growth factors $\\{ \\Gamma_t \\}$ and survival probabilities $\\{1 - \\mathsf{D}_t\\}$.  To keep things simple, let's forget about \"sequences\" of income growth and mortality, and just think about an $\\textit{infinite horizon}$ consumer with constant income growth and survival probability.\n",
    "\n",
    "## Representing Agents in HARK\n",
    "\n",
    "HARK represents agents with this type of problem as $\\textbf{instances}$ of the $\\textbf{class}$ $\\texttt{PerfForesightConsumerType}$, a $\\textbf{subclass}$ of $\\texttt{AgentType}$.  To make agents of this class, we must import the class itself into our workspace."
   ]
  },
  {
   "cell_type": "code",
   "execution_count": 2,
   "metadata": {
    "collapsed": false
   },
   "outputs": [],
   "source": [
    "from Demos.ConsumptionSaving.ConsIndShockModel import PerfForesightConsumerType"
   ]
  },
  {
   "cell_type": "markdown",
   "metadata": {},
   "source": [
    "To create an instance of $\\texttt{PerfForesightConsumerType}$, we simply call the class as if it were a function, passing as arguments the specific parameter values we want it to have.  In the hidden cell below, I define a $\\textbf{dictionary}$ named $\\texttt{PF_dictionary}$ with parameter values as given in this table:\n",
    "\n",
    "| Param | Description | Code | Value |\n",
    "| :---: | --- | --- | --- | :---: |\n",
    "| $\\rho$ | Relative risk aversion | $\\texttt{CRRA}$ | 2.5 |\n",
    "| $\\beta$ | Discount factor | $\\texttt{DiscFac}$ | 0.96 |\n",
    "| $R$ | Risk free interest factor | $\\texttt{Rfree}$ | 1.03 |\n",
    "| $1 - \\mathsf{D}$ | Survival probability | $\\texttt{LivPrb}$ | 0.98 |\n",
    "| $\\Gamma$ | Income growth factor | $\\texttt{PermGroFac}$ | 2.5 |\n",
    "\n",
    "\n",
    "For now, don't worry about the specifics of dictionaries.  All you need to know is that a dictionary lets us pass many arguments wrapped up in one simple data structure."
   ]
  },
  {
   "cell_type": "code",
   "execution_count": 3,
   "metadata": {
    "code_folding": [
     0
    ],
    "collapsed": true
   },
   "outputs": [],
   "source": [
    "# This cell defines a parameter dictionary. You can expand it if you want to see what that looks like.\n",
    "PF_dictionary = {\n",
    "    'CRRA' : 2.5,\n",
    "    'DiscFac' : 0.96,\n",
    "    'Rfree' : 1.03,\n",
    "    'LivPrb' : [0.98],\n",
    "    'PermGroFac' : [1.01],\n",
    "    'T_cycle' : 1,\n",
    "    'cycles' : 0,\n",
    "    'AgentCount' : 10000\n",
    "}\n",
    "\n",
    "# To those curious enough to open this hidden cell, you might notice that we defined\n",
    "# a few extra parameters in that dictionary: T_cycle, cycles, and AgentCount. Don't\n",
    "# worry about these for now."
   ]
  },
  {
   "cell_type": "markdown",
   "metadata": {},
   "source": [
    "Let's make an instance of the $\\texttt{PerfForesightConsumerType}$ class.  The object we create is merely a \"configured\" instance of the class: It has the parameter values needed to turn the abstract mathematical description of the problem into an object that represents the specific consumption function of a consumer with the configured parameters. \n",
    "\n",
    "We have stored parameter values are stored in a \"dictionary\" ($\\texttt{PF_dictionary}$).  The instance is created by passing the dictionary $\\texttt{PF_dictionary}$ to the class $\\texttt{PFexample}$ as if the class were a function.  (The double asterisks $**$ in this line simply tell Python to read the entries in the dictionary as arguments.)"
   ]
  },
  {
   "cell_type": "code",
   "execution_count": 4,
   "metadata": {
    "collapsed": false
   },
   "outputs": [],
   "source": [
    "PFexample = PerfForesightConsumerType(**PF_dictionary)"
   ]
  },
  {
   "cell_type": "markdown",
   "metadata": {},
   "source": [
    "We now have a representation of an infinite horizon perfect foresight consumer with the parameter values given in the table above.  As is, the object named $\\texttt{PFexample}$ knows what problem the agent faces, but it hasn't actually solved that problem.\n",
    "\n",
    "\n",
    "## Solving an Agent's Problem\n",
    "\n",
    "Let's solve this agent's problem-- find the consumption function that maximizes his discounted stream of utility. To do this, we call our agent's $\\texttt{solve}$ method. A $\\textbf{method}$ is essentially a function that an object runs on itself.\n",
    "\n",
    "In the cell below, I call the $\\texttt{solve}$ method for $\\texttt{PFexample}$, then plot the agent's consumption function on [0,10]. The horizontal axis is market resources divided by current income $m_t \\equiv M_t/Y_t$, and the vertical axis is consumption divided by current income $c_t \\equiv C_t/Y_t$."
   ]
  },
  {
   "cell_type": "code",
   "execution_count": 5,
   "metadata": {
    "collapsed": false
   },
   "outputs": [
    {
     "data": {
      "image/png": "[encoded data removed]",
      "text/plain": [
       "<matplotlib.figure.Figure at 0xeee5780>"
      ]
     },
     "metadata": {},
     "output_type": "display_data"
    }
   ],
   "source": [
    "PFexample.solve()\n",
    "plotFuncs(PFexample.solution[0].cFunc,0.,10.)"
   ]
  },
  {
   "cell_type": "markdown",
   "metadata": {},
   "source": [
    "Running the $\\texttt{solve}$ method creates the $\\textbf{attribute}$ of $\\texttt{PFexample}$ named $\\texttt{solution}$.  In fact, every subclass of $\\texttt{AgentType}$ uses the same $\\texttt{solve}$ method; the details of the computation obviously varies from subclass to subclass, but the interface is always the same.\n",
    "\n",
    "The $\\texttt{solution}$ attribute is always a $\\textit{list}$ of solutions to a single period of the problem. In this case, there is just one element in that list-- the solution to all periods of the infinite horizon problem.\n",
    "\n",
    "Unsurprisingly, our perfect foresight consumer with CRRA utility has a linear consumption function. Perhaps slightly more surprisingly, HARK thinks he should optimally consume over $\\textit{twice}$ his current income when he has zero market resources. What gives?\n",
    "\n",
    "In this very simple model, there is no artificially imposed borrowing constraint.  The agent is free to hold negative assets and can borrow against the entire PDV of his future earnings-- his human wealth.  How much is that?  What's the minimum value of $m_t$ where the consumption function is defined?  Let's check:"
   ]
  },
  {
   "cell_type": "code",
   "execution_count": 6,
   "metadata": {
    "collapsed": false
   },
   "outputs": [
    {
     "name": "stdout",
     "output_type": "stream",
     "text": [
      "This agent's human wealth is 50.4999499255 times his current income level.\n",
      "This agent's consumption function is defined down to m_t = -50.4999499255\n"
     ]
    }
   ],
   "source": [
    "print(\"This agent's human wealth is \" + str(PFexample.solution[0].hNrm) + ' times his current income level.')\n",
    "print(\"This agent's consumption function is defined down to m_t = \" + str(PFexample.solution[0].mNrmMin))"
   ]
  },
  {
   "cell_type": "markdown",
   "metadata": {},
   "source": [
    "Yikes! Let's take a look at the bottom of the consumption function.  In the cell below, set the bounds of the $\\texttt{plotFuncs}$ function to display down to the lowest defined value of the consumption function."
   ]
  },
  {
   "cell_type": "code",
   "execution_count": 7,
   "metadata": {
    "collapsed": false
   },
   "outputs": [
    {
     "ename": "NameError",
     "evalue": "name 'bottom' is not defined",
     "output_type": "error",
     "traceback": [
      "\u001b[1;31m---------------------------------------------------------------------------\u001b[0m",
      "\u001b[1;31mNameError\u001b[0m                                 Traceback (most recent call last)",
      "\u001b[1;32m<ipython-input-7-2b1f334ff196>\u001b[0m in \u001b[0;36m<module>\u001b[1;34m()\u001b[0m\n\u001b[0;32m      1\u001b[0m \u001b[1;31m# Fill in values for bottom and top to plot the range you're interested in.\u001b[0m\u001b[1;33m\u001b[0m\u001b[1;33m\u001b[0m\u001b[0m\n\u001b[1;32m----> 2\u001b[1;33m \u001b[0mplotFuncs\u001b[0m\u001b[1;33m(\u001b[0m\u001b[0mPFexample\u001b[0m\u001b[1;33m.\u001b[0m\u001b[0msolution\u001b[0m\u001b[1;33m[\u001b[0m\u001b[1;36m0\u001b[0m\u001b[1;33m]\u001b[0m\u001b[1;33m.\u001b[0m\u001b[0mcFunc\u001b[0m\u001b[1;33m,\u001b[0m\u001b[0mbottom\u001b[0m\u001b[1;33m,\u001b[0m\u001b[0mtop\u001b[0m\u001b[1;33m)\u001b[0m\u001b[1;33m\u001b[0m\u001b[0m\n\u001b[0m",
      "\u001b[1;31mNameError\u001b[0m: name 'bottom' is not defined"
     ]
    }
   ],
   "source": [
    "# Fill in values for bottom and top to plot the range you're interested in.\n",
    "plotFuncs(PFexample.solution[0].cFunc,bottom,top)"
   ]
  },
  {
   "cell_type": "markdown",
   "metadata": {},
   "source": [
    "## Changing Agent Parameters\n",
    "\n",
    "Suppose you wanted to change one (or more) of the parameters of the agent's problem and see what that does.  This is very easy to do in HARK.  So that we can compare consumption functions before and after we change parameters, let's make a new instance of $\\texttt{PerfForesightConsumerType}$ by copying $\\texttt{PFexample}$."
   ]
  },
  {
   "cell_type": "code",
   "execution_count": 8,
   "metadata": {
    "collapsed": false
   },
   "outputs": [],
   "source": [
    "NewExample = deepcopy(PFexample)"
   ]
  },
  {
   "cell_type": "markdown",
   "metadata": {},
   "source": [
    "In Python, you can set an $\\textbf{attribute}$ of an object just like any other variable.  For example, we could make the new agent less patient:"
   ]
  },
  {
   "cell_type": "code",
   "execution_count": 9,
   "metadata": {
    "collapsed": false
   },
   "outputs": [
    {
     "data": {
      "image/png": "[encoded data removed]",
      "text/plain": [
       "<matplotlib.figure.Figure at 0xeeeb7f0>"
      ]
     },
     "metadata": {},
     "output_type": "display_data"
    }
   ],
   "source": [
    "NewExample.DiscFac = 0.90\n",
    "NewExample.solve()\n",
    "plotFuncs([PFexample.solution[0].cFunc,NewExample.solution[0].cFunc],0.,10.)"
   ]
  },
  {
   "cell_type": "markdown",
   "metadata": {},
   "source": [
    "(Note that you can pass a list of functions to $\\texttt{plotFuncs}$ as the first argument rather than just a single function. Lists are written inside of [square brackets].)\n",
    "\n",
    "Let's try to deal with the \"problem\" of massive human wealth by making another consumer who has essentially no future income.  We can essentially eliminate human wealth by making the permanent income growth factor $\\textit{very}$ small.\n",
    "\n",
    "In $\\texttt{PFexample}$, the agent's income grew at a rate of 1\\% per period-- his $\\texttt{PermGroFac}$ took the value 1.01. What if our new agent had his income $\\textit{shrink}$ by 99\\% each period?  In the cell below, set $\\texttt{NewExample}$'s discount factor back to its original value, then set its $\\texttt{PermGroFac}$ attribute so that its income shrinks by 99\\% each period.\n",
    "\n",
    "Important: Recall that the model at the top of this document said that an agent's problem is characterized by a sequence of income growth factors, but we tabled that concept.  Because $\\texttt{PerfForesightConsumerType}$ treats $\\texttt{PermGroFac}$ as a $\\textit{time-varying}$ attribute, it must be specified as a $\\textbf{list}$ (with a single element in this case)."
   ]
  },
  {
   "cell_type": "code",
   "execution_count": 10,
   "metadata": {
    "collapsed": false
   },
   "outputs": [
    {
     "ename": "SyntaxError",
     "evalue": "invalid syntax (<ipython-input-10-cdc3da4a8ba3>, line 2)",
     "output_type": "error",
     "traceback": [
      "\u001b[1;36m  File \u001b[1;32m\"<ipython-input-10-cdc3da4a8ba3>\"\u001b[1;36m, line \u001b[1;32m2\u001b[0m\n\u001b[1;33m    your lines here!\u001b[0m\n\u001b[1;37m             ^\u001b[0m\n\u001b[1;31mSyntaxError\u001b[0m\u001b[1;31m:\u001b[0m invalid syntax\n"
     ]
    }
   ],
   "source": [
    "# Revert NewExample's discount factor and make his future income miniscule\n",
    "your lines here!\n",
    "\n",
    "# Compare the old and new consumption functions\n",
    "plotFuncs([PFexample.solution[0].cFunc,NewExample.solution[0].cFunc],0.,10.)"
   ]
  },
  {
   "cell_type": "markdown",
   "metadata": {},
   "source": [
    "Now $\\texttt{NewExample}$'s consumption function has the same slope (MPC) as $\\texttt{PFexample}$, but it emanates from (almost) zero-- he has basically no future income to borrow against!\n",
    "\n",
    "If you'd like, use the cell above to alter $\\texttt{NewExample}$'s attributes however you like and see how the consumption function changes.  However, keep in mind that \\textit{no solution exists} for some combinations of parameters.  HARK should let you know if this is the case if you try to solve such a model.\n",
    "\n",
    "\n",
    "## Your Second HARK Model: Adding Income Shocks\n",
    "\n",
    "Linear consumption functions are pretty boring, and you'd be justified in feeling ripped off if all HARK could do was plot some lines.  Let's look at another model that adds a couple important layers of complexity: income shocks and (artificial) borrowing constraints.\n",
    "\n",
    "Specifically, our new type of consumer receives two income shocks at the beginning of each period: a completely transitory shock $\\theta_t$ and a completely permanent shock $\\psi_t$.  Moreover, lenders will not let the agent borrow money such that his ratio of end-of-period assets $A_t$ to permanent income $P_t$ is less than $\\underline{a}$.  Eliding a bit of math, this problem can be framed in terms of $\\textit{normalized}$ variables, e.g. $m_t \\equiv M_t/P_t$.\n",
    "\n",
    "\\begin{eqnarray*}\n",
    "v_t(m_t) &=& \\max_{c_t} U(c_t) + \\beta (1 - \\mathsf{D}_{t+1}) \\mathbb{E} [v_{t+1}(m_{t+1}) ], \\\\\n",
    "a_t &=& m_t - c_t, \\\\\n",
    "a_t &\\geq& \\underline{a}, \\\\\n",
    "m_{t+1} &=& R/(\\Gamma_{t+1} \\psi_{t+1}) a_t + \\theta_{t+1}, \\\\\n",
    "(\\psi_t,\\theta_t) \\sim F_{t}, &\\qquad& H\\mathbb{E} [F_{\\psi t}] = 1, \\\\\n",
    "U(c) &=& \\frac{c^{1-\\rho}}{1-\\rho}.\n",
    "\\end{eqnarray*}\n",
    "\n",
    "HARK represents agents with this kind of problem as instances of the class $\\texttt{IndShockConsumerType}$.  To create an $\\texttt{IndShockConsumerType}$, we must specify the same set of parameters as for a $\\texttt{PerfForesightConsumerType}$, as well as an artificial borrowing constraint $\\underline{a}$ and a sequence of income shock distributions $\\{F_t\\}$. It's easy enough to pick a borrowing constraint-- say, zero-- but how would we specify $F_t$?  Can't the joint distribution of permanent and transitory shocks be just about anything?\n",
    "\n",
    "$\\textit{Yes}$, and HARK can handle that.  However, the default behavior of $\\texttt{IndShockConsumerType}$ is that the distribution of permanent income shocks is mean one lognormal, and the distribution of transitory shocks is mean one lognormal with a point mass representing unemployment.  The distributions are independent of each other by default, and are approximated with $N$ point equiprobable distributions.\n",
    "\n",
    "Let's make an infinite horizon instance of $\\texttt{IndShockConsumerType}$ with the same parameters as our original perfect foresight agent, plus the extra parameters to specify the income shock distribution and the artificial borrowing constraint. As before, we'll make a dictionary:\n",
    "\n",
    "\n",
    "| Param | Description | Code | Value |\n",
    "| :---: | --- | --- | --- | :---: |\n",
    "| $\\underline{a}$ | Artificial borrowing constraint | $\\texttt{BoroCnstArt}$ | 0.0 |\n",
    "| $\\sigma_\\psi$ | Underlying stdev of permanent income shocks | $\\texttt{PermShkStd}$ | 0.1 |\n",
    "| $\\sigma_\\theta$ | Underlying stdev of transitory income shocks | $\\texttt{TranShkStd}$ | 0.1 |\n",
    "| $N_\\psi$ | Number of discrete permanent income shocks | $\\texttt{PermShkCount}$ | 7 |\n",
    "| $N_\\theta$ | Number of discrete transitory income shocks | $\\texttt{TranShkCount}$ | 7 |\n",
    "| $\\mho$ | Unemployment probability | $\\texttt{UnempPrb}$ | 0.05 |\n",
    "| $\\underline{\\theta}$ | Transitory shock when unemployed | $\\texttt{IncUnemp}$ | 0.3 |"
   ]
  },
  {
   "cell_type": "code",
   "execution_count": 16,
   "metadata": {
    "code_folding": [],
    "collapsed": false
   },
   "outputs": [],
   "source": [
    "# This cell defines a parameter dictionary for making an instance of IndShockConsumerType.\n",
    "\n",
    "IndShockDictionary = {\n",
    "    'CRRA': 2.5,          # The dictionary includes our original parameters...\n",
    "    'Rfree': 1.03,\n",
    "    'DiscFac': 0.96,\n",
    "    'LivPrb': [0.98],\n",
    "    'PermGroFac': [1.01],\n",
    "    'PermShkStd': [0.1],  # ... and the new parameters for constructing the income process.    \n",
    "    'PermShkCount': 7,\n",
    "    'TranShkStd': [0.1],\n",
    "    'TranShkCount': 7,\n",
    "    'UnempPrb': 0.05,\n",
    "    'IncUnemp': 0.3,\n",
    "    'BoroCnstArt': 0.0,\n",
    "    'aXtraMin': 0.001,    # aXtra parameters specify how to construct the grid of assets.\n",
    "    'aXtraMax': 50.,      # Don't worry about these for now\n",
    "    'aXtraNestFac': 3,\n",
    "    'aXtraCount': 48,\n",
    "    'aXtraExtra': [None],\n",
    "    'vFuncBool': False,   # These booleans indicate whether the value function should be calculated\n",
    "    'CubicBool': False,   # and whether to use cubic spline interpolation. You can ignore them.\n",
    "    'aNrmInitMean' : -10.,\n",
    "    'aNrmInitStd' : 0.0,  # These parameters specify the (log) distribution of normalized assets\n",
    "    'pLvlInitMean' : 0.0, # and permanent income for agents at \"birth\". They are only relevant in\n",
    "    'pLvlInitStd' : 0.0,  # simulation and you don't need to worry about them.\n",
    "    'PermGroFacAgg' : 1.0,\n",
    "    'T_retire': 0,        # What's this about retirement? ConsIndShock is set up to be able to\n",
    "    'UnempPrbRet': 0.0,   # handle lifecycle models as well as infinite horizon problems. Swapping\n",
    "    'IncUnempRet': 0.0,   # out the structure of the income process is easy, but ignore for now.\n",
    "    'T_age' : None,\n",
    "    'T_cycle' : 1,\n",
    "    'cycles' : 0,\n",
    "    'AgentCount': 10000,\n",
    "    'tax_rate':0.0,\n",
    "}\n",
    "        \n",
    "# Hey, there's a lot of parameters we didn't tell you about!  Yes, but you don't need to\n",
    "# think about them for now."
   ]
  },
  {
   "cell_type": "markdown",
   "metadata": {},
   "source": [
    "Just like before, we need to import the relevant subclass of $\\texttt{AgentType}$ into our workspace, then create an instance by passing the dictionary to the class as if the class were a function."
   ]
  },
  {
   "cell_type": "code",
   "execution_count": 17,
   "metadata": {
    "collapsed": false
   },
   "outputs": [],
   "source": [
    "from Demos.ConsumptionSaving.ConsIndShockModel  import IndShockConsumerType\n",
    "IndShockExample = IndShockConsumerType(**IndShockDictionary)"
   ]
  },
  {
   "cell_type": "markdown",
   "metadata": {},
   "source": [
    "Now we can solve our new agent's problem just like before, using the $\\texttt{solve}$ method."
   ]
  },
  {
   "cell_type": "code",
   "execution_count": 19,
   "metadata": {
    "collapsed": false
   },
   "outputs": [
    {
     "data": {
      "image/png": "[encoded data removed]",
      "text/plain": [
       "<matplotlib.figure.Figure at 0x127d91d0>"
      ]
     },
     "metadata": {},
     "output_type": "display_data"
    }
   ],
   "source": [
    "IndShockExample.solve()\n",
    "plt.xlabel('Normalized market resources')\n",
    "plt.ylabel('Normalized consumption')\n",
    "plotFuncs(IndShockExample.solution[0].cFunc,0.,10.)"
   ]
  },
  {
   "cell_type": "markdown",
   "metadata": {},
   "source": [
    "## Changing Constructed Attributes\n",
    "\n",
    "In the parameter dictionary above, we chose values for HARK to use when constructing its numeric representation of $F_t$, the joint distribution of permanent and transitory income shocks. When $\\texttt{IndShockExample}$ was created, those parameters ($\\texttt{TranShkStd}$, etc) were used by the $\\textbf{constructor}$ or $\\textbf{initialization}$ method of $\\texttt{IndShockConsumerType}$ to construct an attribute called $\\texttt{IncomeDstn}$.\n",
    "\n",
    "Suppose you were interested in changing (say) the amount of permanent income risk.  From the section above, you might think that you could simply change the attribute $\\texttt{TranShkStd}$, solve the model again, and it would work.\n",
    "\n",
    "That's $\\textit{almost}$ true-- there's one extra step. $\\texttt{TranShkStd}$ is a primitive input, but it's not the thing you $\\textit{actually}$ want to change. Changing $\\texttt{TranShkStd}$ doesn't actually update the income distribution... unless you tell it to.  In the cell below, we invoke the method $\\texttt{updateIncomeProcess}$ so HARK knows to reconstruct the attribute $\\texttt{IncomeDstn}$."
   ]
  },
  {
   "cell_type": "code",
   "execution_count": 21,
   "metadata": {
    "collapsed": false
   },
   "outputs": [],
   "source": [
    "OtherExample = deepcopy(IndShockExample)  # Make a copy so we can compare consumption functions\n",
    "OtherExample.TranShkStd = [0.2]           # Double permanent income risk (note that it's a one element list)\n",
    "OtherExample.updateIncomeProcess()        # Call the method to reconstruct the representation of F_t\n",
    "OtherExample.solve()"
   ]
  },
  {
   "cell_type": "markdown",
   "metadata": {},
   "source": [
    "In the cell below, use your blossoming HARK skills to plot the consumption function for $\\texttt{IndShockExample}$ and $\\texttt{OtherExample}$ on the same figure."
   ]
  },
  {
   "cell_type": "code",
   "execution_count": null,
   "metadata": {
    "collapsed": true
   },
   "outputs": [],
   "source": [
    "# Use the line(s) below to plot the consumptions functions against each other\n"
   ]
  }
 ],
 "metadata": {
  "kernelspec": {
   "display_name": "Python 2",
   "language": "python",
   "name": "python2"
  },
  "language_info": {
   "codemirror_mode": {
    "name": "ipython",
    "version": 2
   },
   "file_extension": ".py",
   "mimetype": "text/x-python",
   "name": "python",
   "nbconvert_exporter": "python",
   "pygments_lexer": "ipython2",
   "version": "2.7.13"
  }
 },
 "nbformat": 4,
 "nbformat_minor": 0
}
