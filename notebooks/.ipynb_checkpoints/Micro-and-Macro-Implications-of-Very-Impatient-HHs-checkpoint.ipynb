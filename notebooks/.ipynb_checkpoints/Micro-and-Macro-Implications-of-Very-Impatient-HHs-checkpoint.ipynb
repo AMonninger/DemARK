{
 "cells": [
  {
   "cell_type": "markdown",
   "metadata": {},
   "source": [
    "# Micro- and Macroeconomic Implications of Very Impatient Households\n",
    "\n",
    "In the paper \"The Distribution of Wealth and the Marginal Propensity to Consume\" (Carroll, Slacalek, Tokuoka, and White 2017; hereafter: \"cstwMPC\"), the authors estimated the distribution of the intertemporal discount factor $\\beta$ that would make the wealth distribution of a simulated population of agents match the distribution of wealth in U.S. data.  The general point of the paper is twofold:\n",
    "\n",
    "1. The distribution of $\\beta$ need not be particularly wide to match the extreme concentration of wealth: roughly 0.92 to 0.98 (annual).\n",
    "2. With such a distribution of $\\beta$, simulated agents' (annual) marginal propensity to consume (MPC) from transitory income shocks matches microeconomic evidence (i.e. in the range of 0.2-0.4), far greater than the MPC predicted by representative agent macro models (i.e. 0.02-0.05).\n",
    "\n",
    "While some agents in the cstwMPC model have fairly high MPCs (~0.6), there is microeconomic evidence that a significant fraction of households have *even higher* MPCs than the model predicts (0.9 or more).  This group of households is commonly referred to as \"hand-to-mouth\"-- they consume (effectively) all of their income as they receive it.  There are several reasons why a household could be hand-to-mouth, but one plausible explanation is that these households are *even more impatient* than estimated by Carroll et al.\n",
    "\n",
    "In this exercise, you will explore the micro- and macroeconomic implications of some households being *very impatient*. Specifically, you will address the following questions:\n",
    "\n",
    "1. How does the distribution of the MPC change (relative to cstwMPC's baseline) if some simulated households are extremely impatient?  Do we observe a significant portion of hand-to-mouth households?\n",
    "2. How does the distribution (and aggregate level) of wealth change if some households are extremely impatient?  Does this distribution of $\\beta$ still generate a wealth distribution as seen in U.S. data?"
   ]
  },
  {
   "cell_type": "code",
   "execution_count": 1,
   "metadata": {},
   "outputs": [
    {
     "data": {
      "text/plain": [
       "0.4096000000000001"
      ]
     },
     "execution_count": 1,
     "metadata": {},
     "output_type": "execute_result"
    }
   ],
   "source": [
    "0.8**4"
   ]
  },
  {
   "cell_type": "code",
   "execution_count": null,
   "metadata": {},
   "outputs": [],
   "source": []
  }
 ],
 "metadata": {
  "kernelspec": {
   "display_name": "Python 2",
   "language": "python",
   "name": "python2"
  },
  "language_info": {
   "codemirror_mode": {
    "name": "ipython",
    "version": 2
   },
   "file_extension": ".py",
   "mimetype": "text/x-python",
   "name": "python",
   "nbconvert_exporter": "python",
   "pygments_lexer": "ipython2",
   "version": "2.7.14"
  }
 },
 "nbformat": 4,
 "nbformat_minor": 2
}
