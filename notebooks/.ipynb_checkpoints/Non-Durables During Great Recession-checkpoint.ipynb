{
 "cells": [
  {
   "cell_type": "code",
   "execution_count": null,
   "metadata": {
    "collapsed": true
   },
   "outputs": [],
   "source": [
    "# Hide this cell\n",
    "\n",
    "%matplotlib inline\n",
    "import matplotlib.pyplot as plt\n",
    "\n",
    "## Import some things from cstwMPC\n",
    "\n",
    "# The first step is to be able to bring things in from different directories\n",
    "import sys \n",
    "import os\n",
    "\n",
    "# Get the path to HARK either from an env variable or use the default. Remove this\n",
    "# once HARK is pip installable\n",
    "HARK_PATH = os.path.abspath(os.path.join('..', os.environ.get('HARK_PATH', 'lib/HARK-master')))\n",
    "\n",
    "sys.path.insert(0, os.path.join(HARK_PATH, 'ConsumptionSaving')) #Path to ConsumptionSaving folder\n",
    "sys.path.insert(0, HARK_PATH)\n",
    "sys.path.insert(0, os.path.abspath('../lib'))\n",
    "from util import log_progress\n",
    "\n",
    "import numpy as np\n",
    "from copy import deepcopy"
   ]
  },
  {
   "cell_type": "markdown",
   "metadata": {},
   "source": [
    "At the onset of the Great Recession, there was a large drop (6.32%, according to FRED) in consumer spending on non-durables.  Some economists have proffered that this could be attributed to precautionary motives-- a perceived increase in household income uncertainty induces more saving (less consumption) to protect future consumption against bad income shocks.  How large of an increase in the standard deviation of (log) permanent income shocks would be necessary to see an 6.32% drop in consumption in one quarter?  What about transitory income shocks?  How high would the perceived unemployment probability have to be?\n",
    "\n",
    "The first step is to create the ConsumerType we want to solve the model for.\n",
    "\n",
    "Model set up:\n",
    "- \"Standard\" infinite horizon consumption/savings model, with mortality and permanent and temporary shocks to income\n",
    "- Ex-ante heterogeneity in consumers' discount factors\n",
    "    \n",
    "With this basic setup, HARK's IndShockConsumerType is the appropriate ConsumerType.\n",
    "\n",
    "So we need to prepare the parameters to create that ConsumerType, and then create it.\n"
   ]
  },
  {
   "cell_type": "code",
   "execution_count": 2,
   "metadata": {},
   "outputs": [
    {
     "name": "stdout",
     "output_type": "stream",
     "text": [
      "divide by zero encountered in log\n"
     ]
    }
   ],
   "source": [
    "from HARKutilities import approxUniform\n",
    "\n",
    "# Bring in what we need from the cstwMPC parameters\n",
    "init_infinite = {\n",
    "    \"CRRA\":1.0,                    # Coefficient of relative risk aversion   \n",
    "    \"Rfree\":1.01/(1.0 - 1.0/160.0), # Survival probability,\n",
    "    \"PermGroFac\":[1.000**0.25], # Permanent income growth factor (no perm growth),\n",
    "    \"PermGroFacAgg\":1.0,\n",
    "    \"BoroCnstArt\":0.0,\n",
    "    \"CubicBool\":False,\n",
    "    \"vFuncBool\":False,\n",
    "    \"PermShkStd\":[(0.01*4/11)**0.5],  # Standard deviation of permanent shocks to income\n",
    "    \"PermShkCount\":5,  # Number of points in permanent income shock grid\n",
    "    \"TranShkStd\":[(0.01*4)**0.5],  # Standard deviation of transitory shocks to income,\n",
    "    \"TranShkCount\":5,  # Number of points in transitory income shock grid\n",
    "    \"UnempPrb\":0.07,  # Probability of unemployment while working\n",
    "    \"IncUnemp\":0.15,  # Unemployment benefit replacement rate\n",
    "    \"UnempPrbRet\":None,\n",
    "    \"IncUnempRet\":None,\n",
    "    \"aXtraMin\":0.00001,  # Minimum end-of-period assets in grid\n",
    "    \"aXtraMax\":20,  # Maximum end-of-period assets in grid\n",
    "    \"aXtraCount\":20,  # Number of points in assets grid,\n",
    "    \"aXtraExtra\":[None],\n",
    "    \"aXtraNestFac\":3,  # Number of times to 'exponentially nest' when constructing assets grid\n",
    "    \"LivPrb\":[1.0 - 1.0/160.0],  # Survival probability\n",
    "    \"DiscFac\":0.97,             # Default intertemporal discount factor, # dummy value, will be overwritten\n",
    "    \"cycles\":0,\n",
    "    \"T_cycle\":1,\n",
    "    \"T_retire\":0,\n",
    "    'T_sim':1200,  # Number of periods to simulate (idiosyncratic shocks model, perpetual youth)\n",
    "    'T_age': 400,\n",
    "    'IndL': 10.0/9.0,  # Labor supply per individual (constant),\n",
    "    'aNrmInitMean':np.log(0.00001),\n",
    "    'aNrmInitStd':0.0,\n",
    "    'pLvlInitMean':0.0,\n",
    "    'pLvlInitStd':0.0,\n",
    "    'AgentCount':0,  # will be overwritten by parameter distributor\n",
    "}\n",
    "\n",
    "# Import the HARK ConsumerType we want \n",
    "# Here, we bring in an agent making a consumption/savings decision every period, subject\n",
    "# to transitory and permanent income shocks.\n",
    "from ConsIndShockModel import IndShockConsumerType\n",
    "\n",
    "# Now initialize a baseline consumer type, using default parameters from infinite horizon cstwMPC\n",
    "BaselineType = IndShockConsumerType(**init_infinite)\n",
    "BaselineType.AgentCount = 10000 # Assign the baseline consumer type to have many agents in simulation"
   ]
  },
  {
   "cell_type": "markdown",
   "metadata": {},
   "source": [
    "Now, add in ex-ante heterogeneity in consumers' discount factors\n",
    "\n",
    "The cstwMPC parameters do not define a discount factor, since there is ex-ante heterogeneity in the discount factor.  To prepare to create this ex-ante heterogeneity, first create the desired number of consumer types"
   ]
  },
  {
   "cell_type": "code",
   "execution_count": 3,
   "metadata": {},
   "outputs": [
    {
     "data": {
      "text/plain": [
       "VBox(children=(HTML(value=u''), IntProgress(value=0, max=7)))"
      ]
     },
     "metadata": {},
     "output_type": "display_data"
    }
   ],
   "source": [
    "num_consumer_types   = 7 # declare the number of types we want\n",
    "ConsumerTypes = [] # initialize an empty list\n",
    "\n",
    "for nn in log_progress(range(num_consumer_types), every=1):\n",
    "    # Now create the types, and append them to the list ConsumerTypes\n",
    "    newType = deepcopy(BaselineType)    \n",
    "    ConsumerTypes.append(newType)\n",
    "    ConsumerTypes[-1].seed = nn # give each consumer type a different RNG seed\n",
    "\n"
   ]
  },
  {
   "cell_type": "markdown",
   "metadata": {},
   "source": [
    "Now, generate the desired ex-ante heterogeneity, by giving the different consumer types each their own discount factor"
   ]
  },
  {
   "cell_type": "code",
   "execution_count": 4,
   "metadata": {},
   "outputs": [
    {
     "data": {
      "text/plain": [
       "VBox(children=(HTML(value=u''), IntProgress(value=0, max=7)))"
      ]
     },
     "metadata": {},
     "output_type": "display_data"
    }
   ],
   "source": [
    "# First, decide the discount factors to assign\n",
    "bottomDiscFac  = 0.9800\n",
    "topDiscFac     = 0.9934 \n",
    "DiscFac_list   = approxUniform(N=num_consumer_types,bot=bottomDiscFac,top=topDiscFac)[1]\n",
    "\n",
    "# Now, assign the discount factors we want\n",
    "for j in log_progress(range(num_consumer_types), every=1):\n",
    "    ConsumerTypes[j].DiscFac = DiscFac_list[j]"
   ]
  },
  {
   "cell_type": "markdown",
   "metadata": {},
   "source": [
    "Now, solve and simulate the model for each consumer type:"
   ]
  },
  {
   "cell_type": "code",
   "execution_count": 5,
   "metadata": {},
   "outputs": [
    {
     "data": {
      "text/plain": [
       "VBox(children=(HTML(value=u''), IntProgress(value=0, max=7)))"
      ]
     },
     "metadata": {},
     "output_type": "display_data"
    }
   ],
   "source": [
    "for ConsumerType in log_progress(ConsumerTypes, every=1):\n",
    "    ### First solve the problem for this ConsumerType.\n",
    "    ConsumerType.solve()\n",
    "    \n",
    "    ### Now simulate many periods to get to the stationary distribution\n",
    "    ConsumerType.T_sim = 1000\n",
    "    ConsumerType.initializeSim()\n",
    "    ConsumerType.simulate()\n"
   ]
  },
  {
   "cell_type": "markdown",
   "metadata": {},
   "source": [
    "Now, create functions to see how aggregate consumption changes after household income uncertainty increases in various ways:"
   ]
  },
  {
   "cell_type": "code",
   "execution_count": 7,
   "metadata": {},
   "outputs": [
    {
     "data": {
      "application/vnd.jupyter.widget-view+json": {
       "model_id": "bcb404837cd84272a8fc368dfab47d03"
      }
     },
     "metadata": {},
     "output_type": "display_data"
    },
    {
     "data": {
      "image/png": "[encoded data removed]",
      "text/plain": [
       "<matplotlib.figure.Figure at 0x9e49e80>"
      ]
     },
     "metadata": {},
     "output_type": "display_data"
    }
   ],
   "source": [
    "# In order to see how consumption changes, we need to be able to calculate average consumption\n",
    "# in the last period.  Create a function do to that here.\n",
    "def calcAvgC(ConsumerTypes):\n",
    "    \"\"\"\n",
    "    This function calculates average consumption in the economy in last simulated period,\n",
    "    averaging across ConsumerTypes.\n",
    "    \"\"\"\n",
    "    # Make arrays with all types' (normalized) consumption and permanent income level\n",
    "    cNrm = np.concatenate([ThisType.cNrmNow for ThisType in ConsumerTypes])\n",
    "    pLvl = np.concatenate([ThisType.pLvlNow for ThisType in ConsumerTypes])\n",
    "    \n",
    "    # Calculate and return average consumption level in the economy\n",
    "    avgC = np.mean(cNrm*pLvl) \n",
    "    return avgC\n",
    "        \n",
    "# Now create a function to run the experiment we want -- change income uncertainty, and see\n",
    "# how consumption changes\n",
    "def cChangeAfterUncertaintyChange(ConsumerTypes,newVals,paramToChange):\n",
    "    \"\"\"\n",
    "    Function to calculate the change in average consumption after change(s) in income uncertainty\n",
    "    Inputs:\n",
    "        * consumerTypes, a list of consumer types\n",
    "        * newvals, a list of new values to use for the income parameters\n",
    "        * paramToChange, a string telling the function which part of the income process to change\n",
    "    \"\"\"\n",
    "\n",
    "    # Initialize an empty list to hold the changes in consumption that happen after parameters change.\n",
    "    changesInConsumption = []\n",
    "    \n",
    "    # Get average consumption before parameters change\n",
    "    oldAvgC = calcAvgC(ConsumerTypes)\n",
    "\n",
    "    # Now loop through the new income parameter values to assign, first assigning them, and then\n",
    "    # solving and simulating another period with those values\n",
    "    for newVal in log_progress(newVals, every=1):\n",
    "        if paramToChange in [\"PermShkStd\",\"TranShkStd\"]: # These parameters are time-varying, and thus are contained in a list.\n",
    "            thisVal = [newVal] # We need to make sure that our updated values are *also* in a (one element) list.\n",
    "        else:\n",
    "            thisVal = newVal\n",
    "\n",
    "        # Copy everything we have from the consumerTypes \n",
    "        ConsumerTypesNew = deepcopy(ConsumerTypes)\n",
    "          \n",
    "        for index,ConsumerTypeNew in enumerate(ConsumerTypesNew):\n",
    "            setattr(ConsumerTypeNew,paramToChange,thisVal) # Set the changed value of the parameter        \n",
    "\n",
    "            # Because we changed the income process, and the income process is created\n",
    "            # during initialization, we need to be sure to update the income process\n",
    "            ConsumerTypeNew.updateIncomeProcess()\n",
    "\n",
    "            # Solve the new problem\n",
    "            ConsumerTypeNew.solve()\n",
    "            \n",
    "            # Initialize the new consumer type to have the same distribution of assets and permanent\n",
    "            # income as the stationary distribution we simulated above\n",
    "            ConsumerTypeNew.initializeSim() # Reset the tracked history\n",
    "            ConsumerTypeNew.aNrmNow = ConsumerTypes[index].aNrmNow # Set assets to stationary distribution\n",
    "            ConsumerTypeNew.pLvlNow = ConsumerTypes[index].pLvlNow # Set permanent income to stationary dstn\n",
    "            \n",
    "            # Simulate one more period, which changes the values in cNrm and pLvl for each agent type\n",
    "            ConsumerTypeNew.simOnePeriod()\n",
    "\n",
    "        # Calculate the percent change in consumption, for this value newVal for the given parameter\n",
    "        newAvgC = calcAvgC(ConsumerTypesNew)\n",
    "        changeInConsumption = 100. * (newAvgC - oldAvgC) / oldAvgC\n",
    "\n",
    "        # Append the change in consumption to the list changesInConsumption\n",
    "        changesInConsumption.append(changeInConsumption)\n",
    "\n",
    "    # Return the list of changes in consumption\n",
    "    return changesInConsumption\n",
    "\n",
    "## Define functions that calculate the change in average consumption after income process changes\n",
    "def cChangeAfterPrmShkChange(newVals):\n",
    "    return cChangeAfterUncertaintyChange(ConsumerTypes,newVals,\"PermShkStd\")\n",
    "\n",
    "def cChangeAfterTranShkChange(newVals):\n",
    "    return cChangeAfterUncertaintyChange(ConsumerTypes,newVals,\"TranShkStd\")\n",
    "\n",
    "def cChangeAfterUnempPrbChange(newVals):\n",
    "    return cChangeAfterUncertaintyChange(ConsumerTypes,newVals,\"UnempPrb\")\n",
    "\n",
    "## Now, plot the functions we want\n",
    "\n",
    "# Import a useful plotting function from HARKutilities\n",
    "from HARKutilities import plotFuncs\n",
    "\n",
    "ratio_min = 0.5 # minimum number to multiply income parameter by\n",
    "targetChangeInC = -6.32 # Source: FRED\n",
    "num_points = 10 #number of parameter values to plot in graphs\n",
    "\n",
    "## First change the variance of the permanent income shock\n",
    "perm_ratio_max = 2.0 # Put whatever value in you want!  maximum number to multiply std of perm income shock by\n",
    "\n",
    "perm_min = BaselineType.PermShkStd[0] * ratio_min\n",
    "perm_max = BaselineType.PermShkStd[0] * perm_ratio_max\n",
    "\n",
    "plt.ylabel('% Change in Consumption')\n",
    "plt.xlabel('Std. Dev. of Perm. Income Shock (Baseline = ' + str(round(BaselineType.PermShkStd[0],2)) + ')')\n",
    "plt.title('Change in Cons. Following Increase in Perm. Income Uncertainty')\n",
    "plt.ylim(-20.,5.)\n",
    "plt.hlines(targetChangeInC,perm_min,perm_max)\n",
    "plotFuncs([cChangeAfterPrmShkChange],perm_min,perm_max,N=num_points)"
   ]
  },
  {
   "cell_type": "code",
   "execution_count": null,
   "metadata": {
    "collapsed": true
   },
   "outputs": [],
   "source": []
  }
 ],
 "metadata": {
  "kernelspec": {
   "display_name": "Python 2",
   "language": "python",
   "name": "python2"
  },
  "language_info": {
   "codemirror_mode": {
    "name": "ipython",
    "version": 2
   },
   "file_extension": ".py",
   "mimetype": "text/x-python",
   "name": "python",
   "nbconvert_exporter": "python",
   "pygments_lexer": "ipython2",
   "version": "2.7.13"
  }
 },
 "nbformat": 4,
 "nbformat_minor": 2
}
