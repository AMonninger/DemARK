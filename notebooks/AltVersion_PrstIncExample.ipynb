{
 "cells": [
  {
   "cell_type": "markdown",
   "metadata": {},
   "source": [
    "## Persistent Shock Model and Income Expectations\n"
   ]
  },
  {
   "cell_type": "markdown",
   "metadata": {},
   "source": [
    "This module creates an example application extending $\\texttt{PersistentShockConsumerType}$ from $\\texttt{ConsGenIndShockModel}$. (*Hyperlink to GenIncProcessModel.ipynb)* \n",
    "\n",
    "Most simply, it solves a consumption-saving model with neither necessarily fully transitory nor fully permanent, for which persistent income is tracked as a state variable and follows an AR(1) process."
   ]
  },
  {
   "cell_type": "markdown",
   "metadata": {},
   "source": [
    "###  But what if beliefs about persistent income differ from actual ?\n",
    "\n",
    "What if the consumer is having some beliefs about the persistence of his/her income process which differ from the *actual* persistent income?\n",
    "\n",
    "We can use the class $\\texttt{PersistentShockConsumerType}$ as an appropriate model to solve the problem of an identical consumer but for experiencing some beliefs about his income process.\n",
    "\n",
    "Suppose the consumer *perceived* the persistence of the income process differently than what the *actual* one is. We can prepare the parameters to create instances of that class. "
   ]
  },
  {
   "cell_type": "code",
   "execution_count": 1,
   "metadata": {
    "code_folding": [
     0
    ]
   },
   "outputs": [],
   "source": [
    "# Initial imports and notebook setup, click arrow to show\n",
    "%matplotlib inline\n",
    "import matplotlib.pyplot as plt\n",
    "\n",
    "import sys\n",
    "import os\n",
    "from copy import copy\n",
    "\n",
    "from HARK.ConsumptionSaving.ConsGenIncProcessModel import *\n",
    "import HARK.ConsumptionSaving.ConsumerParameters as Params\n",
    "\n",
    "\n",
    "from HARK.utilities import plotFuncs\n",
    "from time import clock\n",
    "mystr = lambda number : \"{:.4f}\".format(number)"
   ]
  },
  {
   "cell_type": "code",
   "execution_count": 2,
   "metadata": {
    "code_folding": [
     1
    ]
   },
   "outputs": [],
   "source": [
    "# This cell defines a dictionary to make an instance of \"persistent idiosyncratic shocks\" consumer\n",
    "ExampleDict={\n",
    "    \"CRRA\": 2.0,                           # Coefficient of relative risk aversion\n",
    "    \"Rfree\": 1.03,                         # Interest factor on assets\n",
    "    \"DiscFac\": 0.96,                       # Intertemporal discount factor\n",
    "    \"LivPrb\" : [0.98],                     # Survival probability\n",
    "    \"AgentCount\" : 10000,                  # Number of agents of this type (only matters for simulation)\n",
    "    \"aNrmInitMean\" : 0.0,                  # Mean of log initial assets (only matters for simulation)\n",
    "    \"aNrmInitStd\"  : 1.0,                  # Standard deviation of log initial assets (only for simulation)\n",
    "    \"pLvlInitMean\" : 0.0,                  # Mean of log initial permanent income (only matters for simulation)\n",
    "    \"pLvlInitStd\"  : 0.0,                  # Standard deviation of log initial permanent income (only matters for simulation)\n",
    "    \"PermGroFacAgg\" : 1.0,                 # Aggregate permanent income growth factor (only matters for simulation)\n",
    "    \"T_age\" : None,                        # Age after which simulated agents are automatically killed\n",
    "    \"T_cycle\" : 1,                         # Number of periods in the cycle for this agent type\n",
    "    \"aXtraMin\" : 0.001,                    # Minimum end-of-period \"assets above minimum\" value\n",
    "    \"aXtraMax\" : 30,                       # Maximum end-of-period \"assets above minimum\" value               \n",
    "    \"aXtraExtra\" : [0.005,0.01],           # Some other value of \"assets above minimum\" to add to the grid\n",
    "    \"aXtraNestFac\" : 3,                    # Exponential nesting factor when constructing \"assets above minimum\" grid\n",
    "    \"aXtraCount\" : 48,                     # Number of points in the grid of \"assets above minimum\"\n",
    "    \"PermShkCount\" : 7,                    # Number of points in discrete approximation to permanent income shocks\n",
    "    \"TranShkCount\" : 7,                    # Number of points in discrete approximation to transitory income shocks\n",
    "    \"PermShkStd\" : [0.1],                  # Standard deviation of log permanent income shocks\n",
    "    \"TranShkStd\" : [0.1],                  # Standard deviation of log transitory income shocks\n",
    "    \"UnempPrb\" : 0.05,                     # Probability of unemployment while working\n",
    "    \"UnempPrbRet\" : 0.005,                 # Probability of \"unemployment\" while retired\n",
    "    \"IncUnemp\" : 0.3,                      # Unemployment benefits replacement rate\n",
    "    \"IncUnempRet\" : 0.0,                   # \"Unemployment\" benefits when retired\n",
    "    \"tax_rate\" : 0.0,                      # Flat income tax rate\n",
    "    \"T_retire\" : 0,                        # Period of retirement (0 --> no retirement)\n",
    "    \"BoroCnstArt\" : 0.0,                   # Artificial borrowing constraint; imposed minimum level of end-of period assets\n",
    "    \"CubicBool\" : False,                   # Use cubic spline interpolation when True, linear interpolation when False\n",
    "    \"vFuncBool\" : True,                    # Whether to calculate the value function during solution    \n",
    "    \"cycles\": 0,                           # Make this type have an infinite horizon\n",
    "    \"pLvlPctiles\" : np.concatenate(([0.001, 0.005, 0.01, 0.03], np.linspace(0.05, 0.95, num=19),[0.97, 0.99, 0.995, 0.999])),\n",
    "    \"PermGroFac\" : [1.0],                  # Permanent income growth factor - long run permanent income growth doesn't work yet  \n",
    "    \"PrstIncCorr\": 0.9831,                 # Serial correlation coefficient for *actual* persistence of income\n",
    "}\n"
   ]
  },
  {
   "cell_type": "code",
   "execution_count": 15,
   "metadata": {},
   "outputs": [],
   "source": [
    "# Create an instance of a 'persistent shock' consumer\n",
    "PersistentExample = PersistentShockConsumerType(**ExampleDict)"
   ]
  },
  {
   "cell_type": "code",
   "execution_count": 16,
   "metadata": {},
   "outputs": [],
   "source": [
    "def updateActuAndPcvdPrstFunc(self,CorrActu, CorrPcvd):\n",
    "    '''This method creates the actual and perceived persistent income, and evaluates how much difference it makes\n",
    "    \n",
    "    Parameters\n",
    "    ----------\n",
    "    CorrAct : float\n",
    "        Serial correlation coefficient for *actual* persistent income\n",
    "    CorrPcvd : np.array\n",
    "        List or array of *perceived* persistent income\n",
    "\n",
    "\n",
    "    Returns\n",
    "    -------\n",
    "    Model outcomes: consumption function, cFunc, and marginal propensity to consumer, MPC.\n",
    "    ''' \n",
    "    # Define CorrAct and CorrPcvd\n",
    "    CorrAct = self.CorrAct\n",
    "    PrstIncCorr = self.CorrPcvd\n",
    "    #CorrPcvd = np.random.randint(0,1)           # or CorrPcvd=self.CorrPcvd \n",
    "    \n",
    "    # Update the income process, the assets grid, the persistent income grid, and the terminal solution\n",
    "    # with the *perceived* persistent income\n",
    "    PersistentExample.updatepLvlNextFunc() \n",
    "    print pLvlNextFunc[0]\n",
    "    \n",
    "    # Update the grid of persistent income levels with the *perceived* value\n",
    "    PersistentExample.updatepLvlGrid()\n",
    "    print pLvlGrid[0]\n",
    "    \n",
    "    # Solve the consumer's problem with *perceived* persistence \n",
    "    solution_now = PersistentExample.solve()\n",
    "\n",
    "    # Replace PrstIncCorr parameter with *actual* persistence\n",
    "    PersistentExample.PrstIncCorr = CorrAct\n",
    "    \n",
    "    # Update the consumer's income process\n",
    "    PersistentExample.updateIncomeProcess()\n",
    "    \n",
    "    # Update the income process, the assets grid, the persistent income grid, and the terminal solution\n",
    "    # with the *actual* persistent income\n",
    "    PersistentExample.updatepLvlNextFunc() \n",
    "\n",
    "    # Simulate\n",
    "    return solution_now"
   ]
  },
  {
   "cell_type": "code",
   "execution_count": 17,
   "metadata": {},
   "outputs": [
    {
     "name": "stdout",
     "output_type": "stream",
     "text": [
      "Consumption function by persistent income level pLvl for a consumer with AR1 coefficient of 0.9831:\n"
     ]
    },
    {
     "ename": "AttributeError",
     "evalue": "'PersistentShockConsumerType' object has no attribute 'solution'",
     "output_type": "error",
     "traceback": [
      "\u001b[0;31m---------------------------------------------------------------------------\u001b[0m",
      "\u001b[0;31mAttributeError\u001b[0m                            Traceback (most recent call last)",
      "\u001b[0;32m<ipython-input-17-6948b0ca2d7f>\u001b[0m in \u001b[0;36m<module>\u001b[0;34m()\u001b[0m\n\u001b[1;32m      4\u001b[0m \u001b[0mmLvlGrid\u001b[0m \u001b[0;34m=\u001b[0m \u001b[0mnp\u001b[0m\u001b[0;34m.\u001b[0m\u001b[0mlinspace\u001b[0m\u001b[0;34m(\u001b[0m\u001b[0;36m0\u001b[0m\u001b[0;34m,\u001b[0m\u001b[0;36m20\u001b[0m\u001b[0;34m,\u001b[0m\u001b[0;36m300\u001b[0m\u001b[0;34m)\u001b[0m\u001b[0;34m\u001b[0m\u001b[0m\n\u001b[1;32m      5\u001b[0m \u001b[0;32mfor\u001b[0m \u001b[0mp\u001b[0m \u001b[0;32min\u001b[0m \u001b[0mpLvlGrid\u001b[0m\u001b[0;34m:\u001b[0m\u001b[0;34m\u001b[0m\u001b[0m\n\u001b[0;32m----> 6\u001b[0;31m     \u001b[0mM_temp\u001b[0m \u001b[0;34m=\u001b[0m \u001b[0mmLvlGrid\u001b[0m \u001b[0;34m+\u001b[0m \u001b[0mPersistentExample\u001b[0m\u001b[0;34m.\u001b[0m\u001b[0msolution\u001b[0m\u001b[0;34m[\u001b[0m\u001b[0;36m0\u001b[0m\u001b[0;34m]\u001b[0m\u001b[0;34m.\u001b[0m\u001b[0mmLvlMin\u001b[0m\u001b[0;34m(\u001b[0m\u001b[0mp\u001b[0m\u001b[0;34m)\u001b[0m\u001b[0;34m\u001b[0m\u001b[0m\n\u001b[0m\u001b[1;32m      7\u001b[0m     \u001b[0mC\u001b[0m \u001b[0;34m=\u001b[0m \u001b[0mPersistentExample\u001b[0m\u001b[0;34m.\u001b[0m\u001b[0msolution\u001b[0m\u001b[0;34m[\u001b[0m\u001b[0;36m0\u001b[0m\u001b[0;34m]\u001b[0m\u001b[0;34m.\u001b[0m\u001b[0mcFunc\u001b[0m\u001b[0;34m(\u001b[0m\u001b[0mM_temp\u001b[0m\u001b[0;34m,\u001b[0m\u001b[0mp\u001b[0m\u001b[0;34m*\u001b[0m\u001b[0mnp\u001b[0m\u001b[0;34m.\u001b[0m\u001b[0mones_like\u001b[0m\u001b[0;34m(\u001b[0m\u001b[0mM_temp\u001b[0m\u001b[0;34m)\u001b[0m\u001b[0;34m)\u001b[0m\u001b[0;34m\u001b[0m\u001b[0m\n\u001b[1;32m      8\u001b[0m     \u001b[0mplt\u001b[0m\u001b[0;34m.\u001b[0m\u001b[0mplot\u001b[0m\u001b[0;34m(\u001b[0m\u001b[0mM_temp\u001b[0m\u001b[0;34m,\u001b[0m\u001b[0mC\u001b[0m\u001b[0;34m)\u001b[0m\u001b[0;34m\u001b[0m\u001b[0m\n",
      "\u001b[0;31mAttributeError\u001b[0m: 'PersistentShockConsumerType' object has no attribute 'solution'"
     ]
    }
   ],
   "source": [
    "# Plot the results: consumption function and MPC\n",
    "print('Consumption function by persistent income level pLvl for a consumer with AR1 coefficient of ' + str(PersistentExample.PrstIncCorr) + ':')\n",
    "pLvlGrid = PersistentExample.pLvlGrid[0]\n",
    "mLvlGrid = np.linspace(0,20,300)\n",
    "for p in pLvlGrid:\n",
    "    M_temp = mLvlGrid + PersistentExample.solution[0].mLvlMin(p)\n",
    "    C = PersistentExample.solution[0].cFunc(M_temp,p*np.ones_like(M_temp))\n",
    "    plt.plot(M_temp,C)\n",
    "plt.xlim(0.,20.)\n",
    "plt.xlabel('Market resource level mLvl')\n",
    "plt.ylabel('Consumption level cLvl')\n",
    "plt.show()"
   ]
  },
  {
   "cell_type": "code",
   "execution_count": null,
   "metadata": {},
   "outputs": [],
   "source": [
    "# Compare actual persistence vs beliefs about persistence\n",
    "\n",
    "# Simulate some data"
   ]
  }
 ],
 "metadata": {
  "kernelspec": {
   "display_name": "Python 2",
   "language": "python",
   "name": "python2"
  },
  "language_info": {
   "codemirror_mode": {
    "name": "ipython",
    "version": 2
   },
   "file_extension": ".py",
   "mimetype": "text/x-python",
   "name": "python",
   "nbconvert_exporter": "python",
   "pygments_lexer": "ipython2",
   "version": "2.7.13"
  }
 },
 "nbformat": 4,
 "nbformat_minor": 2
}
