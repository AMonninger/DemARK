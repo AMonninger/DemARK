{
 "cells": [
  {
   "cell_type": "markdown",
   "metadata": {},
   "source": [
    "# ConsIndShockModel: Consumption-Saving Models With Idiosyncratic Shocks to Income"
   ]
  },
  {
   "cell_type": "code",
   "execution_count": null,
   "metadata": {
    "code_folding": []
   },
   "outputs": [],
   "source": [
    "# Initial imports and notebook setup, click arrow to show\n",
    "from HARK.ConsumptionSaving.ConsIndShockModel import PerfectForesightConsumerType, IndShockConsumerType, KinkedRConsumerType\n",
    "from HARK.utilities import plotFuncsDer, plotFuncs\n",
    "from time import clock\n",
    "import matplotlib.pyplot as plt\n",
    "mystr = lambda number : \"{:.4f}\".format(number)"
   ]
  },
  {
   "cell_type": "markdown",
   "metadata": {},
   "source": [
    "The module $\\texttt{HARK.ConsumptionSaving.ConsIndShockModel}$ concerns consumption-saving models with idiosyncratic shocks to (non-capital) income.  All of the models assume CRRA utility with geometric discounting, no bequest motive, and income shocks are fully transitory or fully permanent.\n",
    "\n",
    "$\\texttt{ConsIndShockModel}$ currently includes three models:\n",
    "1. A very basic \"perfect foresight\" model with no uncertainty.\n",
    "2. A model with risk over transitory and permanent income shocks.\n",
    "3. The model described in (2), with an interest rate for debt that differs from the interest rate for savings.\n",
    "\n",
    "This notebook provides documentation for each of these three models, in order."
   ]
  },
  {
   "cell_type": "markdown",
   "metadata": {},
   "source": [
    "## Perfect Foresight Consumer\n",
    "\n",
    "The $\\mathtt{PerfForesightConsumerType}$ class the problem of a consumer with Constant Relative Risk Aversion utility \n",
    "$\\newcommand{\\CRRA}{\\rho}$\n",
    "\\begin{equation}\n",
    "U(C) = \\frac{C^{1-\\CRRA}}{1-\\rho},\n",
    "\\end{equation}\n",
    "has perfect foresight about everything except whether he will die between the end of period $t$ and the beginning of period $t+1$, which occurs with probability $\\newcommand{\\DiePrb}{\\mathsf{D}}\\DiePrb_{t+1}$.  Permanent labor income $P_t$ grows from period $t$ to period $t+1$ by factor $\\newcommand{\\PermGroFac}{\\Gamma}\\PermGroFac_{t+1}$.  The consumer faces no artificial borrowing constraint and is able to borrow against the entire future stream of income he will receive.\n",
    "\n",
    "At the beginning of period $t$, the consumer has an amount of market resources $M_t$ (which includes both market wealth and currrent income) and must choose how much of those resources to consume $C_t$ and how much to retain in a riskless asset $A_t$, which will earn return factor $\\newcommand{\\Rfree}{\\mathsf{R}}$. The agent's flow of future utility $U(C_{t+n})$ from consumption is geometrically discounted by factor $\\newcommand{\\DiscFac}{\\beta}\\DiscFac$ per period. If the consumer dies, he receives zero utility flow for the rest of time.\n",
    "\n",
    "The agent's problem can be written in Bellman form as:\n",
    "\n",
    "\\begin{eqnarray*}\n",
    "V_t(M_t,P_t) &=& \\max_{C_t}~U(C_t) ~+ \\DiscFac (1 - \\DiePrb_{t+1}) V_{t+1}(M_{t+1},P_{t+1}), \\\\\n",
    "& s.t. & \\\\\n",
    "A_t &=& M_t - C_t, \\\\\n",
    "M_{t+1} &=& \\Rfree A_t + Y_{t+1}, \\\\\n",
    "Y_{t+1} &=& P_{t+1}, \\\\ \n",
    "P_{t+1} &=& \\PermGroFac_{t+1} P_t.\n",
    "\\end{eqnarray*}\n",
    "\n",
    "The consumer's problem is characterized by a coefficient of relative risk aversion $\\CRRA$, an intertemporal discount factor $\\DiscFac$, an interest factor $\\Rfree$, and age-varying sequences of the permanent income growth factor $\\PermGroFac_t$ and survival probability $(1 - \\DiePrb_t)$.\n",
    "\n",
    "While it does not reduce the computational complexity of the problem (as permanent income is deterministic, given its initial condition $P_0$), HARK represents this problem with *normalized* variables (represented in lower case), dividing all real variables by permanent income $P_t$ and utility levels by $P_t^{1-\\CRRA}$.  The Bellman form of the model thus reduces to:\n",
    "\n",
    "\\begin{eqnarray*}\n",
    "v_t(m_t) &=& \\max_{c_t}~U(c_t) ~+ \\DiscFac (1 - \\DiePrb_{t+1}) \\PermGroFac_{t+1}^{1-\\CRRA} v_{t+1}(m_{t+1}), \\\\\n",
    "& s.t. & \\\\\n",
    "a_t &=& m_t - c_t, \\\\\n",
    "m_{t+1} &=& \\Rfree/\\PermGroFac_{t+1} a_t + 1.\n",
    "\\end{eqnarray*}"
   ]
  },
  {
   "cell_type": "markdown",
   "metadata": {},
   "source": [
    "### Solution method for PerfForesightConsumerType\n",
    "\n",
    "Because of the assumptions of CRRA utility, no risk other than mortality, and no artificial borrowing constraint, the problem has a closed form solution.  In fact, the consumption function is perfectly linear, and the value function composed with the inverse utility function is also linear.  The mathematical solution of this model is described in detail in the lecture notes [PerfForesightCRRA](http://econ.jhu.edu/people/ccarroll/public/lecturenotes/consumption/PerfForesightCRRA).  \n",
    "\n",
    "The one period problem for this model is solved by the function $\\texttt{solveConsPerfForesight}$, which creates an instance of the class $\\texttt{ConsPerfForesightSolver}$. To construct an instance of the class $\\texttt{PerfForesightConsumerType}$, several parameters must be passed to its constructor as shown in the table below. "
   ]
  },
  {
   "cell_type": "markdown",
   "metadata": {},
   "source": [
    "### Example parameter values to construct an instance of PerfForesightConsumerType\n",
    "\n",
    "| Parameter | Description | Code | Example value | Time-varying? |\n",
    "| :---: | --- | --- | --- | --- |\n",
    "| $\\DiscFac$ |Intertemporal discount factor  | $\\texttt{DiscFac}$ | $0.96$ |  |\n",
    "| $\\CRRA $ |Coefficient of relative risk aversion | $\\texttt{CRRA}$ | $2.0$ | |\n",
    "| $\\Rfree$ | Risk free interest factor | $\\texttt{Rfree}$ | $1.03$ | |\n",
    "| $1 - \\DiePrb_{t+1}$ |Survival probability | $\\texttt{LivPrb}$ | $[0.98]$ | $\\surd$ |\n",
    "|$\\PermGroFac_{t+1}$|Permanent income growth factor|$\\texttt{PermGroFac}$| $[1.01]$ | $\\surd$ |\n",
    "|$T$| Number of periods in this type's \"cycle\" |$\\texttt{T_cycle}$| $1$ | |\n",
    "|(none)| Number of times the \"cycle\" occurs |$\\texttt{cycles}$| $0$ | |\n",
    "\n",
    "Note that the survival probability and income growth factor have time subscripts; likewise, the example values for these parameters are *lists* rather than simply single floats.  This is because those parameters are *time-varying*: their values can depend on which period of the problem the agent is in.  All time-varying parameters *must* be specified as lists, even if the same value occurs in each period for this type.\n",
    "\n",
    "The last two parameters in the table specify the \"nature of time\" for this type: the number of (non-terminal) periods in this type's \"cycle\", and the number of times that the \"cycle\" occurs.  *Every* subclass of $\\texttt{AgentType}$ uses these two code parameters to define the nature of time.  Here, $\\texttt{T_cycle}$ has the value $1$, indicating that there is exactly one period in the cycle, while $\\texttt{cycles}$ is $0$, indicating that the cycle is repeated in *infinite* number of times-- it is an infinite horizon model, with the same \"kind\" of period repeated over and over.\n",
    "\n",
    "In contrast, we could instead specify a life-cycle model by setting $\\texttt{T_cycle}$ to $1$, and specifying age-varying sequences of income growth and survival probability.  In all cases, the number of elements in each time-varying parameter should exactly equal $\\texttt{T_cycle}$.\n",
    "\n",
    "The parameter $\\texttt{AgentCount}$ specifies how many consumers there are of this *type*-- how many individuals have these exact parameter values and are *ex ante* homogeneous.  This information is not relevant for solving the model, but is needed in order to simulate a population of agents, introducing *ex post* heterogeneity through idiosyncratic shocks.  Of course, simulating a perfect foresight model is quite boring, as there are *no* idiosyncratic shocks other than death!\n",
    "\n",
    "The cell below defines a dictionary that can be passed to the constructor method for $\\texttt{PerfForesightConsumerType}$, with the values from the table here."
   ]
  },
  {
   "cell_type": "code",
   "execution_count": null,
   "metadata": {
    "code_folding": [
     13
    ]
   },
   "outputs": [],
   "source": [
    "PerfForesightDict = {\n",
    "    # Parameters actually used in the solution method\n",
    "    \"CRRA\" : 2.0,                          # Coefficient of relative risk aversion\n",
    "    \"Rfree\" : 1.03,                        # Interest factor on assets\n",
    "    \"DiscFac\" : 0.96,                      # Default intertemporal discount factor\n",
    "    \"LivPrb\" : [0.98],                     # Survival probability\n",
    "    \"PermGroFac\" :[1.01],                  # Permanent income growth factor\n",
    "    \n",
    "    # Parameters that characterize the nature of time\n",
    "    \"T_cycle\" : 1,                         # Number of periods in the cycle for this agent type\n",
    "    \"cycles\" : 0                           # Number of times the cycle occurs (0 --> infinitely repeated)\n",
    "}"
   ]
  },
  {
   "cell_type": "markdown",
   "metadata": {},
   "source": [
    "### Solving and examining the solution of the perfect foresight model\n",
    "\n",
    "With the dictionary we have just defined, we can create an instance of $\\texttt{PerfForesightConsumerType}$ by passing the dictionary to the class (as if the class were a function).  This instance can then be solved by invoking its $\\texttt{solve}$ method."
   ]
  },
  {
   "cell_type": "code",
   "execution_count": null,
   "metadata": {},
   "outputs": [],
   "source": [
    "PFexample = PerfForesightConsumerType(**PerfForesightDict)\n",
    "PFexample.cycles = 0\n",
    "PFexample.solve()"
   ]
  },
  {
   "cell_type": "markdown",
   "metadata": {},
   "source": [
    "The $\\texttt{solve}$ method fills in the instance's attribute $\\texttt{solution}$ as a time-varying list of solutions to each period of the consumer's problem.  In this case, $\\texttt{solution}$ will be a list with exactly one instance of the class $\\texttt{ConsumerSolution}$, representing the solution to the infinite horizon model we specified."
   ]
  },
  {
   "cell_type": "code",
   "execution_count": null,
   "metadata": {},
   "outputs": [],
   "source": [
    "print(PFexample.solution)"
   ]
  },
  {
   "cell_type": "markdown",
   "metadata": {},
   "source": [
    "Each element of $\\texttt{solution}$ has a few attributes. To see all of them, we can use the \\texttt{vars} built in function:\n",
    "\n",
    "the consumption functions reside in the attribute $\\texttt{cFunc}$ of each element of $\\texttt{ConsumerType.solution}$.  This method creates a (time varying) attribute $\\texttt{cFunc}$ that contains a list of consumption functions."
   ]
  },
  {
   "cell_type": "code",
   "execution_count": null,
   "metadata": {},
   "outputs": [],
   "source": [
    "print(vars(PFexample.solution[0]))"
   ]
  },
  {
   "cell_type": "markdown",
   "metadata": {},
   "source": [
    "The two most important attributes of a single period solution of this model are the (normalized) consumption function $\\texttt{cFunc}$ and the (normalized) value function $\\texttt{vFunc}$.  Let's plot those functions near the lower bound of the permissible state space (the attribute $\\texttt{mNrmMin}$ tells us the lower bound of $m_t$ where the consumption function is defined)."
   ]
  },
  {
   "cell_type": "code",
   "execution_count": null,
   "metadata": {},
   "outputs": [],
   "source": [
    "print('Linear perfect foresight consumption function:')\n",
    "mMin = PFexample.solution[0].mNrmMin\n",
    "plotFuncs(PFexample.solution[0].cFunc,mMin,mMin+10.)"
   ]
  },
  {
   "cell_type": "code",
   "execution_count": null,
   "metadata": {},
   "outputs": [],
   "source": [
    "print('Perfect foresight value function:')\n",
    "plotFuncs(PFexample.solution[0].vFunc,mMin+0.1,mMin+10.1)"
   ]
  },
  {
   "cell_type": "markdown",
   "metadata": {},
   "source": [
    "An element of $\\texttt{solution}$ also includes the (normalized) marginal value function $\\texttt{vPfunc}$, and the lower and upper bounds of the marginal propensity to consume (MPC) $\\texttt{MPCmin}$ and $\\texttt{MPCmax}$.  Note that with a linear consumption function, the MPC is constant, so its lower and upper bound are identical."
   ]
  },
  {
   "cell_type": "markdown",
   "metadata": {},
   "source": [
    "### Simulating the perfect foresight consumer type\n",
    "\n",
    "Suppose we wanted to simulate many consumers who share the parameter values that we passed to $\\texttt{PerfForesightConsumerType}$-- an *ex ante* homogeneous *type* of consumers.  To do this, our instance would have to know *how many* agents there are of this type, as well as their initial levels of assets $a_t$ and permanent income $P_t$.\n",
    "\n",
    "Let's fill in this information by passing another dictionary to $\\texttt{PFexample}$ with simulation parameters.  The table below lists the parameters that an instance of $\\texttt{PerfForesightConsumerType}$ needs in order to successfully simulate its model using the $\\texttt{simulate}$ method.\n",
    "\n",
    "| Description | Code | Example value |\n",
    "| :---: | --- | --- |\n",
    "| Number of consumers of this type | $\\texttt{AgentCount}$ | $10000$ |\n",
    "| Number of periods to simulate | $\\texttt{T_sim}$ | $120$ |\n",
    "| Mean of initial log (normalized) assets | $\\texttt{aNrmInitMean}$ | $-6.0$ |\n",
    "| Stdev of initial log  (normalized) assets | $\\texttt{aNrmInitStd}$ | $1.0$ |\n",
    "| Mean of initial log permanent income | $\\texttt{pLvlInitMean}$ | $0.0$ |\n",
    "| Stdev of initial log permanent income | $\\texttt{pLvlInitStd}$ | $0.0$ |\n",
    "| Aggregrate productivity growth factor | $\\texttt{PermGroFacAgg}$ | $1.0$ |\n",
    "| Age after which consumers are automatically killed | $\\texttt{T_age}$ | $None$ |\n",
    "\n",
    "We have specified the model so that initial assets and permanent income are both distributed lognormally, with mean and standard deviation of the underlying normal distributions provided by the user.\n",
    "\n",
    "The parameter $\\texttt{PermGroFacAgg}$ exists for compatibility with more advanced models that employ aggregate productivity shocks; it can simply be set to 1.\n",
    "\n",
    "In infinite horizon models, it might be useful to prevent agents from living extraordinarily long lives through a fortuitous sequence of mortality shocks.  We have thus provided the option of setting $\\texttt{T_age}$ to specify the maximum number of periods that a consumer can live before they are automatically killed (and replaced with a new consumer with initial state drawn from the specified distributions).  This can be turned off by setting it to $\\texttt{None}$.\n",
    "\n",
    "The cell below puts these parameters into a dictionary, then gives them to $\\texttt{PFexample}$.  Note that all of these parameters *could* have been passed as part of the original dictionary; we omitted them above for simplicity."
   ]
  },
  {
   "cell_type": "code",
   "execution_count": null,
   "metadata": {},
   "outputs": [],
   "source": [
    "SimulationParams = {\n",
    "    \"AgentCount\" : 10000,                  # Number of agents of this type\n",
    "    \"T_sim\" : 120,                         # Number of periods to simulate\n",
    "    \"aNrmInitMean\" : -6.0,                 # Mean of log initial assets\n",
    "    \"aNrmInitStd\"  : 1.0,                  # Standard deviation of log initial assets\n",
    "    \"pLvlInitMean\" : 0.0,                  # Mean of log initial permanent income\n",
    "    \"pLvlInitStd\"  : 0.0,                  # Standard deviation of log initial permanent income\n",
    "    \"PermGroFacAgg\" : 1.0,                 # Aggregate permanent income growth factor\n",
    "    \"T_age\" : None,                        # Age after which simulated agents are automatically killed\n",
    "}\n",
    "\n",
    "PFexample(**SimulationParams) # This implicitly uses the assignParameters method of AgentType"
   ]
  },
  {
   "cell_type": "markdown",
   "metadata": {},
   "source": [
    "To generate simulated data, we need to specify which variables we want to track the \"history\" of for this instance.  To do so, we set the $\\texttt{track_vars}$ attribute of our $\\texttt{PerfForesightConsumerType}$ instance to be a list of strings with the simulation variables we want to track.\n",
    "\n",
    "In this model, valid elments of $\\texttt{track_vars}$ include $\\texttt{mNrmNow}$, $\\texttt{cNrmNow}$, $\\texttt{aNrmNow}$, and $\\texttt{pLvlNow}$.  Because this model has no idiosyncratic shocks, our simulated data will be quite boring.\n",
    "\n",
    "Before simulating, the $\\texttt{initializeSim}$ method must be invoked.  This resets our instance back to its initial state, drawing a set of initial $\\texttt{aNrmNow}$ and $\\texttt{pLvlNow}$ values from the specified distributions and storing them in the attributes $\\texttt{aNrmNow_init}$ and $\\texttt{pLvlNow_init}$.  It also resets this instance's internal random number generator, so that the same initial states will be set every time $\\texttt{initializeSim}$ is called.  In models with non-trivial shocks, this also ensures that the same sequence of shocks will be generated on every simulation run.\n",
    "\n",
    "Finally, the $\\texttt{simulate}$ method can be called."
   ]
  },
  {
   "cell_type": "code",
   "execution_count": null,
   "metadata": {},
   "outputs": [],
   "source": [
    "PFexample.track_vars = ['mNrmNow']\n",
    "PFexample.initializeSim()\n",
    "PFexample.simulate()"
   ]
  },
  {
   "cell_type": "markdown",
   "metadata": {},
   "source": [
    "Each simulation variable $\\texttt{X}$ named in $\\texttt{track_vars}$ will have the *history* of that variable for each agent stored in the attribute $\\texttt{X_hist}$ as an array of shape $(\\texttt{T_sim},\\texttt{AgentCount})$.  To see that the simulation worked as intended, we can plot the mean of $m_t$ in each simulated period:"
   ]
  },
  {
   "cell_type": "code",
   "execution_count": null,
   "metadata": {},
   "outputs": [],
   "source": [
    "plt.plot(np.mean(PFexample.mNrmNow_hist,axis=1))\n",
    "plt.xlabel('Time')\n",
    "plt.ylabel('Mean normalized market resources')\n",
    "plt.show()"
   ]
  },
  {
   "cell_type": "markdown",
   "metadata": {},
   "source": [
    "A perfect foresight consumer can borrow against the PDV of his future income-- his human wealth-- and thus as time goes on, our simulated agents approach the (very negative) steady state level of $m_t$ while being steadily replaced with consumers with roughly $m_t=1$.\n",
    "\n",
    "The slight wiggles in the plotted curve are due to consumers randomly dying and being replaced; their replacement will have an initial state drawn from the distributions specified by the user.  To see the current distribution of ages, we can look at the attribute $\\texttt{t_age}$."
   ]
  },
  {
   "cell_type": "code",
   "execution_count": null,
   "metadata": {},
   "outputs": [],
   "source": [
    "N = PFexample.AgentCount\n",
    "F = np.linspace(0.,1.,N)\n",
    "plt.plot(np.sort(PFexample.t_age),F)\n",
    "plt.xlabel('Current age of consumers')\n",
    "plt.ylabel('Cumulative distribution')\n",
    "plt.show()"
   ]
  },
  {
   "cell_type": "markdown",
   "metadata": {},
   "source": [
    "The distribution is (discretely) exponential, with a point mass at 120 with consumers who have survived since the beginning of the simulation.\n",
    "\n",
    "One might wonder why HARK requires users to call $\\texttt{initializeSim}$ before calling $\\texttt{simulate}$: Why doesn't $\\texttt{simulate}$ just call $\\texttt{initializeSim}$ as its first step?  We have broken up these two steps so that users can simulate some number of periods, change something in the environment, and then resume the simulation.\n",
    "\n",
    "When called with no argument, $\\texttt{simulate}$ will simulate the model for $\\texttt{T_sim}$ periods.  The user can optionally pass an integer specifying the number of periods to simulate (which should not exceed $\\texttt{T_sim}$).\n",
    "\n",
    "In the cell below, we simulate our perfect foresight consumers for 80 periods, then seize a bunch of their assets (dragging their wealth even more negative), then simulate for the reamining 40 periods."
   ]
  },
  {
   "cell_type": "code",
   "execution_count": null,
   "metadata": {},
   "outputs": [],
   "source": [
    "PFexample.initializeSim()\n",
    "PFexample.simulate(80)\n",
    "PFexample.aNrmNow += -5. # Adjust all simulated consumers' assets downward by 5\n",
    "PFexample.simulate(40)\n",
    "\n",
    "plt.plot(np.mean(PFexample.mNrmNow_hist,axis=1))\n",
    "plt.xlabel('Time')\n",
    "plt.ylabel('Mean normalized market resources')\n",
    "plt.show()"
   ]
  },
  {
   "cell_type": "markdown",
   "metadata": {},
   "source": [
    "## Consumer with idiosyncratic income shocks\n",
    "\n",
    "Suppose we want to solve a model like the one analyzed in [BufferStockTheory](http://econ.jhu.edu/people/ccarroll/papers/BufferStockTheory/), with all the same features as the perfect foresight consumer, plus idiosyncratic shocks to income each period.  Agents with this kind of model are represented by the class $\\texttt{IndShockConsumerType}$.\n",
    "\n",
    "Specifically, this type of consumer receives two income shocks at the beginning of each period: a completely transitory shock $\\newcommand{\\tShkEmp}{\\theta}{\\tShkEmp_t}$ and a completely permanent shock $\\newcommand{\\pShk}{\\psi}{\\pShk_t}$.  Moreover, lenders will not let the agent borrow money such that his ratio of end-of-period assets $A_t$ to permanent income $P_t$ is less than $\\underline{a}$.  As with the perfect foresight problem, this model can be framed in terms of *normalized* variables, dividing all real variables by $P_t$:\n",
    "\n",
    "\\begin{eqnarray*}\n",
    "v_t(m_t) &=& \\max_{c_t} {~} U(c_t) + \\DiscFac (1-\\DiePrb_{t+1})  \\mathbb{E}_{t} \\left[ (\\PermGroFac_{t+1}\\psi_{t+1})^{1-\\CRRA} v_{t+1}(m_{t+1}) \\right], \\\\\n",
    "a_t &=& m_t - c_t, \\\\\n",
    "a_t &\\geq& \\underline{a}, \\\\\n",
    "m_{t+1} &=& \\Rfree/(\\PermGroFac_{t+1} \\psi_{t+1}) a_t + \\theta_{t+1}, \\\\\n",
    "(\\psi_{t+1},\\theta_{t+1}) &\\sim& F_{t+1}, \\\\\n",
    "\\mathbb{E}[\\psi]=\\mathbb{E}[\\theta] &=& 1, \\\\\n",
    "u(c) &=& \\frac{c^{1-\\rho}}{1-\\rho}.\n",
    "\\end{eqnarray*}"
   ]
  },
  {
   "cell_type": "markdown",
   "metadata": {},
   "source": [
    "### Solution method for IndShockConsumerType\n",
    "\n",
    "With the introduction of (non-trivial) risk, the idiosyncratic income shocks model has no closed form solution and must be solved numerically.  The function $\\texttt{solveConsIndShock}$ solves the one period problem for the $\\texttt{IndShockConsumerType}$ class.  To do so, HARK uses the original version of the endogenous grid method (EGM) first described [here](http://www.econ2.jhu.edu/people/ccarroll/EndogenousGridpoints.pdf); see also the [SolvingMicroDSOPs](http://www.econ2.jhu.edu/people/ccarroll/SolvingMicroDSOPs/) lecture notes.\n",
    "\n",
    "Briefly, the transition equation for $m_{t+1}$ can be substituted into the problem definition; the second term of the reformulated maximand represents \"end of period value of assets\" $\\mathfrak{v}_t(a_t)$:\n",
    "\n",
    "\\begin{eqnarray*}\n",
    "v_t(m_t) &=& \\max_{c_t} {~} U(c_t) + \\underbrace{\\DiscFac (1-\\DiePrb_{t+1})  \\mathbb{E}_{t} \\left[ (\\PermGroFac_{t+1}\\psi_{t+1})^{1-\\CRRA} v_{t+1}(\\Rfree/(\\PermGroFac_{t+1} \\psi_{t+1}) a_t + \\theta_{t+1}) \\right]}_{\\equiv \\mathfrak{v}_t(a_t)}.\n",
    "\\end{eqnarray*}\n",
    "\n",
    "The first order condition with respect to $c_t$ is thus simply:\n",
    "\n",
    "\\begin{eqnarray*}\n",
    "U'(c_t) - \\mathfrak{v}'_t(a_t) = 0 \\Longrightarrow c_t^{-\\CRRA} = \\mathfrak{v}'_t(a_t) \\Longrightarrow c_t = \\mathfrak{v}'_t(a_t)^{-1/\\CRRA}.\n",
    "\\end{eqnarray*}\n",
    "\n",
    "Where the marginal value of end-of-period assets can be computed as:\n",
    "\n",
    "\\begin{eqnarray*}\n",
    "\\mathfrak{v}'_t(a_t) = \\DiscFac (1-\\DiePrb_{t+1})  \\mathbb{E}_{t} \\left[ \\Rfree (\\PermGroFac_{t+1}\\psi_{t+1})^{-\\CRRA} v'_{t+1}(\\Rfree/(\\PermGroFac_{t+1} \\psi_{t+1}) a_t + \\theta_{t+1}) \\right].\n",
    "\\end{eqnarray*}\n",
    "\n",
    "To solve the model, we choose an exogenous grid of $a_t$ values that spans the range of values that could plausibly be achieved, compute $\\mathfrak{v}'_t(a_t)$ at each of these points, calculate the value of consumption $c_t$ whose marginal utility is consistent with the marginal value of assets, then find the endogenous $m_t$ gridpoint as $m_t = a_t + c_t$.  The set of $(m_t,c_t)$ gridpoints is then interpolated to construct the consumption function."
   ]
  },
  {
   "cell_type": "markdown",
   "metadata": {},
   "source": [
    "### Example parameter values to construct an instance of IndShockConsumerType\n",
    "\n",
    "In order to create an instance of $\\texttt{IndShockConsumerType}$, the user must specify parameters that characterize the (age-varying) distribution of income shocks $F_{t+1}$, the artificial borrowing constraint $\\underline{a}$, and the exogenous grid of end-of-period assets-above-minimum for use by EGM, along with all of the parameters for the perfect foresight model.  The table below presents the complete list of parameter values required to instantiate an $\\texttt{IndShockConsumerType}$, along with example values.\n",
    "\n",
    "| Parameter | Description | Code | Example value | Time-varying? |\n",
    "| :---: | --- | --- | --- | --- |\n",
    "| $\\DiscFac$ |Intertemporal discount factor  | $\\texttt{DiscFac}$ | $0.96$ |  |\n",
    "| $\\CRRA $ |Coefficient of relative risk aversion | $\\texttt{CRRA}$ | $2.0$ | |\n",
    "| $\\Rfree$ | Risk free interest factor | $\\texttt{Rfree}$ | $1.03$ | |\n",
    "| $1 - \\DiePrb_{t+1}$ |Survival probability | $\\texttt{LivPrb}$ | $[0.98]$ | $\\surd$ |\n",
    "|$\\PermGroFac_{t+1}$|Permanent income growth factor|$\\texttt{PermGroFac}$| $[1.01]$ | $\\surd$ |\n",
    "| $\\sigma_\\psi $ | Standard deviation of log permanent income shocks | $\\texttt{PermShkStd}$ | $[0.1]$ |$\\surd$ |\n",
    "| $N_\\psi $ | Number of discrete permanent income shocks | $\\texttt{PermShkCount}$ | $7$ | |\n",
    "| $\\sigma_\\theta $ | Standard deviation of log transitory income shocks | $\\texttt{TranShkStd}$ | $[0.2]$ | $\\surd$ |\n",
    "| $N_\\theta $ | Number of discrete transitory income shocks | $\\texttt{TranShkCount}$ | $7$ |  |\n",
    "| $\\mho$ | Probability of being unemployed and getting $\\theta=\\underline{\\theta}$ | $\\texttt{UnempPrb}$ | $0.05$ |  |\n",
    "| $\\underline{\\theta} $ | Transitory shock when unemployed | $\\texttt{IncUnemp}$ | $0.3$ |  |\n",
    "| $\\mho^{Ret}$ | Probability of being \"unemployed\" when retired | $\\texttt{UnempPrb}$ | $0.0005$ |  |\n",
    "| $\\underline{\\theta}^{Ret} $ | Transitory shock when \"unemployed\" and retired | $\\texttt{IncUnemp}$ | $0.0$ |  |\n",
    "| $(none)$ | Period of the lifecycle model when retirement begins | $\\texttt{T_retire}$ | $0$ | |\n",
    "| $(none)$ | Minimum value in assets-above-minimum grid | $\\texttt{aXtraMin}$ | $0.001$ | |\n",
    "| $(none)$ | Maximum value in assets-above-minimum grid | $\\texttt{aXtraMax}$ | $20.0$ | |\n",
    "| $(none)$ | Number of points in base assets-above-minimum grid | $\\texttt{aXtraCount}$ | $48$ | |\n",
    "| $(none)$ | Exponential nesting factor for base assets-above-minimum grid | $\\texttt{aXtraNestFac}$ | $3$ | |\n",
    "| $(none)$ | Additional values to add to assets-above-minimum grid | $\\texttt{aXtraExtra}$ | $None$ | |\n",
    "| $\\underline{a} $ | Artificial borrowing constraint (normalized) | $\\texttt{BoroCnstArt}$ | $0.0$ | |\n",
    "| $(none) $ |Indicator for whether $\\texttt{vFunc}$ should be computed | $\\texttt{vFuncBool}$ | $'True'$ | |\n",
    "| $(none)$ |Indicator for whether $\\texttt{cFunc}$ should use cubic splines | $\\texttt{CubicBool}$ | $'False'$ |  |\n",
    "|$T$| Number of periods in this type's \"cycle\" |$\\texttt{T_cycle}$| $1$ | |\n",
    "|(none)| Number of times the \"cycle\" occurs |$\\texttt{cycles}$| $0$ | |"
   ]
  },
  {
   "cell_type": "code",
   "execution_count": null,
   "metadata": {
    "code_folding": [
     0
    ]
   },
   "outputs": [],
   "source": [
    "IdiosyncDict={\n",
    "    # Parameters shared with the perfect foresight model\n",
    "    \"CRRA\": 2.0,                           # Coefficient of relative risk aversion\n",
    "    \"Rfree\": 1.03,                         # Interest factor on assets\n",
    "    \"DiscFac\": 0.96,                       # Intertemporal discount factor\n",
    "    \"LivPrb\" : [0.98],                     # Survival probability\n",
    "    \"PermGroFac\" :[1.01],                  # Permanent income growth factor\n",
    "    \n",
    "    # Parameters that specify the income distribution over the lifecycle\n",
    "    \"PermShkStd\" : [0.1],                  # Standard deviation of log permanent shocks to income\n",
    "    \"PermShkCount\" : 7,                    # Number of points in discrete approximation to permanent income shocks\n",
    "    \"TranShkStd\" : [0.2],                  # Standard deviation of log transitory shocks to income\n",
    "    \"TranShkCount\" : 7,                    # Number of points in discrete approximation to transitory income shocks\n",
    "    \"UnempPrb\" : 0.05,                     # Probability of unemployment while working\n",
    "    \"IncUnemp\" : 0.3,                      # Unemployment benefits replacement rate\n",
    "    \"UnempPrbRet\" : 0.0005,                # Probability of \"unemployment\" while retired\n",
    "    \"IncUnempRet\" : 0.0,                   # \"Unemployment\" benefits when retired\n",
    "    \"T_retire\" : 0,                        # Period of retirement (0 --> no retirement)\n",
    "    \"tax_rate\" : 0.0,                      # Flat income tax rate (legacy parameter, will be removed in future)\n",
    "    \n",
    "    # Parameters for constructing the \"assets above minimum\" grid\n",
    "    \"aXtraMin\" : 0.001,                    # Minimum end-of-period \"assets above minimum\" value\n",
    "    \"aXtraMax\" : 20,                       # Maximum end-of-period \"assets above minimum\" value\n",
    "    \"aXtraCount\" : 48,                     # Number of points in the base grid of \"assets above minimum\"\n",
    "    \"aXtraNestFac\" : 3,                    # Exponential nesting factor when constructing \"assets above minimum\" grid\n",
    "    \"aXtraExtra\" : [None],                 # Additional values to add to aXtraGrid\n",
    "    \n",
    "    # A few other paramaters\n",
    "    \"BoroCnstArt\" : 0.0,                   # Artificial borrowing constraint; imposed minimum level of end-of period assets\n",
    "    \"vFuncBool\" : True,                    # Whether to calculate the value function during solution   \n",
    "    \"CubicBool\" : False,                   # Preference shocks currently only compatible with linear cFunc\n",
    "    \"T_cycle\" : 1,                         # Number of periods in the cycle for this agent type        \n",
    "    \n",
    "    # Parameters only used in simulation\n",
    "    \"AgentCount\" : 10000,                  # Number of agents of this type\n",
    "    \"T_sim\" : 120,                         # Number of periods to simulate\n",
    "    \"aNrmInitMean\" : -6.0,                 # Mean of log initial assets\n",
    "    \"aNrmInitStd\"  : 1.0,                  # Standard deviation of log initial assets\n",
    "    \"pLvlInitMean\" : 0.0,                  # Mean of log initial permanent income\n",
    "    \"pLvlInitStd\"  : 0.0,                  # Standard deviation of log initial permanent income\n",
    "    \"PermGroFacAgg\" : 1.0,                 # Aggregate permanent income growth factor\n",
    "    \"T_age\" : None,                        # Age after which simulated agents are automatically killed\n",
    "}"
   ]
  },
  {
   "cell_type": "markdown",
   "metadata": {},
   "source": [
    "The distribution of permanent income shocks is specified as mean one lognormal, with an age-varying (underlying) standard deviation. The distribution of transitory income shocks is also mean one lognormal, but with an additional point mass representing unemployment; the transitory shocks are adjusted so that the distribution is still mean one.  The continuous distributions are discretized with an equiprobable distribution.\n",
    "\n",
    "Optionally, the user can specify the period when the individual retires and escapes essentially all income risk as $\\texttt{T_retire}$; this can be turned off by setting the parameter to $0$.  In retirement, all permanent income shocks are turned off, and the only transitory shock is an \"unemployment\" shock, likely with small probability; this prevents the retired problem from degenerating into a perfect foresight model.\n",
    "\n",
    "The grid of assets above minimum $\\texttt{aXtraGrid}$ is specified by its minimum and maximum level, the number of gridpoints, and the extent of exponential nesting.  The greater the (integer) value of $\\texttt{aXtraNestFac}$, the more dense the gridpoints will be at the bottom of the grid (and more sparse near the top); setting $\\texttt{aXtraNestFac}$ to $0$ will generate an evenly spaced grid of $a_t$.\n",
    "\n",
    "The artificial borrowing constraint $\\texttt{BoroCnstArt}$ can be set to $\\texttt{None}$ to turn it off.\n",
    "\n",
    "It is not necessary to compute the value function in this model, and it is not computationally free to do so.  You can choose whether the value function should be calculated and returned as part of the solution of the model with $\\texttt{vFuncBool}$.  The consumption function will be constructed as a piecewise linear interpolation when $\\texttt{CubicBool}$ is \\texttt{False}, and will be a piecewise cubic spline interpolator if $\\texttt{True}$."
   ]
  },
  {
   "cell_type": "markdown",
   "metadata": {},
   "source": [
    "### Solving and examining the solution of the idiosyncratic income shocks model\n",
    "\n",
    "The cell below creates an infinite horizon instance of $\\texttt{IndShockConsumerType}$ and solves its model by calling its $\\texttt{solve}$ method."
   ]
  },
  {
   "cell_type": "code",
   "execution_count": null,
   "metadata": {
    "lines_to_next_cell": 2
   },
   "outputs": [],
   "source": [
    "IndShockExample = IndShockConsumerType(**IdiosyncDict)\n",
    "IndShockExample.cycles = 0 # Make this type have an infinite horizon\n",
    "IndShockExample.solve()"
   ]
  },
  {
   "cell_type": "markdown",
   "metadata": {},
   "source": [
    "After solving the model, we can examine an element of this type's $\\texttt{solution}$:"
   ]
  },
  {
   "cell_type": "code",
   "execution_count": null,
   "metadata": {},
   "outputs": [],
   "source": [
    "print(vars(IndShockExample.solution[0]))"
   ]
  },
  {
   "cell_type": "markdown",
   "metadata": {},
   "source": [
    "The single-period solution to an idiosyncratic shocks consumer's problem has all of the same attributes as in the perfect foresight model, with a couple additions.  The solution can include the marginal marginal value of market resources function $\\texttt{vPPfunc}$, but this is only constructed if $\\texttt{CubicBool}$ is $\\texttt{True}$, so that the MPC can be accurately computed; when it is $\\texttt{False}$, then $\\texttt{vPPfunc}$ merely returns $\\texttt{NaN}$ everywhere.\n",
    "\n",
    "The $\\texttt{solveConsIndShock}$ function calculates steady state market resources and stores it in the attribute $\\texttt{mNrmSS}$.  This represents the steady state level of $m_t$ if *this period* were to occur indefinitely, but with income shocks turned off.  This is relevant in a \"one period infinite horizon\" model like we've specified here, but is less useful in a lifecycle model.\n",
    "\n",
    "Let's take a look at the consumption function by plotting it, along with its derivative (the MPC):"
   ]
  },
  {
   "cell_type": "code",
   "execution_count": null,
   "metadata": {},
   "outputs": [],
   "source": [
    "print('Consumption function for an idiosyncratic shocks consumer type:')\n",
    "plotFuncs(IndShockExample.solution[0].cFunc,IndShockExample.solution[0].mNrmMin,5)\n",
    "print('Marginal propensity to consume for an idiosyncratic shocks consumer type:')\n",
    "plotFuncsDer(IndShockExample.solution[0].cFunc,IndShockExample.solution[0].mNrmMin,5)"
   ]
  },
  {
   "cell_type": "markdown",
   "metadata": {},
   "source": [
    "The lower part of the consumption function is linear with a slope of 1, representing the *constrained* part of the consumption function where the consumer *would like* to consume more by borrowing-- his marginal utility of consumption exceeds the marginal value of assets-- but he is prevented from doing so by the artificial borrowing constraint.\n",
    "\n",
    "The MPC is a step function, as the $\\texttt{cFunc}$ itself is a piecewise linear function; note the large jump in the MPC where the borrowing constraint begins to bind.\n",
    "\n",
    "If you want to look at the interpolation nodes for the consumption function, these can be found by \"digging into\" attributes of $\\texttt{cFunc}$:"
   ]
  },
  {
   "cell_type": "code",
   "execution_count": null,
   "metadata": {},
   "outputs": [],
   "source": [
    "print('mNrmGrid for unconstrained cFunc is ',IndShockExample.solution[0].cFunc.functions[0].x_list)\n",
    "print('cNrmGrid for unconstrained cFunc is ',IndShockExample.solution[0].cFunc.functions[0].y_list)\n",
    "print('mNrmGrid for borrowing constrained cFunc is ',IndShockExample.solution[0].cFunc.functions[1].x_list)\n",
    "print('cNrmGrid for borrowing constrained cFunc is ',IndShockExample.solution[0].cFunc.functions[1].y_list)"
   ]
  },
  {
   "cell_type": "markdown",
   "metadata": {},
   "source": [
    "The consumption function in this model is an instance of $\\texttt{LowerEnvelope1D}$, a class that takes an arbitrary number of 1D interpolants as arguments to its initialization method.  When called, a $\\texttt{LowerEnvelope1D}$ evaluates each of its component functions and returns the lowest value.  Here, the two component functions are the *unconstrained* consumption function-- how the agent would consume if the artificial borrowing constraint did not exist for *just this period*-- and the *borrowing constrained* consumption function-- how much he would consume if the artificial borrowing constraint is binding.  \n",
    "\n",
    "The *actual* consumption function is the lower of these two functions, pointwise.  We can see this by plotting the component functions on the same figure:"
   ]
  },
  {
   "cell_type": "code",
   "execution_count": null,
   "metadata": {},
   "outputs": [],
   "source": [
    "plotFuncs(IndShockExample.solution[0].cFunc.functions,-0.25,5.)"
   ]
  },
  {
   "cell_type": "markdown",
   "metadata": {},
   "source": [
    "### Simulating the idiosyncratic income shocks model\n",
    "\n",
    "In order to generate simulated data, an instance of $\\texttt{IndShockConsumerType}$ needs to know how many agents there are that share these particular parameters (and are thus *ex ante* homogeneous), the distribution of states for newly \"born\" agents, and how many periods to simulated.  These simulation parameters are described in the table below, along with example values.\n",
    "\n",
    "| Description | Code | Example value |\n",
    "| :---: | --- | --- |\n",
    "| Number of consumers of this type | $\\texttt{AgentCount}$ | $10000$ |\n",
    "| Number of periods to simulate | $\\texttt{T_sim}$ | $120$ |\n",
    "| Mean of initial log (normalized) assets | $\\texttt{aNrmInitMean}$ | $-6.0$ |\n",
    "| Stdev of initial log  (normalized) assets | $\\texttt{aNrmInitStd}$ | $1.0$ |\n",
    "| Mean of initial log permanent income | $\\texttt{pLvlInitMean}$ | $0.0$ |\n",
    "| Stdev of initial log permanent income | $\\texttt{pLvlInitStd}$ | $0.0$ |\n",
    "| Aggregrate productivity growth factor | $\\texttt{PermGroFacAgg}$ | $1.0$ |\n",
    "| Age after which consumers are automatically killed | $\\texttt{T_age}$ | $None$ |\n",
    "\n",
    "Here, we will simulate 10,000 consumers for 120 periods.  All newly born agents will start with permanent income of exactly $P_t = 1.0 = \\exp(\\texttt{pLvlInitMean})$, as $\\texttt{pLvlInitStd}$ has been set to zero; they will have essentially zero assets at birth, as $\\texttt{aNrmInitMean}$ is $-6.0$; assets will be less than $1\\%$ of permanent income at birth.\n",
    "\n",
    "These example parameter values were already passed as part of the parameter dictionary that we used to create $\\texttt{IndShockExample}$, so it is ready to simulate.  We need to set the $\\texttt{track_vars}$ attribute to indicate the variables for which we want to record a *history*."
   ]
  },
  {
   "cell_type": "code",
   "execution_count": null,
   "metadata": {},
   "outputs": [],
   "source": [
    "IndShockExample.track_vars = ['aNrmNow','mNrmNow','cNrmNow','pLvlNow']\n",
    "IndShockExample.initializeSim()\n",
    "IndShockExample.simulate()"
   ]
  },
  {
   "cell_type": "markdown",
   "metadata": {},
   "source": [
    "We can now look at the simulated data in aggregate or at the individual consumer level.  Like in the perfect foresight model, we can plot average (normalized) market resources over time, as well as average consumption:"
   ]
  },
  {
   "cell_type": "code",
   "execution_count": null,
   "metadata": {},
   "outputs": [],
   "source": [
    "plt.plot(np.mean(IndShockExample.mNrmNow_hist,axis=1))\n",
    "plt.xlabel('Time')\n",
    "plt.ylabel('Mean market resources')\n",
    "plt.show()\n",
    "\n",
    "plt.plot(np.mean(IndShockExample.cNrmNow_hist,axis=1))\n",
    "plt.xlabel('Time')\n",
    "plt.ylabel('Mean consumption')\n",
    "plt.show()"
   ]
  },
  {
   "cell_type": "markdown",
   "metadata": {},
   "source": [
    "We could also plot individual consumption paths for some of the consumers-- say, the first five:"
   ]
  },
  {
   "cell_type": "code",
   "execution_count": null,
   "metadata": {},
   "outputs": [],
   "source": [
    "plt.plot(IndShockExample.cNrmNow_hist[:,0:5])\n",
    "plt.xlabel('Time')\n",
    "plt.ylabel('Individual consumption paths')\n",
    "plt.show()"
   ]
  },
  {
   "cell_type": "markdown",
   "metadata": {},
   "source": [
    "### Other example specifications of idiosyncratic income shocks consumers\n",
    "\n",
    "$\\texttt{IndShockConsumerType}$-- and $\\texttt{HARK}$ in general-- can also represent models that are not infinite horizon.  \n",
    "\n",
    "#### Lifecycle example\n",
    "\n",
    "Suppose we wanted to represent consumers with a *lifecycle*-- parameter values that differ by age, with a finite end point beyond which the individual cannot surive.  This can be done very easily by simply specifying the time-varying attributes $\\texttt{PermGroFac}$, $\\texttt{LivPrb}$, $\\texttt{PermShkStd}$, and $\\texttt{TranShkStd}$ as Python *lists* specifying the sequence of periods these agents will experience, from beginning to end.\n",
    "\n",
    "In the cell below, we define a parameter dictionary for a rather short ten period lifecycle, with arbitrarily chosen parameters.  For a more realistically calibrated (and much longer) lifecycle model, see the [SolvingMicroDSOPs REMARK](https://github.com/econ-ark/REMARK/blob/master/REMARKs/SolvingMicroDSOPs.md)."
   ]
  },
  {
   "cell_type": "code",
   "execution_count": null,
   "metadata": {
    "code_folding": []
   },
   "outputs": [],
   "source": [
    "LifecycleDict={ # Click arrow to expand this fairly large parameter dictionary\n",
    "    # Parameters shared with the perfect foresight model\n",
    "    \"CRRA\": 2.0,                           # Coefficient of relative risk aversion\n",
    "    \"Rfree\": 1.03,                         # Interest factor on assets\n",
    "    \"DiscFac\": 0.96,                       # Intertemporal discount factor\n",
    "    \"LivPrb\" : [0.99,0.9,0.8,0.7,0.6,0.5,0.4,0.3,0.2,0.1],\n",
    "    \"PermGroFac\" : [1.01,1.01,1.01,1.02,1.02,1.02,0.7,1.0,1.0,1.0],\n",
    "    \n",
    "    # Parameters that specify the income distribution over the lifecycle\n",
    "    \"PermShkStd\" : [0.1,0.2,0.1,0.2,0.1,0.2,0.1,0,0,0],\n",
    "    \"PermShkCount\" : 7,                    # Number of points in discrete approximation to permanent income shocks\n",
    "    \"TranShkStd\" : [0.3,0.2,0.1,0.3,0.2,0.1,0.3,0,0,0],\n",
    "    \"TranShkCount\" : 7,                    # Number of points in discrete approximation to transitory income shocks\n",
    "    \"UnempPrb\" : 0.05,                     # Probability of unemployment while working\n",
    "    \"IncUnemp\" : 0.3,                      # Unemployment benefits replacement rate\n",
    "    \"UnempPrbRet\" : 0.0005,                # Probability of \"unemployment\" while retired\n",
    "    \"IncUnempRet\" : 0.0,                   # \"Unemployment\" benefits when retired\n",
    "    \"T_retire\" : 7,                        # Period of retirement (0 --> no retirement)\n",
    "    \"tax_rate\" : 0.0,                      # Flat income tax rate (legacy parameter, will be removed in future)\n",
    "    \n",
    "    # Parameters for constructing the \"assets above minimum\" grid\n",
    "    \"aXtraMin\" : 0.001,                    # Minimum end-of-period \"assets above minimum\" value\n",
    "    \"aXtraMax\" : 20,                       # Maximum end-of-period \"assets above minimum\" value\n",
    "    \"aXtraCount\" : 48,                     # Number of points in the base grid of \"assets above minimum\"\n",
    "    \"aXtraNestFac\" : 3,                    # Exponential nesting factor when constructing \"assets above minimum\" grid\n",
    "    \"aXtraExtra\" : [None],                 # Additional values to add to aXtraGrid\n",
    "    \n",
    "    # A few other paramaters\n",
    "    \"BoroCnstArt\" : 0.0,                   # Artificial borrowing constraint; imposed minimum level of end-of period assets\n",
    "    \"vFuncBool\" : True,                    # Whether to calculate the value function during solution   \n",
    "    \"CubicBool\" : False,                   # Preference shocks currently only compatible with linear cFunc\n",
    "    \"T_cycle\" : 10,                        # Number of periods in the cycle for this agent type        \n",
    "    \n",
    "    # Parameters only used in simulation\n",
    "    \"AgentCount\" : 10000,                  # Number of agents of this type\n",
    "    \"T_sim\" : 120,                         # Number of periods to simulate\n",
    "    \"aNrmInitMean\" : -6.0,                 # Mean of log initial assets\n",
    "    \"aNrmInitStd\"  : 1.0,                  # Standard deviation of log initial assets\n",
    "    \"pLvlInitMean\" : 0.0,                  # Mean of log initial permanent income\n",
    "    \"pLvlInitStd\"  : 0.0,                  # Standard deviation of log initial permanent income\n",
    "    \"PermGroFacAgg\" : 1.0,                 # Aggregate permanent income growth factor\n",
    "    \"T_age\" : 11,                          # Age after which simulated agents are automatically killed     \n",
    "}"
   ]
  },
  {
   "cell_type": "markdown",
   "metadata": {},
   "source": [
    "In this case, we have specified a ten period model in which retirement happens in period $t=7$.  Agents in this model are more likely to die as they age, and their permanent income drops by 30\\% at retirement.  Let's make and solve this lifecycle example, then look at the $\\texttt{solution}$ attribute."
   ]
  },
  {
   "cell_type": "code",
   "execution_count": null,
   "metadata": {},
   "outputs": [],
   "source": [
    "LifecycleExample = IndShockConsumerType(**LifecycleDict)\n",
    "LifecycleExample.cycles = 1 # Make this consumer live a sequence of periods -- a lifetime -- exactly once\n",
    "LifecycleExample.solve()\n",
    "print('First element of solution is',LifecycleExample.solution[0])\n",
    "print('Solution has', len(LifecycleExample.solution),'elements.')"
   ]
  },
  {
   "cell_type": "markdown",
   "metadata": {},
   "source": [
    "This was supposed to be a *ten* period lifecycle model-- why does our consumer type have *eleven* elements in its $\\texttt{solution}$?  It would be more precise to say that this specification has ten *non-terminal* periods. The solution to the 11th and final period in the model would be the same for every set of parameters: consume $c_t = m_t$, because there is no future.  In a lifecycle model, the terminal period is assumed to exist; the $\\texttt{LivPrb}$ parameter does not need to end with a $0.0$ in order to guarantee that survivors die.\n",
    "\n",
    "We can quickly plot the consumption functions in each period of the model:"
   ]
  },
  {
   "cell_type": "code",
   "execution_count": null,
   "metadata": {},
   "outputs": [],
   "source": [
    "print('Consumption functions across the lifecycle:')\n",
    "mMin = np.min([LifecycleExample.solution[t].mNrmMin for t in range(LifecycleExample.T_cycle)])\n",
    "LifecycleExample.unpackcFunc() # This makes all of the cFuncs accessible in the attribute cFunc\n",
    "plotFuncs(LifecycleExample.cFunc,mMin,5)"
   ]
  },
  {
   "cell_type": "markdown",
   "metadata": {},
   "source": [
    "#### \"Cyclical\" example\n",
    "\n",
    "We can also model consumers who face an infinite horizon, but who do *not* face the same problem in every period.  Consider someone who works as a ski instructor: they make most of their income for the year in the winter, and make very little money in the other three seasons.\n",
    "\n",
    "We can represent this type of individual as a four period, infinite horizon model in which expected \"permanent\" income growth varies greatly across seasons."
   ]
  },
  {
   "cell_type": "code",
   "execution_count": null,
   "metadata": {
    "code_folding": [
     0
    ]
   },
   "outputs": [],
   "source": [
    "CyclicalDict = { # Click the arrow to expand this parameter dictionary\n",
    "    # Parameters shared with the perfect foresight model\n",
    "    \"CRRA\": 2.0,                           # Coefficient of relative risk aversion\n",
    "    \"Rfree\": 1.03,                         # Interest factor on assets\n",
    "    \"DiscFac\": 0.96,                       # Intertemporal discount factor\n",
    "    \"LivPrb\" : 4*[0.98],                   # Survival probability\n",
    "    \"PermGroFac\" : [1.082251, 2.8, 0.3, 1.1],\n",
    "    \n",
    "    # Parameters that specify the income distribution over the lifecycle\n",
    "    \"PermShkStd\" : [0.1,0.1,0.1,0.1],\n",
    "    \"PermShkCount\" : 7,                    # Number of points in discrete approximation to permanent income shocks\n",
    "    \"TranShkStd\" : [0.2,0.2,0.2,0.2],\n",
    "    \"TranShkCount\" : 7,                    # Number of points in discrete approximation to transitory income shocks\n",
    "    \"UnempPrb\" : 0.05,                     # Probability of unemployment while working\n",
    "    \"IncUnemp\" : 0.3,                      # Unemployment benefits replacement rate\n",
    "    \"UnempPrbRet\" : 0.0005,                # Probability of \"unemployment\" while retired\n",
    "    \"IncUnempRet\" : 0.0,                   # \"Unemployment\" benefits when retired\n",
    "    \"T_retire\" : 0,                        # Period of retirement (0 --> no retirement)\n",
    "    \"tax_rate\" : 0.0,                      # Flat income tax rate (legacy parameter, will be removed in future)\n",
    "    \n",
    "    # Parameters for constructing the \"assets above minimum\" grid\n",
    "    \"aXtraMin\" : 0.001,                    # Minimum end-of-period \"assets above minimum\" value\n",
    "    \"aXtraMax\" : 20,                       # Maximum end-of-period \"assets above minimum\" value\n",
    "    \"aXtraCount\" : 48,                     # Number of points in the base grid of \"assets above minimum\"\n",
    "    \"aXtraNestFac\" : 3,                    # Exponential nesting factor when constructing \"assets above minimum\" grid\n",
    "    \"aXtraExtra\" : [None],                 # Additional values to add to aXtraGrid\n",
    "    \n",
    "    # A few other paramaters\n",
    "    \"BoroCnstArt\" : 0.0,                   # Artificial borrowing constraint; imposed minimum level of end-of period assets\n",
    "    \"vFuncBool\" : True,                    # Whether to calculate the value function during solution   \n",
    "    \"CubicBool\" : False,                   # Preference shocks currently only compatible with linear cFunc\n",
    "    \"T_cycle\" : 4,                         # Number of periods in the cycle for this agent type        \n",
    "    \n",
    "    # Parameters only used in simulation\n",
    "    \"AgentCount\" : 10000,                  # Number of agents of this type\n",
    "    \"T_sim\" : 120,                         # Number of periods to simulate\n",
    "    \"aNrmInitMean\" : -6.0,                 # Mean of log initial assets\n",
    "    \"aNrmInitStd\"  : 1.0,                  # Standard deviation of log initial assets\n",
    "    \"pLvlInitMean\" : 0.0,                  # Mean of log initial permanent income\n",
    "    \"pLvlInitStd\"  : 0.0,                  # Standard deviation of log initial permanent income\n",
    "    \"PermGroFacAgg\" : 1.0,                 # Aggregate permanent income growth factor\n",
    "    \"T_age\" : None,                        # Age after which simulated agents are automatically killed     \n",
    "}"
   ]
  },
  {
   "cell_type": "markdown",
   "metadata": {},
   "source": [
    "This consumer type's parameter dictionary is nearly identical to the original infinite horizon type we made, except that each of the time-varying parameters now have *four* values, rather than just one.  Most of these have the same value in each period *except* for $\\texttt{PermGroFac}$, which varies greatly over the four seasons.  Note that the product of the four \"permanent\" income growth factors is almost exactly 1.0-- this type's income does not grow on average in the long run!\n",
    "\n",
    "Let's make and solve this consumer type, then plot his quarterly consumption functions:"
   ]
  },
  {
   "cell_type": "code",
   "execution_count": null,
   "metadata": {},
   "outputs": [],
   "source": [
    "CyclicalExample = IndShockConsumerType(**CyclicalDict)\n",
    "CyclicalExample.cycles = 0 # Make this consumer type have an infinite horizon\n",
    "CyclicalExample.solve()\n",
    "\n",
    "CyclicalExample.unpackcFunc()\n",
    "print('Quarterly consumption functions:')\n",
    "mMin = min([X.mNrmMin for X in CyclicalExample.solution])\n",
    "plotFuncs(CyclicalExample.cFunc,mMin,5)"
   ]
  },
  {
   "cell_type": "markdown",
   "metadata": {},
   "source": [
    "The very low green consumption function corresponds to the quarter in which the ski instructors make most of their income.  They know that they are about to experience a 70% drop in \"permanent\" income, so they do not consume much *relative to their income this quarter*.  In the other three quarters, *normalized* consumption is much higher, as current \"permanent\" income is low relative to future expectations.  In *level*, the consumption chosen in each quarter is much more similar"
   ]
  },
  {
   "cell_type": "markdown",
   "metadata": {},
   "source": [
    "## Agent with a kinky interest rate (Rboro > RSave)\n",
    "\n",
    "Models of this kind are analyzed in [A Theory of the Consumption Function, With\n",
    "and Without Liquidity Constraints](http://www.econ2.jhu.edu/people/ccarroll/ATheoryv3JEP.pdf)\n",
    "and the [expanded edition](http://www.econ2.jhu.edu/people/ccarroll/ATheoryv3NBER.pdf)."
   ]
  },
  {
   "cell_type": "markdown",
   "metadata": {},
   "source": [
    "This model represents a consumer that faces idiosyncratic shocks to income and has a different interest factor on saving and on borrowing.  It extends $\\texttt{IndShockConsumerType}$, with very small changes.  The solver for this class, $\\texttt{solveConsKinkedR}$, is currently only compatible with linear spline interpolation."
   ]
  },
  {
   "cell_type": "code",
   "execution_count": null,
   "metadata": {
    "code_folding": [
     1
    ]
   },
   "outputs": [],
   "source": [
    "# This cell defines a dictionary to make an instance of a \"kinked R\" idiosyncratic shock consumer.\n",
    "KinkedRDict={\n",
    "    \"CRRA\": 2.0,                           # Coefficient of relative risk aversion\n",
    "    \"Rfree\": 1.03,                         # Interest factor on assets\n",
    "    \"DiscFac\": 0.96,                       # Default intertemporal discount factor\n",
    "    \"LivPrb\" : [0.98],                     # Survival probability\n",
    "    \"AgentCount\" : 10000,                  # Number of agents of this type (only matters for simulation)\n",
    "    \"PermGroFac\" :[1.01],                  # Permanent income growth factor   \n",
    "\n",
    "    # Parameters for constructing the \"assets above minimum\" grid\n",
    "    \"aNrmInitMean\" : 0.0,                  # Mean of log initial assets (only matters for simulation)\n",
    "    \"aNrmInitStd\"  : 1.0,                  # Standard deviation of log initial assets (only for simulation)\n",
    "    \"pLvlInitMean\" : 0.0,                  # Mean of log initial permanent income (only matters for simulation)\n",
    "    \"pLvlInitStd\"  : 0.0,                  # Standard deviation of log initial permanent income (only matters for simulation)\n",
    "    \"PermGroFacAgg\" : 1.0,                 # Aggregate permanent income growth factor (only matters for simulation)\n",
    "    \"T_age\" : None,                        # Age after which simulated agents are automatically killed\n",
    "    \"T_cycle\" : 1,                         # Number of periods in the cycle for this agent type\n",
    "    \"aXtraMin\" : 0.001,                    # Minimum end-of-period \"assets above minimum\" value\n",
    "    \"aXtraMax\" : 20,                       # Maximum end-of-period \"assets above minimum\" value               \n",
    "    \"aXtraExtra\" : [None],                   # Some other value of \"assets above minimum\" to add to the grid\n",
    "    \"aXtraNestFac\" : 3,                    # Exponential nesting factor when constructing \"assets above minimum\" grid\n",
    "    \n",
    "    # Parameters describing the income process\n",
    "    \"PermShkCount\" : 7,                    # Number of points in discrete approximation to permanent income shocks\n",
    "    \"TranShkCount\" : 7,                    # Number of points in discrete approximation to transitory income shocks\n",
    "    \"PermShkStd\" : [0.1],                  # Standard deviation of log permanent shocks to income\n",
    "    \"TranShkStd\" : [0.1],                  # Standard deviation of log transitory shocks to income\n",
    "    \"UnempPrb\" : 0.05,                     # Probability of unemployment while working\n",
    "    \"UnempPrbRet\" : 0.005,                 # Probability of \"unemployment\" while retired\n",
    "    \"IncUnemp\" : 0.3,                      # Unemployment benefits replacement rate\n",
    "    \"IncUnempRet\" : 0.0,                   # \"Unemployment\" benefits when retired\n",
    "    \"tax_rate\" : 0.0,                      # Flat income tax rate\n",
    "    \"T_retire\" : 0,                        # Period of retirement (0 --> no retirement)\n",
    "    \n",
    "    # A few other paramaters\n",
    "    \"BoroCnstArt\" : None,                   # kinked R is a bit silly if borrowing not allowed\n",
    "    \"CubicBool\" : False,                   # kinked R currently only compatible with linear cFunc...\n",
    "    \"aXtraCount\" : 48,                     # ...so need lots of extra gridpoints to make up for it\n",
    "    \"vFuncBool\" : True,                    # Whether to calculate the value function during solution        \n",
    "    \n",
    "    'Rboro' : 1.20,           # Interest factor on assets when borrowing, a < 0\n",
    "    'Rsave' : 1.02,           # Interest factor on assets when saving, a > 0   \n",
    "}\n",
    "del KinkedRDict['Rfree'] # get rid of constant interest factor"
   ]
  },
  {
   "cell_type": "code",
   "execution_count": null,
   "metadata": {},
   "outputs": [],
   "source": [
    "# Make an agent with a kinky interest rate\n",
    "KinkyExample = KinkedRconsumerType(**KinkedRDict)\n",
    "KinkyExample.cycles = 0 # Make the Example infinite horizon"
   ]
  },
  {
   "cell_type": "code",
   "execution_count": null,
   "metadata": {},
   "outputs": [],
   "source": [
    "# Solve the model\n",
    "KinkyExample.solve()\n",
    "KinkyExample.unpackcFunc()"
   ]
  },
  {
   "cell_type": "code",
   "execution_count": null,
   "metadata": {},
   "outputs": [],
   "source": [
    "# Plot the Kinky consumption function\n",
    "print('Kinky consumption function:')\n",
    "plotFuncs(KinkyExample.cFunc[0],KinkyExample.solution[0].mNrmMin,5)"
   ]
  },
  {
   "cell_type": "code",
   "execution_count": null,
   "metadata": {},
   "outputs": [],
   "source": [
    "# Simulate some data\n",
    "KinkyExample.T_sim = 120\n",
    "KinkyExample.track_vars = ['mNrmNow','cNrmNow','pLvlNow']\n",
    "KinkyExample.initializeSim()\n",
    "KinkyExample.simulate()"
   ]
  }
 ],
 "metadata": {
  "@webio": {
   "lastCommId": "779f6c5616b04b58baaaa0f6c348270c",
   "lastKernelId": "a944b08f-0ae0-4c26-883f-9fab53a82ac3"
  },
  "jupytext": {
   "cell_metadata_filter": "collapsed,code_folding",
   "formats": "ipynb,py:percent"
  },
  "kernelspec": {
   "display_name": "Python 3",
   "language": "python",
   "name": "python3"
  },
  "language_info": {
   "codemirror_mode": {
    "name": "ipython",
    "version": 3
   },
   "file_extension": ".py",
   "mimetype": "text/x-python",
   "name": "python",
   "nbconvert_exporter": "python",
   "pygments_lexer": "ipython3",
   "version": "3.7.3"
  },
  "varInspector": {
   "cols": {
    "lenName": 16,
    "lenType": 16,
    "lenVar": 40
   },
   "kernels_config": {
    "python": {
     "delete_cmd_postfix": "",
     "delete_cmd_prefix": "del ",
     "library": "var_list.py",
     "varRefreshCmd": "print(var_dic_list())"
    },
    "r": {
     "delete_cmd_postfix": ") ",
     "delete_cmd_prefix": "rm(",
     "library": "var_list.r",
     "varRefreshCmd": "cat(var_dic_list()) "
    }
   },
   "types_to_exclude": [
    "module",
    "function",
    "builtin_function_or_method",
    "instance",
    "_Feature"
   ],
   "window_display": false
  }
 },
 "nbformat": 4,
 "nbformat_minor": 2
}
