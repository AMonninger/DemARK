{
 "cells": [
  {
   "cell_type": "markdown",
   "metadata": {},
   "source": [
    "# DCEGM Upper Envelope\n",
    "## [\"The endogenous grid method for discrete-continuous dynamic choice models with (or without) taste shocks\"](https://onlinelibrary.wiley.com/doi/abs/10.3982/QE643)\n",
    "\n",
    "<p style=\"text-align: center;\"><small><small><small>For the following badges: GitHub does not allow click-through redirects; right-click to get the link, then paste into navigation bar</small></small></small></p>\n",
    "\n",
    "[![badge](https://img.shields.io/badge/Launch%20using%20-Econ--ARK-blue)](https://econ-ark.org/materials/dcegm-upper-envelope#launch)\n",
    "\n",
    "\n",
    "\n",
    "This notebook provides a simple introduction to the upper envelope calculation in the \"DCEGM\" algorithm <cite data-cite=\"6202365/4F64GG8F\"></cite>. It takes the EGM method proposed in <cite data-cite=\"6202365/HQ6H9JEI\"></cite>, and extends it to the mixed choice (discrete and continuous) case. It handles various constraints. It works on a 1-dimensional problems.\n",
    "\n",
    "The main challenge in the types of models considered in DCEGM is, that the first order conditions to the Bellman equations are no longer sufficient to find an optimum.  Though, they are still necessary in a broad class of models. This means that our EGM step will give us (resource, consumption) pairs that do fulfill the FOCs, but that are sub-optimal (there's another consumption choices for the same initial resources that gives a higher value).\n",
    "\n",
    "Take a consumption model formulated as:\n",
    "$$\n",
    "\\max_{\\{c_t\\}^T_{t=1}} \\sum^T_{t=1}\\beta^t\\cdot u(c_t)\n",
    "$$\n",
    "given some initial condition on $x$ and some laws of motion for the states, though explicit references to states are omitted. Then, if we're in a class of models described in EGM\n",
    ", we can show that\n",
    "$$\n",
    "c_t = {u_{c}}^{-1}[E_t(u_c(c_{t+1}))]\n",
    "$$\n",
    "uniquely determines an optimal consumption today given the expected marginal utility of consuming  tomorrow. However, if there is a another choice in the choice set, and that choice is discrete, we get\n",
    "$$\n",
    "\\max_{\\{c_t, d_t\\}^T_{t=1}} \\sum^T_{t=1}\\beta^t\\cdot u(c_t, d_t)\n",
    "$$\n",
    "again given initial conditions and the laws of motion. Then, we can show that\n",
    "$$\n",
    "c_t = {u_{c}}^{-1}[E_t(u_c(c_{t+1}))]\n",
    "$$\n",
    "will produce solutions that are necessary but not sufficient. Note, that there is no explicit mentioning of the discrete choices in the expectation, but they obviously vary over the realized states in general. For the optimal consumption, it doesn't matter what the choice is exactly, only what expected marginal utility is tomorrow. The algorithm presented in [1] is designed to take advantage of models with this structure.\n",
    "\n",
    "To visualize the problem, consider the following pictures that show the output of an EGM step from the model in the REMARK [linkhere]."
   ]
  },
  {
   "cell_type": "code",
   "execution_count": 1,
   "metadata": {},
   "outputs": [],
   "source": [
    "# imports\n",
    "import numpy as np\n",
    "import matplotlib.pyplot as plt"
   ]
  },
  {
   "cell_type": "code",
   "execution_count": 2,
   "metadata": {},
   "outputs": [],
   "source": [
    "# here for now, should be\n",
    "# from HARK import discontools or whatever name is chosen\n",
    "from HARK.interpolation import LinearInterp\n",
    "from HARK.dcegm import calc_segments, calc_multiline_envelope, calc_prim_kink"
   ]
  },
  {
   "cell_type": "code",
   "execution_count": 3,
   "metadata": {},
   "outputs": [],
   "source": [
    "m_common = np.linspace(0,1.0,100)\n",
    "m_egm = np.array([0.0, 0.04, 0.25, 0.15, 0.1, 0.3, 0.6,0.5, 0.35, 0.6, 0.75,0.85])\n",
    "c_egm = np.array([0.0, 0.03, 0.1, 0.07, 0.05, 0.36, 0.4, 0.6, 0.8, 0.9,0.9,0.9])\n",
    "vt_egm = np.array( [0.0, 0.05, 0.1,0.04, 0.02,0.2, 0.7, 0.5, 0.2, 0.9, 1.0, 1.2])"
   ]
  },
  {
   "cell_type": "code",
   "execution_count": 4,
   "metadata": {},
   "outputs": [
    {
     "data": {
      "text/plain": [
       "Text(0, 0.5, 'transformed values')"
      ]
     },
     "execution_count": 4,
     "metadata": {},
     "output_type": "execute_result"
    },
    {
     "data": {
      "image/png": "[encoded data removed]",
      "text/plain": [
       "<Figure size 432x288 with 1 Axes>"
      ]
     },
     "metadata": {
      "needs_background": "light"
     },
     "output_type": "display_data"
    }
   ],
   "source": [
    "plt.plot(m_egm, vt_egm)\n",
    "plt.xlabel(\"resources\")\n",
    "plt.ylabel(\"transformed values\")"
   ]
  },
  {
   "cell_type": "code",
   "execution_count": 5,
   "metadata": {
    "lines_to_next_cell": 0
   },
   "outputs": [
    {
     "data": {
      "image/png": "[encoded data removed]",
      "text/plain": [
       "<Figure size 432x288 with 1 Axes>"
      ]
     },
     "metadata": {
      "needs_background": "light"
     },
     "output_type": "display_data"
    }
   ],
   "source": [
    "plt.plot(m_egm, c_egm)\n",
    "plt.xlabel(\"resources\")\n",
    "plt.ylabel(\"consumption\")\n",
    "plt.show()"
   ]
  },
  {
   "cell_type": "markdown",
   "metadata": {},
   "source": [
    "The point of DCEGM is to realize, that the segments on the `(m, vt)` curve that are decreasing, cannot be optimal. This leaves us with a set of increasing line segments, as seen below (`dcegmSegments` is the function in HARK that calculates the breaks where the curve goes from increasing to decreasing)."
   ]
  },
  {
   "cell_type": "code",
   "execution_count": 6,
   "metadata": {},
   "outputs": [],
   "source": [
    "rise, fall = calc_segments(m_egm, vt_egm)"
   ]
  },
  {
   "cell_type": "markdown",
   "metadata": {},
   "source": [
    "In `rise` we have all the starting indices for the segments that are \"good\", that is `(m, vt)` draws an increasing curve."
   ]
  },
  {
   "cell_type": "code",
   "execution_count": 7,
   "metadata": {},
   "outputs": [
    {
     "data": {
      "text/plain": [
       "array([0, 4, 8])"
      ]
     },
     "execution_count": 7,
     "metadata": {},
     "output_type": "execute_result"
    }
   ],
   "source": [
    "rise"
   ]
  },
  {
   "cell_type": "markdown",
   "metadata": {},
   "source": [
    "We see that `rise` has its first index at `0`, then again at `4`, and lastly at `8`. Let's look at `fall`."
   ]
  },
  {
   "cell_type": "code",
   "execution_count": 8,
   "metadata": {},
   "outputs": [
    {
     "data": {
      "text/plain": [
       "array([ 2,  6, 11])"
      ]
     },
     "execution_count": 8,
     "metadata": {},
     "output_type": "execute_result"
    }
   ],
   "source": [
    "fall"
   ]
  },
  {
   "cell_type": "markdown",
   "metadata": {},
   "source": [
    "We see that the last segment is increasing (as the last element of `rise` is larger than the last element of `fall`), and we see that `len(fall)` is one larger than number of problematic segments in the plot. The index of the last point in `m_egm`/`c_egm`/`vt_egm` is added for convenience when we do the upper envelope step (and is also convenient below for drawing the segments!).\n",
    "\n",
    "We can use `fall` and `rise` to draw only the relevant segments that we will use to construct an upper envelope."
   ]
  },
  {
   "cell_type": "code",
   "execution_count": 9,
   "metadata": {
    "lines_to_next_cell": 0
   },
   "outputs": [
    {
     "data": {
      "image/png": "[encoded data removed]",
      "text/plain": [
       "<Figure size 432x288 with 1 Axes>"
      ]
     },
     "metadata": {
      "needs_background": "light"
     },
     "output_type": "display_data"
    }
   ],
   "source": [
    "for j in range(len(fall)):\n",
    "    idx = range(rise[j],fall[j]+1)\n",
    "    plt.plot(m_egm[idx], vt_egm[idx])\n",
    "plt.xlabel(\"resources\")\n",
    "plt.ylabel(\"transformed values\")\n",
    "plt.show()"
   ]
  },
  {
   "cell_type": "markdown",
   "metadata": {},
   "source": [
    "Let us now use the `calcMultilineEnvelope` function to do the full DCEGM step: find segments and calculate upper envelope in one sweep."
   ]
  },
  {
   "cell_type": "code",
   "execution_count": 10,
   "metadata": {},
   "outputs": [],
   "source": [
    "m_upper, c_upper, v_upper = calc_multiline_envelope(m_egm, c_egm, vt_egm, m_common)"
   ]
  },
  {
   "cell_type": "code",
   "execution_count": 11,
   "metadata": {
    "lines_to_next_cell": 0
   },
   "outputs": [
    {
     "data": {
      "image/png": "[encoded data removed]",
      "text/plain": [
       "<Figure size 432x288 with 1 Axes>"
      ]
     },
     "metadata": {
      "needs_background": "light"
     },
     "output_type": "display_data"
    }
   ],
   "source": [
    "for j in range(len(fall)):\n",
    "    idx = range(rise[j],fall[j]+1)\n",
    "    plt.plot(m_egm[idx], vt_egm[idx])\n",
    "plt.plot(m_upper, v_upper, 'k')\n",
    "plt.xlabel(\"resources\")\n",
    "plt.ylabel(\"transformed values\")\n",
    "plt.show()"
   ]
  },
  {
   "cell_type": "markdown",
   "metadata": {},
   "source": [
    "And there we have it! These functions are the building blocks for univariate discrete choice modeling in HARK, so hopefully this little demo helped better understand what goes on under the hood, or it was a help if you're extending some existing class with a discrete choice."
   ]
  },
  {
   "cell_type": "markdown",
   "metadata": {},
   "source": [
    "# An example: writing a will\n",
    "\n",
    "We now present a basic example to illustrate the use of the previous tools in solving dynamic optimization problems with discrete and continuous decisions.\n",
    "\n",
    "The model represents an agent that lives for three periods and decides how much of his resources to consume in each of them. On the second period, he must additionally decide whether to hire a lawyer to write a will. Having a will has the upside of allowing the agent to leave a bequest in his third and last period of life, which gives him utility, but has the downside that the lawyer will charge a fraction of his period 3 resources.\n",
    "\n",
    "On each period, the agent receives a deterministic amount of resources $w$. The problem, therefore, is fully deterministic.\n",
    "\n",
    "I now present the model formally, solving it backwards.\n",
    "\n",
    "But first, some setup and calibration:"
   ]
  },
  {
   "cell_type": "code",
   "execution_count": 12,
   "metadata": {},
   "outputs": [],
   "source": [
    "# Import tools for linear interpolation and finding optimal\n",
    "# discrete choices.\n",
    "from HARK.interpolation import calc_log_sum_choice_probs\n",
    "\n",
    "# Import CRRA utility (and related) functions from HARK \n",
    "from HARK.utilities import CRRAutility, CRRAutilityP, CRRAutilityP_inv\n",
    "\n",
    "# Solution method parameters\n",
    "aGrid = np.linspace(0,8,400) # Savings grid for EGM.\n",
    "\n",
    "# Model parameters\n",
    "\n",
    "# Parameters that need to be fixed\n",
    "# Relative risk aversion. This is fixed at 2 in order to mantain\n",
    "# the analytical solution that we use, from Carroll (2000)\n",
    "CRRA   = 2 \n",
    "\n",
    "# Parameters that can be changed.\n",
    "w          = 1    # Deterministic wage per period.\n",
    "willCstFac = 0.35 # Fraction of resources charged by lawyer for writing a will.\n",
    "DiscFac    = 0.98 # Time-discount factor.\n",
    "\n",
    "# Define utility (and related) functions\n",
    "u     = lambda x: CRRAutility(x,CRRA)\n",
    "uP    = lambda x: CRRAutilityP(x, CRRA)\n",
    "uPinv = lambda x: CRRAutilityP_inv(x, CRRA)\n",
    "\n",
    "# Create a grid for market resources\n",
    "mGrid       = (aGrid-aGrid[0])*1.5\n",
    "mGridPlots  = np.linspace(w,10*w,100)\n",
    "mGridPlotsC = np.insert(mGridPlots,0,0)\n",
    "\n",
    "# Transformations for value funtion interpolation\n",
    "vTransf   = lambda x: np.exp(x)\n",
    "vUntransf = lambda x: np.log(x)"
   ]
  },
  {
   "cell_type": "markdown",
   "metadata": {},
   "source": [
    "# The third (last) period of life\n",
    "\n",
    "In the last period of life, the agent's problem is determined by his total amount of resources $m_3$ and a state variable $W$ that indicates whether he wrote a will ($W=1$) or not ($W=0$).\n",
    "\n",
    "### The agent without a will\n",
    "\n",
    "An agent who does not have a will simply consumes all of his available resources. Therefore, his value and consumption functions will be:\n",
    "\n",
    "\\begin{equation}\n",
    "V_3(m_3,W=0) = u(m_3)\n",
    "\\end{equation}\n",
    "\n",
    "\\begin{equation}\n",
    "c_3(m_3, W=0) = m_3\n",
    "\\end{equation}\n",
    "\n",
    "Where $u(\\cdot)$ gives the utility from consumption. We assume a CRRA specification $u(c) = \\frac{c^{1-\\rho}}{1-\\rho}$.\n",
    "\n",
    "### The agent with a will\n",
    "\n",
    "An agent who wrote a will decides how to allocate his available resources $m_3$ between his consumption and a bequest. We assume an additive specification for the utility of a given consumption-bequest combination that follows a particular case in [Carroll (2000)](http://www.econ2.jhu.edu/people/ccarroll/Why.pdf). The component of utility from leaving a bequest $x$ is assumed to be $\\ln (x+1)$. Therefore, the agent's value function is\n",
    "\n",
    "\\begin{equation}\n",
    "V_3(m_3, W=1) = \\max_{0\\leq c_3 \\leq m_3} u(c_3) + \\ln(m_3 - c_3 + 1)\n",
    "\\end{equation}\n",
    "\n",
    "For ease of exposition we consider the case $\\rho = 2$, where [Carroll (2000)](http://www.econ2.jhu.edu/people/ccarroll/Why.pdf) shows that the optimal consumption level is given by\n",
    "\n",
    "\\begin{equation}\n",
    "c_3(m_3, W=1) = \\min \\left[m_3, \\frac{-1 + \\sqrt{1 + 4(m_3+1)}}{2} \\right].\n",
    "\\end{equation}\n",
    "\n",
    "The consumption function shows that $m_3=1$ is the level of resources at which an important change of behavior occurs: agents leave bequests only for $m_3 > 1$. Since an important change of behavior happens at this point, we call it a 'kink-point' and add it to our grids."
   ]
  },
  {
   "cell_type": "code",
   "execution_count": 13,
   "metadata": {},
   "outputs": [
    {
     "name": "stderr",
     "output_type": "stream",
     "text": [
      "/home/sb/projects/econ-ark/HARK/HARK/utilities.py:144: RuntimeWarning: divide by zero encountered in reciprocal\n",
      "  return c ** (1.0 - gam) / (1.0 - gam)\n"
     ]
    },
    {
     "data": {
      "image/png": "[encoded data removed]",
      "text/plain": [
       "<Figure size 432x288 with 1 Axes>"
      ]
     },
     "metadata": {
      "needs_background": "light"
     },
     "output_type": "display_data"
    },
    {
     "data": {
      "image/png": "[encoded data removed]",
      "text/plain": [
       "<Figure size 432x288 with 1 Axes>"
      ]
     },
     "metadata": {
      "needs_background": "light"
     },
     "output_type": "display_data"
    }
   ],
   "source": [
    "# Agent without a will\n",
    "mGrid3_no = mGrid\n",
    "cGrid3_no = mGrid\n",
    "vGrid3_no = u(cGrid3_no)\n",
    "\n",
    "# Create functions\n",
    "c3_no  = LinearInterp(mGrid3_no, cGrid3_no) # (0,0) is already here.\n",
    "vT3_no = LinearInterp(mGrid3_no, vTransf(vGrid3_no), lower_extrap = True)\n",
    "v3_no  = lambda x: vUntransf(vT3_no(x))\n",
    "\n",
    "# Agent with a will\n",
    "\n",
    "# Define an auxiliary function with the analytical consumption expression\n",
    "c3will = lambda m: np.minimum(m, -0.5 + 0.5*np.sqrt(1+4*(m+1)))\n",
    "\n",
    "# Find the kink point\n",
    "mKink = 1.0\n",
    "indBelw = mGrid < mKink\n",
    "indAbve = mGrid > mKink\n",
    "\n",
    "mGrid3_wi = np.concatenate([mGrid[indBelw],\n",
    "                            np.array([mKink]),\n",
    "                            mGrid[indAbve]])\n",
    "\n",
    "cGrid3_wi = c3will(mGrid3_wi)\n",
    "\n",
    "cAbve = c3will(mGrid[indAbve])\n",
    "beqAbve = mGrid[indAbve] - c3will(mGrid[indAbve])\n",
    "vGrid3_wi = np.concatenate([u(mGrid[indBelw]),\n",
    "                             u(np.array([mKink])),\n",
    "                             u(cAbve) + np.log(1+beqAbve)])\n",
    "\n",
    "# Create functions\n",
    "c3_wi  = LinearInterp(mGrid3_wi, cGrid3_wi) # (0,0) is already here\n",
    "vT3_wi = LinearInterp(mGrid3_wi, vTransf(vGrid3_wi), lower_extrap = True)\n",
    "v3_wi  = lambda x: vUntransf(vT3_wi(x))\n",
    "\n",
    "plt.figure()\n",
    "\n",
    "plt.plot(mGridPlots, v3_wi(mGridPlots), label = 'Will')\n",
    "plt.plot(mGridPlots, v3_no(mGridPlots), label = 'No Will')\n",
    "plt.title('Period 3: Value functions')\n",
    "plt.xlabel('Market resources')\n",
    "plt.legend()\n",
    "plt.show()\n",
    "\n",
    "plt.plot(mGridPlotsC, c3_wi(mGridPlotsC), label = 'Will')\n",
    "plt.plot(mGridPlotsC, c3_no(mGridPlotsC), label = 'No Will')\n",
    "plt.title('Period 3: Consumption Functions')\n",
    "plt.xlabel('Market resources')\n",
    "plt.legend()\n",
    "plt.show()"
   ]
  },
  {
   "cell_type": "markdown",
   "metadata": {},
   "source": [
    "# The second period\n",
    "\n",
    "On the second period, the agent takes his resources as given (the only state variable) and makes two decisions:\n",
    "- Whether to write a will or not.\n",
    "- What fraction of his resources to consume.\n",
    "\n",
    "These decisions can be seen as happening sequentially: the agent first decides whether to write a will or not, and then consumes optimally in accordance with his previous decision. Since we solve the model backwards in time, we first explore the consumption decision, conditional on the choice of writing a will or not.\n",
    "\n",
    "## An agent who decides not to write a will\n",
    "\n",
    "After deciding not to write a will, an agent solves the optimization problem expressed in the following conditional value function\n",
    "\n",
    "\\begin{equation}\n",
    "\\begin{split}\n",
    "\\nu (m_2|w=0) &= \\max_{0\\leq c \\leq m_2} u(c) + \\beta V_3(m_3,W=0)\\\\\n",
    "s.t.&\\\\\n",
    "m_3 &= m_2 - c + w\n",
    "\\end{split} \n",
    "\\end{equation}\n",
    "\n",
    "We can approximate a solution to this problem through the method of endogenous gridpoints. This yields approximations to $\\nu(\\cdot|w=0)$ and $c_2(\\cdot|w=0)$"
   ]
  },
  {
   "cell_type": "code",
   "execution_count": 14,
   "metadata": {
    "lines_to_next_cell": 2
   },
   "outputs": [],
   "source": [
    "# Second period, not writing a will\n",
    "\n",
    "# Compute market resources at 3 with and without a will\n",
    "mGrid3_cond_nowi = aGrid + w\n",
    "# Compute marginal value of assets in period 3 for each ammount of savings in 2\n",
    "vPGrid3_no = uP(c3_no(mGrid3_cond_nowi))\n",
    "# Get consumption through EGM inversion of the euler equation\n",
    "cGrid2_cond_no = uPinv(DiscFac*vPGrid3_no)\n",
    "\n",
    "# Get beginning-of-period market resources\n",
    "mGrid2_cond_no = aGrid + cGrid2_cond_no\n",
    "\n",
    "# Compute value function\n",
    "vGrid2_cond_no = u(cGrid2_cond_no) + DiscFac*v3_no(mGrid3_cond_nowi)\n",
    "\n",
    "# Create interpolating value and consumption functions\n",
    "vT2_cond_no = LinearInterp(mGrid2_cond_no, vTransf(vGrid2_cond_no), lower_extrap = True)\n",
    "v2_cond_no  = lambda x: vUntransf(vT2_cond_no(x))\n",
    "c2_cond_no  = LinearInterp(np.insert(mGrid2_cond_no,0,0), np.insert(cGrid2_cond_no,0,0))"
   ]
  },
  {
   "cell_type": "markdown",
   "metadata": {},
   "source": [
    "## An agent who decides to write a will\n",
    "\n",
    "An agent who decides to write a will also solves for his consumption dinamically. We assume that the lawyer that helps the agent write his will takes some fraction $\\tau$ of his total resources in period 3. Therefore, the evolution of resources is given by $m_3 = (1-\\tau)(m_2 - c_2 + w)$. The conditional value function of the agent is therefore:\n",
    "\n",
    "\\begin{equation}\n",
    "\\begin{split}\n",
    "\\nu (m_2|w=1) &= \\max_{0\\leq c \\leq m_2} u(c) + \\beta V_3(m_3,W=1)\\\\\n",
    "s.t.&\\\\\n",
    "m_3 &= (1-\\tau)(m_2 - c + w)\n",
    "\\end{split} \n",
    "\\end{equation}\n",
    "\n",
    "We also approximate a solution to this problem using the EGM. This yields approximations to $\\nu(\\cdot|w=1)$ and $c_2(\\cdot|w=1)$."
   ]
  },
  {
   "cell_type": "code",
   "execution_count": 15,
   "metadata": {},
   "outputs": [],
   "source": [
    "# Second period, writing a will\n",
    "\n",
    "# Compute market resources at 3 with and without a will\n",
    "mGrid3_cond_will = (1-willCstFac)*(aGrid + w)\n",
    "# Compute marginal value of assets in period 3 for each ammount of savings in 2\n",
    "vPGrid3_wi = uP(c3_wi(mGrid3_cond_will))\n",
    "# Get consumption through EGM inversion of the euler equation\n",
    "cGrid2_cond_wi = uPinv(DiscFac*(1-willCstFac)*vPGrid3_wi)\n",
    "# Get beginning-of-period market resources\n",
    "mGrid2_cond_wi = aGrid + cGrid2_cond_wi\n",
    "\n",
    "# Compute value function\n",
    "vGrid2_cond_wi = u(cGrid2_cond_wi) + DiscFac*v3_wi(mGrid3_cond_will)\n",
    "\n",
    "# Create interpolating value and consumption functions\n",
    "vT2_cond_wi = LinearInterp(mGrid2_cond_wi, vTransf(vGrid2_cond_wi), lower_extrap = True)\n",
    "v2_cond_wi  = lambda x: vUntransf(vT2_cond_wi(x))\n",
    "c2_cond_wi  = LinearInterp(np.insert(mGrid2_cond_wi,0,0), np.insert(cGrid2_cond_wi,0,0))"
   ]
  },
  {
   "cell_type": "markdown",
   "metadata": {},
   "source": [
    "## The decision whether to write a will or not\n",
    "\n",
    "With the conditional value functions at hand, we can now express and solve the decision of whether to write a will or not, and obtain the unconditional value and consumption functions.\n",
    "\n",
    "\\begin{equation}\n",
    "V_2(m_2) = \\max \\{ \\nu (m_2|w=0), \\nu (m_2|w=1) \\}\n",
    "\\end{equation}\n",
    "\n",
    "\\begin{equation}\n",
    "w^*(m_2) = \\arg \\max_{w \\in \\{0,1\\}} \\{ \\nu (m_2|w=w) \\}\n",
    "\\end{equation}\n",
    "\n",
    "\\begin{equation}\n",
    "c_2(m_2) = c_2(m_2|w=w^*(m_2))\n",
    "\\end{equation}\n",
    "\n",
    "We now construct these objects."
   ]
  },
  {
   "cell_type": "code",
   "execution_count": 16,
   "metadata": {},
   "outputs": [
    {
     "data": {
      "image/png": "[encoded data removed]",
      "text/plain": [
       "<Figure size 432x288 with 1 Axes>"
      ]
     },
     "metadata": {
      "needs_background": "light"
     },
     "output_type": "display_data"
    },
    {
     "ename": "ValueError",
     "evalue": "cannot convert float NaN to integer",
     "output_type": "error",
     "traceback": [
      "\u001b[0;31m---------------------------------------------------------------------------\u001b[0m",
      "\u001b[0;31mValueError\u001b[0m                                Traceback (most recent call last)",
      "\u001b[0;32m<ipython-input-16-2cd9396a357f>\u001b[0m in \u001b[0;36m<module>\u001b[0;34m\u001b[0m\n\u001b[1;32m     20\u001b[0m \u001b[0;31m# Now find the primary kink point (the point at which the optimal discrete\u001b[0m\u001b[0;34m\u001b[0m\u001b[0;34m\u001b[0m\u001b[0;34m\u001b[0m\u001b[0m\n\u001b[1;32m     21\u001b[0m \u001b[0;31m# decision changes)\u001b[0m\u001b[0;34m\u001b[0m\u001b[0;34m\u001b[0m\u001b[0;34m\u001b[0m\u001b[0m\n\u001b[0;32m---> 22\u001b[0;31m pKink, segments = calc_prim_kink(mGrid, np.stack((vT2_cond_wi(mGrid),\n\u001b[0m\u001b[1;32m     23\u001b[0m                                                   vT2_cond_no(mGrid))),\n\u001b[1;32m     24\u001b[0m                                  willChoice2)\n",
      "\u001b[0;32m~/projects/econ-ark/HARK/HARK/dcegm.py\u001b[0m in \u001b[0;36mcalc_prim_kink\u001b[0;34m(mGrid, vTGrids, choices)\u001b[0m\n\u001b[1;32m    116\u001b[0m     \u001b[0;31m# Construct a vector with the optimal choice at each m point\u001b[0m\u001b[0;34m\u001b[0m\u001b[0;34m\u001b[0m\u001b[0;34m\u001b[0m\u001b[0m\n\u001b[1;32m    117\u001b[0m     \u001b[0moptChoice\u001b[0m \u001b[0;34m=\u001b[0m \u001b[0mnp\u001b[0m\u001b[0;34m.\u001b[0m\u001b[0mempty\u001b[0m\u001b[0;34m(\u001b[0m\u001b[0mlen\u001b[0m\u001b[0;34m(\u001b[0m\u001b[0mmGrid\u001b[0m\u001b[0;34m)\u001b[0m\u001b[0;34m,\u001b[0m \u001b[0mdtype\u001b[0m\u001b[0;34m=\u001b[0m\u001b[0mint\u001b[0m\u001b[0;34m)\u001b[0m\u001b[0;34m\u001b[0m\u001b[0;34m\u001b[0m\u001b[0m\n\u001b[0;32m--> 118\u001b[0;31m     \u001b[0moptChoice\u001b[0m\u001b[0;34m[\u001b[0m\u001b[0;34m:\u001b[0m\u001b[0;34m]\u001b[0m \u001b[0;34m=\u001b[0m \u001b[0mnp\u001b[0m\u001b[0;34m.\u001b[0m\u001b[0mnan\u001b[0m\u001b[0;34m\u001b[0m\u001b[0;34m\u001b[0m\u001b[0m\n\u001b[0m\u001b[1;32m    119\u001b[0m     \u001b[0;32mfor\u001b[0m \u001b[0mi\u001b[0m \u001b[0;32min\u001b[0m \u001b[0mrange\u001b[0m\u001b[0;34m(\u001b[0m\u001b[0mlen\u001b[0m\u001b[0;34m(\u001b[0m\u001b[0mvTGrids\u001b[0m\u001b[0;34m)\u001b[0m\u001b[0;34m)\u001b[0m\u001b[0;34m:\u001b[0m\u001b[0;34m\u001b[0m\u001b[0;34m\u001b[0m\u001b[0m\n\u001b[1;32m    120\u001b[0m         \u001b[0midx\u001b[0m \u001b[0;34m=\u001b[0m \u001b[0mChoices\u001b[0m\u001b[0;34m[\u001b[0m\u001b[0mi\u001b[0m\u001b[0;34m]\u001b[0m \u001b[0;34m==\u001b[0m \u001b[0;36m1\u001b[0m\u001b[0;34m\u001b[0m\u001b[0;34m\u001b[0m\u001b[0m\n",
      "\u001b[0;31mValueError\u001b[0m: cannot convert float NaN to integer"
     ]
    }
   ],
   "source": [
    "# We use HARK's 'calcLogSumchoiceProbs' to compute the optimal\n",
    "# will decision over our grid of market resources.\n",
    "# The function also returns the unconditional value function\n",
    "# Use transformed values since -given sigma=0- magnitudes are unimportant. This\n",
    "# avoids NaNs at m \\approx 0.\n",
    "vTGrid2, willChoice2 = calc_log_sum_choice_probs(np.stack((vT2_cond_wi(mGrid),\n",
    "                                                           vT2_cond_no(mGrid))),\n",
    "                                                 sigma = 0)\n",
    "\n",
    "# Plot the optimal decision rule\n",
    "plt.plot(mGrid, willChoice2[0])\n",
    "plt.title('$w^*(m)$')\n",
    "plt.ylabel('Write will (1) or not (0)')\n",
    "plt.xlabel('Market resources: m')\n",
    "plt.show()\n",
    "\n",
    "# With the decision rule we can get the unconditional consumption grid\n",
    "cGrid2 = (willChoice2*np.stack((c2_cond_wi(mGrid),c2_cond_no(mGrid)))).sum(axis=0)\n",
    "\n",
    "# Now find the primary kink point (the point at which the optimal discrete\n",
    "# decision changes)\n",
    "pKink, segments = calc_prim_kink(mGrid, np.stack((vT2_cond_wi(mGrid),\n",
    "                                                  vT2_cond_no(mGrid))),\n",
    "                                 willChoice2)\n",
    "\n",
    "m_kink = np.array([x[0] for x in pKink])\n",
    "v_kink = np.array([x[1] for x in pKink])\n",
    "\n",
    "# Insert the kink point into the value function grid and create the function.\n",
    "idx = np.searchsorted(mGrid, m_kink)\n",
    "mGrid_k = np.insert(mGrid, idx, m_kink)\n",
    "vTGrid2_k = np.insert(vTGrid2, idx, v_kink)\n",
    "\n",
    "vT2 = LinearInterp(mGrid_k, vTGrid2_k, lower_extrap = True)\n",
    "v2  = lambda x: vUntransf(vT2(x))\n",
    "\n",
    "# Plot the conditional and unconditional value functions\n",
    "mGridPlots_k = np.concatenate([mGridPlots,m_kink])\n",
    "mGridPlots_k.sort()\n",
    "plt.plot(mGridPlots_k, v2_cond_wi(mGridPlots_k), label = 'Cond. Will')\n",
    "plt.plot(mGridPlots_k, v2_cond_no(mGridPlots_k), label = 'Cond. No will')\n",
    "plt.plot(mGridPlots_k, v2(mGridPlots_k), 'k--',label = 'Uncond.')\n",
    "plt.plot(m_kink, v2(m_kink), 'rX', label = 'Primary kink')\n",
    "plt.title('Period 2: Value Functions')\n",
    "plt.xlabel('Market resources')\n",
    "plt.legend()\n",
    "plt.show()\n",
    "\n",
    "# Add kink points to consumption function. Make the discontinuity evident\n",
    "add_c = []\n",
    "add_m = []\n",
    "cond_cfuncs = [c2_cond_wi, c2_cond_no]\n",
    "for i in range(len(m_kink)):\n",
    "    ml = m_kink[i]\n",
    "    mr = np.nextafter(ml, np.inf)\n",
    "    # Point to the left of the discontinuity\n",
    "    add_m.append(ml)\n",
    "    add_c.append(cond_cfuncs[segments[i,0]](ml))\n",
    "    # Point to the right of the discontinuitiy\n",
    "    add_m.append(mr)\n",
    "    add_c.append(cond_cfuncs[segments[i,1]](mr))\n",
    "   \n",
    "# Add to grids    \n",
    "idx = np.searchsorted(mGrid, add_m)\n",
    "mGrid_k = np.insert(mGrid, idx, add_m)\n",
    "cGrid2_k = np.insert(cGrid2, idx, add_c)\n",
    "\n",
    "# Create function\n",
    "c2  = LinearInterp(mGrid_k, cGrid2_k)\n",
    "\n",
    "# Plot the conditional and unconditional consumption\n",
    "# functions\n",
    "mGridPlotsC_k = np.concatenate([mGridPlotsC,add_m])\n",
    "mGridPlotsC_k.sort()\n",
    "plt.plot(mGridPlotsC_k, c2_cond_wi(mGridPlotsC_k), label = 'Cond. Will')\n",
    "plt.plot(mGridPlotsC_k, c2_cond_no(mGridPlotsC_k), label = 'Cond. No will')\n",
    "plt.plot(mGridPlotsC_k, c2(mGridPlotsC_k), 'k--',label = 'Uncond.')\n",
    "plt.plot(add_m, c2(add_m), 'rX', label = 'Primary kink')\n",
    "plt.title('Period 2: Consumption Functions')\n",
    "plt.xlabel('Market resources')\n",
    "plt.legend()\n",
    "plt.show()"
   ]
  },
  {
   "cell_type": "markdown",
   "metadata": {},
   "source": [
    "# The first period\n",
    "\n",
    "In the first period, the agent simply observes his market resources and decides what fraction of them to consume. His problem is represented by the following value function\n",
    "\n",
    "\\begin{equation}\n",
    "\\begin{split}\n",
    "V (m_1) &= \\max_{0\\leq c \\leq m_1} u(c) + \\beta V_2(m_2)\\\\\n",
    "s.t.&\\\\\n",
    "m_2 &= m_1 - c + w.\n",
    "\\end{split} \n",
    "\\end{equation}\n",
    "\n",
    "Although this looks like a simple problem, there are complications introduced by the kink in $V_2(\\cdot)$, which is clearly visible in the plot from the previous block. Particularly, note that $V_2'(\\cdot)$ and $c_2(\\cdot)$ are not monotonic: there are now multiple points $m$ for which the slope of $V_2(m)$ is equal. Thus, the Euler equation becomes a necessary but not sufficient condition for optimality and the traditional EGM inversion step can generate non-monotonic endogenous $m$ gridpoints.\n",
    "\n",
    "We now illustrate this phenomenon."
   ]
  },
  {
   "cell_type": "code",
   "execution_count": null,
   "metadata": {
    "title": "Solve the first period"
   },
   "outputs": [],
   "source": [
    "# EGM step\n",
    "\n",
    "# Period 2 resources implied by the exogenous savings grid\n",
    "mGrid2 = aGrid + w\n",
    "# Envelope condition\n",
    "vPGrid2 = uP(c2(mGrid2))\n",
    "# Inversion of the euler equation\n",
    "cGrid1 = uPinv(DiscFac*vPGrid2)\n",
    "# Endogenous gridpoints\n",
    "mGrid1 = aGrid + cGrid1\n",
    "vGrid1 = u(cGrid1) + DiscFac*v2(mGrid2)\n",
    "\n",
    "plt.plot(mGrid1)\n",
    "plt.title('Endogenous gridpoints')\n",
    "plt.xlabel('Position: i')\n",
    "plt.ylabel('Endogenous grid point: $m_i$')\n",
    "plt.show()\n",
    "\n",
    "\n",
    "plt.plot(mGrid1,vGrid1)\n",
    "plt.title('Value function at grid points')\n",
    "plt.xlabel('Market resources: m')\n",
    "plt.ylabel('Value function')\n",
    "plt.show()"
   ]
  },
  {
   "cell_type": "markdown",
   "metadata": {},
   "source": [
    "The previous cell applies the endogenous gridpoints method to the first period problem. The plots illustrate that the sequence of resulting endogenous gridpoints $\\{m_i\\}_{i=1}^N$ is not monotonic. This results in intervals of market resources over which we have multiple candidate values for the value function. This is the point where we must apply the upper envelope function illustrated above.\n",
    "\n",
    "We finally use the resulting consumption and value grid points to create the first period value and consumption functions. "
   ]
  },
  {
   "cell_type": "code",
   "execution_count": null,
   "metadata": {},
   "outputs": [],
   "source": [
    "# Calculate envelope\n",
    "vTGrid1 = vTransf(vGrid1) # The function operates with *transformed* value grids\n",
    "\n",
    "rise, fall = calc_segments(mGrid1, vTGrid1)\n",
    "mGrid1_up, cGrid1_up, vTGrid1_up, xings = calc_multiline_envelope(mGrid1, cGrid1,\n",
    "                                                                  vTGrid1, mGrid,\n",
    "                                                                  findXings = True)\n",
    "# Create functions\n",
    "c1_up  = LinearInterp(mGrid1_up, cGrid1_up)\n",
    "v1T_up = LinearInterp(mGrid1_up, vTGrid1_up)\n",
    "v1_up  = lambda x: vUntransf(v1T_up(x))\n",
    "\n",
    "# Extract crossing points\n",
    "xing_m = np.array(xings)\n",
    "xing_v = v1_up(xings)\n",
    "\n",
    "# Show that there is a non-monothonicity and that the upper envelope fixes it\n",
    "plt.plot(mGrid1,vGrid1, label = 'EGM Points')\n",
    "plt.plot(mGridPlots, v1_up(mGridPlots), 'k--', label = 'Upper Envelope')\n",
    "plt.plot(xing_m, xing_v, 'rX', label = 'Crossings')\n",
    "plt.plot()\n",
    "plt.title('Period 1: Value function')\n",
    "plt.xlabel('Market resources')\n",
    "plt.legend()\n",
    "plt.show()\n",
    "\n",
    "# For the consumption function, we want to highlight the sharp discontinuity,\n",
    "# so we'll add points to the grid that make it evident.\n",
    "add_m_points = np.concatenate([xing_m, np.nextafter(xing_m, np.inf)])\n",
    "mGridPlotsC_disc = np.concatenate([mGridPlotsC, add_m_points])\n",
    "mGridPlotsC_disc.sort()\n",
    "\n",
    "# Plot consumption\n",
    "plt.plot(mGrid1,cGrid1, label = 'EGM Points')\n",
    "plt.plot(mGridPlotsC_disc,c1_up(mGridPlotsC_disc),'k--', label = 'Upper Envelope')\n",
    "plt.plot(add_m_points, c1_up(add_m_points),'rX', label = 'Secondary Kink')\n",
    "plt.title('Period 1: Consumption function')\n",
    "plt.xlabel('Market resources')\n",
    "plt.legend()\n",
    "plt.show()"
   ]
  },
  {
   "cell_type": "markdown",
   "metadata": {},
   "source": [
    "# References\n",
    "[1] Iskhakov, F. , Jørgensen, T. H., Rust, J. and Schjerning, B. (2017), The endogenous grid method for discrete‐continuous dynamic choice models with (or without) taste shocks. Quantitative Economics, 8: 317-365. doi:10.3982/QE643\n",
    "\n",
    "[2] Carroll, C. D. (2006). The method of endogenous gridpoints for solving dynamic stochastic optimization problems. Economics letters, 91(3), 312-320.\n",
    "\n"
   ]
  }
 ],
 "metadata": {
  "jupytext": {
   "cell_metadata_filter": "collapsed,title",
   "encoding": "# -*- coding: utf-8 -*-",
   "formats": "ipynb,py:percent",
   "notebook_metadata_filter": "all",
   "rst2md": false
  },
  "kernelspec": {
   "display_name": "econ-ark-3.8",
   "language": "python",
   "name": "econ-ark-3.8"
  },
  "language_info": {
   "codemirror_mode": {
    "name": "ipython",
    "version": 3
   },
   "file_extension": ".py",
   "mimetype": "text/x-python",
   "name": "python",
   "nbconvert_exporter": "python",
   "pygments_lexer": "ipython3",
   "version": "3.8.7"
  }
 },
 "nbformat": 4,
 "nbformat_minor": 4
}
