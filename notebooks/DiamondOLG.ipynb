{
 "cells": [
  {
   "cell_type": "markdown",
   "metadata": {},
   "source": [
    "# The Diamond OLG Model\n",
    "\n",
    "[![badge](https://img.shields.io/badge/Launch%20using%20-Econ--ARK-blue)](https://econ-ark.org/materials/diamondolg#launch)"
   ]
  },
  {
   "cell_type": "markdown",
   "metadata": {},
   "source": [
    "### Convergence of OLG Economy to Steady State"
   ]
  },
  {
   "cell_type": "code",
   "execution_count": 1,
   "metadata": {
    "tags": []
   },
   "outputs": [],
   "source": [
    "# Some initial setup\n",
    "from matplotlib import pyplot as plt\n",
    "import numpy as np\n",
    "import scipy as sp\n",
    "plt.style.use('seaborn-darkgrid')\n",
    "palette = plt.get_cmap('Dark2')\n",
    "from copy  import deepcopy\n",
    "\n",
    "# For plots\n",
    "from ipywidgets import interact, interactive, fixed, interact_manual, Layout\n",
    "import ipywidgets as widgets\n",
    "from matplotlib import rc,rcParams\n",
    "rc('font', weight='bold')\n",
    "rcParams['text.latex.preamble'] = r'\\usepackage{sfmath} \\boldmath'\n",
    "import seaborn as sns\n",
    "sns.set_style(\"white\", {'axes.edgecolor': 'black'})\n",
    "\n",
    "from HARK.ConsumptionSaving.ConsIndShockModel import (\n",
    "    PerfForesightConsumerType, init_perfect_foresight)\n",
    "\n",
    "years_per_gen = 30"
   ]
  },
  {
   "cell_type": "code",
   "execution_count": 2,
   "metadata": {
    "jupyter": {
     "source_hidden": true
    },
    "tags": []
   },
   "outputs": [],
   "source": [
    "# Define a function that plots something given some inputs\n",
    "def plot1(Epsilon, DiscFac, PopGrowth, YearsPerGeneration, Initialk):\n",
    "    '''Inputs:\n",
    "        Epsilon: Elasticity of output with respect to capital/labour ratio\n",
    "        DiscFac: One period discount factor\n",
    "        YearPerGeneration: No. of years per generation\n",
    "        PopGrowth: Gross growth rate of population in one period'''\n",
    "    \n",
    "    #\n",
    "    kMax = 0.1\n",
    "    # Define some parameters\n",
    "    Beta = DiscFac**YearsPerGeneration\n",
    "    xi = PopGrowth**YearsPerGeneration\n",
    "    Q = (1-Epsilon)*(Beta/(1+Beta))/xi\n",
    "    kBar = Q**(1/(1-Epsilon))\n",
    "    \n",
    "    # Create an agent that will solve the consumption problem\n",
    "    PFagent = PerfForesightConsumerType(**init_perfect_foresight)\n",
    "    PFagent.cycles = 1 # let the agent live the cycle of periods just once\n",
    "    PFagent.T_cycle = 2 # Number of periods in the cycle\n",
    "    PFagent.assign_parameters(PermGroFac = [0.000001]) # Income only in the first period\n",
    "    PFagent.LivPrb = [1.]\n",
    "    \n",
    "    PFagent.DiscFac = Beta\n",
    "    \n",
    "    # Hark seems to have trouble with log-utility\n",
    "    # so pass rho = 1 + something small.\n",
    "    PFagent.CRRA = 1.001\n",
    "    \n",
    "    PFagent.solve()\n",
    "    \n",
    "    # Plot the OLG capital accumulation curve and 45 deg line\n",
    "    plt.figure(figsize=(9,6))\n",
    "    kt_range = np.linspace(0, kMax, 300)\n",
    "    \n",
    "    # Analitical solution plot\n",
    "    ktp1 = Q*kt_range**Epsilon\n",
    "    plt.plot(kt_range, ktp1, 'b-', label='Capital accumulation curve')\n",
    "    plt.plot(kt_range, kt_range, 'k-', label='45 Degree line')\n",
    "    \n",
    "    # Plot the path\n",
    "    kt_ar = Initialk\n",
    "    ktp1_ar = 0.\n",
    "    for i in range(3):\n",
    "        \n",
    "        # Compute Next Period's capital using HARK\n",
    "        wage = (1-Epsilon)*kt_ar**Epsilon\n",
    "        c = PFagent.solution[0].cFunc(wage)\n",
    "        a = wage - c\n",
    "        k1 = a/xi\n",
    "        \n",
    "        plt.arrow(kt_ar, ktp1_ar, 0., k1-ktp1_ar,\n",
    "                  length_includes_head=True,\n",
    "                  lw=0.01,\n",
    "                  width=0.0005,\n",
    "                  color='black',\n",
    "                  edgecolor=None)\n",
    "        plt.arrow(kt_ar, k1, k1-kt_ar , 0.,\n",
    "                  length_includes_head=True,\n",
    "                  lw=0.01,\n",
    "                  width=0.0005,\n",
    "                  color='black',\n",
    "                  edgecolor=None)\n",
    "        \n",
    "        # Update arrow\n",
    "        kt_ar = k1\n",
    "        ktp1_ar = kt_ar\n",
    "    \n",
    "    # Plot kbar and initial k\n",
    "    plt.plot(kBar, kBar, 'ro', label=r'$\\bar{k}$')\n",
    "    plt.plot(Initialk, 0.0005, 'co', label = '$k_0$')\n",
    "    \n",
    "    plt.title('Convergence of OLG Economy to Steady State',  fontsize= 20, y=1.05)\n",
    "    plt.legend()\n",
    "    plt.xlim(0 ,kMax)\n",
    "    plt.ylim(0, kMax)\n",
    "    plt.axvline(0,color='black')\n",
    "    plt.axhline(0,color='black')\n",
    "    plt.xlabel('$k_t$', fontsize= 12)\n",
    "    plt.ylabel('$k_{t+1}$', fontsize= 12)\n",
    "    plt.show()\n",
    "\n",
    "    return None"
   ]
  },
  {
   "cell_type": "code",
   "execution_count": 3,
   "metadata": {
    "jupyter": {
     "source_hidden": true
    },
    "tags": []
   },
   "outputs": [],
   "source": [
    "# Define some widgets to control the plot\n",
    "\n",
    "# Define a slider for Epsilon\n",
    "Epsilon_widget1 = widgets.FloatSlider(\n",
    "    min=0.2,\n",
    "    max=0.4,\n",
    "    step=0.01,\n",
    "    value=0.33,\n",
    "    continuous_update=False,\n",
    "    readout_format='.3f',\n",
    "    description=r'Capital Share $\\epsilon$',\n",
    "    style = {'description_width': 'initial'})\n",
    "\n",
    "# Define a slider for the discount factor\n",
    "DiscFac_widget1 = widgets.FloatSlider(\n",
    "    min=.94,\n",
    "    max=0.99,\n",
    "    step=0.001,\n",
    "    value=0.96,\n",
    "    continuous_update=False,\n",
    "    readout_format='.3f',\n",
    "    description=r'Discount Factor $\\beta$',\n",
    "    style = {'description_width': 'initial'})\n",
    "\n",
    "# Define a slider for pop. growth\n",
    "PopGrowth_widget1 = widgets.FloatSlider(\n",
    "    min=0.98,\n",
    "    max=1.05,\n",
    "    step=0.001,\n",
    "    value=1.01,\n",
    "    continuous_update=False,\n",
    "    readout_format='.3f',\n",
    "    description=r'Pop. Growth $\\Xi$',\n",
    "    style = {'description_width': 'initial'})\n",
    "\n",
    "# Define a slider for initial k\n",
    "Initialk_widget1 = widgets.FloatSlider(\n",
    "    min=0.01,\n",
    "    max=0.1,\n",
    "    step=0.01,\n",
    "    value=.08,\n",
    "    continuous_update=True,\n",
    "    readout_format='.3f',\n",
    "    description='Init. capital ratio',\n",
    "    style = {'description_width': 'initial'})"
   ]
  },
  {
   "cell_type": "code",
   "execution_count": 4,
   "metadata": {
    "tags": []
   },
   "outputs": [
    {
     "data": {
      "application/vnd.jupyter.widget-view+json": {
       "model_id": "6b62df6dc3d941079f45e58fa56121e1",
       "version_major": 2,
       "version_minor": 0
      },
      "text/plain": [
       "interactive(children=(FloatSlider(value=0.33, continuous_update=False, description='Capital Share $\\\\epsilon$'…"
      ]
     },
     "metadata": {},
     "output_type": "display_data"
    }
   ],
   "source": [
    "# Make the widget\n",
    "interact(plot1,\n",
    "         Epsilon = Epsilon_widget1,\n",
    "         DiscFac = DiscFac_widget1,\n",
    "         PopGrowth = PopGrowth_widget1,\n",
    "         YearsPerGeneration = fixed(years_per_gen),\n",
    "         Initialk = Initialk_widget1);"
   ]
  },
  {
   "cell_type": "markdown",
   "metadata": {},
   "source": [
    "### Gross and Net Per Capita Output as a Function of k"
   ]
  },
  {
   "cell_type": "code",
   "execution_count": 5,
   "metadata": {
    "jupyter": {
     "source_hidden": true
    }
   },
   "outputs": [],
   "source": [
    "# Define a function that plots something given some inputs\n",
    "def plot2(Epsilon, PopGrowth, YearsPerGeneration):\n",
    "    '''Inputs:\n",
    "        Epsilon: Elasticity of output with respect to capital/labour ratio\n",
    "        DiscFac: One period discount factor\n",
    "        YearPerGeneration: No. of years per generation\n",
    "        PopGrowth: Gross growth rate of population in one period'''\n",
    "    \n",
    "    kMax = 5.5\n",
    "    \n",
    "    # Define some parameters\n",
    "    xi = PopGrowth**YearsPerGeneration\n",
    "    Xi = xi - 1\n",
    "    kBarForcZero = Xi**(1/(Epsilon-1))\n",
    "    \n",
    "    # Plot the production function and depreciation/dilution curves\n",
    "    kt_range = np.linspace(0, kMax, 500)\n",
    "    plt.figure(figsize=(18, 6))\n",
    "    plt.suptitle('Gross and Net Per Capita Output as a Function of $k$',  fontsize= 20)\n",
    "    plt.subplot(1,2,1)\n",
    "    plt.plot(kt_range, kt_range**Epsilon, 'b-', label = '$f(k)$')\n",
    "    plt.plot(kt_range, Xi*kt_range, 'k-', label = '$Xi * k$')\n",
    "    plt.legend()\n",
    "    plt.xlim(0, kMax)\n",
    "    plt.ylim(0, 3)\n",
    "    plt.xlabel('$k_t$')\n",
    "    plt.axvline(0,color='black')\n",
    "    plt.axhline(0,color='black')\n",
    "    \n",
    "    plt.subplot(1,2,2)\n",
    "    plt.plot(kt_range, kt_range**Epsilon - Xi*kt_range, 'k-', label ='$f(k) - Xi * k$')\n",
    "    plt.legend()\n",
    "    plt.xlim(0, kMax)\n",
    "    plt.ylim(0, 1)\n",
    "    plt.xlabel('$k_t$', fontsize= 12)\n",
    "    plt.axvline(0,color='black')\n",
    "    plt.axhline(0,color='black')\n",
    "\n",
    "    plt.show()\n",
    "\n",
    "    return None"
   ]
  },
  {
   "cell_type": "code",
   "execution_count": 6,
   "metadata": {
    "jupyter": {
     "source_hidden": true
    }
   },
   "outputs": [],
   "source": [
    "# Define some widgets to control the plot\n",
    "\n",
    "# Define a slider for Epsilon\n",
    "Epsilon_widget2 = widgets.FloatSlider(\n",
    "    min=0.2,\n",
    "    max=0.4,\n",
    "    step=0.01,\n",
    "    value=0.33,\n",
    "    continuous_update=False,\n",
    "    readout_format='.3f',\n",
    "    description=r'Capital Share $\\epsilon$',\n",
    "    style = {'description_width': 'initial'})\n",
    "\n",
    "# Define a slider for pop. growth\n",
    "PopGrowth_widget2 = widgets.FloatSlider(\n",
    "    min=0.98,\n",
    "    max=1.05,\n",
    "    step=0.001,\n",
    "    value=1.01,\n",
    "    continuous_update=False,\n",
    "    readout_format='.3f',\n",
    "    description=r'Pop. Growth $\\Xi$',\n",
    "    style = {'description_width': 'initial'})"
   ]
  },
  {
   "cell_type": "code",
   "execution_count": 7,
   "metadata": {},
   "outputs": [
    {
     "data": {
      "application/vnd.jupyter.widget-view+json": {
       "model_id": "18fc732048ba4db8981fff26de6145f0",
       "version_major": 2,
       "version_minor": 0
      },
      "text/plain": [
       "interactive(children=(FloatSlider(value=0.33, continuous_update=False, description='Capital Share $\\\\epsilon$'…"
      ]
     },
     "metadata": {},
     "output_type": "display_data"
    }
   ],
   "source": [
    "# Make the widget\n",
    "interact(plot2,\n",
    "         Epsilon = Epsilon_widget2,\n",
    "         PopGrowth = PopGrowth_widget2,\n",
    "         YearsPerGeneration = fixed(years_per_gen)\n",
    "        );"
   ]
  },
  {
   "cell_type": "markdown",
   "metadata": {},
   "source": [
    "### Pay As You Go (PAYG) Social Security system\n",
    "\n",
    "Suppose that initially this economy had no Social Security system and we are interested in the eﬀects of introducing a Pay-As-You-Go Social Security system that is expected to remain a constant size from generation to generation from now on: $z_{2,t+1} =  − z_{1,t+1}$    while $z_{1,t+1} =  z_{1,t}$, so that taxes are greater than transfers when young and transfers are greater than taxes when old."
   ]
  },
  {
   "cell_type": "code",
   "execution_count": 8,
   "metadata": {
    "jupyter": {
     "source_hidden": true
    }
   },
   "outputs": [],
   "source": [
    "# Define a function that plots something given some inputs\n",
    "def plot3(Epsilon, DiscFac, z, Rfree, YearsPerGeneration):\n",
    "    '''Inputs:\n",
    "        Epsilon: Elasticity of output with respect to capital/labour ratio\n",
    "        DiscFac: One period discount factor\n",
    "        z: Social Security Transfers\n",
    "        Rfree: Interest rate\n",
    "        YearPerGeneration: No. of years per generation\n",
    "    '''\n",
    "    # unchanged parameters\n",
    "    kMax = 0.1\n",
    "    PopGrowth = 1\n",
    "    \n",
    "    # Define some parameters\n",
    "    Beta = DiscFac**YearsPerGeneration\n",
    "    xi = PopGrowth**YearsPerGeneration\n",
    "    # Before introduction of PAYG System\n",
    "    Q = (1-Epsilon)*(Beta/(1+Beta))/xi\n",
    "    kBar_old = Q**(1/(1-Epsilon))\n",
    "    \n",
    "    # After introduction of PAYG System\n",
    "    transfers = z * (1 + (Rfree * Beta) )/(Rfree * (1 + Beta))\n",
    "    solution = sp.optimize.root(lambda k: k - Q*(k**Epsilon) + transfers, kBar_old) \n",
    "    kBar_new = solution.x\n",
    "    \n",
    "    # Create an agent that will solve the consumption problemFac\n",
    "    PFagent = PerfForesightConsumerType(**init_perfect_foresight)\n",
    "    PFagent.cycles = 1 # let the agent live the cycle of periods just once\n",
    "    PFagent.T_cycle = 2 # Number of periods in the cycle\n",
    "    PFagent.assign_parameters(PermGroFac = [0.000001]) # Income only in the first period\n",
    "    PFagent.LivPrb = [1.]\n",
    "    \n",
    "    PFagent.DiscFac = Beta\n",
    "    \n",
    "    # Hark seems to have trouble with log-utility\n",
    "    # so pass rho = 1 + something small.\n",
    "    PFagent.CRRA = 1.001\n",
    "    \n",
    "    PFagent.solve()\n",
    "    \n",
    "   \n",
    "    # Plot the OLG capital accumulation curve and 45 deg line\n",
    "    plt.figure(figsize=(9,6))\n",
    "    kt_range = np.linspace(0, kMax, 300)\n",
    "    \n",
    "    # Analitical solution plot\n",
    "    ktp1 = Q*kt_range**Epsilon\n",
    "    ktp1_PAYG =  Q*kt_range**Epsilon - transfers\n",
    "    plt.plot(kt_range, ktp1, 'b-', label='Capital accumulation curve')\n",
    "    plt.plot(kt_range, ktp1_PAYG, 'g-', label='Capital accumulation curve with PAYG')\n",
    "    plt.plot(kt_range, kt_range, 'k-', label='45 Degree line')\n",
    "\n",
    "    # Plot the path\n",
    "    kt_PAYG = kBar_old\n",
    "    ktp1_PAYG = kBar_old\n",
    "    \n",
    "    while np.abs(kBar_new - kt_PAYG) > 0.0015: # Create as many arrows as necessary\n",
    "        # Compute Next Period's capital using HARK\n",
    "        wage = (1-Epsilon)*kt_PAYG**Epsilon \n",
    "        net_wage = (1 - z) * wage # Agent has to pay transfers\n",
    "        c = PFagent.solution[0].cFunc(net_wage) \n",
    "        k1 = (wage * (Beta/(1 + Beta)) - transfers)/(xi) # capital accumulation differs\n",
    "\n",
    "        plt.arrow(kt_PAYG, k1, k1-kt_PAYG , 0.,\n",
    "                  length_includes_head=True,\n",
    "                  lw=0.01,\n",
    "                  width=0.0005,\n",
    "                  color='black',\n",
    "                  edgecolor=None)\n",
    "        plt.arrow(kt_PAYG, ktp1_PAYG, 0., k1-ktp1_PAYG,\n",
    "                  length_includes_head=True,\n",
    "                  lw=0.01,\n",
    "                  width=0.0005,\n",
    "                  color='black',\n",
    "                  edgecolor=None)        \n",
    "        # Update arrow\n",
    "        kt_PAYG = k1\n",
    "        ktp1_PAYG = kt_PAYG\n",
    "\n",
    "    # Plot kbar and initial k\n",
    "    plt.plot(kBar_old, kBar_old, 'co', label = r'$\\bar{k}$')\n",
    "    plt.plot(kBar_new, kBar_new, 'ro', label=r'$\\bar{k}_{PAYG}$')\n",
    "\n",
    "    plt.title('Convergence of OLG Economy After Intro of PAYG Social Security System',  fontsize= 20, y=1.05)\n",
    "    plt.legend()\n",
    "    plt.xlim(0 ,kMax)\n",
    "    plt.ylim(0, kMax)\n",
    "    plt.xlabel('$k_t$', fontsize= 12)\n",
    "    plt.ylabel('$k_{t+1}$', fontsize= 12)\n",
    "    plt.axvline(0,color='black')\n",
    "    plt.axhline(0,color='black')\n",
    "    plt.show()\n",
    "\n",
    "    return None"
   ]
  },
  {
   "cell_type": "code",
   "execution_count": 9,
   "metadata": {
    "jupyter": {
     "source_hidden": true
    }
   },
   "outputs": [],
   "source": [
    "# Define a slider for Epsilon\n",
    "Epsilon_widget3 = widgets.FloatSlider(\n",
    "    min=0.2,\n",
    "    max=0.4,\n",
    "    step=0.01,\n",
    "    value=0.33,\n",
    "    continuous_update=False,\n",
    "    readout_format='.3f',\n",
    "    description=r'Capital Share $\\epsilon$',\n",
    "    style = {'description_width': 'initial'})\n",
    "\n",
    "# Define a slider for the discount factor\n",
    "DiscFac_widget3 = widgets.FloatSlider(\n",
    "    min=.95,\n",
    "    max=0.99,\n",
    "    step=0.001,\n",
    "    value=0.96,\n",
    "    continuous_update=False,\n",
    "    readout_format='.3f',\n",
    "    description=r'Discount Factor $\\beta$',\n",
    "    style = {'description_width': 'initial'})\n",
    "\n",
    "# Define a slider for the discount factor\n",
    "Rfree_widget3 = widgets.FloatSlider(\n",
    "    min=1.0,\n",
    "    max=1.1,\n",
    "    step=0.0001,\n",
    "    value=1.03,\n",
    "    continuous_update=True,\n",
    "    readout_format='.3f',\n",
    "    description='$Rfree$')\n",
    "\n",
    "# Define a slider for z\n",
    "z_widget3 = widgets.FloatSlider(\n",
    "    min=0,\n",
    "    max=.02,\n",
    "    step=0.005,\n",
    "    value=0.015,\n",
    "    continuous_update=True,\n",
    "    readout_format='.3f',\n",
    "    description='$z$')\n",
    "\n"
   ]
  },
  {
   "cell_type": "code",
   "execution_count": 10,
   "metadata": {
    "lines_to_next_cell": 2
   },
   "outputs": [
    {
     "data": {
      "application/vnd.jupyter.widget-view+json": {
       "model_id": "41dafa0200fa41a5971fa2fa2441e168",
       "version_major": 2,
       "version_minor": 0
      },
      "text/plain": [
       "interactive(children=(FloatSlider(value=0.33, continuous_update=False, description='Capital Share $\\\\epsilon$'…"
      ]
     },
     "metadata": {},
     "output_type": "display_data"
    }
   ],
   "source": [
    "# Make the widget\n",
    "interact(plot3,\n",
    "         Epsilon = Epsilon_widget3,\n",
    "         DiscFac = DiscFac_widget3,\n",
    "         Rfree = Rfree_widget3,\n",
    "         z = z_widget3,\n",
    "         YearsPerGeneration = fixed(years_per_gen),\n",
    "        );"
   ]
  }
 ],
 "metadata": {
  "jupytext": {
   "formats": "ipynb,py:percent",
   "notebook_metadata_filter": "all"
  },
  "kernelspec": {
   "display_name": "Python 3",
   "language": "python",
   "name": "python3"
  },
  "language_info": {
   "codemirror_mode": {
    "name": "ipython",
    "version": 3
   },
   "file_extension": ".py",
   "mimetype": "text/x-python",
   "name": "python",
   "nbconvert_exporter": "python",
   "pygments_lexer": "ipython3",
   "version": "3.8.8"
  },
  "latex_envs": {
   "LaTeX_envs_menu_present": true,
   "autoclose": false,
   "autocomplete": true,
   "bibliofile": "biblio.bib",
   "cite_by": "apalike",
   "current_citInitial": 1,
   "eqLabelWithNumbers": true,
   "eqNumInitial": 1,
   "hotkeys": {
    "equation": "Ctrl-E",
    "itemize": "Ctrl-I"
   },
   "labels_anchors": false,
   "latex_user_defs": false,
   "report_style_numbering": false,
   "user_envs_cfg": false
  },
  "widgets": {
   "application/vnd.jupyter.widget-state+json": {
    "state": {},
    "version_major": 2,
    "version_minor": 0
   }
  }
 },
 "nbformat": 4,
 "nbformat_minor": 4
}
