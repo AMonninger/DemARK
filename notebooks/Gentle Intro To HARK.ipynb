{
 "cells": [
  {
   "cell_type": "markdown",
   "metadata": {},
   "source": [
    "# A Gentle Introduction to Using HARK\n",
    "\n",
    "This notebook provides a simple, hands on tutorial for first time HARK users-- and potentially first time Python users.  It does not go \"into the weeds\" - we have hidden some code cells that do boring things that you don't need to digest on your first experience with HARK.  Our aim is to convey a feel for how the toolkit works and how to set up and use different $\\texttt{AgentType}$s.\n",
    "\n",
    "For readers for whom this is your very first experience with Python, we have put important Python concepts in $\\textbf{boldface}$. Only cursory definitions (if any) are provided here.  If you want to learn more, there are many online Python tutorials."
   ]
  },
  {
   "cell_type": "code",
   "execution_count": 2,
   "metadata": {
    "code_folding": [
     0
    ],
    "collapsed": false
   },
   "outputs": [],
   "source": [
    "# This cell has just a bit of initial setup. You can click the arrow to expand it.\n",
    "%matplotlib inline\n",
    "import matplotlib.pyplot as plt\n",
    "\n",
    "# The first step is to be able to bring things in from different directories\n",
    "import sys \n",
    "import os\n",
    "\n",
    "sys.path.insert(0, os.path.abspath('../lib'))\n",
    "\n",
    "from util import log_progress\n",
    "\n",
    "import numpy as np\n",
    "import HARK # Prevents import error from Demos repo\n",
    "from time import clock\n",
    "from copy import deepcopy\n",
    "mystr = lambda number : \"{:.4f}\".format(number)\n",
    "from HARK.utilities import plotFuncs"
   ]
  },
  {
   "cell_type": "markdown",
   "metadata": {},
   "source": [
    "## Your First HARK Model: Perfect Foresight\n",
    "\n",
    "For the sake of simplicity, let's start with the almost the simplest possible consumption model: a problem in which the consumer has perfect foresight about everything except the date of death, which is stochastic (this is captured by a \"survival probability\" $\\mathsf{D} < 1$).  Income $Y_t$ grows from period to period by a factor $\\Gamma_t$.  Each period $t$, he must choose how much of his market resources $M_t$ to consume $C_t$ and how much to retain in a riskless asset $A_t$ with return factor $R$. The agent receives a flow of utility $U(C_t)$ from consumption (with CRRA preferences) and geometrically discounts future utility flows by factor $\\beta$. Between periods, the agent dies with probability $\\mathsf{D}_t$, ending his problem.\n",
    "\n",
    "The agent's problem can be written in Bellman form as:\n",
    "\n",
    "\\begin{eqnarray*}\n",
    "V_t(M_t) &=& \\max_{C_t} U(C_t) + \\beta (1-\\mathsf{D}_{t+1}) V_{t+1}(M_{t+1}), \\\\\n",
    "A_t &=& M_t - C_t, \\\\\n",
    "M_{t+1} &=& R A_t + Y_{t+1}, \\\\\n",
    "Y_{t+1} &=& \\Gamma_{t+1} Y_t, \\\\\n",
    "U(C) &=& \\frac{C^{1-\\rho}}{1-\\rho}.\n",
    "\\end{eqnarray*}\n",
    "\n",
    "A particular perfect foresight agent's problem can be characterized by values of risk aversion $\\rho$, discount factor $\\beta$, and return factor $R$, along with sequences of income growth factors $\\{ \\Gamma_t \\}$ and survival probabilities $\\{1 - \\mathsf{D}_t\\}$.  To keep things simple, let's forget about \"sequences\" of income growth and mortality, and just think about an $\\textit{infinite horizon}$ consumer with constant income growth and survival probability.\n",
    "\n",
    "## Representing Agents in HARK\n",
    "\n",
    "HARK represents agents with this type of problem as $\\textbf{instances}$ of the $\\textbf{class}$ $\\texttt{PerfForesightConsumerType}$, a $\\textbf{subclass}$ of $\\texttt{AgentType}$.  To make agents of this class, we must import the class itself into our workspace."
   ]
  },
  {
   "cell_type": "code",
   "execution_count": 4,
   "metadata": {
    "collapsed": false
   },
   "outputs": [],
   "source": [
    "from Demos.ConsumptionSaving.ConsIndShockModel import PerfForesightConsumerType"
   ]
  },
  {
   "cell_type": "markdown",
   "metadata": {},
   "source": [
    "To create an instance of $\\texttt{PerfForesightConsumerType}$, we simply call the class as if it were a function, passing as arguments the specific parameter values we want it to have.  In the hidden cell below, I define a $\\textbf{dictionary}$ named $\\texttt{PF_dictionary}$ with parameter values as given in this table:\n",
    "\n",
    "| Param | Description | Code | Value |\n",
    "| :---: | --- | --- | --- | :---: |\n",
    "| $\\rho$ | Relative risk aversion | $\\texttt{CRRA}$ | 2.5 |\n",
    "| $\\beta$ | Discount factor | $\\texttt{DiscFac}$ | 0.96 |\n",
    "| $R$ | Risk free interest factor | $\\texttt{Rfree}$ | 1.03 |\n",
    "| $1 - \\mathsf{D}$ | Survival probability | $\\texttt{LivPrb}$ | 0.98 |\n",
    "| $\\Gamma$ | Income growth factor | $\\texttt{PermGroFac}$ | 2.5 |\n",
    "\n",
    "\n",
    "For now, don't worry about the specifics of dictionaries.  All you need to know is that a dictionary lets us pass many arguments wrapped up in one simple data structure."
   ]
  },
  {
   "cell_type": "code",
   "execution_count": 5,
   "metadata": {
    "code_folding": [
     0
    ],
    "collapsed": true
   },
   "outputs": [],
   "source": [
    "# This cell defines a parameter dictionary. You can expand it if you want to see what that looks like.\n",
    "PF_dictionary = {\n",
    "    'CRRA' : 2.5,\n",
    "    'DiscFac' : 0.96,\n",
    "    'Rfree' : 1.03,\n",
    "    'LivPrb' : [0.98],\n",
    "    'PermGroFac' : [1.01],\n",
    "    'T_cycle' : 1,\n",
    "    'cycles' : 0,\n",
    "    'AgentCount' : 10000\n",
    "}\n",
    "\n",
    "# To those curious enough to open this hidden cell, you might notice that we defined\n",
    "# a few extra parameters in that dictionary: T_cycle, cycles, and AgentCount. Don't\n",
    "# worry about these for now."
   ]
  },
  {
   "cell_type": "markdown",
   "metadata": {},
   "source": [
    "Let's make an instance of the $\\texttt{PerfForesightConsumerType}$ class.  The object we create is merely a \"configured\" instance of the class: It has the parameter values needed to turn the abstract mathematical description of the problem into an object that represents the specific consumption function of a consumer with the configured parameters. \n",
    "\n",
    "We have stored parameter values are stored in a \"dictionary\" ($\\texttt{PF_dictionary}$).  The instance is created by passing the dictionary $\\texttt{PF_dictionary}$ to the class $\\texttt{PFexample}$ as if the class were a function.  (The double asterisks $**$ in this line simply tell Python to read the entries in the dictionary as arguments.)"
   ]
  },
  {
   "cell_type": "code",
   "execution_count": 6,
   "metadata": {
    "collapsed": false
   },
   "outputs": [],
   "source": [
    "PFexample = PerfForesightConsumerType(**PF_dictionary)"
   ]
  },
  {
   "cell_type": "markdown",
   "metadata": {},
   "source": [
    "We now have a representation of an infinite horizon perfect foresight consumer with the parameter values given in the table above.  As is, the object named $\\texttt{PFexample}$ knows what problem the agent faces, but it hasn't actually solved that problem.\n",
    "\n",
    "\n",
    "## Solving an Agent's Problem\n",
    "\n",
    "Let's solve this agent's problem-- find the consumption function that maximizes his discounted stream of utility. To do this, we call our agent's $\\texttt{solve}$ method. A $\\textbf{method}$ is essentially a function that an object runs on itself.\n",
    "\n",
    "In the cell below, I call the $\\texttt{solve}$ method for $\\texttt{PFexample}$, then plot the agent's consumption function on [0,10]. The horizontal axis is market resources divided by current income $m_t \\equiv M_t/Y_t$, and the vertical axis is consumption divided by current income $c_t \\equiv C_t/Y_t$."
   ]
  },
  {
   "cell_type": "code",
   "execution_count": 7,
   "metadata": {
    "collapsed": false
   },
   "outputs": [
    {
     "data": {
      "image/png": "[encoded data removed]",
      "text/plain": [
       "<matplotlib.figure.Figure at 0xeed6898>"
      ]
     },
     "metadata": {},
     "output_type": "display_data"
    }
   ],
   "source": [
    "PFexample.solve()\n",
    "plotFuncs(PFexample.solution[0].cFunc,0.,10.)"
   ]
  },
  {
   "cell_type": "markdown",
   "metadata": {},
   "source": [
    "Running the $\\texttt{solve}$ method creates the $\\textbf{attribute}$ of $\\texttt{PFexample}$ named $\\texttt{solution}$.  In fact, every subclass of $\\texttt{AgentType}$ uses the same $\\texttt{solve}$ method; the details of the computation obviously varies from subclass to subclass, but the interface is always the same.\n",
    "\n",
    "The $\\texttt{solution}$ attribute is always a $\\textit{list}$ of solutions to a single period of the problem. In this case, there is just one element in that list-- the solution to all periods of the infinite horizon problem.\n",
    "\n",
    "Unsurprisingly, our perfect foresight consumer with CRRA utility has a linear consumption function. Perhaps slightly more surprisingly, HARK thinks he should optimally consume over $\\textit{twice}$ his current income when he has zero market resources. What gives?\n",
    "\n",
    "In this very simple model, there is no artificially imposed borrowing constraint.  The agent is free to hold negative assets and can borrow against the entire PDV of his future earnings-- his human wealth.  How much is that?  What's the minimum value of $m_t$ where the consumption function is defined?  Let's check:"
   ]
  },
  {
   "cell_type": "code",
   "execution_count": 8,
   "metadata": {
    "collapsed": false
   },
   "outputs": [
    {
     "name": "stdout",
     "output_type": "stream",
     "text": [
      "This agent's human wealth is 50.4999499255 times his current income level.\n",
      "This agent's consumption function is defined down to m_t = -50.4999499255\n"
     ]
    }
   ],
   "source": [
    "print(\"This agent's human wealth is \" + str(PFexample.solution[0].hNrm) + ' times his current income level.')\n",
    "print(\"This agent's consumption function is defined down to m_t = \" + str(PFexample.solution[0].mNrmMin))"
   ]
  },
  {
   "cell_type": "markdown",
   "metadata": {},
   "source": [
    "Yikes! Let's take a look at the bottom of the consumption function.  In the cell below, set the bounds of the $\\texttt{plotFuncs}$ function to display down to the lowest defined value of the consumption function."
   ]
  },
  {
   "cell_type": "code",
   "execution_count": 9,
   "metadata": {
    "collapsed": false
   },
   "outputs": [
    {
     "ename": "NameError",
     "evalue": "name 'bottom' is not defined",
     "output_type": "error",
     "traceback": [
      "\u001b[1;31m---------------------------------------------------------------------------\u001b[0m",
      "\u001b[1;31mNameError\u001b[0m                                 Traceback (most recent call last)",
      "\u001b[1;32m<ipython-input-9-2b1f334ff196>\u001b[0m in \u001b[0;36m<module>\u001b[1;34m()\u001b[0m\n\u001b[0;32m      1\u001b[0m \u001b[1;31m# Fill in values for bottom and top to plot the range you're interested in.\u001b[0m\u001b[1;33m\u001b[0m\u001b[1;33m\u001b[0m\u001b[0m\n\u001b[1;32m----> 2\u001b[1;33m \u001b[0mplotFuncs\u001b[0m\u001b[1;33m(\u001b[0m\u001b[0mPFexample\u001b[0m\u001b[1;33m.\u001b[0m\u001b[0msolution\u001b[0m\u001b[1;33m[\u001b[0m\u001b[1;36m0\u001b[0m\u001b[1;33m]\u001b[0m\u001b[1;33m.\u001b[0m\u001b[0mcFunc\u001b[0m\u001b[1;33m,\u001b[0m\u001b[0mbottom\u001b[0m\u001b[1;33m,\u001b[0m\u001b[0mtop\u001b[0m\u001b[1;33m)\u001b[0m\u001b[1;33m\u001b[0m\u001b[0m\n\u001b[0m",
      "\u001b[1;31mNameError\u001b[0m: name 'bottom' is not defined"
     ]
    }
   ],
   "source": [
    "# Fill in values for bottom and top to plot the range you're interested in.\n",
    "plotFuncs(PFexample.solution[0].cFunc,bottom,top)"
   ]
  },
  {
   "cell_type": "markdown",
   "metadata": {},
   "source": [
    "## Changing Agent Parameters\n",
    "\n",
    "Suppose you wanted to change one (or more) of the parameters of the agent's problem and see what that does.  This is very easy to do in HARK.  So that we can compare consumption functions before and after we change parameters, let's make a new instance of $\\texttt{PerfForesightConsumerType}$ by copying $\\texttt{PFexample}$."
   ]
  },
  {
   "cell_type": "code",
   "execution_count": 10,
   "metadata": {
    "collapsed": false
   },
   "outputs": [],
   "source": [
    "NewExample = deepcopy(PFexample)"
   ]
  },
  {
   "cell_type": "markdown",
   "metadata": {},
   "source": [
    "In Python, you can set an $\\textbf{attribute}$ of an object just like any other variable.  For example, we could make the new agent less patient:"
   ]
  },
  {
   "cell_type": "code",
   "execution_count": 11,
   "metadata": {
    "collapsed": false
   },
   "outputs": [
    {
     "data": {
      "image/png": "[encoded data removed]",
      "text/plain": [
       "<matplotlib.figure.Figure at 0xef4bf60>"
      ]
     },
     "metadata": {},
     "output_type": "display_data"
    }
   ],
   "source": [
    "NewExample.DiscFac = 0.90\n",
    "NewExample.solve()\n",
    "plotFuncs([PFexample.solution[0].cFunc,NewExample.solution[0].cFunc],0.,10.)"
   ]
  },
  {
   "cell_type": "markdown",
   "metadata": {},
   "source": [
    "(Note that you can pass a list of functions to $\\texttt{plotFuncs}$ as the first argument rather than just a single function. Lists are written inside of [square brackets].)\n",
    "\n",
    "Let's try to deal with the \"problem\" of massive human wealth by making another consumer who has essentially no future income.  We can essentially eliminate human wealth by making the permanent income growth factor $\\textit{very}$ small.\n",
    "\n",
    "In $\\texttt{PFexample}$, the agent's income grew at a rate of 1\\% per period-- his $\\texttt{PermGroFac}$ took the value 1.01. What if our new agent had his income $\\textit{shrink}$ by 99\\% each period?  In the cell below, set $\\texttt{NewExample}$'s discount factor back to its original value, then set its $\\texttt{PermGroFac}$ attribute so that its income shrinks by 99\\% each period.\n",
    "\n",
    "Important: Recall that the model at the top of this document said that an agent's problem is characterized by a sequence of income growth factors, but we tabled that concept.  Because $\\texttt{PerfForesightConsumerType}$ treats $\\texttt{PermGroFac}$ as a $\\textit{time-varying}$ attribute, it must be specified as a $\\textbf{list}$ (with a single element in this case)."
   ]
  },
  {
   "cell_type": "code",
   "execution_count": 12,
   "metadata": {
    "collapsed": false
   },
   "outputs": [
    {
     "ename": "SyntaxError",
     "evalue": "invalid syntax (<ipython-input-12-cdc3da4a8ba3>, line 2)",
     "output_type": "error",
     "traceback": [
      "\u001b[1;36m  File \u001b[1;32m\"<ipython-input-12-cdc3da4a8ba3>\"\u001b[1;36m, line \u001b[1;32m2\u001b[0m\n\u001b[1;33m    your lines here!\u001b[0m\n\u001b[1;37m             ^\u001b[0m\n\u001b[1;31mSyntaxError\u001b[0m\u001b[1;31m:\u001b[0m invalid syntax\n"
     ]
    }
   ],
   "source": [
    "# Revert NewExample's discount factor and make his future income miniscule\n",
    "your lines here!\n",
    "\n",
    "# Compare the old and new consumption functions\n",
    "plotFuncs([PFexample.solution[0].cFunc,NewExample.solution[0].cFunc],0.,10.)"
   ]
  },
  {
   "cell_type": "markdown",
   "metadata": {},
   "source": [
    "Now $\\texttt{NewExample}$'s consumption function has the same slope (MPC) as $\\texttt{PFexample}$, but it emanates from (almost) zero-- he has basically no future income to borrow against!\n",
    "\n",
    "If you'd like, use the cell above to alter $\\texttt{NewExample}$'s attributes however you like and see how the consumption function changes.  However, keep in mind that \\textit{no solution exists} for some combinations of parameters.  HARK should let you know if this is the case if you try to solve such a model.\n",
    "\n",
    "\n",
    "## Your Second HARK Model: Adding Income Shocks\n",
    "\n",
    "Linear consumption functions are pretty boring, and you'd be justified in feeling ripped off if all HARK could do was plot some lines.  Let's look at another model that adds a couple important layers of complexity: income shocks and (artificial) borrowing constraints."
   ]
  },
  {
   "cell_type": "code",
   "execution_count": null,
   "metadata": {
    "collapsed": true
   },
   "outputs": [],
   "source": []
  }
 ],
 "metadata": {
  "kernelspec": {
   "display_name": "Python 2",
   "language": "python",
   "name": "python2"
  },
  "language_info": {
   "codemirror_mode": {
    "name": "ipython",
    "version": 2
   },
   "file_extension": ".py",
   "mimetype": "text/x-python",
   "name": "python",
   "nbconvert_exporter": "python",
   "pygments_lexer": "ipython2",
   "version": "2.7.13"
  }
 },
 "nbformat": 4,
 "nbformat_minor": 0
}
