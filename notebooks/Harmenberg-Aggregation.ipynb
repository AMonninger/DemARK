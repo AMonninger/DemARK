{
 "cells": [
  {
   "cell_type": "code",
   "execution_count": null,
   "id": "ec33eb17",
   "metadata": {},
   "outputs": [],
   "source": [
    "# Preliminaries"
   ]
  },
  {
   "cell_type": "markdown",
   "id": "a4508531",
   "metadata": {},
   "source": [
    "# Description of the problem"
   ]
  },
  {
   "cell_type": "markdown",
   "id": "0e7fe6c4",
   "metadata": {},
   "source": [
    "# Description of the method"
   ]
  },
  {
   "cell_type": "markdown",
   "id": "c6579d8c",
   "metadata": {},
   "source": [
    "# Demonstration of HARK's implementation and the gain in efficiency"
   ]
  },
  {
   "cell_type": "code",
   "execution_count": null,
   "id": "c4ddbed6",
   "metadata": {},
   "outputs": [],
   "source": [
    "\n",
    "def test_Harmenberg_mtd(self):\n",
    "\n",
    "        example = IndShockConsumerType(**dict_harmenberg, verbose = 0)\n",
    "        example.cycles = 0\n",
    "        example.track_vars = [ 'aNrm', 'mNrm','cNrm','pLvl','aLvl']\n",
    "        example.T_sim= 20000\n",
    "\n",
    "        example.solve()\n",
    "\n",
    "        example.neutral_measure = True\n",
    "        example.update_income_process()\n",
    "\n",
    "        example.initialize_sim()\n",
    "        example.simulate()\n",
    "\n",
    "\n",
    "\n",
    "\n",
    "        Asset_list = []\n",
    "        Consumption_list = []\n",
    "        M_list =[]\n",
    "\n",
    "\n",
    "        for i in range (example.T_sim):\n",
    "            Assetagg =  np.mean(example.history['aNrm'][i])\n",
    "            Asset_list.append(Assetagg)\n",
    "            ConsAgg =  np.mean(example.history['cNrm'][i] )\n",
    "            Consumption_list.append(ConsAgg)\n",
    "            Magg = np.mean(example.history['mNrm'][i])\n",
    "            M_list.append(Magg)\n",
    "\n",
    "        #########################################################\n",
    "\n",
    "\n",
    "\n",
    "\n",
    "        example2 = IndShockConsumerType(**dict_harmenberg, verbose = 0)\n",
    "        example2.cycles = 0\n",
    "        example2.track_vars = [ 'aNrm', 'mNrm','cNrm','pLvl','aLvl']\n",
    "        example2.T_sim= 20000\n",
    "\n",
    "\n",
    "        example2.solve()\n",
    "        example2.initialize_sim()\n",
    "        example2.simulate()\n",
    "\n",
    "\n",
    "\n",
    "        Asset_list2 = []\n",
    "        Consumption_list2 = []\n",
    "        M_list2 =[]\n",
    "\n",
    "\n",
    "        for i in range (example2.T_sim):\n",
    "            Assetagg =  np.mean(example2.history['aLvl'][i])\n",
    "            Asset_list2.append(Assetagg)\n",
    "            ConsAgg =  np.mean(example2.history['cNrm'][i] * example2.history['pLvl'][i])\n",
    "            Consumption_list2.append(ConsAgg)\n",
    "            Magg = np.mean(example2.history['mNrm'][i] * example2.history['pLvl'][i])\n",
    "            M_list2.append(Magg)\n",
    "\n",
    "\n",
    "        c_std_ratio = np.std(Consumption_list2) / np.std( Consumption_list)\n",
    "\n",
    "        self.assertAlmostEqual(c_std_ratio, 8.542694099741672)"
   ]
  },
  {
   "cell_type": "markdown",
   "id": "3e62514b",
   "metadata": {},
   "source": [
    "# Comparison of the PIN-measure and the base measure"
   ]
  }
 ],
 "metadata": {
  "jupytext": {
   "formats": "ipynb,auto:percent"
  },
  "kernelspec": {
   "display_name": "Python 3 (ipykernel)",
   "language": "python",
   "name": "python3"
  },
  "language_info": {
   "codemirror_mode": {
    "name": "ipython",
    "version": 3
   },
   "file_extension": ".py",
   "mimetype": "text/x-python",
   "name": "python",
   "nbconvert_exporter": "python",
   "pygments_lexer": "ipython3",
   "version": "3.8.8"
  }
 },
 "nbformat": 4,
 "nbformat_minor": 5
}
