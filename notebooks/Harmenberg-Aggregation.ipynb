{
 "cells": [
  {
   "cell_type": "markdown",
   "id": "182401ea",
   "metadata": {},
   "source": [
    "# Description of the problem"
   ]
  },
  {
   "cell_type": "markdown",
   "id": "5379da3a",
   "metadata": {},
   "source": [
    "# Description of the method"
   ]
  },
  {
   "cell_type": "markdown",
   "id": "51867996",
   "metadata": {},
   "source": [
    "# Demonstration of HARK's implementation and the gain in efficiency"
   ]
  },
  {
   "cell_type": "markdown",
   "id": "82d5d545",
   "metadata": {},
   "source": [
    "# Comparison of the PIN-measure and the base measure"
   ]
  }
 ],
 "metadata": {
  "jupytext": {
   "formats": "ipynb,auto:percent"
  },
  "kernelspec": {
   "display_name": "Python 3 (ipykernel)",
   "language": "python",
   "name": "python3"
  },
  "language_info": {
   "codemirror_mode": {
    "name": "ipython",
    "version": 3
   },
   "file_extension": ".py",
   "mimetype": "text/x-python",
   "name": "python",
   "nbconvert_exporter": "python",
   "pygments_lexer": "ipython3",
   "version": "3.8.8"
  }
 },
 "nbformat": 4,
 "nbformat_minor": 5
}
