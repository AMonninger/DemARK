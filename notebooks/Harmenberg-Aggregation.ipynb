{
 "cells": [
  {
   "cell_type": "markdown",
   "id": "38ed9cf5",
   "metadata": {},
   "source": [
    "## A Demonstration of the Harmenberg (2021) Aggregation Method\n",
    "\n",
    "   - [\"Aggregating heterogeneous-agent models with permanent income shocks\"](https://doi.org/10.1016/j.jedc.2021.104185)\n",
    "\n",
    "## Authors: [Christopher D. Carroll](http://www.econ2.jhu.edu/people/ccarroll/), [Mateo Velásquez-Giraldo](https://mv77.github.io/)\n",
    "\n"
   ]
  },
  {
   "cell_type": "markdown",
   "id": "92254e4f-4942-4efc-b132-cb5c795f527e",
   "metadata": {},
   "source": [
    "`# Set Up the Computational Environment: (in JupyterLab, click the dots)`"
   ]
  },
  {
   "cell_type": "code",
   "execution_count": 1,
   "id": "d6d369cf",
   "metadata": {
    "code_folding": [
     0
    ],
    "jupyter": {
     "source_hidden": true
    },
    "tags": []
   },
   "outputs": [],
   "source": [
    "# Preliminaries\n",
    "from HARK.ConsumptionSaving.ConsIndShockModel import (\n",
    "    IndShockConsumerType\n",
    ")\n",
    "\n",
    "from HARK.ConsumptionSaving.tests.test_IndShockConsumerType import (\n",
    "    dict_harmenberg    \n",
    ")\n",
    "\n",
    "import numpy as np\n",
    "import pandas as pd\n",
    "from matplotlib import pyplot as plt"
   ]
  },
  {
   "cell_type": "markdown",
   "id": "6735aabd",
   "metadata": {
    "incorrectly_encoded_metadata": "jp-MarkdownHeadingCollapsed=true",
    "tags": []
   },
   "source": [
    "# Description of the problem\n",
    "\n",
    "$\\newcommand{\\pLvl}{\\mathbf{p}}$\n",
    "$\\newcommand{\\mLvl}{\\mathbf{m}}$\n",
    "$\\newcommand{\\mNrm}{m}$\n",
    "$\\newcommand{\\CLvl}{\\mathbf{C}}$\n",
    "$\\newcommand{\\MLvl}{\\mathbf{M}}$\n",
    "$\\newcommand{\\CLvlest}{\\widehat{\\CLvl}}$\n",
    "$\\newcommand{\\MLvlest}{\\widehat{\\MLvl}}$\n",
    "$\\newcommand{\\mpLvlDstn}{\\mu}$\n",
    "$\\newcommand{\\mWgtDstnMarg}{\\tilde{\\mu}^{m}}$\n",
    "$\\newcommand{\\PermGroFac}{\\pmb{\\Phi}}$\n",
    "$\\newcommand{\\PermShk}{\\pmb{\\Psi}}$\n",
    "$\\newcommand{\\def}{:=}$\n",
    "$\\newcommand{\\kernel}{\\Lambda}$\n",
    "$\\newcommand{\\pLvlWgtDstn}{\\tilde{f}_{\\PermShk}}$\n",
    "$\\newcommand{\\Ex}{\\mathbb{E}}$\n",
    "\n",
    "Macroeconomic models with heterogeneous agents sometimes incorporate a microeconomic income process with a permanent component ($\\pLvl_t$) that follows a geometric random walk. To find an aggregate characteristic of these economies such as aggregate consumption $\\CLvl_t$, one must integrate over permanent income (and all the other relevant state variables):\n",
    "\n",
    "\\begin{equation*}\n",
    "\\CLvl_t = \\int \\int c(\\mLvl,\\pLvl) \\times f_t(\\mLvl,\\pLvl) \\, d \\mLvl\\, d\\pLvl, \n",
    "\\end{equation*}\n",
    "\n",
    "where $\\mLvl$ denotes any other state variables that consumption might depend on, $c(\\cdot,\\cdot)$ is the individual consumption function, and $f_t(\\cdot,\\cdot)$ is the joint density function of permanent income and the other state variables at time $t$.\n",
    "\n",
    "Under the usual assumption of Constant Relative Risk Aversion utility and standard assumptions about the budget constraint, [such models are homothetic](https://econ-ark.github.io/BufferStockTheory/BufferStockTheory3.html#The-Problem-Can-Be-Normalized-By-Permanent-Income). This means that for a state variable $\\mLvl$ one can solve for a normalized policy function $c(\\cdot)$ such that\n",
    "\n",
    "\\begin{equation*}\n",
    "    c(\\mLvl,\\pLvl) = c\\left(\\mLvl/\\pLvl\\right)\\times \\pLvl \\,\\,\\, \\forall \\, (\\mLvl,\\pLvl).\n",
    "\\end{equation*}\n",
    "\n",
    "\n",
    "In practice, this implies that one can defined a normalized state vector $\\mNrm = \\mLvl/\\pLvl$ and solve for the normalized policy function. This eliminates one dimension of the optimization problem problem, $\\pLvl$.\n",
    "\n",
    "While convenient for the solution of the agents' optimization problem, homotheticity has not simplified our aggregation calculations as we still have\n",
    "\n",
    "\\begin{equation*}\n",
    "\\begin{split}\n",
    "\\CLvl_t =& \\int \\int c(\\mLvl,\\pLvl) \\times f_t(\\mLvl,\\pLvl) \\, d\\mLvl\\, d\\pLvl\\\\\n",
    "=& \\int \\int c\\left(\\frac{1}{\\pLvl}\\times \\mLvl\\right)\\times \\pLvl \\times f_t(\\mLvl,\\pLvl) \\, d\\mLvl\\, d\\pLvl,\n",
    "\\end{split}\n",
    "\\end{equation*}\n",
    "\n",
    "which depends on $\\pLvl$.\n",
    "\n",
    "To further complicate matters, we usually do not have analytical expressions for $c(\\cdot)$ or $f_t(\\mLvl,\\pLvl)$. What we often do in practice is to simulate a population $I$ of agents for a large number of periods $T$ using the model's policy functions and transition equations. The result is a set of observations $\\{\\mLvl_{i,t},\\pLvl_{i,t}\\}_{i\\in I, 0\\leq t\\leq T}$ which we then use to approximate\n",
    "\n",
    "\\begin{equation*}\n",
    "\\CLvl_t \\approx \\frac{1}{|I|}\\sum_{i \\in I} c\\left(\\mLvl_{i,t}/\\pLvl_{i,t}\\right)\\times \\pLvl_{i,t}. \n",
    "\\end{equation*}\n",
    "\n",
    "At least two features of the previous strategy are unpleasant:\n",
    "- We have to simulate the distribution of permanent income, even though the model's solution does not depend on it.\n",
    "- As a geometric random walk, permanent income might have an unbounded distribution. Since $\\pLvl_{i,t}$ appears multiplicatively in our approximation, agents with high permanent incomes will be the most important in determining levels of aggregate variables. Therefore, it is important for our simulated population to achieve a good approximation of the distribution of permanent income among the small number of agents with very high permanent income, which will require us to use many agents (large $I$, requiring considerable computational resources).\n",
    "\n",
    "[Harmenberg (2021)](https://www.sciencedirect.com/science/article/pii/S0165188921001202?via%3Dihub) presents a way to resolve the previous two points. His solution constructs a distribution $\\pLvlWgtDstn(\\cdot)$ of the normalized state vector that he calls **the permanent-income neutral measure** and which has the convenient property that\n",
    "\\begin{equation*}\n",
    "\\begin{split}\n",
    "\\CLvl_t =& \\int \\int c\\left(\\frac{1}{\\pLvl}\\times \\mLvl\\right)\\times \\pLvl \\times f_t(\\mLvl,\\pLvl) \\, d\\mLvl\\, d\\pLvl\\\\\n",
    "=& \\int c\\left(\\mNrm\\right) \\times \\pLvlWgtDstn(\\mNrm) \\, d\\mNrm\n",
    "\\end{split}\n",
    "\\end{equation*}\n",
    "\n",
    "Therefore, his solution allows us to calculate aggregate variables without the need to keep track of the distribution of permanent income. Additionally, the method eliminates the issue of a small number of agents in the tail having an outsized influence in our approximation and this makes it much more precise.\n",
    "\n",
    "This notebook briefly describes Harmenberg's method and demonstrates its implementation in the HARK toolkit."
   ]
  },
  {
   "cell_type": "markdown",
   "id": "5fda28d4",
   "metadata": {
    "tags": []
   },
   "source": [
    "# Description of the method\n",
    "\n",
    "To illustrate Harmenberg's idea, consider a [buffer stock saving](https://econ-ark.github.io/BufferStockTheory) model in which:\n",
    "- The individual agent's problem has two state variables:\n",
    "    - Market resources $\\mLvl_{i,t}$.\n",
    "    - Permanent income $\\pLvl_{i,t}$.\n",
    "    \n",
    "- The agent's problem is homothetic in permanent income, so that we can define $m_t = \\mLvl_t/\\pLvl_t$ and find a normalized policy function $c(\\cdot)$ such that\n",
    "\\begin{equation*}\n",
    "c(\\mNrm) \\times \\pLvl_t = \\mathbf{c}(\\mLvl_t, \\pLvl_t) \\,\\,\\qquad \\forall(\\mLvl_t, \\pLvl_t)\n",
    "\\end{equation*}\n",
    "where $\\mathbf{c}(\\cdot,\\cdot)$ is the optimal consumption function.\n",
    "\n",
    "- $\\pLvl_t$ evolves according to $$\\pLvl_{t+1} = \\PermGroFac \\PermShk_{t+1} \\pLvl_t,$$ where $\\PermShk_{t+1}$ is a shock with density function $f_{\\PermShk}(\\cdot)$ satisfying $\\Ex_t[\\PermShk_{t+1}] = 1$.\n",
    "\n",
    "To compute aggregate consumption $\\CLvl_t$ in this model, we would follow the approach from above\n",
    "\\begin{equation*}\n",
    "\\CLvl_t = \\int \\int c(\\mNrm)\\times\\pLvl \\times \\mpLvlDstn_t(\\mNrm,\\pLvl) \\, d\\mNrm \\, d\\pLvl,\n",
    "\\end{equation*}\n",
    "where $\\mpLvlDstn_t(\\mNrm,\\pLvl)$ is the measure of agents with normalized resources $\\mNrm$ and permanent income $\\pLvl$.\n",
    "\n",
    "## First insight\n",
    "\n",
    "The first of Harmenberg's insights is that the previous integral can be rearranged as\n",
    "\\begin{equation*}\n",
    "\\CLvl_t = \\int c(\\mNrm)\\left(\\int \\pLvl \\times \\mpLvlDstn_t(\\mNrm,\\pLvl) \\, d\\pLvl\\right) \\, d\\mNrm.\n",
    "\\end{equation*}\n",
    "The inner integral, $\\int \\pLvl \\times \\mpLvlDstn_t(\\mNrm,\\pLvl) \\, d\\pLvl$, is a function of $\\mNrm$ and it measures *the total amount of permanent income accruing to agents with normalized market resources of* $\\mNrm$. De-trending this object by the deterministic component of growth in permanent income $\\PermGroFac$, Harmenberg defines the *permanent-income-weighted distribution* $\\mWgtDstnMarg(\\cdot)$ as\n",
    "\n",
    "\\begin{equation*}\n",
    "\\mWgtDstnMarg_{t}(\\mNrm) \\def \\PermGroFac^{-t}\\int \\pLvl \\times \\mpLvlDstn_t(\\mNrm,\\pLvl) \\, d\\pLvl.\n",
    "\\end{equation*}\n",
    "\n",
    "\n",
    "The definition allows us to rewrite\n",
    "\\begin{equation}\\label{eq:aggC}\n",
    "\\CLvl = \\PermGroFac^t \\int c(\\mNrm) \\times \\mWgtDstnMarg_t(\\mNrm) \\, dm.\n",
    "\\end{equation}\n",
    "\n",
    "There are no computational advances yet: We have merely hidden the joint distribution of $(\\pLvl,\\mNrm)$ inside the $\\mWgtDstnMarg$ object we have defined. This helps us notice that $\\mWgtDstnMarg$ is the only object besides the solution that we need in order to compute aggregate consumption. But we still have no practial way of computing or approximating $\\mWgtDstnMarg$.\n",
    "\n",
    "## Second insight\n",
    "\n",
    "Harmenberg's second insight produces a simple way of generating simulated counterparts of $\\mWgtDstnMarg$ without having to simulate permanent incomes.\n",
    "\n",
    "We start with the density function of $\\mNrm_{t+1}$ given $\\mNrm_t$ and $\\PermShk_{t+1}$, $\\kernel(\\mNrm_{t+1}|\\mNrm_t,\\PermShk_{t+1})$. This density will depend on the model's transition equations and draws of random variables like transitory shocks to income in $t+1$ or random returns to savings between $t$ and $t+1$. If we can simulate those things, then we can sample from $\\kernel(\\cdot|\\mNrm_t,\\PermShk_t)$.\n",
    "\n",
    "Harmenberg shows that\n",
    "\\begin{equation}\\label{eq:transition}\n",
    "\\texttt{transition:    }\\mWgtDstnMarg_{t+1}(\\mNrm_{t+1}) = \\int \\kernel(\\mNrm_{t+1}|\\mNrm_t, \\PermShk_t) \\pLvlWgtDstn(\\PermShk_{t+1}) \\mWgtDstnMarg_t(\\mNrm_t)\\, d\\mNrm_t\\, d\\PermShk_{t+1},\n",
    "\\end{equation}\n",
    "where $\\pLvlWgtDstn$ is an altered density function for the permanent income shocks $\\PermShk$, which he calls the *permanent-income-neutral* measure, and which relates to the original density $f_{\\PermShk}$ through $$\\pLvlWgtDstn(\\PermShk_{t+1})\\def \\PermShk_{t+1}f_{\\PermShk}(\\PermShk_{t+1})\\,\\,\\, \\forall \\PermShk_{t+1}.$$\n",
    "\n",
    "What's remarkable about this equation is that it gives us a way to obtain a distribution $\\mWgtDstnMarg_{t+1}$ from $\\mWgtDstnMarg_t$:\n",
    "- Start with a population whose $\\mNrm$ is distributed according to $\\mWgtDstnMarg_t$.\n",
    "- Give that population permanent income shocks with distribution $\\pLvlWgtDstn$.\n",
    "- Apply the transition equations and other shocks of the model to obtain $\\mNrm_{t+1}$ from $\\mNrm_{t}$ and $\\PermShk_{t+1}$ for every agent.\n",
    "- The distribution of $\\mNrm$ across the resulting population will be $\\mWgtDstnMarg_{t+1}$.\n",
    "\n",
    "Notice that the only change in these steps from what how we would usually simulate the model is that we now draw permanent income shocks from $\\pLvlWgtDstn$ instead of $f_{\\PermShk}$. Therefore, with this procedure we can approximate $\\mWgtDstnMarg_t$ and compute aggregates using formulas like the equation `transition`, all without tracking permanent income and with few changes to the code we use to simulate the model."
   ]
  },
  {
   "cell_type": "markdown",
   "id": "cc5b2e1f",
   "metadata": {},
   "source": [
    "# Harmenberg's method in HARK\n",
    "\n",
    "Harmenberg's method for simulations under the permanent-income-neutral measure is available in [HARK's `IndShockConsumerType` class](https://github.com/econ-ark/HARK/blob/master/HARK/ConsumptionSaving/ConsIndShockModel.py) and the (many) models that inherit its income process, such as [`PortfolioConsumerType`](https://github.com/econ-ark/HARK/blob/master/HARK/ConsumptionSaving/ConsPortfolioModel.py).\n",
    "\n",
    "As the cell below illustrates, using Harmenberg's method in HARK simply requires setting an agent's property `agent.neutral_measure = True` and then computing the discrete approximation to the income process. After these steps, `agent.simulate` will simulate the model using Harmenberg's permanent-income-neutral measure."
   ]
  },
  {
   "cell_type": "markdown",
   "id": "ad1c6cbc-1331-4087-9f07-e6bcd06e0169",
   "metadata": {},
   "source": [
    "`# Implementation in HARK:`"
   ]
  },
  {
   "cell_type": "code",
   "execution_count": 2,
   "id": "aab02228",
   "metadata": {
    "code_folding": [],
    "jupyter": {
     "source_hidden": true
    },
    "tags": []
   },
   "outputs": [
    {
     "data": {
      "text/plain": [
       "{}"
      ]
     },
     "execution_count": 2,
     "metadata": {},
     "output_type": "execute_result"
    }
   ],
   "source": [
    "# Create an infinite horizon agent with the default parametrization\n",
    "example = IndShockConsumerType(**dict_harmenberg, verbose = 0)\n",
    "example.cycles = 0\n",
    "\n",
    "# Solve for the consumption function\n",
    "example.solve()\n",
    "\n",
    "# Simulation under the base measure\n",
    "example.initialize_sim()\n",
    "example.simulate()\n",
    "\n",
    "# Harmenberg permanent-income-neutral simulation\n",
    "example.neutral_measure = True\n",
    "example.update_income_process()\n",
    "example.initialize_sim()\n",
    "example.simulate()"
   ]
  },
  {
   "cell_type": "markdown",
   "id": "015a4954",
   "metadata": {
    "tags": []
   },
   "source": [
    "All we had to do differently to simulate using the permanent-income-neutral measure was to set the agent's property `neutral_measure=True`.\n",
    "\n",
    "This is implemented when the function `update_income_process` re-constructs the agent's income process. The specific lines that achieve the change of measure in HARK are in [this link](https://github.com/econ-ark/HARK/blob/760df611a6ec2ff147d00b7d866dbab6fc4e18a1/HARK/ConsumptionSaving/ConsIndShockModel.py#L2734-L2735), or reproduced here:\n",
    "\n",
    "```python\n",
    "if self.neutral_measure == True:\n",
    "    PermShkDstn_t.pmf = PermShkDstn_t.X*PermShkDstn_t.pmf\n",
    "```\n",
    "\n",
    "Simple!"
   ]
  },
  {
   "cell_type": "markdown",
   "id": "6b0a36b1-f808-4ec2-8980-7273fd8a2d3d",
   "metadata": {},
   "source": [
    "# The gains in efficiency from using Harmenberg's method\n",
    "\n",
    "To demonstrate the gain in efficiency from using Harmenberg's method, we will set up the following experiment.\n",
    "\n",
    "Consider an economy populated by [Buffer-Stock](https://econ-ark.github.io/BufferStockTheory/) savers, whose individual-level state variables are market resources $\\mLvl_t$ and permanent income $\\pLvl_t$. Such agents have a [homothetic consumption function](https://econ-ark.github.io/BufferStockTheory/#The-Problem-Can-Be-Normalized-By-Permanent-Income), so that we can define normalized market resources $\\mNrm_t \\def \\mLvl_t / \\pLvl_t$, solve for a normalized consumption function $c(\\cdot)$, and express the consumption function as $\\mathbf{c}(\\mLvl,\\pLvl) = c(\\mNrm)\\times\\pLvl$.\n",
    "\n",
    "Assume further that mortality, impatience, and permanent income growth are such that the economy converges to stable joint distribution of $\\mNrm$ and $\\pLvl$ characterized by the density function $f(\\cdot,\\cdot)$. Under these conditions, define the stable level of aggregate market resources and consumption as\n",
    "\\begin{equation}\n",
    "    \\MLvl \\def \\int \\int \\mNrm \\times \\pLvl \\times f(\\mNrm, \\pLvl)\\,d\\mNrm \\,d\\pLvl, \\,\\,\\,    \\CLvl \\def \\int \\int c(\\mNrm) \\times \\pLvl \\times f(\\mNrm, \\pLvl)\\,d\\mNrm \\,d\\pLvl.\n",
    "\\end{equation}\n",
    "\n",
    "If we could simulate the economy with a continuum of agents we would find that, over time, our estimate of aggregate market resources $\\MLvlest_t$ would converge to $\\MLvl$ and our estimate of aggregate consumption $\\CLvlest_t$ would converge to $\\CLvl$. Therefore, if we computed our aggregate estimates at different periods in time we would find them to be close:\n",
    "\\begin{equation}\n",
    "    \\MLvlest_t \\approx \\MLvlest_{t+n} \\approx \\MLvl \\,\\,\n",
    "    \\text{and} \\,\\,\n",
    "    \\CLvlest_t \\approx \\CLvlest_{t+n} \\approx \\CLvl, \\,\\,\n",
    "    \\text{for } n>0 \\text{ and } t \\text{ large enough}.\n",
    "\\end{equation}\n",
    "\n",
    "In practice, however, we rely on approximations using a finite number of agents $I$. Our estimates of aggregate market resources and consumption at time $t$ are\n",
    "\\begin{equation}\n",
    "\\MLvlest_t \\def \\frac{1}{I} \\sum_{i=1}^{I} m_{i,t}\\times\\pLvl_{i,t}, \\,\\,\\, \\CLvlest_t \\def \\frac{1}{I} \\sum_{i=1}^{I} c(m_{i,t})\\times\\pLvl_{i,t},\n",
    "\\end{equation}\n",
    "\n",
    "under the basic simulation strategy or\n",
    "\n",
    "\\begin{equation}\n",
    "\\MLvlest_t \\def \\frac{1}{I} \\sum_{i=1}^{I} \\tilde{m}_{i,t}, \\,\\,\\, \\CLvlest_t \\def \\frac{1}{I} \\sum_{i=1}^{I} c(\\tilde{m}_{i,t}),\n",
    "\\end{equation}\n",
    "\n",
    "if we use Harmenberg's method to simulate the distribution of normalized market resources under the permanent-income neutral measure.\n",
    "\n",
    "If we do not use enough agents, our distributions of agents over state variables will be noisy at approximating their continuous counterparts. Additionally, they will depend on the sequences of shocks that the agents receive. The stochasticity of the draws will cause fluctuations in $\\MLvlest_t$ and $\\CLvlest_t$. Therefore an informal way to measure the precision of our approximations is to examine the amplitude of these fluctuations:\n",
    "\n",
    "1. Simulate the economy for a long time $T_0$.\n",
    "2. Sample our aggregate estimates at regular intervals after $T_0$. Letting the sampling times be $\\mathcal{T}\\def \\{T_0 + \\Delta t\\times n\\}_{n=0,1,...,N}$, obtain $\\{\\MLvlest_t\\}_{t\\in\\mathcal{T}}$ and $\\{\\CLvlest_t\\}_{t\\in\\mathcal{T}}$.\n",
    "3. Compute the variance of approximation samples $\\text{Var}\\left(\\{\\MLvlest_t\\}_{t\\in\\mathcal{T}}\\right)$ and $\\text{Var}\\left(\\{\\CLvlest_t\\}_{t\\in\\mathcal{T}}\\right)$.\n",
    "    - Other measures of uncertainty (like standard deviation) could also be computed\n",
    "    - But variance is the natural choice [because it is closely related to expected welfare](http://www.econ2.jhu.edu/people/ccarroll/papers/candcwithstickye/#Utility-Costs-Of-Sticky-Expectations)\n",
    "\n",
    "We will now perform exactly this exercise, examining the fluctuations in aggregates when they are approximated using the basic simulation strategy and Harmenberg's permanent-income-neutral measure. Since each approximation can be made arbitrarily good by increasing the number of agents it uses, we will examine the variances of aggregates for various sample sizes."
   ]
  },
  {
   "cell_type": "markdown",
   "id": "c0beaf36-fdf0-406d-8cd1-0c70f1440eb7",
   "metadata": {},
   "source": [
    "`# Setup computational environment:`"
   ]
  },
  {
   "cell_type": "code",
   "execution_count": 3,
   "id": "b5a49886",
   "metadata": {
    "jupyter": {
     "source_hidden": true
    },
    "lines_to_next_cell": 1,
    "tags": [],
    "title": "Experiment setup"
   },
   "outputs": [],
   "source": [
    "# How long to run the economies without sampling? T_0\n",
    "burnin = 2000\n",
    "# Fixed intervals between sampling aggregates, Δt\n",
    "sample_every = 50\n",
    "# How many times to sample the aggregates? n\n",
    "n_sample = 100\n",
    "\n",
    "# Create a vector with all the times at which we'll sample\n",
    "sample_periods = np.arange(start=burnin,\n",
    "                           stop = burnin+sample_every*n_sample,\n",
    "                           step = sample_every, dtype = int)\n",
    "\n",
    "# Maximum number of aggents that we will use for our approximations\n",
    "max_agents = 10000"
   ]
  },
  {
   "cell_type": "markdown",
   "id": "d64a4f18-4462-482d-ae9b-c74f40f19595",
   "metadata": {},
   "source": [
    "`# Define tool to calculate summary statistics:`"
   ]
  },
  {
   "cell_type": "code",
   "execution_count": 4,
   "id": "7d2ffd75",
   "metadata": {
    "code_folding": [
     0
    ],
    "jupyter": {
     "source_hidden": true
    },
    "tags": [],
    "title": "Define function to get our stats of interest"
   },
   "outputs": [],
   "source": [
    "# Now create a function that takes HARK's simulation output\n",
    "# and computes all the summary statistics we need\n",
    "\n",
    "def sumstats(sims, sample_periods):\n",
    "    \n",
    "    # sims will be an array in the shape of hark's\n",
    "    # agent.history elements\n",
    "    \n",
    "    # Columns are different agents and rows are different times.\n",
    "    # Subset the times at which we'll sample and transpose.\n",
    "    samples = pd.DataFrame(sims[sample_periods,].T)\n",
    "    \n",
    "    # Get rolling averages over agents. This will tell us\n",
    "    # What our aggregate estimate would be if we had each possible\n",
    "    # sample size\n",
    "    avgs = samples.expanding(1).mean()\n",
    "    \n",
    "    # Now get the mean and standard deviations across time with\n",
    "    # every number of agents\n",
    "    means = avgs.mean(axis = 1)\n",
    "    stds = avgs.std(axis = 1)\n",
    "    \n",
    "    # Also return the full sampl on the last simulation period\n",
    "    return {'means':  means, 'stds': stds, 'dist_last': sims[-1,]}"
   ]
  },
  {
   "cell_type": "markdown",
   "id": "8ee30e6f",
   "metadata": {},
   "source": [
    "# Make sure the parametrization satisfies Szeidl and Harmenberg convergence conditions.\n",
    "\n",
    "TODO"
   ]
  },
  {
   "cell_type": "markdown",
   "id": "eb915e5a",
   "metadata": {},
   "source": [
    "We now configure and solve a buffer-stock agent with a default parametrization. The only interesting aspect of the parametrization we use is that it guarantees that the distribution of permanent income has a stable limit, as opposed to drifting forever."
   ]
  },
  {
   "cell_type": "code",
   "execution_count": 5,
   "id": "98302f0b",
   "metadata": {
    "jupyter": {
     "source_hidden": true
    },
    "tags": [],
    "title": "Create and simulate agent"
   },
   "outputs": [],
   "source": [
    "# Create and solve agent\n",
    "dict_harmenberg.update(\n",
    "    {'T_sim': max(sample_periods)+1, 'AgentCount': max_agents,\n",
    "     'track_vars': [ 'mNrm','cNrm','pLvl']}\n",
    ")\n",
    "\n",
    "example = IndShockConsumerType(**dict_harmenberg, verbose = 0)\n",
    "example.cycles = 0\n",
    "example.solve()"
   ]
  },
  {
   "cell_type": "markdown",
   "id": "2124417a",
   "metadata": {},
   "source": [
    "Under the basic simulation strategy, we have to de-normalize market resources and consumption multiplying them by permanent income. Only then we construct our statistics of interest."
   ]
  },
  {
   "cell_type": "code",
   "execution_count": 6,
   "id": "7164e6a2",
   "metadata": {
    "jupyter": {
     "source_hidden": true
    },
    "tags": []
   },
   "outputs": [],
   "source": [
    "# Base simulation\n",
    "example.initialize_sim()\n",
    "example.simulate()\n",
    "\n",
    "M_base = sumstats(example.history['mNrm'] * example.history['pLvl'],\n",
    "                  sample_periods)\n",
    "\n",
    "C_base = sumstats(example.history['cNrm'] * example.history['pLvl'],\n",
    "                  sample_periods)"
   ]
  },
  {
   "cell_type": "markdown",
   "id": "dd2a6664",
   "metadata": {},
   "source": [
    "Update and simulate using Harmenberg's strategy. This time, not multiplying by permanent income."
   ]
  },
  {
   "cell_type": "code",
   "execution_count": null,
   "id": "3b8e8d26",
   "metadata": {
    "jupyter": {
     "source_hidden": true
    },
    "tags": []
   },
   "outputs": [],
   "source": [
    "# Harmenberg PIN simulation\n",
    "example.neutral_measure = True\n",
    "example.update_income_process()\n",
    "example.track_vars = [ 'mNrm','cNrm']\n",
    "example.initialize_sim()\n",
    "example.simulate()\n",
    "\n",
    "M_pin = sumstats(example.history['mNrm'], sample_periods)\n",
    "C_pin = sumstats(example.history['cNrm'], sample_periods)"
   ]
  },
  {
   "cell_type": "markdown",
   "id": "8ad9a5e0",
   "metadata": {},
   "source": [
    "We can now compare the two methods my plotting our measure of precision for different numbers of simulated agents."
   ]
  },
  {
   "cell_type": "code",
   "execution_count": null,
   "id": "ede4a576",
   "metadata": {
    "code_folding": [
     0
    ],
    "tags": [],
    "title": "Plots"
   },
   "outputs": [],
   "source": [
    "# Plots\n",
    "nagents = np.arange(1,max_agents+1,1)\n",
    "\n",
    "# Market resources\n",
    "fig, axs = plt.subplots(2, figsize = (10,7), constrained_layout=True)\n",
    "\n",
    "fig.suptitle('Estimates of Aggregate Market Resources', fontsize=16)\n",
    "axs[0].plot(nagents, M_base['stds'], label = 'Base')\n",
    "axs[0].plot(nagents, M_pin['stds'], label = 'Perm. Inc. Neutral')\n",
    "axs[0].set_yscale('log')\n",
    "axs[0].set_xscale('log')\n",
    "axs[0].set_title('Variance', fontsize=14)\n",
    "axs[0].set_ylabel(r'$Var\\left(\\{\\hat{\\bar{M}}_t\\}_{t\\in\\mathcal{T}}\\right)$', fontsize = 14)\n",
    "axs[0].set_xlabel('Number of Agents', fontsize=12)\n",
    "axs[0].grid()\n",
    "axs[0].legend(fontsize=12)\n",
    "\n",
    "axs[1].plot(nagents, M_base['means'], label = 'Base')\n",
    "axs[1].plot(nagents, M_pin['means'], label = 'Perm. Inc. Neutral')\n",
    "axs[1].set_xscale('log')\n",
    "axs[1].set_title('Average', fontsize=14)\n",
    "axs[1].set_ylabel(r'$Avg\\left(\\{\\hat{\\bar{M}}_t\\}_{t\\in\\mathcal{T}}\\right)$', fontsize=14)\n",
    "axs[1].set_xlabel('Number of Agents', fontsize=12)\n",
    "axs[1].grid()\n",
    "plt.show()"
   ]
  },
  {
   "cell_type": "markdown",
   "id": "07ce5ebe",
   "metadata": {
    "tags": []
   },
   "source": [
    "The previous plot highlights the gain in efficiency from Harmenberg's method: it attains any given level of precission ($\\text{Var}\\left(\\{\\MLvlest_t\\}_{t\\in\\mathcal{T}}\\right)$) with roughly **one tenth** of the agents needed by the standard method to achieve that same level.\n",
    "\n",
    "We now examine consumption."
   ]
  },
  {
   "cell_type": "code",
   "execution_count": null,
   "id": "de3a11d9",
   "metadata": {
    "code_folding": [
     0
    ]
   },
   "outputs": [],
   "source": [
    "# Consumption\n",
    "fig, axs = plt.subplots(2, figsize = (10,7), constrained_layout=True)\n",
    "\n",
    "fig.suptitle('Estimates of Aggregate Consumption', fontsize=16)\n",
    "axs[0].plot(nagents, C_base['stds'], label = 'Base')\n",
    "axs[0].plot(nagents, C_pin['stds'], label = 'Perm. Inc. Neutral')\n",
    "axs[0].set_yscale('log')\n",
    "axs[0].set_xscale('log')\n",
    "axs[0].set_title('Variance', fontsize=14)\n",
    "axs[0].set_ylabel(r'$Var\\left(\\{\\hat{\\bar{C}}_t\\}_{t\\in\\mathcal{T}}\\right)$', fontsize = 14)\n",
    "axs[0].set_xlabel('Number of Agents', fontsize=12)\n",
    "axs[0].grid()\n",
    "axs[0].legend(fontsize=12)\n",
    "\n",
    "axs[1].plot(nagents, C_base['means'], label = 'Base')\n",
    "axs[1].plot(nagents, C_pin['means'], label = 'Perm. Inc. Neutral')\n",
    "axs[1].set_xscale('log')\n",
    "axs[1].set_title('Average', fontsize=14)\n",
    "axs[1].set_ylabel(r'$Avg\\left(\\{\\hat{\\bar{C}}_t\\}_{t\\in\\mathcal{T}}\\right)$', fontsize=14)\n",
    "axs[1].set_xlabel('Number of Agents', fontsize=12)\n",
    "axs[1].grid()\n",
    "plt.show()"
   ]
  },
  {
   "cell_type": "markdown",
   "id": "25a05210",
   "metadata": {},
   "source": [
    "The variance plot shows that the efficiency gains are even greater for consumption: Harmenberg's method requires rouglhy **one-hundredth** of the agents that the standard method would require for a given precision, and at a fixed number of agents it is **ten times more precise**!"
   ]
  },
  {
   "cell_type": "markdown",
   "id": "56f3a8aa",
   "metadata": {},
   "source": [
    "# Comparison of the PIN-measure and the base measure\n",
    "\n",
    "TODO"
   ]
  },
  {
   "cell_type": "code",
   "execution_count": null,
   "id": "fab161e1",
   "metadata": {},
   "outputs": [],
   "source": [
    "mdists = pd.DataFrame({'Base': M_base['dist_last'],\n",
    "                       'PIN': M_pin['dist_last']})\n",
    "\n",
    "mdists.plot.kde()\n",
    "plt.xlim([0,10])"
   ]
  }
 ],
 "metadata": {
  "jupytext": {
   "encoding": "# -*- coding: utf-8 -*-",
   "formats": "ipynb,py:percent"
  },
  "kernelspec": {
   "display_name": "Python 3",
   "language": "python",
   "name": "python3"
  },
  "language_info": {
   "codemirror_mode": {
    "name": "ipython",
    "version": 3
   },
   "file_extension": ".py",
   "mimetype": "text/x-python",
   "name": "python",
   "nbconvert_exporter": "python",
   "pygments_lexer": "ipython3",
   "version": "3.8.8"
  }
 },
 "nbformat": 4,
 "nbformat_minor": 5
}
