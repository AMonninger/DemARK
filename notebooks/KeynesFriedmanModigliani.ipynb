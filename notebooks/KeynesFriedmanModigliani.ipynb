{
 "cells": [
  {
   "cell_type": "markdown",
   "metadata": {},
   "source": [
    "## Introduction: Keynes, Friedman, Modigliani\n",
    "\n",
    "[![badge](https://img.shields.io/badge/Launch%20using%20-Econ--ARK-blue)](https://econ-ark.org/materials/keynesfriedmanmodigliani#launch)"
   ]
  },
  {
   "cell_type": "code",
   "execution_count": 1,
   "metadata": {
    "code_folding": [
     0
    ]
   },
   "outputs": [
    {
     "ename": "ImportError",
     "evalue": "cannot import name 'StringIO'",
     "output_type": "error",
     "traceback": [
      "\u001b[0;31m---------------------------------------------------------------------------\u001b[0m",
      "\u001b[0;31mImportError\u001b[0m                               Traceback (most recent call last)",
      "\u001b[0;32m<ipython-input-1-c34742d4d2e4>\u001b[0m in \u001b[0;36m<module>\u001b[0;34m\u001b[0m\n\u001b[1;32m     14\u001b[0m \u001b[0;32mfrom\u001b[0m \u001b[0mcopy\u001b[0m  \u001b[0;32mimport\u001b[0m \u001b[0mdeepcopy\u001b[0m\u001b[0;34m\u001b[0m\u001b[0;34m\u001b[0m\u001b[0m\n\u001b[1;32m     15\u001b[0m \u001b[0;34m\u001b[0m\u001b[0m\n\u001b[0;32m---> 16\u001b[0;31m \u001b[0;32mimport\u001b[0m \u001b[0mpandas_datareader\u001b[0m\u001b[0;34m.\u001b[0m\u001b[0mdata\u001b[0m \u001b[0;32mas\u001b[0m \u001b[0mweb\u001b[0m\u001b[0;34m\u001b[0m\u001b[0;34m\u001b[0m\u001b[0m\n\u001b[0m\u001b[1;32m     17\u001b[0m \u001b[0;31m# As of 09/03/2019 the latest available version of pandas-datareader\u001b[0m\u001b[0;34m\u001b[0m\u001b[0;34m\u001b[0m\u001b[0;34m\u001b[0m\u001b[0m\n\u001b[1;32m     18\u001b[0m \u001b[0;31m# has conflicts with the latest version of pandas. We temporarily fix\u001b[0m\u001b[0;34m\u001b[0m\u001b[0;34m\u001b[0m\u001b[0;34m\u001b[0m\u001b[0m\n",
      "\u001b[0;32m~/anaconda3/lib/python3.6/site-packages/pandas_datareader/__init__.py\u001b[0m in \u001b[0;36m<module>\u001b[0;34m\u001b[0m\n\u001b[1;32m      1\u001b[0m \u001b[0;32mfrom\u001b[0m \u001b[0;34m.\u001b[0m\u001b[0m_version\u001b[0m \u001b[0;32mimport\u001b[0m \u001b[0mget_versions\u001b[0m\u001b[0;34m\u001b[0m\u001b[0;34m\u001b[0m\u001b[0m\n\u001b[0;32m----> 2\u001b[0;31m from .data import (DataReader, Options, get_components_yahoo,\n\u001b[0m\u001b[1;32m      3\u001b[0m                    \u001b[0mget_dailysummary_iex\u001b[0m\u001b[0;34m,\u001b[0m \u001b[0mget_data_enigma\u001b[0m\u001b[0;34m,\u001b[0m \u001b[0mget_data_famafrench\u001b[0m\u001b[0;34m,\u001b[0m\u001b[0;34m\u001b[0m\u001b[0;34m\u001b[0m\u001b[0m\n\u001b[1;32m      4\u001b[0m                    \u001b[0mget_data_fred\u001b[0m\u001b[0;34m,\u001b[0m \u001b[0mget_data_google\u001b[0m\u001b[0;34m,\u001b[0m \u001b[0mget_data_moex\u001b[0m\u001b[0;34m,\u001b[0m\u001b[0;34m\u001b[0m\u001b[0;34m\u001b[0m\u001b[0m\n\u001b[1;32m      5\u001b[0m                    \u001b[0mget_data_morningstar\u001b[0m\u001b[0;34m,\u001b[0m \u001b[0mget_data_quandl\u001b[0m\u001b[0;34m,\u001b[0m \u001b[0mget_data_stooq\u001b[0m\u001b[0;34m,\u001b[0m\u001b[0;34m\u001b[0m\u001b[0;34m\u001b[0m\u001b[0m\n",
      "\u001b[0;32m~/anaconda3/lib/python3.6/site-packages/pandas_datareader/data.py\u001b[0m in \u001b[0;36m<module>\u001b[0;34m\u001b[0m\n\u001b[1;32m      5\u001b[0m \u001b[0;32mimport\u001b[0m \u001b[0mwarnings\u001b[0m\u001b[0;34m\u001b[0m\u001b[0;34m\u001b[0m\u001b[0m\n\u001b[1;32m      6\u001b[0m \u001b[0;34m\u001b[0m\u001b[0m\n\u001b[0;32m----> 7\u001b[0;31m \u001b[0;32mfrom\u001b[0m \u001b[0mpandas_datareader\u001b[0m\u001b[0;34m.\u001b[0m\u001b[0mav\u001b[0m\u001b[0;34m.\u001b[0m\u001b[0mforex\u001b[0m \u001b[0;32mimport\u001b[0m \u001b[0mAVForexReader\u001b[0m\u001b[0;34m\u001b[0m\u001b[0;34m\u001b[0m\u001b[0m\n\u001b[0m\u001b[1;32m      8\u001b[0m \u001b[0;32mfrom\u001b[0m \u001b[0mpandas_datareader\u001b[0m\u001b[0;34m.\u001b[0m\u001b[0mav\u001b[0m\u001b[0;34m.\u001b[0m\u001b[0mquotes\u001b[0m \u001b[0;32mimport\u001b[0m \u001b[0mAVQuotesReader\u001b[0m\u001b[0;34m\u001b[0m\u001b[0;34m\u001b[0m\u001b[0m\n\u001b[1;32m      9\u001b[0m \u001b[0;32mfrom\u001b[0m \u001b[0mpandas_datareader\u001b[0m\u001b[0;34m.\u001b[0m\u001b[0mav\u001b[0m\u001b[0;34m.\u001b[0m\u001b[0msector\u001b[0m \u001b[0;32mimport\u001b[0m \u001b[0mAVSectorPerformanceReader\u001b[0m\u001b[0;34m\u001b[0m\u001b[0;34m\u001b[0m\u001b[0m\n",
      "\u001b[0;32m~/anaconda3/lib/python3.6/site-packages/pandas_datareader/av/__init__.py\u001b[0m in \u001b[0;36m<module>\u001b[0;34m\u001b[0m\n\u001b[1;32m      1\u001b[0m \u001b[0;32mimport\u001b[0m \u001b[0mos\u001b[0m\u001b[0;34m\u001b[0m\u001b[0;34m\u001b[0m\u001b[0m\n\u001b[1;32m      2\u001b[0m \u001b[0;34m\u001b[0m\u001b[0m\n\u001b[0;32m----> 3\u001b[0;31m \u001b[0;32mfrom\u001b[0m \u001b[0mpandas_datareader\u001b[0m\u001b[0;34m.\u001b[0m\u001b[0mbase\u001b[0m \u001b[0;32mimport\u001b[0m \u001b[0m_BaseReader\u001b[0m\u001b[0;34m\u001b[0m\u001b[0;34m\u001b[0m\u001b[0m\n\u001b[0m\u001b[1;32m      4\u001b[0m \u001b[0;32mfrom\u001b[0m \u001b[0mpandas_datareader\u001b[0m\u001b[0;34m.\u001b[0m\u001b[0m_utils\u001b[0m \u001b[0;32mimport\u001b[0m \u001b[0mRemoteDataError\u001b[0m\u001b[0;34m\u001b[0m\u001b[0;34m\u001b[0m\u001b[0m\n\u001b[1;32m      5\u001b[0m \u001b[0;34m\u001b[0m\u001b[0m\n",
      "\u001b[0;32m~/anaconda3/lib/python3.6/site-packages/pandas_datareader/base.py\u001b[0m in \u001b[0;36m<module>\u001b[0;34m\u001b[0m\n\u001b[1;32m      9\u001b[0m \u001b[0;32mfrom\u001b[0m \u001b[0mpandas\u001b[0m \u001b[0;32mimport\u001b[0m \u001b[0mread_csv\u001b[0m\u001b[0;34m,\u001b[0m \u001b[0mconcat\u001b[0m\u001b[0;34m\u001b[0m\u001b[0;34m\u001b[0m\u001b[0m\n\u001b[1;32m     10\u001b[0m \u001b[0;32mfrom\u001b[0m \u001b[0mpandas\u001b[0m\u001b[0;34m.\u001b[0m\u001b[0mio\u001b[0m\u001b[0;34m.\u001b[0m\u001b[0mcommon\u001b[0m \u001b[0;32mimport\u001b[0m \u001b[0murlencode\u001b[0m\u001b[0;34m\u001b[0m\u001b[0;34m\u001b[0m\u001b[0m\n\u001b[0;32m---> 11\u001b[0;31m \u001b[0;32mfrom\u001b[0m \u001b[0mpandas\u001b[0m\u001b[0;34m.\u001b[0m\u001b[0mcompat\u001b[0m \u001b[0;32mimport\u001b[0m \u001b[0mStringIO\u001b[0m\u001b[0;34m,\u001b[0m \u001b[0mbytes_to_str\u001b[0m\u001b[0;34m\u001b[0m\u001b[0;34m\u001b[0m\u001b[0m\n\u001b[0m\u001b[1;32m     12\u001b[0m \u001b[0;34m\u001b[0m\u001b[0m\n\u001b[1;32m     13\u001b[0m from pandas_datareader._utils import (RemoteDataError, SymbolWarning,\n",
      "\u001b[0;31mImportError\u001b[0m: cannot import name 'StringIO'"
     ]
    }
   ],
   "source": [
    "# Some initial setup\n",
    "import sys\n",
    "import os\n",
    "from matplotlib import pyplot as plt\n",
    "import numpy as np\n",
    "plt.style.use('seaborn-darkgrid')\n",
    "palette = plt.get_cmap('Dark2')\n",
    "\n",
    "import pandas as pd\n",
    "pd.core.common.is_list_like = pd.api.types.is_list_like\n",
    "import datetime as dt\n",
    "import scipy.stats as stats\n",
    "import statsmodels.formula.api as sm\n",
    "from copy  import deepcopy\n",
    "\n",
    "import pandas_datareader.data as web\n",
    "# As of 09/03/2019 the latest available version of pandas-datareader\n",
    "# has conflicts with the latest version of pandas. We temporarily fix\n",
    "# this by loading data from files.\n",
    "# This should not be necessary when pandas-datareader>0.7 becomes available.\n",
    "from io import StringIO\n",
    "\n",
    "from HARK.ConsumptionSaving.ConsIndShockModel import PerfForesightConsumerType\n",
    "from HARK.utilities import plotFuncsDer, plotFuncs"
   ]
  },
  {
   "cell_type": "markdown",
   "metadata": {},
   "source": [
    "### 1. The Keynesian consumption function\n",
    "\n",
    "Keynes:\n",
    "1. \"The amount of aggregate consumption mainly depends on the amount of aggregate income.\"\n",
    "1. It is a \"fundamental psychological rule ... that when ... real income increases ... consumption [will increase], but by less than the increase in income.\"\n",
    "1. More generally, \"as a rule, a greater proportion of income ... is saved as real income increases.\"\n",
    "\n",
    "This can be formalized as:\n",
    "\n",
    "$\n",
    "\\begin{eqnarray}\n",
    "c_t & = &  a_0 + a_{1}y_t\n",
    "\\\\ c_t - c_{t-1} & = & a_{1}(y_t - y_{t-1})\n",
    "\\end{eqnarray}\n",
    "$\n",
    "\n",
    "for $a_0 > 0, a_1 < 1$\n"
   ]
  },
  {
   "cell_type": "markdown",
   "metadata": {},
   "source": [
    "#### The Keynesian Consumption Function"
   ]
  },
  {
   "cell_type": "code",
   "execution_count": null,
   "metadata": {
    "code_folding": [
     0
    ]
   },
   "outputs": [],
   "source": [
    "class KeynesianConsumer:\n",
    "    \"\"\"\n",
    "    This class represents consumers that behave according to a\n",
    "    Keynesian consumption function, representing them as a\n",
    "    special case of HARK's PerfForesightConsumerType\n",
    "    \n",
    "    Methods:\n",
    "    - cFunc: computes consumption/permanent income \n",
    "             given total income/permanent income.\n",
    "    \"\"\"\n",
    "    \n",
    "    def __init__(self):\n",
    "        \n",
    "        PFexample = PerfForesightConsumerType() # set up a consumer type and use default parameteres\n",
    "        PFexample.cycles = 0 # Make this type have an infinite horizon\n",
    "        PFexample.DiscFac = 0.05\n",
    "        PFexample.PermGroFac = [0.7]\n",
    "\n",
    "        PFexample.solve() # solve the consumer's problem\n",
    "        PFexample.unpack('cFunc') # unpack the consumption function\n",
    "        \n",
    "        self.cFunc = PFexample.solution[0].cFunc\n",
    "        self.a0 = self.cFunc(0)\n",
    "        self.a1 = self.cFunc(1) - self.cFunc(0)"
   ]
  },
  {
   "cell_type": "code",
   "execution_count": null,
   "metadata": {
    "code_folding": [
     0
    ]
   },
   "outputs": [],
   "source": [
    "# Plot cFunc(Y)=Y against the Keynesian consumption function\n",
    "# Deaton-Friedman consumption function is a special case of perfect foresight model\n",
    "\n",
    "# We first create a Keynesian consumer\n",
    "KeynesianExample = KeynesianConsumer()\n",
    "\n",
    "# and then plot its consumption function\n",
    "income = np.linspace(0, 30, 20) # pick some income points\n",
    "plt.figure(figsize=(9,6))\n",
    "plt.plot(income, KeynesianExample.cFunc(income), label = 'Consumption function') #plot income versus the consumption\n",
    "plt.plot(income, income, 'k--', label = 'C=Y')\n",
    "plt.title('Consumption function')\n",
    "plt.xlabel('Income (y)')\n",
    "plt.ylabel('Normalized Consumption (c)')\n",
    "plt.ylim(0, 20)\n",
    "plt.legend()\n",
    "plt.show()"
   ]
  },
  {
   "cell_type": "code",
   "execution_count": null,
   "metadata": {
    "code_folding": [
     0
    ]
   },
   "outputs": [],
   "source": [
    "# This looks like the first of the three equations, consumption as a linear function of income!\n",
    "# This means that even in a microfounded model (that HARK provides), the consumption function can match Keynes reduced form\n",
    "# prediction (given the right parameterization).\n",
    "\n",
    "# We can even find a_0 and a_1\n",
    "a_0 = KeynesianExample.a0\n",
    "a_1 = KeynesianExample.a1\n",
    "print('a_0 is ' + str(a_0))\n",
    "print('a_1 is ' +  str(a_1))"
   ]
  },
  {
   "cell_type": "markdown",
   "metadata": {},
   "source": [
    "#### The Keynesian consumption function: Evidence"
   ]
  },
  {
   "cell_type": "markdown",
   "metadata": {},
   "source": [
    "Aggregate Data:\n",
    "\n",
    "Long-term time-series estimates: $a_0$ close to zero, $a_1$ close to 1 (saving rate stable over time - Kuznets).<br>\n",
    "Short-term aggregate time-series estimates of change in consumption on change in income find $a_1 << 1$.<br>\n",
    "$c_t = a_0 + a_{1}y_t + a_{2}c_{t-1}$ finds significant $a_2$, near 1."
   ]
  },
  {
   "cell_type": "code",
   "execution_count": null,
   "metadata": {
    "code_folding": [],
    "lines_to_next_cell": 0
   },
   "outputs": [],
   "source": [
    "# Lets have a look at some aggregate data\n",
    "\n",
    "sdt = dt.datetime(1980, 1, 1) #set startdate\n",
    "edt = dt.datetime (2017, 1, 1) #set end date\n",
    "df = web.DataReader([\"PCECC96\", \"DPIC96\"], \"fred\", sdt, edt) #import the data from Fred\n",
    "# Plot the data\n",
    "plt.figure(figsize=(9,6))\n",
    "plt.plot(df.DPIC96, df.PCECC96, 'go', markersize=3.0, label='Data')\n",
    "slope, intercept, r_value, p_value, std_err = stats.linregress(df.DPIC96, df.PCECC96)\n",
    "plt.plot(df.DPIC96, intercept+slope*df.DPIC96, 'k-', label = 'Line of best fit')\n",
    "plt.plot(df.DPIC96, df.DPIC96, 'k--', label = 'C=Y')\n",
    "plt.xlabel('Income (y)')\n",
    "plt.ylabel('Consumption (c)')\n",
    "plt.legend()\n",
    "plt.show()\n",
    "\n",
    "print('a_0 is ' + str(intercept))\n",
    "print('a_1 is ' +  str(slope))"
   ]
  },
  {
   "cell_type": "code",
   "execution_count": null,
   "metadata": {},
   "outputs": [],
   "source": [
    "# However, our consumption data is [non-stationary](https://www.reed.edu/economics/parker/312/tschapters/S13_Ch_4.pdf) and this drives the previous\n",
    "# estimate.\n",
    "df.DPIC96.plot()\n",
    "plt.xlabel('Date')\n",
    "plt.ylabel('Consumption (c)')"
   ]
  },
  {
   "cell_type": "code",
   "execution_count": null,
   "metadata": {},
   "outputs": [],
   "source": [
    "# Lets use our second equation to try to find an estimate of a_1\n",
    "\n",
    "df_diff = df.diff() #create dataframe of differenced values\n",
    "\n",
    "# Plot the data\n",
    "plt.figure(figsize=(9,6))\n",
    "plt.plot(df_diff.DPIC96, df_diff.PCECC96, 'go', markersize=3.0, label = 'Data')\n",
    "slope, intercept, r_value, p_value, std_err = stats.linregress(df_diff.DPIC96[1:], df_diff.PCECC96[1:]) # find line of best fit\n",
    "plt.plot(df_diff.DPIC96[1:], intercept+slope*df_diff.DPIC96[1:], 'k-', label = 'Line of best fit')\n",
    "plt.plot(np.array([-200, 200]), np.array([-200, 200]), 'k--', label = 'C=Y')\n",
    "plt.xlabel('Change in income (dy)')\n",
    "plt.ylabel('Change in consumption (dc)')\n",
    "plt.legend()\n",
    "plt.show()\n",
    "\n",
    "print('a_1 is ' +  str(slope))"
   ]
  },
  {
   "cell_type": "markdown",
   "metadata": {},
   "source": [
    "a_1 is now much lower, as we expected"
   ]
  },
  {
   "cell_type": "markdown",
   "metadata": {},
   "source": [
    "### Household Data:\n",
    "\n",
    "Cross-section plots of consumption and income: very large and significant $a_0$, $a_1$ maybe 0.5. <br>\n",
    "\n",
    "Further facts:\n",
    "1. Black households save more than whites at a given income level.<br>\n",
    "0. By income group:\n",
    "   * low-income: Implausibly large dissaving (spend 2 or 3 times income)\n",
    "   * high-income: Remarkably high saving"
   ]
  },
  {
   "cell_type": "markdown",
   "metadata": {},
   "source": [
    "### 2. Duesenberry"
   ]
  },
  {
   "cell_type": "markdown",
   "metadata": {},
   "source": [
    "Habit formation may explain why $c_{t-1}$ affects $c_t$.<br>\n",
    "Relative Income Hypothesis suggests that you compare your consumption to consumption of ‘peers’.<br>\n",
    "May explain high saving rates of Black HHs.<br>\n",
    "\n",
    "Problems with Duesenberry: <br>\n",
    "No budget constraint<br>\n",
    "No serious treatment of intertemporal nature of saving"
   ]
  },
  {
   "cell_type": "markdown",
   "metadata": {},
   "source": [
    "#### Dusenberry: Evidence"
   ]
  },
  {
   "cell_type": "code",
   "execution_count": null,
   "metadata": {},
   "outputs": [],
   "source": [
    "# Even if we control for income, past consumption seems to be significantly related to current consumption\n",
    "\n",
    "df_habit = df.copy()\n",
    "df_habit.columns = ['cons', 'inc']\n",
    "df_habit['cons_m1'] = df.PCECC96.shift()\n",
    "df_habit.dropna()\n",
    "\n",
    "result = sm.ols(formula = \"cons ~ inc + cons_m1\", data=df_habit.dropna()).fit()\n",
    "result.summary()"
   ]
  },
  {
   "cell_type": "code",
   "execution_count": null,
   "metadata": {},
   "outputs": [],
   "source": [
    "# The coefficient on lagged consumption is very significant.\n",
    "# But regression may be statistically problematic for the usual [non-stationarity](https://towardsdatascience.com/stationarity-in-time-series-analysis-90c94f27322) reasons."
   ]
  },
  {
   "cell_type": "markdown",
   "metadata": {},
   "source": [
    "### 3. Friedman's Permanent Income Hypothesis"
   ]
  },
  {
   "cell_type": "markdown",
   "metadata": {},
   "source": [
    "$$c = p + u$$\n",
    "$$y = p + v$$\n",
    "\n",
    "We can try to test this theory across households. If we run a regression of the form:\n",
    "$$c_i = a_0 + a_{1}y_{i} + u_{i}$$\n",
    "\n",
    "And if Friedman is correct, and the \"true\" coefficient on permanent income $p$ is 1, then the coefficient on $y$ will be:\n",
    "$$a_1 = \\frac{s^2_{p}}{(s^2_{v} + s^2_{p})}$$"
   ]
  },
  {
   "cell_type": "markdown",
   "metadata": {},
   "source": [
    "#### Friedman's Permanent Income Hypothesis: HARK\n",
    "\n",
    "We begin by creating a class that class implements the Friedman PIH consumption function as a special case of the [Perfect Foresight CRRA](http://econ.jhu.edu/people/ccarroll/courses/choice/lecturenotes/consumption/PerfForesightCRRA) model."
   ]
  },
  {
   "cell_type": "code",
   "execution_count": null,
   "metadata": {
    "code_folding": [
     0
    ]
   },
   "outputs": [],
   "source": [
    "class FriedmanPIHConsumer:\n",
    "    \"\"\"\n",
    "    This class represents consumers that behave according to\n",
    "    Friedman's permanent income hypothesis, representing them as a\n",
    "    special case of HARK's PerfForesightConsumerType\n",
    "    \n",
    "    Methods:\n",
    "    - cFunc: computes consumption/permanent income \n",
    "             given total income/permanent income.\n",
    "    \"\"\"\n",
    "    \n",
    "    def __init__(self, Rfree=1.001, CRRA = 2):\n",
    "        \n",
    "        PFaux = PerfForesightConsumerType() # set up a consumer type and use default parameteres\n",
    "        PFaux.cycles = 0 # Make this type have an infinite horizon\n",
    "        PFaux.DiscFac = 1/Rfree\n",
    "        PFaux.Rfree = Rfree\n",
    "        PFaux.LivPrb = [1.0]\n",
    "        PFaux.PermGroFac = [1.0]\n",
    "        PFaux.CRRA = CRRA\n",
    "        PFaux.solve() # solve the consumer's problem\n",
    "        PFaux.unpack('cFunc') # unpack the consumption function\n",
    "        \n",
    "        self.cFunc = PFaux.solution[0].cFunc"
   ]
  },
  {
   "cell_type": "code",
   "execution_count": null,
   "metadata": {},
   "outputs": [],
   "source": [
    "# We can now create a PIH consumer\n",
    "PIHexample = FriedmanPIHConsumer()\n",
    "\n",
    "# Plot the perfect foresight consumption function\n",
    "income = np.linspace(0, 10, 20) # pick some income points\n",
    "plt.figure(figsize=(9,6))\n",
    "plt.plot(income, PIHexample.cFunc(income), label = 'Consumption function') #plot income versus the consumption\n",
    "plt.plot(income, income, 'k--', label = 'C=Y')\n",
    "plt.title('Consumption function')\n",
    "plt.xlabel('Normalized Income (y)')\n",
    "plt.ylabel('Normalized Consumption (c)')\n",
    "plt.legend()\n",
    "plt.show()"
   ]
  },
  {
   "cell_type": "markdown",
   "metadata": {
    "code_folding": []
   },
   "source": [
    "We can see that regardless of the income our agent receives, they consume their permanent income, which is normalized to 1."
   ]
  },
  {
   "cell_type": "markdown",
   "metadata": {},
   "source": [
    "We can also draw out some implications of the PIH that we can then test with evidence\n",
    "\n",
    "If we look at HH's who have very similar permanent incomes, we should get a small estimate of $a_1$, because $s^2_v$ is large relative to $s^2_p$.\n",
    "\n",
    "Lets simulate this using our HARK consumer."
   ]
  },
  {
   "cell_type": "code",
   "execution_count": null,
   "metadata": {},
   "outputs": [],
   "source": [
    "# Permanent income has the same variance\n",
    "# as transitory income.\n",
    "\n",
    "perm_inc = np.random.normal(1., 0.1, 50)\n",
    "trans_inc = np.random.normal(0.5, 0.1, 50)\n",
    "\n",
    "total_inc = perm_inc + trans_inc\n",
    "\n",
    "slope, intercept, r_value, p_value, std_err = stats.linregress(total_inc, PIHexample.cFunc(total_inc)*perm_inc)\n",
    "\n",
    "plt.figure(figsize=(9,6))\n",
    "plt.plot(total_inc, PIHexample.cFunc(total_inc)*perm_inc, 'go', label='Simulated data')\n",
    "plt.plot(total_inc, intercept + slope*total_inc, 'k-', label='Line of best fit')\n",
    "plt.plot(np.linspace(1, 2, 5), np.linspace(1, 2, 5), 'k--', label='C=Y')\n",
    "plt.xlabel('Income (y)')\n",
    "plt.ylabel('Consumption (c)')\n",
    "plt.legend()\n",
    "plt.ylim(0, 2)\n",
    "plt.xlim(1.1, 1.9)\n",
    "plt.show()\n",
    "\n",
    "print('a_0 is ' + str(intercept))\n",
    "print('a_1 is ' +  str(slope))"
   ]
  },
  {
   "cell_type": "code",
   "execution_count": null,
   "metadata": {},
   "outputs": [],
   "source": [
    "# Permanent income with higher variance\n",
    "\n",
    "perm_inc = np.random.normal(1., 0.5, 50)\n",
    "trans_inc = np.random.normal(0.5, 0.1, 50)\n",
    "\n",
    "total_inc = perm_inc + trans_inc\n",
    "\n",
    "slope, intercept, r_value, p_value, std_err = stats.linregress(total_inc, PIHexample.cFunc(total_inc)*perm_inc)\n",
    "\n",
    "plt.figure(figsize=(9,6))\n",
    "plt.plot(total_inc, PIHexample.cFunc(total_inc)*perm_inc, 'go', label='Simulated data')\n",
    "plt.plot(total_inc, intercept + slope*total_inc, 'k-', label='Line of best fit')\n",
    "plt.plot(np.linspace(0, 2, 5), np.linspace(0, 2, 5), 'k--', label='C=Y')\n",
    "plt.xlabel('Income (y)')\n",
    "plt.ylabel('Consumption (c)')\n",
    "plt.legend()\n",
    "plt.ylim(0, 2)\n",
    "plt.show()\n",
    "\n",
    "print('a_0 is ' + str(intercept))\n",
    "print('a_1 is ' +  str(slope))"
   ]
  },
  {
   "cell_type": "markdown",
   "metadata": {},
   "source": [
    "We can see that as we increase the variance of permanent income, the estimate of a_1 rises"
   ]
  },
  {
   "cell_type": "markdown",
   "metadata": {},
   "source": [
    "#### Friedman's Permanent Income Hypothesis: Evidence"
   ]
  },
  {
   "cell_type": "markdown",
   "metadata": {},
   "source": [
    "We can now consider the empirical evidence for the claims our HARK model made about the PIH.\n",
    "\n",
    "If we take a long time series, then the differences in permanent income should be the main driver of the variance in total income. This implies that a_1 should be high.\n",
    "\n",
    "If we take higher frequency time series (or cross sectional data), transitory shocks should dominate, and our estimate of a_1 should be lower.\n",
    "\n",
    "Consider quarterly differences first:"
   ]
  },
  {
   "cell_type": "code",
   "execution_count": null,
   "metadata": {
    "code_folding": [
     0
    ]
   },
   "outputs": [],
   "source": [
    "# Lets use the data from FRED that we used before.\n",
    "\n",
    "# Using quarterly data (copying from above), we had:\n",
    "\n",
    "plt.figure(figsize=(9,6))\n",
    "plt.plot(df_diff.DPIC96, df_diff.PCECC96, 'go', markersize=3.0, label = 'Data')\n",
    "slope, intercept, r_value, p_value, std_err = stats.linregress(df_diff.DPIC96[1:], df_diff.PCECC96[1:]) # find line of best fit\n",
    "plt.plot(df_diff.DPIC96[1:], intercept+slope*df_diff.DPIC96[1:], 'k-', label = 'Line of best fit')\n",
    "plt.plot(np.array([-200, 200]), np.array([-200, 200]), 'k--', label = 'C=Y')\n",
    "plt.xlabel('Change in income (dy)')\n",
    "plt.ylabel('Change in consumption (dc)')\n",
    "plt.legend()\n",
    "plt.show()\n",
    "\n",
    "print('a_1 is ' +  str(slope))"
   ]
  },
  {
   "cell_type": "markdown",
   "metadata": {},
   "source": [
    "And now consider longer time differences, 20 quarters for instance, where the changes in permanent income should dominate transitory effects"
   ]
  },
  {
   "cell_type": "code",
   "execution_count": null,
   "metadata": {
    "code_folding": [
     0
    ]
   },
   "outputs": [],
   "source": [
    "# Using longer differences\n",
    "df_diff_long = df.diff(periods = 20) #create dataframe of differenced values\n",
    "df_diff_long.columns = ['cons', 'inc']\n",
    "\n",
    "plt.figure(figsize=(9,6))\n",
    "plt.plot(df_diff_long.inc, df_diff_long.cons, 'go', label='Data')\n",
    "slope, intercept, r_value, p_value, std_err = stats.linregress(df_diff_long.inc[20:], df_diff_long.cons[20:]) # find line of best fit\n",
    "plt.plot(df_diff_long.inc[1:], intercept+slope*df_diff_long.inc[1:], 'k-', label='Line of best fit')\n",
    "plt.plot(np.linspace(-100, 2000, 3), np.linspace(-100, 2000, 3), 'k--', label='C=Y')\n",
    "plt.legend()\n",
    "plt.xlabel('Change in income (dy)')\n",
    "plt.ylabel('Change in consumption (dc)')\n",
    "plt.show()\n",
    "\n",
    "print('a_0 is ' + str(intercept))\n",
    "print('a_1 is ' +  str(slope))"
   ]
  },
  {
   "cell_type": "markdown",
   "metadata": {},
   "source": [
    "The estimate of $a_1$ using the longer differences is much higher because permanent income is playing a much more important role in explaining the variation in consumption."
   ]
  }
 ],
 "metadata": {
  "jupytext": {
   "cell_metadata_json": true,
   "encoding": "# -*- coding: utf-8 -*-",
   "formats": "ipynb,py:percent",
   "notebook_metadata_filter": "all"
  },
  "kernelspec": {
   "display_name": "Python 3",
   "language": "python",
   "name": "python3"
  },
  "language_info": {
   "codemirror_mode": {
    "name": "ipython",
    "version": 3
   },
   "file_extension": ".py",
   "mimetype": "text/x-python",
   "name": "python",
   "nbconvert_exporter": "python",
   "pygments_lexer": "ipython3",
   "version": "3.6.9"
  },
  "latex_envs": {
   "LaTeX_envs_menu_present": true,
   "autoclose": false,
   "autocomplete": false,
   "bibliofile": "biblio.bib",
   "cite_by": "apalike",
   "current_citInitial": 1,
   "eqLabelWithNumbers": true,
   "eqNumInitial": 1,
   "hotkeys": {
    "equation": "Ctrl-E",
    "itemize": "Ctrl-I"
   },
   "labels_anchors": false,
   "latex_user_defs": false,
   "report_style_numbering": false,
   "user_envs_cfg": false
  }
 },
 "nbformat": 4,
 "nbformat_minor": 4
}
