{
 "cells": [
  {
   "cell_type": "markdown",
   "metadata": {
    "deletable": true,
    "editable": true
   },
   "source": [
    "# [Krusell Smith (1998)](https://www.journals.uchicago.edu/doi/pdf/10.1086/250034)\n",
    "<!-- Also, though the notebook says it is by you and Melih, the only notations I found were for additions by you -->\n",
    "<!-- If Melih did not do much, his name does not deserve to be on an equal footing with yours -->\n",
    "- Original version by Tim Munday \n",
    "- Comments and extensions by Tao Wang and Melih Firat\n",
    "- Further edits by Chris Carroll"
   ]
  },
  {
   "cell_type": "markdown",
   "metadata": {
    "deletable": true,
    "editable": true
   },
   "source": [
    "### Overview\n",
    "\n",
    "The benchmark Krusell-Smith model has the following broad features:\n",
    "   * The aggregate state switches between good and bad with known probabilities\n",
    "   * All consumers experience the same aggregate state for the economy (good or bad)\n",
    "   * _ex ante_ there is only one type of consumer, which is infinitely lived\n",
    "   * _ex post_ heterogeneity arises from uninsurable idiosyncratic income shocks\n",
    "      * Specifically, individuals are at risk of spells of unemployment\n",
    "      * In a spell of unemployment, their income is zero\n",
    "   \n",
    "Thus, each agent faces two types of uncertainty: About their employment state, and about the income they will earn when employed.  And the values of income and unemployment risk depend on the aggregate state.\n"
   ]
  },
  {
   "cell_type": "markdown",
   "metadata": {
    "deletable": true,
    "editable": true
   },
   "source": [
    "### Details\n",
    "\n",
    "#### Idiosyncratic\n",
    "Each agent _attempts_ to supply an amount of productive labor $\\ell$ in each period.  (Here and below we mostly follow the notation of Krusell and Smith (1998)).\n",
    "\n",
    "However, whether they _succeed_ in supplying that labor (and earning a corresponding wage) is governed by the realization of the stochastic variable $\\epsilon$.  If the agent is unlucky, $\\epsilon$ is zero and the agent is unemployed.  The amount of labor they succeed in supplying is thus $\\epsilon\\ell$.\n",
    "\n",
    "#### Aggregate\n",
    "Aggregate output ($\\bar{y}$) is produced using a Cobb-Douglas production function using capital and labor. (Bars over variables indicate the aggregate value of a variable that has different values across different idiosyncratic consumers).\n",
    "\n",
    "$z$ denotes the aggregate shock to productivity. $z$ can take two values, either $z_g$ -- the \"good\" state, or $z_b < z_g$ -- the \"bad\" state.  Consumers gain income from providing labor, and from the rental return on any capital they own.  Labor and capital markets are perfectly efficient so both factors are both paid their marginal products.\n",
    "\n",
    "The agent can choose to save by buying capital $k$ which is bounded below at the borrowing constraint of 0.\n",
    "\n",
    "\n",
    "Putting all of this together, aggregate output is given by \n",
    "\n",
    "\\begin{eqnarray}\n",
    "\\bar{y} & = & z\\bar{k}^\\alpha \\bar{\\ell}^{1-\\alpha}\n",
    "\\end{eqnarray}\n"
   ]
  },
  {
   "cell_type": "markdown",
   "metadata": {
    "deletable": true,
    "editable": true
   },
   "source": [
    "The aggregate shocks $z$ follow a first-order Markov chains with the transition probability of moving from state $s$ to state $s'$ denoted by $\\pi_{ss'}$. The aggregate shocks and individual shocks are correlated: The probability of being unemployed is higher in bad times, when aggregate productivity is low, than in good times, when aggregate productivity is high.\n",
    "\n",
    "#### Idiosyncratic and Aggregate Together\n",
    "\n",
    "The individual shocks satisfy the law of large numbers, and the model is constructed so that the number of agents who are unemployed in the good state always equals $u_g$, and is always $u_b$ in the bad state. Given the aggregate state, individual shocks are independent from each other.\n",
    "\n",
    "For the individual, the probability of moving between a good state and employment to a bad state and unemployment is denoted $\\pi_{gb10}$ with similar notation for the other transition probabilities.\n",
    "\n",
    "(Krusell and Smith allow for serially correlated unemployment at the idiosyncratic level. Here we will simplify this and have unemployment be serially uncorrelated.)"
   ]
  },
  {
   "cell_type": "markdown",
   "metadata": {
    "deletable": true,
    "editable": true
   },
   "source": [
    "Finally, $\\Gamma$ denotes the current distribution of consumers over capital and employment status, and $H$ denotes the law of motion of this distribution. "
   ]
  },
  {
   "cell_type": "markdown",
   "metadata": {
    "deletable": true,
    "editable": true
   },
   "source": [
    "#### The Idiosyncratic Individual's Problem Given the Aggregate State\n",
    "\n",
    "The individual's problem is:\n",
    "\\begin{eqnarray*}\n",
    "V(k, \\epsilon; \\Gamma, z) &=& \\max_{k'}\\{U(c) + \\beta \\mathbb{E}[V(k' ,\\epsilon'; \\Gamma', z')|z, \\epsilon]\\} \\\\\n",
    "c + k' &=& r(\\bar{k}, \\bar{\\ell}, z)k + w(\\bar{k}, \\bar{\\ell}, z)\\ell\\epsilon + (1-\\delta)k \\\\\n",
    "\\Gamma' &=& H(\\Gamma, z, z') \\\\\n",
    "k' &\\geq& 0 \\\\\n",
    "\\end{eqnarray*}"
   ]
  },
  {
   "cell_type": "markdown",
   "metadata": {
    "deletable": true,
    "editable": true
   },
   "source": [
    "Krusell and Smith define an equilibrium as a law of motion $H$, a value function $V$, a rule for updating capital $f$ and pricing functions $r$ and $w$, such that $V$ and $f$ solve the consumers problem, $r$ and $w$ denote the marginal products of capital and labour, and $H$ is consistent with $f$ (i.e. if we add up all of the individual agents capital choices we get the correct distribution of capital)."
   ]
  },
  {
   "cell_type": "markdown",
   "metadata": {
    "deletable": true,
    "editable": true
   },
   "source": [
    "##### Discussion of the KS Algorithm\n",
    "\n",
    "In general, $\\Gamma$ is a high-dimensional object because it includes the whole distribution of individuals' wealth in the economy. Because the optimal amount to save is a nonlinear function of the level of idiosyncratic $k$, next period's aggregate capital stock $\\bar{k}'$ depends on the distribution of the holdings of idiosyncratic $k$ across the population of consumers. Therefore the law of motion $H$ is not a trivial function of the $\\Gamma$. \n",
    "\n",
    "KS simplified this problem as by noting the following. \n",
    "\n",
    "1. The agent cares about the future aggregate aggregate state only insofar as that state affects their own personal value of $c$\n",
    "1. Future values of $c$ depend on the aggregate state only through the budget constraint\n",
    "1. The channels by which the budget constraint depends on the aggregate state are:\n",
    "   * The probability distributions of $\\epsilon$ and $z$ are affected by the aggregate state\n",
    "   * Interest rates and wages depend on the future values of $\\bar{k}$ and $\\bar{\\ell}$\n",
    "  \n",
    "\n",
    "Now note that\n",
    "\n",
    "1. The probability distributions for the future values of $\\{\\epsilon, z\\}$ are known; they are fully determined by the Markov transition matrices\n",
    "1. The values of $r$ and $w$ are both determined by the future value of $\\bar{k}$ (in combination with the exogenous value of $\\bar{\\ell}$)\n",
    "1. So the only endogenous object that the agent needs to form expectations about, in order to have a complete rational expectation about everything affecting them, is $\\bar{k}$\n",
    "\n",
    "The key result in Krusell and Smith is the discovery that a very simple linear rule does an extraordinarily good job (though not quite perfect) in forecasting $\\bar{k}$\n",
    "\n",
    "They then argue that, since rationality is surely bounded to some degree, the solution that an agent obtains using a good forecasting rule for $\\bar{k}$ is \"good enough\" to compute an \"approximate\" solution to the consumer's optimization problem.\n",
    "\n",
    "They define a generic algorithm to find a forecasting rule for $\\bar{k}$ as follows\n",
    "\n",
    "1. Choose the number of moments $n$ of the distribution of $k$ to be included in the set of variables to forecast $\\bar{k}'$. In the simplest case, $n=1$, the only forecasting variable for next period's $\\bar{k}'$ is the mean (the first moment, $n=1$)) of current capital, $\\bar{k}$.\n",
    "2. Each individual adopts the same belief about the law motion of these moments, $H_I$ and finds the optimal decision policy, $f_I$, contingent on that guess.\n",
    "3. Use the optimal policy to simulate a history of aggregate capital with a large number of agents. \n",
    "4. Characterize the realized law of motion using the same number of moments $n$ \n",
    "5. Compare it with the $H_I$, what is taken as given by individuals. \n",
    "6. Iterate until the two converge. \n",
    "\n",
    "In the end, the solution to the original problem is well approximated by the following simplified problem:\n",
    "\n",
    "\\begin{eqnarray*}\n",
    "V(k, \\epsilon; \\bar k, z) &=& max_{c, k'}\\{U(c) + \\beta E[V(k' ,\\epsilon'; \\bar k', z')|z, \\epsilon]\\} \\\\\n",
    "c + k' &=& r(\\bar{k}, \\bar{\\ell}, z)k + w(\\bar{k}, \\bar{\\ell}, z)l\\epsilon + (1-\\delta)k; \\\\\n",
    "\\text{When }~ z=z_g \\quad \\log\\bar k' & = & a_0 + a_1 \\log\\bar k; \\\\\n",
    "\\text{When }~ z=z_b  \\quad  \\log\\bar k' & = & b_0 + b_1 \\log\\bar k ; \\\\\n",
    "k' &\\geq& 0 \\\\\n",
    "\\end{eqnarray*}"
   ]
  },
  {
   "cell_type": "markdown",
   "metadata": {
    "deletable": true,
    "editable": true
   },
   "source": [
    "## Implementation Using the HARK Toolkit"
   ]
  },
  {
   "cell_type": "markdown",
   "metadata": {
    "deletable": true,
    "editable": true
   },
   "source": [
    "#### The Consumer"
   ]
  },
  {
   "cell_type": "code",
   "execution_count": 20,
   "metadata": {
    "code_folding": [],
    "collapsed": true,
    "deletable": true,
    "editable": true
   },
   "outputs": [],
   "source": [
    "# Import generic setup tools\n",
    "\n",
    "# This is a jupytext paired notebook that autogenerates KrusellSmith.py\n",
    "# which can be executed from a terminal command line via \"ipython KrusellSmith.py\"\n",
    "# But a terminal does not permit inline figures, so we need to test jupyter vs terminal\n",
    "# Google \"how can I check if code is executed in the ipython notebook\"\n",
    "def in_ipynb():\n",
    "    try:\n",
    "        if str(type(get_ipython())) == \"<class 'ipykernel.zmqshell.ZMQInteractiveShell'>\":\n",
    "            return True\n",
    "        else:\n",
    "            return False\n",
    "    except NameError:\n",
    "        return False\n",
    "\n",
    "# Determine whether to make the figures inline (for spyder or jupyter)\n",
    "# vs whatever is the automatic setting that will apply if run from the terminal\n",
    "if in_ipynb():\n",
    "    # %matplotlib inline generates a syntax error when run from the shell\n",
    "    # so do this instead\n",
    "    get_ipython().run_line_magic('matplotlib', 'inline') \n",
    "else:\n",
    "    get_ipython().run_line_magic('matplotlib', 'auto') \n",
    "\n",
    "# Import the plot-figure library matplotlib\n",
    "\n",
    "import matplotlib\n",
    "import matplotlib.pyplot as plt\n",
    "matplotlib.rcParams['text.usetex'] = True\n",
    "\n",
    "import sys\n",
    "import os\n",
    "from copy import copy\n",
    "from HARK.utilities import plotFuncs, plotFuncsDer"
   ]
  },
  {
   "cell_type": "code",
   "execution_count": 21,
   "metadata": {
    "code_folding": [],
    "collapsed": true,
    "deletable": true,
    "editable": true
   },
   "outputs": [],
   "source": [
    "# Import components of HARK needed for solving the KS model\n",
    "from HARK.ConsumptionSaving.ConsAggShockModel import *\n",
    "import HARK.ConsumptionSaving.ConsumerParameters as Params\n",
    "\n",
    "# Markov consumer type that allows aggregate shocks (redundant but instructive)\n",
    "from HARK.ConsumptionSaving.ConsAggShockModel import AggShockMarkovConsumerType"
   ]
  },
  {
   "cell_type": "code",
   "execution_count": 22,
   "metadata": {
    "code_folding": [
     4
    ],
    "collapsed": true,
    "deletable": true,
    "editable": true
   },
   "outputs": [],
   "source": [
    "# This cell defines a dictionary to make an instance of our Krusell-Smith consumer.\n",
    "\n",
    "# The folded dictionary below contains many parameters to the \n",
    "# AggShockMarkovConsumerType agent that are not needed for the KS model\n",
    "KSAgentDictionary = { \n",
    "    \"CRRA\": 1.0,                           # Coefficient of relative risk aversion\n",
    "    \"DiscFac\": 0.99,                       # Intertemporal discount factor\n",
    "    \"LivPrb\" : [1.0],                      # Survival probability\n",
    "    \"AgentCount\" : 10000,                  # Number of agents of this type (only matters for simulation)\n",
    "    \"aNrmInitMean\" : 0.0,                  # Mean of log initial assets (only matters for simulation)\n",
    "    \"aNrmInitStd\"  : 0.0,                  # Standard deviation of log initial assets (only for simulation)\n",
    "    \"pLvlInitMean\" : 0.0,                  # Mean of log initial permanent income (only matters for simulation)\n",
    "    \"pLvlInitStd\"  : 0.0,                  # Standard deviation of log initial permanent income (only matters for simulation)\n",
    "    \"PermGroFacAgg\" : 1.0,                 # Aggregate permanent income growth factor (only matters for simulation)\n",
    "    \"T_age\" : None,                        # Age after which simulated agents are automatically killed\n",
    "    \"T_cycle\" : 1,                         # Number of periods in the cycle for this agent type\n",
    "# Parameters for constructing the \"assets above minimum\" grid\n",
    "    \"aXtraMin\" : 0.001,                    # Minimum end-of-period \"assets above minimum\" value\n",
    "    \"aXtraMax\" : 20,                       # Maximum end-of-period \"assets above minimum\" value               \n",
    "    \"aXtraExtra\" : [None],                 # Some other value of \"assets above minimum\" to add to the grid\n",
    "    \"aXtraNestFac\" : 3,                    # Exponential nesting factor when constructing \"assets above minimum\" grid\n",
    "    \"aXtraCount\" : 24,                     # Number of points in the grid of \"assets above minimum\"\n",
    "# Parameters describing the income process\n",
    "    \"PermShkCount\" : 1,                    # Number of points in discrete approximation to permanent income shocks - no shocks of this kind!\n",
    "    \"TranShkCount\" : 1,                    # Number of points in discrete approximation to transitory income shocks - no shocks of this kind!\n",
    "    \"PermShkStd\" : [0.],                   # Standard deviation of log permanent income shocks - no shocks of this kind!\n",
    "    \"TranShkStd\" : [0.],                   # Standard deviation of log transitory income shocks - no shocks of this kind!\n",
    "    \"UnempPrb\" : 0.0,                      # Probability of unemployment while working - no shocks of this kind!\n",
    "    \"UnempPrbRet\" : 0.00,                  # Probability of \"unemployment\" while retired - no shocks of this kind!\n",
    "    \"IncUnemp\" : 0.0,                      # Unemployment benefits replacement rate\n",
    "    \"IncUnempRet\" : 0.0,                   # \"Unemployment\" benefits when retired\n",
    "    \"tax_rate\" : 0.0,                      # Flat income tax rate\n",
    "    \"T_retire\" : 0,                        # Period of retirement (0 --> no retirement)\n",
    "    \"BoroCnstArt\" : 0.0,                   # Artificial borrowing constraint; imposed minimum level of end-of period assets   \n",
    "    \"cycles\": 0,                           # Consumer is infinitely lived\n",
    "    \"PermGroFac\" : [1.0],                  # Permanent income growth factor\n",
    "# New Parameters that we need now    \n",
    "    'MgridBase': np.array([0.1,0.3,0.6,\n",
    "                           0.8,0.9,0.98,\n",
    "                           1.0,1.02,1.1,\n",
    "                           1.2,1.6,2.0,\n",
    "                           3.0]),          # Grid of capital-to-labor-ratios (factors)\n",
    "    'MrkvArray': np.array([[0.825,0.175],\n",
    "                           [0.175,0.825]]),  # Transition probabilities for macroecon. [i,j] is probability of being in state j next\n",
    "                                           # period conditional on being in state i this period. \n",
    "    'PermShkAggStd' : [0.0,0.0],           # Standard deviation of log aggregate permanent shocks by state. No continous shocks in a state.\n",
    "    'TranShkAggStd' : [0.0,0.0],           # Standard deviation of log aggregate transitory shocks by state. No continuous shocks in a state.\n",
    "    'PermGroFacAgg' : 1.0\n",
    "}\n",
    "\n",
    "# Here we restate just the \"interesting\" parts of the consumer's specification\n",
    "\n",
    "KSAgentDictionary['CRRA']    = 1.0      # Relative risk aversion \n",
    "KSAgentDictionary['DiscFac'] = 0.99     # Intertemporal discount factor\n",
    "KSAgentDictionary['cycles']  = 0        # cycles=0 means consumer is infinitely lived\n",
    "\n",
    "# KS assume that 'good' and 'bad' times are of equal expected duration\n",
    "# The probability of a change in the aggregate state is p_change=0.125\n",
    "p_change=0.125\n",
    "p_remain=1-p_change\n",
    "\n",
    "# Macro transition probabilities for AggShockMarkovConsumerType\n",
    "#   [i,j] is probability of being in state j next period conditional on being in state i this period. \n",
    "\n",
    "# Markov transition matrix for the aggregate state: \n",
    "# In both states, there is 0.875 chance of staying, 0.125 chance of switching\n",
    "AggMrkvArray = \\\n",
    "np.array([[p_remain,p_change],  # Probabilities of states 0 and 1 next period if in state 0\n",
    "          [p_change,p_remain]]) # Probabilities of states 0 and 1 next period if in state 1\n",
    "KSAgentDictionary['MrkvArray'] = AggMrkvArray"
   ]
  },
  {
   "cell_type": "code",
   "execution_count": 23,
   "metadata": {
    "collapsed": true,
    "deletable": true,
    "editable": true
   },
   "outputs": [],
   "source": [
    "# Create the Krusell-Smith agent as an instance of AggShockMarkovConsumerType \n",
    "KSAgent = AggShockMarkovConsumerType(**KSAgentDictionary)"
   ]
  },
  {
   "cell_type": "markdown",
   "metadata": {
    "deletable": true,
    "editable": true
   },
   "source": [
    "Now we need to specify the income distribution. \n",
    "\n",
    "The HARK toolkit allows for two components of labor income: Persistent (or permanent), and transitory.  \n",
    "\n",
    "Using the KS notation above, a HARK consumer's income is\n",
    "\\begin{eqnarray}\n",
    "y & = & w p \\ell \\epsilon \n",
    "\\end{eqnarray}\n",
    "where $p$ is the persistent component of income.  Krusell and Smith did not incorporate a persistent component of income, however, so we will simply calibrate $p=1$ for all states.\n",
    "\n",
    "For each of the two aggregate states we need to specify:\n",
    "   * The _proportion_ of consumers in the $e$ and the $u$ states\n",
    "   * The level of persistent/permanent productivity $p$ (always 1)\n",
    "   * The ratio of actual to permanent productivity in each state $\\{e,u\\}$\n",
    "      * In the KS notation, this is $\\epsilon\\ell$  \n"
   ]
  },
  {
   "cell_type": "code",
   "execution_count": 24,
   "metadata": {
    "code_folding": [
     10
    ],
    "collapsed": true,
    "deletable": true,
    "editable": true
   },
   "outputs": [],
   "source": [
    "# Construct the income distribution for the Krusell-Smith agent\n",
    "prb_eg = 0.96         # Probability of   employment in the good state\n",
    "prb_ug = 1-prb_eg     # Probability of unemployment in the good state\n",
    "prb_eb = 0.90         # Probability of   employment in the bad state\n",
    "prb_ub = 1-prb_eb     # Probability of unemployment in the bad state\n",
    "p_ind  = 1            # Persistent component of income is always 1\n",
    "ell_ug = ell_ub = 0   # Labor supply is zero for unemployed consumers in either agg state\n",
    "ell_eg = 1.0/prb_eg   # Labor supply for employed consumer in good state\n",
    "ell_eb = 1.0/prb_eb   # 1=pe_g*ell_ge+pu_b*ell_gu=pe_b*ell_be+pu_b*ell_gu\n",
    "\n",
    "KSAgent.IncomeDstn[0] = [[np.array([prb_eg,prb_ug]),np.array([p_ind,p_ind]),np.array([ell_eg,ell_ug])], # Agg state good\n",
    "                         [np.array([prb_eb,prb_ub]),np.array([p_ind,p_ind]),np.array([ell_eb,ell_ub])]  # Agg state bad\n",
    "  \n",
    "# IncomeDstn is a list of lists, one for each aggregate Markov state\n",
    "# Each contains three arrays of floats, representing a discrete approximation to the income process. \n",
    "# Order: \n",
    "#   state probabilities \n",
    "#   idiosyncratic persistent income level by state (KS have no persistent shocks p_ind is always 1.0)\n",
    "#   idiosyncratic transitory income level by state"
   ]
  },
  {
   "cell_type": "markdown",
   "metadata": {
    "deletable": true,
    "editable": true
   },
   "source": [
    "Up to this point, individual agents do not have enough information to solve their decision problem yet. What is missing are beliefs about the macro variables $r$ and $w$, both of which are functions of $z$ and $\\bar{k}$. "
   ]
  },
  {
   "cell_type": "markdown",
   "metadata": {
    "deletable": true,
    "editable": true
   },
   "source": [
    "#### The Aggregate Economy"
   ]
  },
  {
   "cell_type": "code",
   "execution_count": 25,
   "metadata": {
    "code_folding": [
     2
    ],
    "collapsed": true,
    "deletable": true,
    "editable": true
   },
   "outputs": [],
   "source": [
    "from HARK.ConsumptionSaving.ConsAggShockModel import CobbDouglasMarkovEconomy\n",
    "\n",
    "KSEconomyDictionary = {\n",
    "    'PermShkAggCount': 1, \n",
    "    'TranShkAggCount': 1, \n",
    "    'PermShkAggStd': [0.0,0.0], \n",
    "    'TranShkAggStd': [0.0,0.0], \n",
    "    'DeprFac': 0.025, # Depreciation factor\n",
    "    'CapShare': 0.36, # Share of capital income in cobb-douglas production function\n",
    "    'DiscFac': 0.99,\n",
    "    'CRRA': 1.0,\n",
    "    'PermGroFacAgg': [1.0,1.0],\n",
    "    'AggregateL':1.0, # Not sure on this. Looks like we have fixed the labour level...\n",
    "    'act_T':1200, # Number of periods for economy to run in simulation\n",
    "    'intercept_prev': [0.0,0.0], # Make some initial guesses at linear savings rule intercepts for each state\n",
    "    'slope_prev': [1.0,1.0], # Make some initial guesses at linear savings rule slopes for each state\n",
    "    'MrkvArray': np.array([[0.875,0.125],\n",
    "                           [0.125,0.875]]), # Transition probabilities\n",
    "    'MrkvNow_init': 0   # Pick a state to start in (we pick the first state)\n",
    "}\n",
    "\n",
    "# The 'interesting' parts of the CobbDouglasMarkovEconomy\n",
    "KSEconomyDictionary['CapShare']  = 0.36\n",
    "KSEconomyDictionary['MrkvArray'] = AggMrkvArray\n",
    "\n",
    "KSEconomy = CobbDouglasMarkovEconomy(agents = [KSAgent], **KSEconomyDictionary) # Combine production and consumption sides into an \"Economy\""
   ]
  },
  {
   "cell_type": "markdown",
   "metadata": {
    "deletable": true,
    "editable": true
   },
   "source": [
    "We have now populated the $\\texttt{KSEconomy}$ with $\\texttt{KSAgents}$ defined before. That is basically telling the agents to take the macro state from the $\\texttt{KSEconomy}$. \n",
    "\n",
    "Now we construct the $\\texttt{AggShkDstn}$ that specifies the evolution of the dynamics of the $\\texttt{KSEconomy}$.\n",
    "\n",
    "The structure of the inputs for $\\texttt{AggShkDstn}$ follows the same logic as for $\\texttt{IncomeDstn}$. Now there is only one possible outcome for each aggregate state (the KS aggregate states are very simple), therefore, each aggregate state has only one possible condition which happens with probability 1."
   ]
  },
  {
   "cell_type": "code",
   "execution_count": 26,
   "metadata": {
    "collapsed": false,
    "deletable": true,
    "editable": true
   },
   "outputs": [],
   "source": [
    "Perm_g = Perm_b = 1.0 # No aggregate permanent shocks\n",
    "Tran_g = 1.01 # Productivity in the good aggregate state\n",
    "Tran_b = 0.99\n",
    "\n",
    "KSAggShkDstn = [\n",
    "    [np.array([1.0]),np.array([Perm_g]),np.array([Tran_g])],\n",
    "    [np.array([1.0]),np.array([Perm_b]),np.array([Tran_b])]\n",
    "]\n",
    "\n",
    "\n",
    "KSEconomy.AggShkDstn = KSAggShkDstn\n",
    " \n",
    "# Aggregate productivity shock distribution by state.\n",
    "# First element is probabilities of different outcomes, given the state you are in. \n",
    "# Second element is agg permanent shocks (here we don't have any, so just they are just 1.).\n",
    "# Third  element is agg transitory shocks, which are calibrated the same as in Krusell Smith."
   ]
  },
  {
   "cell_type": "markdown",
   "metadata": {
    "deletable": true,
    "editable": true
   },
   "source": [
    "#### Summing Up\n",
    "\n",
    "The combined idiosyncratic and aggregate assumptions can be summarized mathematically as follows.\n",
    "\n",
    "$\\forall \\{s,s'\\}=\\{g,b\\}\\times\\{g,b\\}$, the following two conditions hold:\n",
    "\n",
    "$$\\underbrace{\\pi_{ss'01}}_{p(s \\rightarrow s',u \\rightarrow e)}+\\underbrace{\\pi_{ss'00}}_{p(s \\rightarrow s', u \\rightarrow u)} = \\underbrace{\\pi_{ss'11}}_{p(s\\rightarrow s', e \\rightarrow e) }  + \\underbrace{\\pi_{ss'10}}_{p(s \\rightarrow s', e \\rightarrow u)} = \\underbrace{\\pi_{ss'}}_{p(s\\rightarrow s')}$$\n",
    "\n",
    "$$u_s \\frac{\\pi_{ss'00}}{\\pi_{ss'}}+ (1-u_s) \\frac{\\pi_{ss'10}}{\\pi_{ss'}} = u_{s'}$$"
   ]
  },
  {
   "cell_type": "markdown",
   "metadata": {
    "deletable": true,
    "editable": true
   },
   "source": [
    "### Solving the Model\n",
    "Now, we have fully defined all of the elements of the macroeconomy, and we are in postion to construct an object that represents the economy and to construct a rational expectations equilibrium."
   ]
  },
  {
   "cell_type": "code",
   "execution_count": 27,
   "metadata": {
    "collapsed": false,
    "deletable": true,
    "editable": true
   },
   "outputs": [
    {
     "name": "stdout",
     "output_type": "stream",
     "text": [
      "intercept=[-0.38266000690730878, -0.37779831427668004], slope=[1.0943006435744063, 1.0934356265328735], r-sq=[0.99990076300977626, 0.99981018501870222]\n",
      "intercept=[-0.11933375285181119, -0.11859682468363927], slope=[1.002056729884891, 1.001894858579818], r-sq=[0.99999848532729274, 0.99999771392101167]\n",
      "intercept=[-0.064703305547204146, -0.064571885825468994], slope=[1.005418108081318, 1.0053908441410313], r-sq=[0.99999999976275555, 0.99999999978792364]\n",
      "intercept=[-0.34738561649884814, -0.35911408629299052], slope=[1.0789089579282567, 1.0831729490225988], r-sq=[0.99996536599126895, 0.99995159029925096]\n",
      "intercept=[-0.088164352699138346, -0.087690940027663797], slope=[0.99766870152432374, 0.99756108477477146], r-sq=[0.999999951601929, 0.99999993719349034]\n",
      "intercept=[-0.074651094501926724, -0.074600399178690102], slope=[1.0073883844293037, 1.0073782443454635], r-sq=[0.99999999930571937, 0.99999999935155315]\n",
      "intercept=[-0.34396416683016739, -0.35680167556477077], slope=[1.0775335219960203, 1.0820843030057878], r-sq=[0.99993779392108217, 0.99992088517034006]\n",
      "intercept=[-0.079554883051761074, -0.078765378124819471], slope=[0.99560074470121429, 0.99539753023110422], r-sq=[0.99999996428452842, 0.9999999525225306]\n",
      "intercept=[-0.075036416560860464, -0.07492518639773392], slope=[1.0073747415743679, 1.0073464425627787], r-sq=[0.99999999919922788, 0.99999999926948369]\n",
      "intercept=[-0.3430814819019114, -0.35602887125669702], slope=[1.0772181088600168, 1.0817931124395475], r-sq=[0.99993396964144665, 0.99991655230435772]\n",
      "intercept=[-0.078555783644463403, -0.07772154644472587], slope=[0.99538803058402525, 0.99517146913281329], r-sq=[0.99999996575996664, 0.99999995415719034]\n",
      "intercept=[-0.07523658424736486, -0.075117041442951213], slope=[1.0074065713180211, 1.0073757973931186], r-sq=[0.99999999917974391, 0.99999999925310346]\n",
      "intercept=[-0.34293251020806315, -0.35590594801693637], slope=[1.077162965384499, 1.081744119677257], r-sq=[0.99993292271715761, 0.99991536532536562]\n",
      "intercept=[-0.078327144179888009, -0.077483523103174856], slope=[0.99533685980092679, 0.99511748903685948], r-sq=[0.99999996605967201, 0.99999995449470769]\n",
      "intercept=[-0.075269553166094155, -0.075148249925108046], slope=[1.0074110752506078, 1.0073797763442767], r-sq=[0.99999999917574045, 0.99999999924984517]\n",
      "intercept=[-0.34290182367454908, -0.35588007239602698], slope=[1.0771517349483815, 1.0817339996325275], r-sq=[0.9999327291713308, 0.99991514560649009]\n",
      "intercept=[-0.07828408827843536, -0.077438659136234544], slope=[0.99532736383074838, 0.99510745253784072], r-sq=[0.99999996611710074, 0.99999995455893453]\n",
      "intercept=[-0.075276558018756767, -0.075154916833172117], slope=[1.0074120943682117, 1.0073806947539763], r-sq=[0.99999999917495397, 0.99999999924919791]\n",
      "intercept=[-0.34289580484025489, -0.35587503131019954], slope=[1.0771495244239704, 1.0817320165521225], r-sq=[0.99993268961242832, 0.99991510072906564]\n",
      "intercept=[-0.078275399016416614, -0.077429607662604635], slope=[0.99532543876447499, 0.99510541914157236], r-sq=[0.99999996612858311, 0.99999995457180513]\n"
     ]
    }
   ],
   "source": [
    "# Construct the economy, make an initial history, then solve \n",
    "\n",
    "KSAgent.getEconomyData(KSEconomy) # Makes attributes of the economy, attributes of the agent\n",
    "\n",
    "KSEconomy.makeAggShkHist() # Make a simulated history of the economy\n",
    "\n",
    "# Solve macro problem by finding a fixed point for beliefs\n",
    "\n",
    "KSEconomy.solve() # Solve the economy using the market method. \n",
    "# i.e. guess the saving function, and iterate until a fixed point"
   ]
  },
  {
   "cell_type": "markdown",
   "metadata": {
    "deletable": true,
    "editable": true
   },
   "source": [
    "The last line above is the converged aggregate saving rule for good and bad times, respectively."
   ]
  },
  {
   "cell_type": "code",
   "execution_count": 28,
   "metadata": {
    "code_folding": [],
    "collapsed": false,
    "deletable": true,
    "editable": true,
    "scrolled": true
   },
   "outputs": [
    {
     "name": "stdout",
     "output_type": "stream",
     "text": [
      "Aggregate savings as a function of aggregate market resources:\n"
     ]
    },
    {
     "data": {
      "image/png": "[encoded data removed]",
      "text/plain": [
       "<matplotlib.figure.Figure at 0x11548b320>"
      ]
     },
     "metadata": {},
     "output_type": "display_data"
    },
    {
     "name": "stdout",
     "output_type": "stream",
     "text": [
      "Consumption function at each aggregate market resources gridpoint (in general equilibrium):\n"
     ]
    },
    {
     "data": {
      "image/png": "[encoded data removed]",
      "text/plain": [
       "<matplotlib.figure.Figure at 0x115686978>"
      ]
     },
     "metadata": {},
     "output_type": "display_data"
    },
    {
     "name": "stdout",
     "output_type": "stream",
     "text": [
      "Saving at each individual market resources gridpoint (in general equilibrium):\n"
     ]
    },
    {
     "data": {
      "image/png": "[encoded data removed]",
      "text/plain": [
       "<matplotlib.figure.Figure at 0x1154f6dd8>"
      ]
     },
     "metadata": {},
     "output_type": "display_data"
    }
   ],
   "source": [
    "# Plot some key results\n",
    "\n",
    "print('Aggregate savings as a function of aggregate market resources:')\n",
    "plotFuncs(KSEconomy.AFunc,0.1,2*KSEconomy.kSS)\n",
    "\n",
    "print('Consumption function at each aggregate market resources gridpoint (in general equilibrium):')\n",
    "KSAgent.unpackcFunc()\n",
    "m_grid = np.linspace(0,10,200)\n",
    "KSAgent.unpackcFunc()\n",
    "for M in KSAgent.Mgrid:\n",
    "    c_at_this_M = KSAgent.solution[0].cFunc[0](m_grid,M*np.ones_like(m_grid)) #Have two consumption functions, check this\n",
    "    plt.plot(m_grid,c_at_this_M)\n",
    "plt.show()\n",
    "\n",
    "print('Saving at each individual market resources gridpoint (in general equilibrium):')\n",
    "KSAgent.unpackcFunc()\n",
    "m_grid = np.linspace(0,10,200)\n",
    "KSAgent.unpackcFunc()\n",
    "for M in KSAgent.Mgrid:\n",
    "    s_at_this_M = m_grid-KSAgent.solution[0].cFunc[1](m_grid,M*np.ones_like(m_grid))\n",
    "    c_at_this_M = KSAgent.solution[0].cFunc[1](m_grid,M*np.ones_like(m_grid)) #Have two consumption functions, check this\n",
    "    plt.plot(m_grid,s_at_this_M)\n",
    "plt.show()"
   ]
  },
  {
   "cell_type": "markdown",
   "metadata": {
    "deletable": true,
    "editable": true
   },
   "source": [
    "### The Wealth Distribution in KS\n",
    "\n",
    "#### Benchmark Model\n"
   ]
  },
  {
   "cell_type": "code",
   "execution_count": 29,
   "metadata": {
    "collapsed": false,
    "deletable": true,
    "editable": true
   },
   "outputs": [
    {
     "name": "stdout",
     "output_type": "stream",
     "text": [
      "The mean of individual wealth is 25.2595466865;\n",
      " the standard deviation is 5.12755806898;\n",
      " the median is 25.4484373625.\n"
     ]
    }
   ],
   "source": [
    "sim_wealth = KSEconomy.aLvlNow[0]\n",
    "\n",
    "print(\"The mean of individual wealth is \"+ str(sim_wealth.mean()) + \";\\n the standard deviation is \"\n",
    "      + str(sim_wealth.std())+\";\\n the median is \" + str(np.median(sim_wealth)) +\".\")"
   ]
  },
  {
   "cell_type": "code",
   "execution_count": 30,
   "metadata": {
    "code_folding": [
     0
    ],
    "collapsed": true,
    "deletable": true,
    "editable": true
   },
   "outputs": [],
   "source": [
    "# Get some tools for plotting simulated vs actual wealth distributions\n",
    "from HARK.utilities import getLorenzShares, getPercentiles\n",
    "\n",
    "# The cstwMPC model conveniently has data on the wealth distribution \n",
    "# from the U.S. Survey of Consumer Finances\n",
    "from HARK.cstwMPC.SetupParamsCSTW import SCF_wealth, SCF_weights"
   ]
  },
  {
   "cell_type": "code",
   "execution_count": 31,
   "metadata": {
    "code_folding": [],
    "collapsed": false,
    "deletable": true,
    "editable": true
   },
   "outputs": [
    {
     "data": {
      "image/png": "[encoded data removed]",
      "text/plain": [
       "<matplotlib.figure.Figure at 0x11598f3c8>"
      ]
     },
     "metadata": {},
     "output_type": "display_data"
    }
   ],
   "source": [
    "# Construct the Lorenz curves and plot them\n",
    "\n",
    "pctiles = np.linspace(0.001,0.999,15)\n",
    "SCF_Lorenz_points = getLorenzShares(SCF_wealth,weights=SCF_weights,percentiles=pctiles)\n",
    "sim_Lorenz_points = getLorenzShares(sim_wealth,percentiles=pctiles)\n",
    "\n",
    "# Plot \n",
    "plt.figure(figsize=(5,5))\n",
    "plt.title('Wealth Distribution')\n",
    "plt.plot(pctiles,SCF_Lorenz_points,'--k',label='SCF')\n",
    "plt.plot(pctiles,sim_Lorenz_points,'-b',label='Benchmark KS')\n",
    "plt.plot(pctiles,pctiles,'g-.',label='45 Degree')\n",
    "plt.xlabel('Percentile of net worth')\n",
    "plt.ylabel('Cumulative share of wealth')\n",
    "plt.legend(loc=2)\n",
    "plt.ylim([0,1])\n",
    "plt.show()"
   ]
  },
  {
   "cell_type": "code",
   "execution_count": 32,
   "metadata": {
    "collapsed": false,
    "deletable": true,
    "editable": true
   },
   "outputs": [
    {
     "name": "stdout",
     "output_type": "stream",
     "text": [
      "The Euclidean distance between simulated wealth distribution and the estimates from the SCF data is 1.44624205258\n"
     ]
    }
   ],
   "source": [
    "# Calculate a measure of the difference between the simulated and empirical distributions\n",
    "lorenz_distance = np.sqrt(np.sum((SCF_Lorenz_points - sim_Lorenz_points)**2))\n",
    "print(\"The Euclidean distance between simulated wealth distribution and the estimates from the SCF data is \"+str(lorenz_distance) )"
   ]
  },
  {
   "cell_type": "markdown",
   "metadata": {
    "deletable": true,
    "editable": true
   },
   "source": [
    "#### Heterogeneous Time Preference Rates\n",
    "\n",
    "As the figures show, the distribution of wealth that the baseline KS model produces is very far from matching the empirical degree of inequality in the US data.\n",
    "\n",
    "This could matter for macroeconomic purposes.  For example, the SCF data indicate that many agents are concentrated at low values of wealth where the MPC is very large.  We might expect, therefore, that a fiscal policy \"stimulus\" that gives a fixed amount of money to every agent would have a large effect on the consumption of the low-wealth households who have a high Marginal Propensity to Consume.\n",
    "\n",
    "KS attempt to address this problem by assuming that an individual agent's time preference rate can change over time.\n",
    "\n",
    "The rationale is that this represents a generational transition: The \"agent\" is really a \"dynasty\" and the time preference rate of the \"child\" dynast may differ from that of the \"parent.\"\n",
    "\n",
    "Specifically, KS assume that $\\beta$ can take on three values, 0.9858, 0.9894, and 0.9930, and that the transition probabilities are such that \n",
    "- The invariant distribution for $\\beta$’s has 80 percent of the population at the middle $\\beta$ and 10 percent at each of the other $\\beta$’s.\n",
    "- Immediate transitions between the extreme values of $\\beta$ occur with probability zero. \n",
    "- The average duration of the highest and lowest $\\beta$’s is 50 years. \n",
    "\n",
    "The HARK toolkit is not natively set up to accommodate stochastic time preference factors (though an extension to accommodate this would be easy).  \n",
    "\n",
    "Here, instead, we assume that different agents have different values of $\\beta$ that are uniformly distributed over some range. We approximate the uniform distribution by seven points.  The agents are heterogeneous _ex ante_ (and permanently)."
   ]
  },
  {
   "cell_type": "code",
   "execution_count": 33,
   "metadata": {
    "collapsed": true,
    "deletable": true,
    "editable": true
   },
   "outputs": [],
   "source": [
    "# Construct the distribution of types\n",
    "from HARK.utilities import approxUniform\n",
    "\n",
    "# Specify the distribution of the discount factor\n",
    "num_types = 3              # number of types we want;\n",
    "DiscFac_mean   = 0.9858    # center of beta distribution \n",
    "DiscFac_spread = 0.0085    # spread of beta distribution\n",
    "DiscFac_dstn = approxUniform(num_types, DiscFac_mean-DiscFac_spread, DiscFac_mean+DiscFac_spread)[1]\n",
    "BaselineType = deepcopy(KSAgent)\n",
    "\n",
    "MyTypes = [] # initialize an empty list to hold our consumer types\n",
    "for nn in range(len(DiscFac_dstn)):\n",
    "    # Now create the types, and append them to the list MyTypes\n",
    "    NewType = deepcopy(BaselineType)\n",
    "    NewType.DiscFac = DiscFac_dstn[nn]\n",
    "    NewType.seed = nn # give each consumer type a different RNG seed\n",
    "    MyTypes.append(NewType)"
   ]
  },
  {
   "cell_type": "code",
   "execution_count": 34,
   "metadata": {
    "collapsed": false,
    "deletable": true,
    "editable": true
   },
   "outputs": [
    {
     "name": "stdout",
     "output_type": "stream",
     "text": [
      "**** WARNING: could not execute multiThreadCommands in HARK.core.Market.solveAgents(), so using the serial version instead. This will likely be slower. The multiTreadCommands() functions failed with the following error: \n",
      "     <class 'AttributeError'> : Can't pickle local object 'CobbDouglasEconomy.update.<locals>.<lambda>'\n",
      "intercept=[-0.10914620839790044, -0.10277670163981717], slope=[1.0136019833147489, 1.0121591803339216], r-sq=[0.99997651520252429, 0.99994338195403787]\n",
      "intercept=[-0.28743921897048241, -0.28817683338830491], slope=[1.0590810537929183, 1.0596640637655401], r-sq=[0.99974707753448622, 0.99951800067065366]\n",
      "intercept=[-0.20309971183679293, -0.20752498416456377], slope=[1.035062517811117, 1.0365381184926732], r-sq=[0.99986973864812068, 0.99972100814260623]\n",
      "intercept=[-0.23113547838850632, -0.22742204670998722], slope=[1.043793030572747, 1.0430849908811579], r-sq=[0.99940877454610244, 0.99879338819286989]\n",
      "intercept=[-0.24144332220270226, -0.24654225752691722], slope=[1.0459490524680772, 1.0476012093719314], r-sq=[0.99984423644952136, 0.99968364640015472]\n",
      "intercept=[-0.25431004090802606, -0.24861597440517513], slope=[1.0498044805011824, 1.0485663921633717], r-sq=[0.99929258970866763, 0.99857301841366741]\n",
      "intercept=[-0.23816540126281333, -0.24717601143615137], slope=[1.0452129684837239, 1.0479053336715889], r-sq=[0.99976829629513986, 0.9995089119257341]\n",
      "intercept=[-0.24769841126889774, -0.25372248198875275], slope=[1.0480366682952771, 1.0498684737869111], r-sq=[0.99940690453301306, 0.9987928609428135]\n",
      "intercept=[-0.251976729554654, -0.25518602416368774], slope=[1.0489868326978853, 1.0500970425950202], r-sq=[0.99962418176626078, 0.99921500414484055]\n",
      "intercept=[-0.24946130385308152, -0.24990932227174228], slope=[1.0484644284238622, 1.0488258688130003], r-sq=[0.99943264681049193, 0.99883413775881769]\n",
      "intercept=[-0.24827598526123254, -0.25129684501023242], slope=[1.0480158102377861, 1.049074818076223], r-sq=[0.99963115994170015, 0.99922543902610184]\n",
      "intercept=[-0.24995958213785102, -0.25008094744048714], slope=[1.0485811405613621, 1.0488559722559014], r-sq=[0.99946527280571473, 0.99890148212799623]\n",
      "intercept=[-0.24940144792439045, -0.25176410620921735], slope=[1.0483333141369076, 1.0492138771060859], r-sq=[0.99961081158396292, 0.99918708656561284]\n",
      "intercept=[-0.24896748496040694, -0.24959205215287247], slope=[1.0483041100066164, 1.0487133739427315], r-sq=[0.99948150016515025, 0.99892935335002786]\n",
      "intercept=[-0.24993575843220991, -0.25311077484234629], slope=[1.0484882681225298, 1.0495859144591879], r-sq=[0.99958788342233229, 0.99914895302422968]\n",
      "intercept=[-0.24763642359117591, -0.24889328461349616], slope=[1.0479384244121079, 1.0485171467513426], r-sq=[0.99949952509629059, 0.9989606038126978]\n",
      "intercept=[-0.24762972143126014, -0.25355548086796809], slope=[1.0478787372459037, 1.0497135742452817], r-sq=[0.99957062400772145, 0.99910447808318636]\n",
      "intercept=[-0.24714937179645891, -0.24868433038401888], slope=[1.0478010221895142, 1.0484545858938594], r-sq=[0.99951861466426473, 0.99899725369386383]\n",
      "intercept=[-0.2479267992680278, -0.25073110328643106], slope=[1.0479648312184091, 1.0489617993807439], r-sq=[0.999561694996429, 0.99908165861635723]\n",
      "intercept=[-0.24847326774634135, -0.24941612284361464], slope=[1.048149689864275, 1.0486451747172358], r-sq=[0.99951550233499198, 0.9989931086566699]\n"
     ]
    }
   ],
   "source": [
    "# Put all agents into the economy\n",
    "KSEconomy_sim = CobbDouglasMarkovEconomy(agents = MyTypes, **KSEconomyDictionary) \n",
    "KSEconomy_sim.AggShkDstn = KSAggShkDstn # Agg shocks are the same as defined earlier\n",
    "\n",
    "for ThisType in MyTypes:\n",
    "    ThisType.getEconomyData(KSEconomy_sim) # Makes attributes of the economy, attributes of the agent\n",
    "\n",
    "KSEconomy_sim.makeAggShkHist() # Make a simulated prehistory of the economy\n",
    "KSEconomy_sim.solve()          # Solve macro problem by getting a fixed point dynamic rule"
   ]
  },
  {
   "cell_type": "code",
   "execution_count": 35,
   "metadata": {
    "collapsed": false,
    "deletable": true,
    "editable": true
   },
   "outputs": [
    {
     "name": "stdout",
     "output_type": "stream",
     "text": [
      "Aggregate capital to income ratio is 39.5338402087\n"
     ]
    }
   ],
   "source": [
    "# Get the level of end-of-period assets a for all types of consumers\n",
    "aLvl_all = np.concatenate([KSEconomy_sim.aLvlNow[i] for i in range(len(MyTypes))])\n",
    "print('Aggregate capital to income ratio is ' + str(np.mean(aLvl_all)))"
   ]
  },
  {
   "cell_type": "code",
   "execution_count": 65,
   "metadata": {
    "collapsed": false
   },
   "outputs": [
    {
     "data": {
      "image/png": "[encoded data removed]",
      "text/plain": [
       "<matplotlib.figure.Figure at 0x117b67198>"
      ]
     },
     "metadata": {},
     "output_type": "display_data"
    }
   ],
   "source": [
    "# Plot the distribution of wealth across all agent types\n",
    "sim_3beta_wealth = aLvl_all\n",
    "pctiles = np.linspace(0.001,0.999,15)\n",
    "sim_Lorenz_points = getLorenzShares(sim_wealth,percentiles=pctiles)\n",
    "SCF_Lorenz_points = getLorenzShares(SCF_wealth,weights=SCF_weights,percentiles=pctiles)\n",
    "sim_3beta_Lorenz_points = getLorenzShares(sim_3beta_wealth,percentiles=pctiles)\n",
    "\n",
    "## Plot\n",
    "plt.figure(figsize=(5,5))\n",
    "plt.title('Wealth Distribution')\n",
    "plt.plot(pctiles,SCF_Lorenz_points,'--k',label='SCF')\n",
    "plt.plot(pctiles,sim_Lorenz_points,'-b',label='Benchmark KS')\n",
    "plt.plot(pctiles,sim_3beta_Lorenz_points,'-*r',label='3 Types')\n",
    "plt.plot(pctiles,pctiles,'g-.',label='45 Degree')\n",
    "plt.xlabel('Percentile of net worth')\n",
    "plt.ylabel('Cumulative share of wealth')\n",
    "plt.legend(loc=2)\n",
    "plt.ylim([0,1])\n",
    "plt.show()"
   ]
  },
  {
   "cell_type": "code",
   "execution_count": 66,
   "metadata": {
    "collapsed": false,
    "deletable": true,
    "editable": true
   },
   "outputs": [
    {
     "data": {
      "text/plain": [
       "<matplotlib.text.Text at 0x117e27278>"
      ]
     },
     "execution_count": 66,
     "metadata": {},
     "output_type": "execute_result"
    },
    {
     "data": {
      "image/png": "[encoded data removed]",
      "text/plain": [
       "<matplotlib.figure.Figure at 0x117c0c4e0>"
      ]
     },
     "metadata": {},
     "output_type": "display_data"
    }
   ],
   "source": [
    "for i in range(len(MyTypes)):\n",
    "    if i<=2:\n",
    "        plt.hist(KSEconomy_sim.aLvlNow[i],label=r'\\beta='+str(round(DiscFac_dstn[i],4)))\n",
    "plt.legend(loc=2)\n",
    "plt.title('Wealth Distribution of 3 Types')"
   ]
  },
  {
   "cell_type": "code",
   "execution_count": 67,
   "metadata": {
    "collapsed": false,
    "deletable": true,
    "editable": true
   },
   "outputs": [
    {
     "data": {
      "text/plain": [
       "<matplotlib.text.Text at 0x117fd3be0>"
      ]
     },
     "execution_count": 67,
     "metadata": {},
     "output_type": "execute_result"
    },
    {
     "data": {
      "image/png": "[encoded data removed]",
      "text/plain": [
       "<matplotlib.figure.Figure at 0x11788e6a0>"
      ]
     },
     "metadata": {},
     "output_type": "display_data"
    }
   ],
   "source": [
    "#print('Wealth Distribution of the Most Impatient Type')\n",
    "plt.hist(KSEconomy_sim.aLvlNow[0])\n",
    "plt.title('Wealth Distribution of the Most Impatient Type')"
   ]
  },
  {
   "cell_type": "code",
   "execution_count": 68,
   "metadata": {
    "collapsed": false,
    "deletable": true,
    "editable": true
   },
   "outputs": [
    {
     "data": {
      "text/plain": [
       "<matplotlib.text.Text at 0x118135550>"
      ]
     },
     "execution_count": 68,
     "metadata": {},
     "output_type": "execute_result"
    },
    {
     "data": {
      "image/png": "[encoded data removed]",
      "text/plain": [
       "<matplotlib.figure.Figure at 0x118000898>"
      ]
     },
     "metadata": {},
     "output_type": "display_data"
    }
   ],
   "source": [
    "#print('Wealth Distribution of the Most patient Type:')\n",
    "plt.hist(KSEconomy_sim.aLvlNow[-1])\n",
    "plt.title('Wealth Distribution of the Most Patient Type')"
   ]
  }
 ],
 "metadata": {
  "jupytext": {
   "formats": "ipynb,py:percent",
   "text_representation": {
    "extension": ".py",
    "format_name": "percent",
    "format_version": "1.1",
    "jupytext_version": "0.8.3"
   }
  },
  "kernelspec": {
   "display_name": "Python 3",
   "language": "python",
   "name": "python3"
  },
  "language_info": {
   "codemirror_mode": {
    "name": "ipython",
    "version": 3
   },
   "file_extension": ".py",
   "mimetype": "text/x-python",
   "name": "python",
   "nbconvert_exporter": "python",
   "pygments_lexer": "ipython3",
   "version": "3.5.3"
  }
 },
 "nbformat": 4,
 "nbformat_minor": 2
}
