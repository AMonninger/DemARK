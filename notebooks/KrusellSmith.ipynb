{
 "cells": [
  {
   "cell_type": "markdown",
   "metadata": {
    "deletable": true,
    "editable": true
   },
   "source": [
    "# Krusell Smith\n",
    "\n",
    "- Authored by Tim Munday \n",
    "- Comments and Additions by Tao Wang & Melih Firat"
   ]
  },
  {
   "cell_type": "markdown",
   "metadata": {
    "deletable": true,
    "editable": true
   },
   "source": [
    "### KS"
   ]
  },
  {
   "cell_type": "markdown",
   "metadata": {
    "deletable": true,
    "editable": true
   },
   "source": [
    "In the benchmark Krusell-Smith model, heterogeneity stems from the assumption that idiosyncratic income shocks are partially uninsurable. Each agent faces two types of uncertainty, \n",
    "\n",
    "- (i) whether the agent is employed or not (which is idiosyncratic);\n",
    "- (ii) the aggregate state of the economy. There is only one type of consumer, which is infinitely lived. \n",
    "\n",
    "Where possible, we follow the notation of Krusell and Smith (1998)."
   ]
  },
  {
   "cell_type": "markdown",
   "metadata": {
    "deletable": true,
    "editable": true
   },
   "source": [
    "Preferences of the agents are CRRA. \n",
    "\n",
    "Each agent is endowed with one unit of time, and supplies $l\\epsilon$ units of labour in a given period. \n",
    "\n",
    "$\\epsilon$ is stochartic and is either zero or one and denotes whether the agent is employed or unemployed. The agent can save and self insure by buying capital $k$ which is bounded below at the borrowing constraint of 0.\n",
    "\n",
    "There is production of only one good, output ($y$), which follows a Cobb-Douglas production function using capital and labour. \n",
    "\n",
    "Variables with bars above denote aggregate variables: $y = z\\bar{k}^\\alpha \\bar{l}^{1-\\alpha}$. \n",
    "\n",
    "$z$ denotes the aggregate shock to productivity. $z$ can take two values, either $z_g$ which denotes a \"good\" state, or $z_b$ which denotes a \"bad\" state. Consumers gain income from the rental return on capital and labour, both of which are paid their marginal products."
   ]
  },
  {
   "cell_type": "markdown",
   "metadata": {
    "deletable": true,
    "editable": true
   },
   "source": [
    "The aggregate shocks follow first-order Markov chains, with the transition probability of moving from state $s$ to state $s'$ denoted by $\\pi_{ss'}$. The aggregate shocks and individual shocks are correlated. That is the probability of being unemployed is different in good and bad times.(Tao)\n",
    "\n",
    "We assume that the individual shocks satisfy the law of large numbers, such that the number of agents who are unemployed in the good state always equals $u_g$ and $u_b$ in the bad state. That means given the aggregate state, individual shocks are independent from each other.\n",
    "\n",
    "For the individual, the probability of moving between a good state and employment to a bad state and unemployment is denoted $\\pi_{gb10}$ with similar notations for the other transition probabilities.\n",
    "\n",
    "The cross-section restrictions are $\\forall \\{s,s'\\}=\\{g,b\\}\\times\\{g,b\\}$, the following two conditions hold.(Tao)\n",
    "\n",
    "\n",
    "\n",
    "$$\\underbrace{\\pi_{ss'01}}_{p(s \\rightarrow s',ue \\rightarrow em)}+\\underbrace{\\pi_{ss'00}}_{p(s \\rightarrow s', ue \\rightarrow ue)} = \\underbrace{\\pi_{ss'11}}_{p(s\\rightarrow s', em \\rightarrow em) }  + \\underbrace{\\pi_{ss'10}}_{p(s \\rightarrow s', em \\rightarrow ue)} = \\underbrace{\\pi_{ss'}}_{p(s\\rightarrow s')}$$\n",
    "\n",
    "$$u_s \\frac{\\pi_{ss'00}}{\\pi_{ss'}}+ (1-u_s) \\frac{\\pi_{ss'10}}{\\pi_{ss'}} = u_{s'}$$\n",
    "\n",
    "Krusell and Smith have serially correlated unemployment. In our model we will simplify this and have unemployment be serially uncorrelated. "
   ]
  },
  {
   "cell_type": "markdown",
   "metadata": {
    "deletable": true,
    "editable": true
   },
   "source": [
    "Finally, denote $\\Gamma$ as the current distribution of consumers over capital and employment status, and let $H$ be the law of motion of this distribution. "
   ]
  },
  {
   "cell_type": "markdown",
   "metadata": {
    "deletable": true,
    "editable": true
   },
   "source": [
    "The individual's problem is:\n",
    "\\begin{eqnarray*}\n",
    "V(k, \\epsilon; \\Gamma, z) &=& max_{c, k'}\\{U(c) + \\beta E[V(k' ,\\epsilon'; \\Gamma', z')|z, \\epsilon]\\} \\\\\n",
    "c + k' &=& r(\\bar{k}, \\bar{l}, z)k + w(\\bar{k}, \\bar{l}, z)l\\epsilon + (1-\\delta)k \\\\\n",
    "\\Gamma' &=& H(\\Gamma, z, z') \\\\\n",
    "k' &\\geq& 0 \\\\\n",
    "\\end{eqnarray*}"
   ]
  },
  {
   "cell_type": "markdown",
   "metadata": {
    "deletable": true,
    "editable": true
   },
   "source": [
    "Krusell and Smith then define a recursive competitive equilibrium as a law of motion $H$, a value function $V$, decision rule for updating capital $f$ and pricing functions $r$ and $w$, such that $V$ and $f$ solve the consumers problem, $r$ and $w$ denote the marginal productionns of capital and labour, and $H$ is consistent with $f$ (i.e. if we add up all of the individual agents capital choices we get the correct distribution of capital)."
   ]
  },
  {
   "cell_type": "markdown",
   "metadata": {
    "deletable": true,
    "editable": true
   },
   "source": [
    "##### Discussion of the Algorithm (Tao)\n",
    "\n",
    "In general, $\\Gamma$ could be a high-dimensional object as it may include the whole distribution of individuals wealth in the economy. As each individual makes non-homogenous decision of saving for the next period, the change of total capital does not allow a linear aggregation. Therefore the law of motion $H$ is not a trivial function of the $\\Gamma$. \n",
    "\n",
    "KS simplified this problem by the following logic. \n",
    "\n",
    "- As far as individual is concerned for her own decision, it is sufficient to know how the average capital is going to evolve as that is what determines the interest rate and wage in next period; \n",
    "- With bonded rationality assumption, it is okay to assume individual only tracks the first few moments of the wealth distribution;\n",
    "\n",
    "So the iteration procedure goes like this:\n",
    "\n",
    "1. Choose the number of moments to be included in the information set. In the simplistic case, only mean of total capital. KS call it $\\Gamma_I$. \n",
    "2. Let individual guess a function form of the law of motion of these moments, $H_I$  and finds the optimal decision policy, $f_I$.\n",
    "3. Use the optimal policy to simulate a history of aggregate capital with a great number of agents. \n",
    "4. Characterize the realized law of motion using the same moments. \n",
    "5. Compare it with the $H_I$, what is taken as given by individuals. \n",
    "6. Iterate till the two converge. \n",
    "\n",
    "After all of these, KS presents their findings: \n",
    "- a log-linear process of the first moment, average capital, $\\bar k$ is good enough to approximate the aggregate transition.\n",
    "\n",
    "\n",
    "** Not surprising, isn't it?** \n",
    "\n",
    "Anyway, the question has been all the way simplifed to the following:\n",
    "\n",
    "\n",
    "\\begin{eqnarray*}\n",
    "V(k, \\epsilon; \\bar k, z) &=& max_{c, k'}\\{U(c) + \\beta E[V(k' ,\\epsilon'; \\bar k', z')|z, \\epsilon]\\} \\\\\n",
    "c + k' &=& r(\\bar{k}, \\bar{l}, z)k + w(\\bar{k}, \\bar{l}, z)l\\epsilon + (1-\\delta)k; \\\\\n",
    " z=z_g \\quad log\\bar k' = a_0 + a_1 log\\bar k; \\\\\n",
    " z=z_b  \\quad  log\\bar k' = b_0 + b_1 log\\bar k ; \\\\\n",
    "k' &\\geq& 0 \\\\\n",
    "\\end{eqnarray*}\n",
    "\n",
    "\n",
    "\n"
   ]
  },
  {
   "cell_type": "markdown",
   "metadata": {
    "deletable": true,
    "editable": true
   },
   "source": [
    "#### The Consumer"
   ]
  },
  {
   "cell_type": "code",
   "execution_count": 1,
   "metadata": {
    "collapsed": false,
    "deletable": true,
    "editable": true
   },
   "outputs": [],
   "source": [
    "# Initial imports and notebook setup\n",
    "\n",
    "%matplotlib inline\n",
    "import matplotlib\n",
    "import matplotlib.pyplot as plt\n",
    "matplotlib.rcParams['text.usetex'] = True\n",
    "matplotlib.rcParams['text.latex.unicode'] = True\n",
    "\n",
    "import sys\n",
    "import os\n",
    "from copy import copy\n",
    "from HARK.utilities import plotFuncs, plotFuncsDer\n",
    "from HARK.ConsumptionSaving.ConsAggShockModel import *\n",
    "import HARK.ConsumptionSaving.ConsumerParameters as Params"
   ]
  },
  {
   "cell_type": "code",
   "execution_count": 2,
   "metadata": {
    "collapsed": true,
    "deletable": true,
    "editable": true
   },
   "outputs": [],
   "source": [
    "# Import Markov consumer type that allows aggregate shocks too\n",
    "\n",
    "from HARK.ConsumptionSaving.ConsAggShockModel import AggShockMarkovConsumerType"
   ]
  },
  {
   "cell_type": "code",
   "execution_count": 3,
   "metadata": {
    "collapsed": true,
    "deletable": true,
    "editable": true
   },
   "outputs": [],
   "source": [
    "# This cell defines a dictionary to make an instance of our Krusell-Smith consumer.\n",
    "KSAgentDictionary = { \n",
    "    \"CRRA\": 1.0,                           # Coefficient of relative risk aversion\n",
    "    \"DiscFac\": 0.99,                       # Intertemporal discount factor\n",
    "    \"LivPrb\" : [1.0],                      # Survival probability\n",
    "    \"AgentCount\" : 10000,                  # Number of agents of this type (only matters for simulation)\n",
    "    \"aNrmInitMean\" : 0.0,                  # Mean of log initial assets (only matters for simulation)\n",
    "    \"aNrmInitStd\"  : 0.0,                  # Standard deviation of log initial assets (only for simulation)\n",
    "    \"pLvlInitMean\" : 0.0,                  # Mean of log initial permanent income (only matters for simulation)\n",
    "    \"pLvlInitStd\"  : 0.0,                  # Standard deviation of log initial permanent income (only matters for simulation)\n",
    "    \"PermGroFacAgg\" : 1.0,                 # Aggregate permanent income growth factor (only matters for simulation)\n",
    "    \"T_age\" : None,                        # Age after which simulated agents are automatically killed\n",
    "    \"T_cycle\" : 1,                         # Number of periods in the cycle for this agent type\n",
    "# Parameters for constructing the \"assets above minimum\" grid\n",
    "    \"aXtraMin\" : 0.001,                    # Minimum end-of-period \"assets above minimum\" value\n",
    "    \"aXtraMax\" : 20,                       # Maximum end-of-period \"assets above minimum\" value               \n",
    "    \"aXtraExtra\" : [None],                 # Some other value of \"assets above minimum\" to add to the grid\n",
    "    \"aXtraNestFac\" : 3,                    # Exponential nesting factor when constructing \"assets above minimum\" grid\n",
    "    \"aXtraCount\" : 24,                     # Number of points in the grid of \"assets above minimum\"\n",
    "# Parameters describing the income process\n",
    "    \"PermShkCount\" : 1,                    # Number of points in discrete approximation to permanent income shocks - no shocks of this kind!\n",
    "    \"TranShkCount\" : 1,                    # Number of points in discrete approximation to transitory income shocks - no shocks of this kind!\n",
    "    \"PermShkStd\" : [0.],                   # Standard deviation of log permanent income shocks - no shocks of this kind!\n",
    "    \"TranShkStd\" : [0.],                   # Standard deviation of log transitory income shocks - no shocks of this kind!\n",
    "    \"UnempPrb\" : 0.0,                      # Probability of unemployment while working - no shocks of this kind!\n",
    "    \"UnempPrbRet\" : 0.00,                  # Probability of \"unemployment\" while retired - no shocks of this kind!\n",
    "    \"IncUnemp\" : 0.0,                      # Unemployment benefits replacement rate\n",
    "    \"IncUnempRet\" : 0.0,                   # \"Unemployment\" benefits when retired\n",
    "    \"tax_rate\" : 0.0,                      # Flat income tax rate\n",
    "    \"T_retire\" : 0,                        # Period of retirement (0 --> no retirement)\n",
    "    \"BoroCnstArt\" : 0.0,                   # Artificial borrowing constraint; imposed minimum level of end-of period assets   \n",
    "    \"cycles\": 0,                           # Consumer is infinitely lived\n",
    "    \"PermGroFac\" : [1.0],                  # Permanent income growth factor\n",
    "# New Parameters that we need now    \n",
    "    'MgridBase': np.array([0.1,0.3,0.6,\n",
    "                           0.8,0.9,0.98,\n",
    "                           1.0,1.02,1.1,\n",
    "                           1.2,1.6,2.0,\n",
    "                           3.0]),          # Grid of capital-to-labor-ratios (factors)\n",
    "    'MrkvArray': np.array([[0.875,0.125],\n",
    "                           [0.125,0.875]]),# Transition probabilities for macroecon. [i,j] is probability of being in state j next\n",
    "                                           # period conditional on being in state i this period. \n",
    "    'PermShkAggStd' : [0.0,0.0],           # Standard deviation of log aggregate permanent shocks by state. No continous shocks in a state.\n",
    "    'TranShkAggStd' : [0.0,0.0],           # Standard deviation of log aggregate transitory shocks by state. No continuous shocks in a state.\n",
    "    'PermGroFacAgg' : 1.0\n",
    "}"
   ]
  },
  {
   "cell_type": "code",
   "execution_count": 4,
   "metadata": {
    "collapsed": true,
    "deletable": true,
    "editable": true
   },
   "outputs": [],
   "source": [
    "KSAgent = AggShockMarkovConsumerType(**KSAgentDictionary)"
   ]
  },
  {
   "cell_type": "markdown",
   "metadata": {
    "deletable": true,
    "editable": true
   },
   "source": [
    "Now we invoke $\\text{IncomeDstn}$ Method of the $\\text{KSAgent}$ to fill the income distribution information. \n",
    "\n",
    "Notice that we normalized transitory shocks by the probability of staying unemployment. So that in both good state or bad state, the income from given employed is the equal to 1. (Tao)"
   ]
  },
  {
   "cell_type": "code",
   "execution_count": 5,
   "metadata": {
    "collapsed": false,
    "deletable": true,
    "editable": true
   },
   "outputs": [],
   "source": [
    "KSAgent.IncomeDstn[0] = [[np.array([0.96,0.04]),np.array([1.0,1.0]),np.array([1.0/0.96,0.0])],\n",
    "                                      [np.array([0.90,0.10]),np.array([1.0,1.0]),np.array([1.0/0.90,0.0])]]\n",
    "# A list of lists, one for each aggregate Markov state, each containing three arrays of floats, representing a discrete \n",
    "# approximation to the income process. Order: event probabilities, idiosyncratic permanent shocks, idiosyncratic transitory\n",
    "# shocks. "
   ]
  },
  {
   "cell_type": "markdown",
   "metadata": {
    "deletable": true,
    "editable": true
   },
   "source": [
    "It is useful to better understand the structure of the inputs fed to $\\text{IncomeDstn}$. (Tao)\n",
    "\n",
    "- First, as a Markov type consumer may be faced with different discrete states of the world, the income shocks need to be given for each state, respectively. This is why we have _two_ lists of lists. \n",
    "\n",
    "- Second, in each state, there are two possible events: employment or unemploymnet. The first array of each list is the probability distribution over the two events and it has two elements. Therefore, correpondingly, both permanent and transitory shocks need to be eventwise. This is why we also have two elements for the permanent and transitory income shocks. (Tao)"
   ]
  },
  {
   "cell_type": "markdown",
   "metadata": {
    "deletable": true,
    "editable": true
   },
   "source": [
    "Up to this point, individual agents are not ready to solve their decision problem yet. What is missing are essentially macro state variables: interest rate $r$ and $w$, both of which are functions of $z$ and $\\bar k$. Also, the law of motion of $\\bar k$, the linear function we discussed above. (Tao)"
   ]
  },
  {
   "cell_type": "markdown",
   "metadata": {
    "deletable": true,
    "editable": true
   },
   "source": [
    "#### The Economy"
   ]
  },
  {
   "cell_type": "code",
   "execution_count": 6,
   "metadata": {
    "collapsed": false,
    "deletable": true,
    "editable": true
   },
   "outputs": [],
   "source": [
    "from HARK.ConsumptionSaving.ConsAggShockModel import CobbDouglasMarkovEconomy\n",
    "\n",
    "KSEconomyDictionary = {\n",
    "    'PermShkAggCount': 1, \n",
    "    'TranShkAggCount': 1, \n",
    "    'PermShkAggStd': [0.0,0.0], \n",
    "    'TranShkAggStd': [0.0,0.0], \n",
    "    'DeprFac': 0.025, # Depreciation factor\n",
    "    'CapShare': 0.36, # Share of capital income in cobb-douglas production function\n",
    "    'DiscFac': 0.99,\n",
    "    'CRRA': 1.0,\n",
    "    'PermGroFacAgg': [1.0,1.0],\n",
    "    'AggregateL':1.0, # Not sure on this. Looks like we have fixed the labour level...\n",
    "    'act_T':1200, # Number of periods for economy to run in simulation\n",
    "    'intercept_prev': [0.0,0.0], # Make some initial guesses at linear savings rule intercepts for each state\n",
    "    'slope_prev': [1.0,1.0], # Make some initial guesses at linear savings rule slopes for each state\n",
    "    'MrkvArray': np.array([[0.875,0.125],\n",
    "                           [0.125,0.875]]), # Transition probabilities\n",
    "    'MrkvNow_init': 0   # Pick a state to start in (we pick the first state)\n",
    "}\n",
    "\n",
    "KSEconomy = CobbDouglasMarkovEconomy(agents = [KSAgent], **KSEconomyDictionary) # Combine production and consumption sides into an \"Economy\""
   ]
  },
  {
   "cell_type": "markdown",
   "metadata": {
    "deletable": true,
    "editable": true
   },
   "source": [
    "We have now populated the $\\text{KSEconomy}$ with $\\text{KSAgents}$ defined before. That is basically telling the agents to take the macro state from the $\\text{KSEconomy}$. \n",
    "Now we invoke the $\\text{AggShkDstn}$ to feed the $\\text{KSEconomy}$ with aggregate shocks. (Tao)"
   ]
  },
  {
   "cell_type": "code",
   "execution_count": 7,
   "metadata": {
    "collapsed": false,
    "deletable": true,
    "editable": true
   },
   "outputs": [],
   "source": [
    "KSEconomy.AggShkDstn = [[np.array([1.0]),np.array([1.0]),np.array([1.01])],\n",
    "                                 [np.array([1.0]),np.array([1.0]),np.array([0.99])]]\n",
    "\n",
    "# Aggregate productivity shock distribution.  First element is probalities, given the state you are in. \n",
    "# Second element is agg permanent shocks (here we don't have any, so just they are just 1.).\n",
    "# Third element is agg transitory shocks, which are calibrated the same as in Krusell Smith."
   ]
  },
  {
   "cell_type": "markdown",
   "metadata": {
    "deletable": true,
    "editable": true
   },
   "source": [
    "The structure of the inputs for $\\text{AggShkDstn}$ follows the same logic of $\\text{IncomeDstn}$. Now we only there is only one event happening in for each state, therefore, all arrays have only one input.  (Tao)\n",
    "\n",
    "Now, we have fully defined the macro economy. It is time to let agents interact with the economy. We do it by invoking $\\text{getEconomyData}$. (Tao)\n",
    "\n",
    "Also, we generate the history of aggregate shocks by using $\\text{makeAggShkHist}$. (Tao)"
   ]
  },
  {
   "cell_type": "code",
   "execution_count": 8,
   "metadata": {
    "collapsed": false,
    "deletable": true,
    "editable": true
   },
   "outputs": [
    {
     "name": "stdout",
     "output_type": "stream",
     "text": [
      "intercept=[-0.38266000690730878, -0.37779831427668004], slope=[1.0943006435744063, 1.0934356265328735], r-sq=[0.99990076300977626, 0.99981018501870222]\n",
      "intercept=[-0.11933375285181119, -0.11859682468363927], slope=[1.002056729884891, 1.001894858579818], r-sq=[0.99999848532729274, 0.99999771392101167]\n",
      "intercept=[-0.064703305547204146, -0.064571885825468994], slope=[1.005418108081318, 1.0053908441410313], r-sq=[0.99999999976275555, 0.99999999978792364]\n",
      "intercept=[-0.34738561649884814, -0.35911408629299052], slope=[1.0789089579282567, 1.0831729490225988], r-sq=[0.99996536599126895, 0.99995159029925096]\n",
      "intercept=[-0.088164352699138346, -0.087690940027663797], slope=[0.99766870152432374, 0.99756108477477146], r-sq=[0.999999951601929, 0.99999993719349034]\n",
      "intercept=[-0.074651094501926724, -0.074600399178690102], slope=[1.0073883844293037, 1.0073782443454635], r-sq=[0.99999999930571937, 0.99999999935155315]\n",
      "intercept=[-0.34396416683016739, -0.35680167556477077], slope=[1.0775335219960203, 1.0820843030057878], r-sq=[0.99993779392108217, 0.99992088517034006]\n",
      "intercept=[-0.079554883051761074, -0.078765378124819471], slope=[0.99560074470121429, 0.99539753023110422], r-sq=[0.99999996428452842, 0.9999999525225306]\n",
      "intercept=[-0.075036416560860464, -0.07492518639773392], slope=[1.0073747415743679, 1.0073464425627787], r-sq=[0.99999999919922788, 0.99999999926948369]\n",
      "intercept=[-0.3430814819019114, -0.35602887125669702], slope=[1.0772181088600168, 1.0817931124395475], r-sq=[0.99993396964144665, 0.99991655230435772]\n",
      "intercept=[-0.078555783644463403, -0.07772154644472587], slope=[0.99538803058402525, 0.99517146913281329], r-sq=[0.99999996575996664, 0.99999995415719034]\n",
      "intercept=[-0.07523658424736486, -0.075117041442951213], slope=[1.0074065713180211, 1.0073757973931186], r-sq=[0.99999999917974391, 0.99999999925310346]\n",
      "intercept=[-0.34293251020806315, -0.35590594801693637], slope=[1.077162965384499, 1.081744119677257], r-sq=[0.99993292271715761, 0.99991536532536562]\n",
      "intercept=[-0.078327144179888009, -0.077483523103174856], slope=[0.99533685980092679, 0.99511748903685948], r-sq=[0.99999996605967201, 0.99999995449470769]\n",
      "intercept=[-0.075269553166094155, -0.075148249925108046], slope=[1.0074110752506078, 1.0073797763442767], r-sq=[0.99999999917574045, 0.99999999924984517]\n",
      "intercept=[-0.34290182367454908, -0.35588007239602698], slope=[1.0771517349483815, 1.0817339996325275], r-sq=[0.9999327291713308, 0.99991514560649009]\n",
      "intercept=[-0.07828408827843536, -0.077438659136234544], slope=[0.99532736383074838, 0.99510745253784072], r-sq=[0.99999996611710074, 0.99999995455893453]\n",
      "intercept=[-0.075276558018756767, -0.075154916833172117], slope=[1.0074120943682117, 1.0073806947539763], r-sq=[0.99999999917495397, 0.99999999924919791]\n",
      "intercept=[-0.34289580484025489, -0.35587503131019954], slope=[1.0771495244239704, 1.0817320165521225], r-sq=[0.99993268961242832, 0.99991510072906564]\n",
      "intercept=[-0.078275399016416614, -0.077429607662604635], slope=[0.99532543876447499, 0.99510541914157236], r-sq=[0.99999996612858311, 0.99999995457180513]\n"
     ]
    }
   ],
   "source": [
    "KSAgent.getEconomyData(KSEconomy) # Makes attributes of the economy, attributes of the agent\n",
    "\n",
    "KSEconomy.makeAggShkHist() # Make a simulated history of the economy\n",
    "\n",
    "# Solve macro problem by getting a fixed point dynamic rule\n",
    "\n",
    "KSEconomy.solve() # Solve the economy using the market method. i.e. guess the saving function, and iterate until a fixed point"
   ]
  },
  {
   "cell_type": "markdown",
   "metadata": {
    "collapsed": false,
    "deletable": true,
    "editable": true
   },
   "source": [
    "The last line above is the converged aggregate saving rule for good and bad times, respectively."
   ]
  },
  {
   "cell_type": "code",
   "execution_count": 9,
   "metadata": {
    "collapsed": false,
    "deletable": true,
    "editable": true,
    "scrolled": true
   },
   "outputs": [
    {
     "name": "stdout",
     "output_type": "stream",
     "text": [
      "Aggregate savings as a function of aggregate market resources:\n"
     ]
    },
    {
     "data": {
      "image/png": "[encoded data removed]",
      "text/plain": [
       "<matplotlib.figure.Figure at 0x112912a20>"
      ]
     },
     "metadata": {},
     "output_type": "display_data"
    },
    {
     "name": "stdout",
     "output_type": "stream",
     "text": [
      "Wage rate as function of capital ratio:\n"
     ]
    },
    {
     "data": {
      "image/png": "[encoded data removed]",
      "text/plain": [
       "<matplotlib.figure.Figure at 0x1129351d0>"
      ]
     },
     "metadata": {},
     "output_type": "display_data"
    },
    {
     "name": "stdout",
     "output_type": "stream",
     "text": [
      "Interest factor as function of capital ratio\n"
     ]
    },
    {
     "data": {
      "image/png": "[encoded data removed]",
      "text/plain": [
       "<matplotlib.figure.Figure at 0x112ab67f0>"
      ]
     },
     "metadata": {},
     "output_type": "display_data"
    },
    {
     "name": "stdout",
     "output_type": "stream",
     "text": [
      "Consumption function at each aggregate market resources gridpoint (in general equilibrium):\n"
     ]
    },
    {
     "data": {
      "image/png": "[encoded data removed]",
      "text/plain": [
       "<matplotlib.figure.Figure at 0x112b7feb8>"
      ]
     },
     "metadata": {},
     "output_type": "display_data"
    },
    {
     "name": "stdout",
     "output_type": "stream",
     "text": [
      "Saving at each individual market resources gridpoint (in general equilibrium):\n"
     ]
    },
    {
     "data": {
      "image/png": "[encoded data removed]",
      "text/plain": [
       "<matplotlib.figure.Figure at 0x112ba2da0>"
      ]
     },
     "metadata": {},
     "output_type": "display_data"
    }
   ],
   "source": [
    "# Lets plot our results\n",
    "\n",
    "print('Aggregate savings as a function of aggregate market resources:')\n",
    "plotFuncs(KSEconomy.AFunc,0.1,2*KSEconomy.kSS)\n",
    "\n",
    "print('Wage rate as function of capital ratio:')\n",
    "plotFuncs(KSEconomy.wFunc, 0.1, 20) \n",
    "\n",
    "print('Interest factor as function of capital ratio')\n",
    "plotFuncs(KSEconomy.Rfunc, 0.1, 20)\n",
    "\n",
    "print('Consumption function at each aggregate market resources gridpoint (in general equilibrium):')\n",
    "KSAgent.unpackcFunc()\n",
    "m_grid = np.linspace(0,10,200)\n",
    "KSAgent.unpackcFunc()\n",
    "for M in KSAgent.Mgrid:\n",
    "    c_at_this_M = KSAgent.solution[0].cFunc[0](m_grid,M*np.ones_like(m_grid)) #Have two consumption functions, check this\n",
    "    plt.plot(m_grid,c_at_this_M)\n",
    "plt.show()\n",
    "\n",
    "print('Saving at each individual market resources gridpoint (in general equilibrium):')\n",
    "KSAgent.unpackcFunc()\n",
    "m_grid = np.linspace(0,10,200)\n",
    "KSAgent.unpackcFunc()\n",
    "for M in KSAgent.Mgrid:\n",
    "    s_at_this_M = m_grid-KSAgent.solution[0].cFunc[1](m_grid,M*np.ones_like(m_grid))\n",
    "    c_at_this_M = KSAgent.solution[0].cFunc[1](m_grid,M*np.ones_like(m_grid)) #Have two consumption functions, check this\n",
    "    plt.plot(m_grid,s_at_this_M)\n",
    "plt.show()"
   ]
  },
  {
   "cell_type": "markdown",
   "metadata": {
    "deletable": true,
    "editable": true
   },
   "source": [
    "### Wealth Distribution in KS\n",
    "\n",
    "#### Benchmark Model\n"
   ]
  },
  {
   "cell_type": "code",
   "execution_count": 10,
   "metadata": {
    "collapsed": false,
    "deletable": true,
    "editable": true
   },
   "outputs": [
    {
     "name": "stdout",
     "output_type": "stream",
     "text": [
      "The mean of individual wealth is 25.2595466865;\n",
      " the standard deviation is 5.12755806898;\n",
      " the median is 25.4484373625.\n"
     ]
    }
   ],
   "source": [
    "sim_wealth = KSEconomy.aLvlNow[0]\n",
    "\n",
    "print(\"The mean of individual wealth is \"+ str(sim_wealth.mean()) + \";\\n the standard deviation is \"\n",
    "      + str(sim_wealth.std())+\";\\n the median is \" + str(np.median(sim_wealth)) +\".\")"
   ]
  },
  {
   "cell_type": "code",
   "execution_count": 11,
   "metadata": {
    "collapsed": true,
    "deletable": true,
    "editable": true
   },
   "outputs": [],
   "source": [
    "from HARK.utilities import getLorenzShares, getPercentiles\n",
    "from HARK.cstwMPC.SetupParamsCSTW import SCF_wealth, SCF_weights\n"
   ]
  },
  {
   "cell_type": "code",
   "execution_count": 25,
   "metadata": {
    "collapsed": false,
    "deletable": true,
    "editable": true
   },
   "outputs": [
    {
     "data": {
      "image/png": "[encoded data removed]",
      "text/plain": [
       "<matplotlib.figure.Figure at 0x1134a8f28>"
      ]
     },
     "metadata": {},
     "output_type": "display_data"
    }
   ],
   "source": [
    "pctiles = np.linspace(0.001,0.999,15)\n",
    "SCF_Lorenz_points = getLorenzShares(SCF_wealth,weights=SCF_weights,percentiles=pctiles)\n",
    "sim_Lorenz_points = getLorenzShares(sim_wealth,percentiles=pctiles)\n",
    "\n",
    "# Plot \n",
    "plt.figure(figsize=(5,5))\n",
    "plt.plot(pctiles,SCF_Lorenz_points,'--k',label='SCF')\n",
    "plt.plot(pctiles,sim_Lorenz_points,'-b',label='Benchmark KS')\n",
    "plt.plot(pctiles,pctiles,'g-.',label='45 Degree')\n",
    "plt.xlabel('Percentile of net worth')\n",
    "plt.ylabel('Cumulative share of wealth')\n",
    "plt.legend(loc=2)\n",
    "plt.ylim([0,1])\n",
    "plt.show()"
   ]
  },
  {
   "cell_type": "code",
   "execution_count": 13,
   "metadata": {
    "collapsed": false,
    "deletable": true,
    "editable": true
   },
   "outputs": [
    {
     "name": "stdout",
     "output_type": "stream",
     "text": [
      "The Euclidean distanece of simulated wealth distribution and the estimates from sample is 1.44624205258\n"
     ]
    }
   ],
   "source": [
    "lorenz_distance = np.sqrt(np.sum((SCF_Lorenz_points - sim_Lorenz_points)**2))\n",
    "print(\"The Euclidean distanece of simulated wealth distribution and the estimates from sample is \"+str(lorenz_distance) )"
   ]
  },
  {
   "cell_type": "markdown",
   "metadata": {
    "deletable": true,
    "editable": true
   },
   "source": [
    "#### Stochastic Time Preference\n",
    "\n",
    "KS assume that $\\beta$ can take on three values, 0.9858, 0.9894, and 0.9930, and that the transition probabilities are such that \n",
    "- The invariant distribution for $\\beta$’s has 80 percent of the population at the middle $\\beta$ and 10 percent at each of the other $\\beta$’s.\n",
    "- Immediate transitions between the extreme values of $\\beta$ occur with probability zero. \n",
    "- The average duration of the highest and lowest $\\beta$’s is 50 years. \n",
    "\n",
    "As a first run, we alternatively assume that there are the $\\beta$ is uniformly distributed over this range. We approximate the uniform distribution by seven points. "
   ]
  },
  {
   "cell_type": "code",
   "execution_count": 31,
   "metadata": {
    "collapsed": false,
    "deletable": true,
    "editable": true
   },
   "outputs": [],
   "source": [
    "from HARK.utilities import approxUniform\n",
    "\n",
    "# Specify the distribution of the discount factor\n",
    "num_types = 7              # number of types we want\n",
    "DiscFac_mean   = 0.9858 # center of beta distribution \n",
    "DiscFac_spread = 0.0085    # spread of beta distribution\n",
    "DiscFac_dstn = approxUniform(num_types, DiscFac_mean-DiscFac_spread, DiscFac_mean+DiscFac_spread)[1]\n",
    "#DiscFac_dstn = np.array([0.9858,0.9894,0.9930])\n",
    "BaselineType = deepcopy(KSAgent)\n",
    "\n",
    "MyTypes = [] # initialize an empty list to hold our consumer types\n",
    "for nn in range(len(DiscFac_dstn)):\n",
    "    # Now create the types, and append them to the list MyTypes\n",
    "    NewType = deepcopy(BaselineType)\n",
    "    NewType.DiscFac = DiscFac_dstn[nn]\n",
    "    NewType.seed = nn # give each consumer type a different RNG seed\n",
    "    MyTypes.append(NewType)"
   ]
  },
  {
   "cell_type": "code",
   "execution_count": 32,
   "metadata": {
    "collapsed": false,
    "deletable": true,
    "editable": true
   },
   "outputs": [
    {
     "name": "stdout",
     "output_type": "stream",
     "text": [
      "**** WARNING: could not execute multiThreadCommands in HARK.core.Market.solveAgents(), so using the serial version instead. This will likely be slower. The multiTreadCommands() functions failed with the following error: \n",
      "     <class 'AttributeError'> : Can't pickle local object 'CobbDouglasEconomy.update.<locals>.<lambda>'\n",
      "intercept=[-0.26990760116478246, -0.27377097290605917], slope=[1.0539523425223691, 1.0552816725390239], r-sq=[0.99998232741689275, 0.99995531883034083]\n",
      "intercept=[-0.25482913680629138, -0.26284345985133556], slope=[1.0499219578493402, 1.0523163400095723], r-sq=[0.99994606328903246, 0.99984024422773654]\n",
      "intercept=[-0.23573872595639284, -0.23821699428829352], slope=[1.0449905675097795, 1.0459118151384161], r-sq=[0.99992407823640561, 0.99978246058770259]\n",
      "intercept=[-0.2469875503596316, -0.25188886507512603], slope=[1.0478695053494131, 1.0494337504098843], r-sq=[0.99996397000375203, 0.99991094269670222]\n",
      "intercept=[-0.23701567333624018, -0.23805545137924872], slope=[1.0453270727434691, 1.0458689066108373], r-sq=[0.99993766965138331, 0.99984015922506375]\n",
      "intercept=[-0.24720595680011651, -0.25202549492659099], slope=[1.0479265117592222, 1.0494693941587705], r-sq=[0.99996394036741565, 0.99991056763151642]\n",
      "intercept=[-0.23695414352285782, -0.23799648240288446], slope=[1.0453112092046482, 1.0458537160067387], r-sq=[0.99993725019791657, 0.99983861354930648]\n",
      "intercept=[-0.24721421928761866, -0.25203319677688146], slope=[1.0479283783085203, 1.0494711664206537], r-sq=[0.99996400806556673, 0.99991067314861137]\n",
      "intercept=[-0.23690211653361537, -0.23795267774561771], slope=[1.0452978437621359, 1.0458424835319877], r-sq=[0.99993706151993811, 0.99983797536696872]\n",
      "intercept=[-0.24722395092302207, -0.25204351815131038], slope=[1.0479306434565543, 1.049473636158287], r-sq=[0.99996406611848598, 0.999910755539964]\n",
      "intercept=[-0.23685161671198607, -0.23791392893020627], slope=[1.0452848685719198, 1.0458325660360974], r-sq=[0.99993687659361574, 0.99983735305715871]\n",
      "intercept=[-0.24723319257217646, -0.25205371310594304], slope=[1.0479327939618892, 1.0494760840662829], r-sq=[0.99996411991159206, 0.99991083046198104]\n",
      "intercept=[-0.23680326436297036, -0.23788005254991851], slope=[1.0452724446523685, 1.0458239139624084], r-sq=[0.99993669985454214, 0.99983675801061211]\n",
      "intercept=[-0.24724215851025724, -0.25206393302400082], slope=[1.0479348858883919, 1.04947854979573], r-sq=[0.99996416976776004, 0.99991089858051396]\n",
      "intercept=[-0.23675768264076813, -0.23784785878253839], slope=[1.0452607341557034, 1.0458156913290757], r-sq=[0.99993653126548676, 0.99983619117085587]\n",
      "intercept=[-0.24725075637989602, -0.25207348550695552], slope=[1.0479368964691191, 1.0494808526770729], r-sq=[0.99996421668857605, 0.99991096289480541]\n",
      "intercept=[-0.23671577225937723, -0.23781631513283102], slope=[1.0452499731112519, 1.0458076281875379], r-sq=[0.99993636989899159, 0.99983565917657558]\n",
      "intercept=[-0.24725904204807397, -0.25208248319190762], slope=[1.0479388384105088, 1.0494830213687194], r-sq=[0.99996426154090434, 0.99991102485028716]\n",
      "intercept=[-0.23667617986223755, -0.2377867010561879], slope=[1.0452398077585789, 1.0458000598775468], r-sq=[0.99993621685077916, 0.99983515445626381]\n",
      "intercept=[-0.24726696925805125, -0.25209110910494964], slope=[1.0479406983499926, 1.0494851025421281], r-sq=[0.99996430399574565, 0.99991108348649393]\n"
     ]
    }
   ],
   "source": [
    "KSEconomy_sim = CobbDouglasMarkovEconomy(agents = MyTypes, **KSEconomyDictionary) # Put all agents into the \"Economy\"\n",
    "KSEconomy_sim.AggShkDstn = [[np.array([1.0]),np.array([1.0]),np.array([1.01])],\n",
    "                                 [np.array([1.0]),np.array([1.0]),np.array([0.99])]]\n",
    "for ThisType in MyTypes:\n",
    "    ThisType.getEconomyData(KSEconomy_sim) # Makes attributes of the economy, attributes of the agent\n",
    "\n",
    "KSEconomy_sim.makeAggShkHist() # Make a simulated history of the economy\n",
    "KSEconomy_sim.solve() # Solve macro problem by getting a fixed point dynamic rule"
   ]
  },
  {
   "cell_type": "code",
   "execution_count": 33,
   "metadata": {
    "collapsed": false,
    "deletable": true,
    "editable": true
   },
   "outputs": [
    {
     "name": "stdout",
     "output_type": "stream",
     "text": [
      "Aggregate capital to income ratio is 40.7824836051\n"
     ]
    }
   ],
   "source": [
    "aLvl_all = np.concatenate([KSEconomy_sim.aLvlNow[i] for i in range(len(MyTypes))])\n",
    "print('Aggregate capital to income ratio is ' + str(np.mean(aLvl_all)))"
   ]
  },
  {
   "cell_type": "code",
   "execution_count": 44,
   "metadata": {
    "collapsed": false,
    "deletable": true,
    "editable": true
   },
   "outputs": [
    {
     "data": {
      "text/plain": [
       "\"\\nfor i in range(len(MyTypes)):\\n    plt.hist(KSEconomy_sim.aLvlNow[i],label=r'\\x08eta='+str(DiscFac_dstn[i]))\\nplt.legend(loc=2)\\n\""
      ]
     },
     "execution_count": 44,
     "metadata": {},
     "output_type": "execute_result"
    }
   ],
   "source": [
    "'''\n",
    "for i in range(len(MyTypes)):\n",
    "    plt.hist(KSEconomy_sim.aLvlNow[i],label=r'\\beta='+str(DiscFac_dstn[i]))\n",
    "plt.legend(loc=2)\n",
    "'''"
   ]
  },
  {
   "cell_type": "code",
   "execution_count": 43,
   "metadata": {
    "collapsed": false
   },
   "outputs": [
    {
     "name": "stdout",
     "output_type": "stream",
     "text": [
      "Wealth Distribution of the Most Patient Type:\n"
     ]
    },
    {
     "data": {
      "text/plain": [
       "(array([  216.,   225.,   448.,   715.,   990.,  1191.,  1324.,  1431.,\n",
       "         1551.,  1909.]),\n",
       " array([  1.95014178e-03,   4.57223554e-01,   9.12496966e-01,\n",
       "          1.36777038e+00,   1.82304379e+00,   2.27831720e+00,\n",
       "          2.73359061e+00,   3.18886403e+00,   3.64413744e+00,\n",
       "          4.09941085e+00,   4.55468426e+00]),\n",
       " <a list of 10 Patch objects>)"
      ]
     },
     "execution_count": 43,
     "metadata": {},
     "output_type": "execute_result"
    },
    {
     "data": {
      "image/png": "[encoded data removed]",
      "text/plain": [
       "<matplotlib.figure.Figure at 0x11413c160>"
      ]
     },
     "metadata": {},
     "output_type": "display_data"
    }
   ],
   "source": [
    "print('Wealth Distribution of the Most Patient Type:')\n",
    "plt.hist(KSEconomy_sim.aLvlNow[0])"
   ]
  },
  {
   "cell_type": "code",
   "execution_count": 42,
   "metadata": {
    "collapsed": false
   },
   "outputs": [
    {
     "name": "stdout",
     "output_type": "stream",
     "text": [
      "Wealth Distribution of the Most Impatient Type:\n"
     ]
    },
    {
     "data": {
      "text/plain": [
       "(array([    5.,    69.,   353.,  1122.,  2271.,  2913.,  2154.,   902.,\n",
       "          188.,    23.]),\n",
       " array([ 199.53758788,  210.65118564,  221.7647834 ,  232.87838116,\n",
       "         243.99197892,  255.10557669,  266.21917445,  277.33277221,\n",
       "         288.44636997,  299.55996773,  310.67356549]),\n",
       " <a list of 10 Patch objects>)"
      ]
     },
     "execution_count": 42,
     "metadata": {},
     "output_type": "execute_result"
    },
    {
     "data": {
      "image/png": "[encoded data removed]",
      "text/plain": [
       "<matplotlib.figure.Figure at 0x113b6d3c8>"
      ]
     },
     "metadata": {},
     "output_type": "display_data"
    }
   ],
   "source": [
    "print('Wealth Distribution of the Most Impatient Type:')\n",
    "plt.hist(KSEconomy_sim.aLvlNow[-1])"
   ]
  },
  {
   "cell_type": "code",
   "execution_count": 52,
   "metadata": {
    "collapsed": false,
    "deletable": true,
    "editable": true
   },
   "outputs": [
    {
     "data": {
      "image/png": "[encoded data removed]",
      "text/plain": [
       "<matplotlib.figure.Figure at 0x11486eb70>"
      ]
     },
     "metadata": {},
     "output_type": "display_data"
    }
   ],
   "source": [
    "sim_3beta_wealth = aLvl_all\n",
    "pctiles = np.linspace(0.001,0.999,15)\n",
    "sim_Lorenz_points = getLorenzShares(sim_wealth,percentiles=pctiles)\n",
    "SCF_Lorenz_points = getLorenzShares(SCF_wealth,weights=SCF_weights,percentiles=pctiles)\n",
    "sim_3beta_Lorenz_points = getLorenzShares(sim_3beta_wealth,percentiles=pctiles)\n",
    "\n",
    "## Plot\n",
    "plt.figure(figsize=(5,5))\n",
    "plt.plot(pctiles,SCF_Lorenz_points,'--k',label='SCF')\n",
    "plt.plot(pctiles,sim_Lorenz_points,'-b',label='Benchmark KS')\n",
    "plt.plot(pctiles,sim_3beta_Lorenz_points,'-*r',label='3 Types')\n",
    "plt.plot(pctiles,pctiles,'g-.',label='45 Degree')\n",
    "plt.xlabel('Percentile of net worth')\n",
    "plt.ylabel('Cumulative share of wealth')\n",
    "plt.legend(loc=2)\n",
    "plt.ylim([0,1])\n",
    "plt.show()"
   ]
  },
  {
   "cell_type": "markdown",
   "metadata": {
    "deletable": true,
    "editable": true
   },
   "source": [
    "### Heterogeneity in MPC "
   ]
  },
  {
   "cell_type": "code",
   "execution_count": 20,
   "metadata": {
    "collapsed": false,
    "deletable": true,
    "editable": true
   },
   "outputs": [],
   "source": [
    "# Write a function to tell us about the distribution of the MPC in this code block, then test it!\n",
    "# You will almost surely find it useful to use a for loop in this function.\n",
    "def describeMPCdstn(SomeTypes,percentiles):\n",
    "    MPC_sim = np.concatenate([ThisType.MPCnow for ThisType in SomeTypes])\n",
    "    MPCpercentiles_quarterly = getPercentiles(MPC_sim,percentiles=percentiles)\n",
    "    MPCpercentiles_annual = 1.0 - (1.0 - MPCpercentiles_quarterly)**4\n",
    "    \n",
    "    for j in range(len(percentiles)):\n",
    "        print('The ' + str(100*percentiles[j]) + 'the percentile of the MPC is ' + str(MPCpercentiles_annual[j]))\n",
    "        \n",
    "#describeMPCdstn(MyTypes,np.linspace(0.05,0.95,19))"
   ]
  }
 ],
 "metadata": {
  "kernelspec": {
   "display_name": "Python 3",
   "language": "python",
   "name": "python3"
  },
  "language_info": {
   "codemirror_mode": {
    "name": "ipython",
    "version": 3
   },
   "file_extension": ".py",
   "mimetype": "text/x-python",
   "name": "python",
   "nbconvert_exporter": "python",
   "pygments_lexer": "ipython3",
   "version": "3.5.3"
  }
 },
 "nbformat": 4,
 "nbformat_minor": 2
}
