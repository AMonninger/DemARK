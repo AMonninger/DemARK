{
 "cells": [
  {
   "cell_type": "markdown",
   "metadata": {},
   "source": [
    "# [Krusell Smith (1998)](https://www.journals.uchicago.edu/doi/pdf/10.1086/250034)\n",
    "\n",
    "- Original version by Tim Munday \n",
    "- Comments and extensions by Tao Wang\n",
    "- Further edits by Chris Carroll"
   ]
  },
  {
   "cell_type": "markdown",
   "metadata": {},
   "source": [
    "[![Binder](https://mybinder.org/badge_logo.svg)](https://mybinder.org/v2/gh/econ-ark/DemARK/master?filepath=notebooks%2FKrusellSmith.ipynb)\n"
   ]
  },
  {
   "cell_type": "markdown",
   "metadata": {},
   "source": [
    "### Overview\n",
    "\n",
    "The benchmark Krusell-Smith model has the following broad features:\n",
    "   * The aggregate state switches between \"good\" and \"bad\" with known probabilities\n",
    "   * All consumers experience the same aggregate state for the economy (good or bad)\n",
    "   * _ex ante_ there is only one type of consumer, which is infinitely lived\n",
    "   * _ex post_ heterogeneity arises from uninsurable idiosyncratic income shocks\n",
    "      * Specifically, individuals are at risk of spells of unemployment\n",
    "      * In a spell of unemployment, their income is zero\n",
    "   \n",
    "Thus, each agent faces two types of uncertainty: About their employment state, and about the income they will earn when employed.  And the values of income and unemployment risk depend on the aggregate state.\n"
   ]
  },
  {
   "cell_type": "markdown",
   "metadata": {},
   "source": [
    "### Details\n",
    "\n",
    "#### Idiosyncratic\n",
    "Each agent _attempts_ to supply an amount of productive labor $\\ell$ in each period.  (Here and below we mostly follow the notation of Krusell and Smith (1998)).\n",
    "\n",
    "However, whether they _succeed_ in supplying that labor (and earning a corresponding wage) is governed by the realization of the stochastic variable $\\epsilon$.  If the agent is unlucky, $\\epsilon$ is zero and the agent is unemployed.  The amount of labor they succeed in supplying is thus $\\epsilon\\ell$.\n",
    "\n",
    "#### Aggregate\n",
    "Aggregate output ($\\bar{y}$) is produced using a Cobb-Douglas production function using capital and labor. (Bars over variables indicate the aggregate value of a variable that has different values across different idiosyncratic consumers).\n",
    "\n",
    "$z$ denotes the aggregate shock to productivity. $z$ can take two values, either $z_g$ -- the \"good\" state, or $z_b < z_g$ -- the \"bad\" state.  Consumers gain income from providing labor, and from the rental return on any capital they own.  Labor and capital markets are perfectly efficient so both factors are both paid their marginal products.\n",
    "\n",
    "The agent can choose to save by buying capital $k$ which is bounded below at the borrowing constraint of 0.\n",
    "\n",
    "\n",
    "Putting all of this together, aggregate output is given by: \n",
    "\\begin{eqnarray}\n",
    "\\bar{y} & = & z\\bar{k}^\\alpha \\bar{\\ell}^{1-\\alpha}\n",
    "\\end{eqnarray}\n"
   ]
  },
  {
   "cell_type": "markdown",
   "metadata": {},
   "source": [
    "The aggregate shocks $z$ follow first-order Markov chains with the transition probability of moving from state $s$ to state $s'$ denoted by $\\pi_{ss'}$. The aggregate shocks and individual shocks are correlated: The probability of being unemployed is higher in bad times, when aggregate productivity is low, than in good times, when aggregate productivity is high.\n",
    "\n",
    "#### Idiosyncratic and Aggregate Together\n",
    "\n",
    "The individual shocks satisfy the law of large numbers, and the model is constructed so that the number of agents who are unemployed in the good state always equals $u_g$, and is always $u_b$ in the bad state. Given the aggregate state, individual shocks are independent from each other.\n",
    "\n",
    "For the individual, the probability of moving between a good state and employment to a bad state and unemployment is denoted $\\pi_{gb10}$ with similar notation for the other transition probabilities.\n",
    "\n",
    "(Krusell and Smith allow for serially correlated unemployment at the idiosyncratic level. Here we will simplify this and have unemployment be serially uncorrelated.)"
   ]
  },
  {
   "cell_type": "markdown",
   "metadata": {},
   "source": [
    "Finally, $\\Gamma$ denotes the current distribution of consumers over capital and employment status, and $H$ denotes the law of motion of this distribution. "
   ]
  },
  {
   "cell_type": "markdown",
   "metadata": {},
   "source": [
    "#### The Idiosyncratic Individual's Problem Given the Aggregate State\n",
    "\n",
    "The individual's problem is:\n",
    "\\begin{eqnarray*}\n",
    "V(k, \\epsilon; \\Gamma, z) &=& \\max_{k'}\\{U(c) + \\beta \\mathbb{E}[V(k' ,\\epsilon'; \\Gamma', z')|z, \\epsilon]\\} \\\\\n",
    "c + k' &=& r(\\bar{k}, \\bar{\\ell}, z)k + w(\\bar{k}, \\bar{\\ell}, z)\\ell\\epsilon + (1-\\delta)k \\\\\n",
    "\\Gamma' &=& H(\\Gamma, z, z') \\\\\n",
    "k' &\\geq& 0 \\\\\n",
    "\\end{eqnarray*}"
   ]
  },
  {
   "cell_type": "markdown",
   "metadata": {},
   "source": [
    "Krusell and Smith define an equilibrium as a law of motion $H$, a value function $V$, a rule for updating capital $f$ and pricing functions $r$ and $w$, such that $V$ and $f$ solve the consumers problem, $r$ and $w$ denote the marginal products of capital and labour, and $H$ is consistent with $f$ (i.e. if we add up all of the individual agents capital choices we get the correct distribution of capital)."
   ]
  },
  {
   "cell_type": "markdown",
   "metadata": {},
   "source": [
    "##### Discussion of the KS Algorithm\n",
    "\n",
    "In principle, $\\Gamma$ is a high-dimensional object because it includes the whole distribution of individuals' wealth and employment states. Because the optimal amount to save is a nonlinear function of the level of idiosyncratic $k$, next period's aggregate capital stock $\\bar{k}'$ depends on the distribution of the holdings of idiosyncratic $k$ across the population of consumers. Therefore the law of motion $H$ is not a trivial function of the $\\Gamma$. \n",
    "\n",
    "KS simplified this problem by noting the following. \n",
    "\n",
    "1. The agent cares about the future aggregate aggregate state only insofar as that state affects their own personal value of $c$\n",
    "1. Future values of $c$ depend on the aggregate state only through the budget constraint\n",
    "1. The channels by which the budget constraint depends on the aggregate state are:\n",
    "   * The probability distributions of $\\epsilon$ and $z$ are affected by the aggregate state\n",
    "   * Interest rates and wages depend on the future values of $\\bar{k}$ and $\\bar{\\ell}$\n",
    "1. The probability distributions for the future values of $\\{\\epsilon, z\\}$ are known\n",
    "   * They are fully determined by the Markov transition matrices\n",
    "1. But the values of $r$ and $w$ are both determined by the future value of $\\bar{k}$ (in combination with the exogenous value of $\\bar{\\ell}$)\n",
    "   * So the only _endogenous_ object that the agent needs to form expectations about, in order to have a complete rational expectation about everything affecting them, is $\\bar{k}'$\n",
    "\n",
    "The key result in Krusell and Smith is the discovery that a very simple linear rule does an extraordinarily good job (though not quite perfect) in forecasting $\\bar{k'}$\n",
    "\n",
    "They then argue that, since rationality is surely bounded to some degree, the solution that an agent obtains using a good forecasting rule for $\\bar{k}'$ is \"good enough\" to compute an \"approximate\" solution to the consumer's optimization problem.\n",
    "\n",
    "They define a generic algorithm to find a forecasting rule for $\\bar{k}$ as follows\n",
    "\n",
    "1. Choose the number of moments $n$ of the distribution of $k$ to be included in the set of variables to forecast $\\bar{k}'$. In the simplest case, $n=1$, the only forecasting variable for next period's $\\bar{k}'$ is the mean (the first moment, $n=1$)) of current capital, $\\bar{k}$.\n",
    "2. Each individual adopts the same belief about the law motion of these moments, $H_I$ and finds the optimal decision policy, $f_I$, contingent on that guess.\n",
    "3. Use the optimal policy to simulate a history of aggregate capital with a large number of agents. \n",
    "4. Characterize the realized law of motion using the same number of moments $n$ \n",
    "5. Compare it with the $H_I$, what is taken as given by individuals. \n",
    "6. Iterate until the two converge. \n",
    "\n",
    "In the end, the solution to the original problem is well approximated by the following simplified problem:\n",
    "\n",
    "\\begin{eqnarray*}\n",
    "V(k, \\epsilon; \\bar k, z) &=& max_{c, k'}\\{U(c) + \\beta E[V(k' ,\\epsilon'; \\bar k', z')|z, \\epsilon]\\} \\\\\n",
    "c + k' &=& r(\\bar{k}, \\bar{\\ell}, z)k + w(\\bar{k}, \\bar{\\ell}, z)l\\epsilon + (1-\\delta)k \\\\\n",
    "\\text{When }~ z=z_g, \\quad \\mathbb{E}[\\log\\bar{k}'] & = & a_0 + a_1 \\log\\bar k \\\\\n",
    "\\text{When }~ z=z_b,  \\quad \\mathbb{E}[\\log\\bar{k}'] & = & b_0 + b_1 \\log\\bar k \\\\\n",
    "k' &\\geq& 0 \\\\\n",
    "\\end{eqnarray*}"
   ]
  },
  {
   "cell_type": "markdown",
   "metadata": {},
   "source": [
    "## Implementation Using the HARK Toolkit"
   ]
  },
  {
   "cell_type": "markdown",
   "metadata": {},
   "source": [
    "#### The Consumer"
   ]
  },
  {
   "cell_type": "code",
   "execution_count": 3,
   "metadata": {
    "code_folding": [
     6
    ]
   },
   "outputs": [],
   "source": [
    "# Import generic setup tools\n",
    "\n",
    "# This is a jupytext paired notebook that autogenerates KrusellSmith.py\n",
    "# which can be executed from a terminal command line via \"ipython KrusellSmith.py\"\n",
    "# But a terminal does not permit inline figures, so we need to test jupyter vs terminal\n",
    "# Google \"how can I check if code is executed in the ipython notebook\"\n",
    "def in_ipynb():\n",
    "    try:\n",
    "        if str(type(get_ipython())) == \"<class 'ipykernel.zmqshell.ZMQInteractiveShell'>\":\n",
    "            return True\n",
    "        else:\n",
    "            return False\n",
    "    except NameError:\n",
    "        return False\n",
    "\n",
    "# Determine whether to make the figures inline (for spyder or jupyter)\n",
    "# vs whatever is the automatic setting that will apply if run from the terminal\n",
    "if in_ipynb():\n",
    "    # %matplotlib inline generates a syntax error when run from the shell\n",
    "    # so do this instead\n",
    "    get_ipython().run_line_magic('matplotlib', 'inline') \n",
    "else:\n",
    "    get_ipython().run_line_magic('matplotlib', 'auto') \n",
    "\n",
    "# Import the plot-figure library matplotlib\n",
    "\n",
    "import matplotlib\n",
    "import matplotlib.pyplot as plt\n",
    "\n",
    "import sys\n",
    "import os\n",
    "from copy import copy\n",
    "from HARK.utilities import plotFuncs, plotFuncsDer"
   ]
  },
  {
   "cell_type": "code",
   "execution_count": 4,
   "metadata": {
    "code_folding": []
   },
   "outputs": [],
   "source": [
    "# Import components of HARK needed for solving the KS model\n",
    "from   HARK.ConsumptionSaving.ConsAggShockModel import *\n",
    "import HARK.ConsumptionSaving.ConsumerParameters as Params\n",
    "\n",
    "# Markov consumer type that allows aggregate shocks (redundant but instructive)\n",
    "from HARK.ConsumptionSaving.ConsAggShockModel import AggShockMarkovConsumerType"
   ]
  },
  {
   "cell_type": "code",
   "execution_count": 5,
   "metadata": {
    "code_folding": [
     4
    ]
   },
   "outputs": [],
   "source": [
    "# Define a dictionary to make an 'instance' of our Krusell-Smith consumer.\n",
    "\n",
    "# The folded dictionary below contains many parameters to the \n",
    "# AggShockMarkovConsumerType agent that are not needed for the KS model\n",
    "KSAgentDictionary = { \n",
    "    \"CRRA\": 1.0,                           # Coefficient of relative risk aversion\n",
    "    \"DiscFac\": 0.99,                       # Intertemporal discount factor\n",
    "    \"LivPrb\" : [1.0],                      # Survival probability\n",
    "    \"AgentCount\" : 10000,                  # Number of agents of this type (only matters for simulation)\n",
    "    \"aNrmInitMean\" : 0.0,                  # Mean of log initial assets (only matters for simulation)\n",
    "    \"aNrmInitStd\"  : 0.0,                  # Standard deviation of log initial assets (only for simulation)\n",
    "    \"pLvlInitMean\" : 0.0,                  # Mean of log initial permanent income (only matters for simulation)\n",
    "    \"pLvlInitStd\"  : 0.0,                  # Standard deviation of log initial permanent income (only matters for simulation)\n",
    "    \"PermGroFacAgg\" : 1.0,                 # Aggregate permanent income growth factor (only matters for simulation)\n",
    "    \"T_age\" : None,                        # Age after which simulated agents are automatically killed\n",
    "    \"T_cycle\" : 1,                         # Number of periods in the cycle for this agent type\n",
    "# Parameters for constructing the \"assets above minimum\" grid\n",
    "    \"aXtraMin\" : 0.001,                    # Minimum end-of-period \"assets above minimum\" value\n",
    "    \"aXtraMax\" : 20,                       # Maximum end-of-period \"assets above minimum\" value               \n",
    "    \"aXtraExtra\" : [None],                 # Some other value of \"assets above minimum\" to add to the grid\n",
    "    \"aXtraNestFac\" : 3,                    # Exponential nesting factor when constructing \"assets above minimum\" grid\n",
    "    \"aXtraCount\" : 24,                     # Number of points in the grid of \"assets above minimum\"\n",
    "# Parameters describing the income process\n",
    "    \"PermShkCount\" : 1,                    # Number of points in discrete approximation to permanent income shocks - no shocks of this kind!\n",
    "    \"TranShkCount\" : 1,                    # Number of points in discrete approximation to transitory income shocks - no shocks of this kind!\n",
    "    \"PermShkStd\" : [0.],                   # Standard deviation of log permanent income shocks - no shocks of this kind!\n",
    "    \"TranShkStd\" : [0.],                   # Standard deviation of log transitory income shocks - no shocks of this kind!\n",
    "    \"UnempPrb\" : 0.0,                      # Probability of unemployment while working - no shocks of this kind!\n",
    "    \"UnempPrbRet\" : 0.00,                  # Probability of \"unemployment\" while retired - no shocks of this kind!\n",
    "    \"IncUnemp\" : 0.0,                      # Unemployment benefits replacement rate\n",
    "    \"IncUnempRet\" : 0.0,                   # \"Unemployment\" benefits when retired\n",
    "    \"tax_rate\" : 0.0,                      # Flat income tax rate\n",
    "    \"T_retire\" : 0,                        # Period of retirement (0 --> no retirement)\n",
    "    \"BoroCnstArt\" : 0.0,                   # Artificial borrowing constraint; imposed minimum level of end-of period assets   \n",
    "    \"cycles\": 0,                           # Consumer is infinitely lived\n",
    "    \"PermGroFac\" : [1.0],                  # Permanent income growth factor\n",
    "# New Parameters that we need now    \n",
    "    'MgridBase': np.array([0.1,0.3,0.6,\n",
    "                           0.8,0.9,0.98,\n",
    "                           1.0,1.02,1.1,\n",
    "                           1.2,1.6,2.0,\n",
    "                           3.0]),          # Grid of capital-to-labor-ratios (factors)\n",
    "    'MrkvArray': np.array([[0.875,0.125],\n",
    "                           [0.125,0.875]]),  # Transition probabilities for macroecon. [i,j] is probability of being in state j next\n",
    "                                           # period conditional on being in state i this period. \n",
    "    'PermShkAggStd' : [0.0,0.0],           # Standard deviation of log aggregate permanent shocks by state. No continous shocks in a state.\n",
    "    'TranShkAggStd' : [0.0,0.0],           # Standard deviation of log aggregate transitory shocks by state. No continuous shocks in a state.\n",
    "    'PermGroFacAgg' : 1.0\n",
    "}\n",
    "\n",
    "# Here we restate just the \"interesting\" parts of the consumer's specification\n",
    "\n",
    "KSAgentDictionary['CRRA']    = 1.0      # Relative risk aversion \n",
    "KSAgentDictionary['DiscFac'] = 0.99     # Intertemporal discount factor\n",
    "KSAgentDictionary['cycles']  = 0        # cycles=0 means consumer is infinitely lived\n",
    "\n",
    "# KS assume that 'good' and 'bad' times are of equal expected duration\n",
    "# The probability of a change in the aggregate state is p_change=0.125\n",
    "p_change=0.125\n",
    "p_remain=1-p_change\n",
    "\n",
    "# Now we define macro transition probabilities for AggShockMarkovConsumerType\n",
    "#   [i,j] is probability of being in state j next period conditional on being in state i this period. \n",
    "# In both states, there is 0.875 chance of staying, 0.125 chance of switching\n",
    "AggMrkvArray = \\\n",
    "np.array([[p_remain,p_change],  # Probabilities of states 0 and 1 next period if in state 0\n",
    "          [p_change,p_remain]]) # Probabilities of states 0 and 1 next period if in state 1\n",
    "KSAgentDictionary['MrkvArray'] = AggMrkvArray"
   ]
  },
  {
   "cell_type": "code",
   "execution_count": 6,
   "metadata": {},
   "outputs": [],
   "source": [
    "# Create the Krusell-Smith agent as an instance of AggShockMarkovConsumerType \n",
    "KSAgent = AggShockMarkovConsumerType(**KSAgentDictionary)"
   ]
  },
  {
   "cell_type": "markdown",
   "metadata": {},
   "source": [
    "Now we need to specify the income distribution. \n",
    "\n",
    "The HARK toolkit allows for two components of labor income: Persistent (or permanent), and transitory.  \n",
    "\n",
    "Using the KS notation above, a HARK consumer's income is\n",
    "\\begin{eqnarray}\n",
    "y & = & w p \\ell \\epsilon \n",
    "\\end{eqnarray}\n",
    "where $p$ is the persistent component of income.  Krusell and Smith did not incorporate a persistent component of income, however, so we will simply calibrate $p=1$ for all states.\n",
    "\n",
    "For each of the two aggregate states we need to specify:\n",
    "   * The _proportion_ of consumers in the $e$ and the $u$ states\n",
    "   * The level of persistent/permanent productivity $p$ (always 1)\n",
    "   * The ratio of actual to permanent productivity in each state $\\{e,u\\}$\n",
    "      * In the KS notation, this is $\\epsilon\\ell$  \n"
   ]
  },
  {
   "cell_type": "code",
   "execution_count": 7,
   "metadata": {
    "code_folding": []
   },
   "outputs": [],
   "source": [
    "# Construct the income distribution for the Krusell-Smith agent\n",
    "prb_eg = 0.96         # Probability of   employment in the good state\n",
    "prb_ug = 1-prb_eg     # Probability of unemployment in the good state\n",
    "prb_eb = 0.90         # Probability of   employment in the bad state\n",
    "prb_ub = 1-prb_eb     # Probability of unemployment in the bad state\n",
    "p_ind  = 1            # Persistent component of income is always 1\n",
    "ell_ug = ell_ub = 0   # Labor supply is zero for unemployed consumers in either agg state\n",
    "ell_eg = 1.0/prb_eg   # Labor supply for employed consumer in good state\n",
    "ell_eb = 1.0/prb_eb   # 1=pe_g*ell_ge+pu_b*ell_gu=pe_b*ell_be+pu_b*ell_gu\n",
    "\n",
    "# IncomeDstn is a list of lists, one for each aggregate Markov state\n",
    "# Each contains three arrays of floats, representing a discrete approximation to the income process. \n",
    "# Order: \n",
    "#   state probabilities \n",
    "#   idiosyncratic persistent income level by state (KS have no persistent shocks p_ind is always 1.0)\n",
    "#   idiosyncratic transitory income level by state\n",
    "\n",
    "KSAgent.IncomeDstn[0] = \\\n",
    "[[np.array([prb_eg,prb_ug]),np.array([p_ind,p_ind]),np.array([ell_eg,ell_ug])], # Agg state good\n",
    " [np.array([prb_eb,prb_ub]),np.array([p_ind,p_ind]),np.array([ell_eb,ell_ub])]  # Agg state bad\n",
    "]"
   ]
  },
  {
   "cell_type": "markdown",
   "metadata": {},
   "source": [
    "Up to this point, individual agents do not have enough information to solve their decision problem yet. What is missing are beliefs about the endogenous macro variables $r$ and $w$, both of which are functions of $\\bar{k}$. "
   ]
  },
  {
   "cell_type": "markdown",
   "metadata": {},
   "source": [
    "#### The Aggregate Economy"
   ]
  },
  {
   "cell_type": "code",
   "execution_count": 9,
   "metadata": {
    "code_folding": []
   },
   "outputs": [],
   "source": [
    "from HARK.ConsumptionSaving.ConsAggShockModel import CobbDouglasMarkovEconomy\n",
    "\n",
    "KSEconomyDictionary = {\n",
    "    'PermShkAggCount': 1, \n",
    "    'TranShkAggCount': 1, \n",
    "    'PermShkAggStd': [0.0,0.0], \n",
    "    'TranShkAggStd': [0.0,0.0], \n",
    "    'DeprFac': 0.025, # Depreciation factor\n",
    "    'CapShare': 0.36, # Share of capital income in cobb-douglas production function\n",
    "    'DiscFac': 0.99,\n",
    "    'CRRA': 1.0,\n",
    "    'PermGroFacAgg': [1.0,1.0],\n",
    "    'AggregateL':1.0, # Fix aggregate labor supply at 1.0 - makes interpretation of z easier\n",
    "    'act_T':1200, # Number of periods for economy to run in simulation\n",
    "    'intercept_prev': [0.0,0.0], # Make some initial guesses at linear savings rule intercepts for each state\n",
    "    'slope_prev': [1.0,1.0], # Make some initial guesses at linear savings rule slopes for each state\n",
    "    'MrkvArray': np.array([[0.875,0.125],\n",
    "                           [0.125,0.875]]), # Transition probabilities\n",
    "    'MrkvNow_init': 0   # Pick a state to start in (we pick the first state)\n",
    "}\n",
    "\n",
    "# The 'interesting' parts of the CobbDouglasMarkovEconomy\n",
    "KSEconomyDictionary['CapShare']  = 0.36\n",
    "KSEconomyDictionary['MrkvArray'] = AggMrkvArray\n",
    "\n",
    "KSEconomy = CobbDouglasMarkovEconomy(agents = [KSAgent], **KSEconomyDictionary) # Combine production and consumption sides into an \"Economy\""
   ]
  },
  {
   "cell_type": "markdown",
   "metadata": {},
   "source": [
    "We have now populated the $\\texttt{KSEconomy}$ with $\\texttt{KSAgents}$ defined before. That is basically telling the agents to take the macro state from the $\\texttt{KSEconomy}$. \n",
    "\n",
    "Now we construct the $\\texttt{AggShkDstn}$ that specifies the evolution of the dynamics of the $\\texttt{KSEconomy}$.\n",
    "\n",
    "The structure of the inputs for $\\texttt{AggShkDstn}$ follows the same logic as for $\\texttt{IncomeDstn}$. Now there is only one possible outcome for each aggregate state (the KS aggregate states are very simple), therefore, each aggregate state has only one possible condition which happens with probability 1."
   ]
  },
  {
   "cell_type": "code",
   "execution_count": 10,
   "metadata": {
    "code_folding": []
   },
   "outputs": [],
   "source": [
    "# Calibrate the magnitude of the aggregate shocks\n",
    "\n",
    "Tran_g = 1.01 # Productivity z in the good aggregate state\n",
    "Tran_b = 0.99 # and the bad state\n",
    "\n",
    "# The HARK framework allows permanent shocks\n",
    "Perm_g = Perm_b = 1.0 # KS assume there are no aggregate permanent shocks\n",
    "\n",
    "# Aggregate productivity shock distribution by state.\n",
    "# First element is probabilities of different outcomes, given the state you are in. \n",
    "# Second element is agg permanent shocks (here we don't have any, so just they are just 1.).\n",
    "# Third  element is agg transitory shocks, which are calibrated the same as in Krusell Smith.\n",
    "\n",
    "KSAggShkDstn = [\n",
    "    [np.array([1.0]),np.array([Perm_g]),np.array([Tran_g])], # Aggregate good\n",
    "    [np.array([1.0]),np.array([Perm_b]),np.array([Tran_b])]  # Aggregate bad\n",
    "]\n",
    "\n",
    "KSEconomy.AggShkDstn = KSAggShkDstn"
   ]
  },
  {
   "cell_type": "markdown",
   "metadata": {},
   "source": [
    "#### Summing Up\n",
    "\n",
    "The combined idiosyncratic and aggregate assumptions can be summarized mathematically as follows.\n",
    "\n",
    "$\\forall \\{s,s'\\}=\\{g,b\\}\\times\\{g,b\\}$, the following two conditions hold:\n",
    "\n",
    "$$\\underbrace{\\pi_{ss'01}}_{p(s \\rightarrow s',u \\rightarrow e)}+\\underbrace{\\pi_{ss'00}}_{p(s \\rightarrow s', u \\rightarrow u)} = \\underbrace{\\pi_{ss'11}}_{p(s\\rightarrow s', e \\rightarrow e) }  + \\underbrace{\\pi_{ss'10}}_{p(s \\rightarrow s', e \\rightarrow u)} = \\underbrace{\\pi_{ss'}}_{p(s\\rightarrow s')}$$\n",
    "\n",
    "$$u_s \\frac{\\pi_{ss'00}}{\\pi_{ss'}}+ (1-u_s) \\frac{\\pi_{ss'10}}{\\pi_{ss'}} = u_{s'}$$"
   ]
  },
  {
   "cell_type": "markdown",
   "metadata": {},
   "source": [
    "### Solving the Model\n",
    "Now, we have fully defined all of the elements of the macroeconomy, and we are in postion to construct an object that represents the economy and to construct a rational expectations equilibrium."
   ]
  },
  {
   "cell_type": "code",
   "execution_count": 11,
   "metadata": {
    "code_folding": [],
    "scrolled": true
   },
   "outputs": [
    {
     "name": "stdout",
     "output_type": "stream",
     "text": [
      "intercept=[-0.2391625043170693, -0.23612394642292522], slope=[1.0589379022340042, 1.0583972665830461], r-sq=[0.9999007630097778, 0.9998101850187024]\n",
      "intercept=[-0.23284348000117538, -0.23005037314000176], slope=[1.0437242579937263, 1.0430192001137852], r-sq=[0.999597842568587, 0.9995228787583207]\n",
      "intercept=[-0.14179377913302404, -0.1397845879435921], slope=[1.019522234277403, 1.0190138495183052], r-sq=[0.9999999957550034, 0.9999999943223266]\n",
      "intercept=[-0.16165570894331788, -0.1596785727367067], slope=[1.024322321505227, 1.023796249802059], r-sq=[0.9999999330730815, 0.9999998121130941]\n",
      "intercept=[-0.15367980777948007, -0.1523709066299711], slope=[1.0228330019333458, 1.0224883026048857], r-sq=[0.9999999953306511, 0.9999999958583536]\n"
     ]
    }
   ],
   "source": [
    "# Construct the economy, make an initial history, then solve \n",
    "\n",
    "KSAgent.getEconomyData(KSEconomy) # Makes attributes of the economy, attributes of the agent\n",
    "\n",
    "KSEconomy.makeAggShkHist() # Make a simulated history of the economy\n",
    "\n",
    "# Set tolerance level. \n",
    "\n",
    "KSEconomy.tolerance = 0.01\n",
    "\n",
    "# Solve macro problem by finding a fixed point for beliefs\n",
    "\n",
    "KSEconomy.solve() # Solve the economy using the market method. \n",
    "# i.e. guess the saving function, and iterate until a fixed point"
   ]
  },
  {
   "cell_type": "markdown",
   "metadata": {},
   "source": [
    "The last line above is the converged aggregate saving rule for good and bad times, respectively."
   ]
  },
  {
   "cell_type": "code",
   "execution_count": 13,
   "metadata": {
    "code_folding": []
   },
   "outputs": [
    {
     "name": "stdout",
     "output_type": "stream",
     "text": [
      "Aggregate savings as a function of aggregate market resources:\n"
     ]
    },
    {
     "data": {
      "image/png": "[encoded data removed]",
      "text/plain": [
       "<Figure size 432x288 with 1 Axes>"
      ]
     },
     "metadata": {
      "needs_background": "light"
     },
     "output_type": "display_data"
    },
    {
     "name": "stdout",
     "output_type": "stream",
     "text": [
      "Consumption function at each aggregate market resources gridpoint (in general equilibrium):\n"
     ]
    },
    {
     "data": {
      "image/png": "[encoded data removed]",
      "text/plain": [
       "<Figure size 432x288 with 1 Axes>"
      ]
     },
     "metadata": {
      "needs_background": "light"
     },
     "output_type": "display_data"
    },
    {
     "name": "stdout",
     "output_type": "stream",
     "text": [
      "Savings at each individual market resources gridpoint (in general equilibrium):\n"
     ]
    },
    {
     "data": {
      "image/png": "[encoded data removed]",
      "text/plain": [
       "<Figure size 432x288 with 1 Axes>"
      ]
     },
     "metadata": {
      "needs_background": "light"
     },
     "output_type": "display_data"
    }
   ],
   "source": [
    "# Plot some key results\n",
    "\n",
    "print('Aggregate savings as a function of aggregate market resources:')\n",
    "plotFuncs(KSEconomy.AFunc,0.1,2*KSEconomy.kSS)\n",
    "\n",
    "print('Consumption function at each aggregate market resources gridpoint (in general equilibrium):')\n",
    "KSAgent.unpackcFunc()\n",
    "m_grid = np.linspace(0,10,200)\n",
    "KSAgent.unpackcFunc()\n",
    "for M in KSAgent.Mgrid:\n",
    "    c_at_this_M = KSAgent.solution[0].cFunc[0](m_grid,M*np.ones_like(m_grid)) #Have two consumption functions, check this\n",
    "    plt.plot(m_grid,c_at_this_M)\n",
    "plt.show()\n",
    "\n",
    "print('Savings at each individual market resources gridpoint (in general equilibrium):')\n",
    "KSAgent.unpackcFunc()\n",
    "m_grid = np.linspace(0,10,200)\n",
    "KSAgent.unpackcFunc()\n",
    "for M in KSAgent.Mgrid:\n",
    "    s_at_this_M = m_grid-KSAgent.solution[0].cFunc[1](m_grid,M*np.ones_like(m_grid))\n",
    "    c_at_this_M = KSAgent.solution[0].cFunc[1](m_grid,M*np.ones_like(m_grid)) #Have two consumption functions, check this\n",
    "    plt.plot(m_grid,s_at_this_M)\n",
    "plt.show()"
   ]
  },
  {
   "cell_type": "markdown",
   "metadata": {},
   "source": [
    "### The Wealth Distribution in KS\n",
    "\n",
    "#### Benchmark Model\n"
   ]
  },
  {
   "cell_type": "code",
   "execution_count": 20,
   "metadata": {},
   "outputs": [
    {
     "data": {
      "text/plain": [
       "['T',\n",
       " '__abs__',\n",
       " '__add__',\n",
       " '__and__',\n",
       " '__array__',\n",
       " '__array_finalize__',\n",
       " '__array_function__',\n",
       " '__array_interface__',\n",
       " '__array_prepare__',\n",
       " '__array_priority__',\n",
       " '__array_struct__',\n",
       " '__array_ufunc__',\n",
       " '__array_wrap__',\n",
       " '__bool__',\n",
       " '__class__',\n",
       " '__complex__',\n",
       " '__contains__',\n",
       " '__copy__',\n",
       " '__deepcopy__',\n",
       " '__delattr__',\n",
       " '__delitem__',\n",
       " '__dir__',\n",
       " '__divmod__',\n",
       " '__doc__',\n",
       " '__eq__',\n",
       " '__float__',\n",
       " '__floordiv__',\n",
       " '__format__',\n",
       " '__ge__',\n",
       " '__getattribute__',\n",
       " '__getitem__',\n",
       " '__gt__',\n",
       " '__hash__',\n",
       " '__iadd__',\n",
       " '__iand__',\n",
       " '__ifloordiv__',\n",
       " '__ilshift__',\n",
       " '__imatmul__',\n",
       " '__imod__',\n",
       " '__imul__',\n",
       " '__index__',\n",
       " '__init__',\n",
       " '__init_subclass__',\n",
       " '__int__',\n",
       " '__invert__',\n",
       " '__ior__',\n",
       " '__ipow__',\n",
       " '__irshift__',\n",
       " '__isub__',\n",
       " '__iter__',\n",
       " '__itruediv__',\n",
       " '__ixor__',\n",
       " '__le__',\n",
       " '__len__',\n",
       " '__lshift__',\n",
       " '__lt__',\n",
       " '__matmul__',\n",
       " '__mod__',\n",
       " '__mul__',\n",
       " '__ne__',\n",
       " '__neg__',\n",
       " '__new__',\n",
       " '__or__',\n",
       " '__pos__',\n",
       " '__pow__',\n",
       " '__radd__',\n",
       " '__rand__',\n",
       " '__rdivmod__',\n",
       " '__reduce__',\n",
       " '__reduce_ex__',\n",
       " '__repr__',\n",
       " '__rfloordiv__',\n",
       " '__rlshift__',\n",
       " '__rmatmul__',\n",
       " '__rmod__',\n",
       " '__rmul__',\n",
       " '__ror__',\n",
       " '__rpow__',\n",
       " '__rrshift__',\n",
       " '__rshift__',\n",
       " '__rsub__',\n",
       " '__rtruediv__',\n",
       " '__rxor__',\n",
       " '__setattr__',\n",
       " '__setitem__',\n",
       " '__setstate__',\n",
       " '__sizeof__',\n",
       " '__str__',\n",
       " '__sub__',\n",
       " '__subclasshook__',\n",
       " '__truediv__',\n",
       " '__xor__',\n",
       " 'all',\n",
       " 'any',\n",
       " 'argmax',\n",
       " 'argmin',\n",
       " 'argpartition',\n",
       " 'argsort',\n",
       " 'astype',\n",
       " 'base',\n",
       " 'byteswap',\n",
       " 'choose',\n",
       " 'clip',\n",
       " 'compress',\n",
       " 'conj',\n",
       " 'conjugate',\n",
       " 'copy',\n",
       " 'ctypes',\n",
       " 'cumprod',\n",
       " 'cumsum',\n",
       " 'data',\n",
       " 'diagonal',\n",
       " 'dot',\n",
       " 'dtype',\n",
       " 'dump',\n",
       " 'dumps',\n",
       " 'fill',\n",
       " 'flags',\n",
       " 'flat',\n",
       " 'flatten',\n",
       " 'getfield',\n",
       " 'imag',\n",
       " 'item',\n",
       " 'itemset',\n",
       " 'itemsize',\n",
       " 'max',\n",
       " 'mean',\n",
       " 'min',\n",
       " 'nbytes',\n",
       " 'ndim',\n",
       " 'newbyteorder',\n",
       " 'nonzero',\n",
       " 'partition',\n",
       " 'prod',\n",
       " 'ptp',\n",
       " 'put',\n",
       " 'ravel',\n",
       " 'real',\n",
       " 'repeat',\n",
       " 'reshape',\n",
       " 'resize',\n",
       " 'round',\n",
       " 'searchsorted',\n",
       " 'setfield',\n",
       " 'setflags',\n",
       " 'shape',\n",
       " 'size',\n",
       " 'sort',\n",
       " 'squeeze',\n",
       " 'std',\n",
       " 'strides',\n",
       " 'sum',\n",
       " 'swapaxes',\n",
       " 'take',\n",
       " 'tobytes',\n",
       " 'tofile',\n",
       " 'tolist',\n",
       " 'tostring',\n",
       " 'trace',\n",
       " 'transpose',\n",
       " 'var',\n",
       " 'view']"
      ]
     },
     "execution_count": 20,
     "metadata": {},
     "output_type": "execute_result"
    }
   ],
   "source": [
    "dir(sim_wealth)"
   ]
  },
  {
   "cell_type": "code",
   "execution_count": 21,
   "metadata": {},
   "outputs": [
    {
     "name": "stdout",
     "output_type": "stream",
     "text": [
      "The mean of individual wealth is 41.38763295743544;\n",
      " the standard deviation is 7.757414089663269;\n",
      " the median is 41.56896057549726.\n"
     ]
    }
   ],
   "source": [
    "sim_wealth = KSEconomy.aLvlNow[0]\n",
    "\n",
    "print(\"The mean of individual wealth is \"+ str(sim_wealth.mean()) + \";\\n the standard deviation is \"\n",
    "      + str(sim_wealth.std())+\";\\n the median is \" + str(np.median(sim_wealth)) +\".\")"
   ]
  },
  {
   "cell_type": "code",
   "execution_count": 22,
   "metadata": {
    "code_folding": []
   },
   "outputs": [],
   "source": [
    "# Get some tools for plotting simulated vs actual wealth distributions\n",
    "from HARK.utilities import getLorenzShares, getPercentiles\n",
    "\n",
    "# The cstwMPC model conveniently has data on the wealth distribution \n",
    "# from the U.S. Survey of Consumer Finances\n",
    "from HARK.cstwMPC.SetupParamsCSTW import SCF_wealth, SCF_weights"
   ]
  },
  {
   "cell_type": "code",
   "execution_count": 23,
   "metadata": {
    "code_folding": []
   },
   "outputs": [
    {
     "data": {
      "image/png": "[encoded data removed]",
      "text/plain": [
       "<Figure size 360x360 with 1 Axes>"
      ]
     },
     "metadata": {
      "needs_background": "light"
     },
     "output_type": "display_data"
    }
   ],
   "source": [
    "# Construct the Lorenz curves and plot them\n",
    "\n",
    "pctiles = np.linspace(0.001,0.999,15)\n",
    "SCF_Lorenz_points = getLorenzShares(SCF_wealth,weights=SCF_weights,percentiles=pctiles)\n",
    "sim_Lorenz_points = getLorenzShares(sim_wealth,percentiles=pctiles)\n",
    "\n",
    "# Plot \n",
    "plt.figure(figsize=(5,5))\n",
    "plt.title('Wealth Distribution')\n",
    "plt.plot(pctiles,SCF_Lorenz_points,'--k',label='SCF')\n",
    "plt.plot(pctiles,sim_Lorenz_points,'-b',label='Benchmark KS')\n",
    "plt.plot(pctiles,pctiles,'g-.',label='45 Degree')\n",
    "plt.xlabel('Percentile of net worth')\n",
    "plt.ylabel('Cumulative share of wealth')\n",
    "plt.legend(loc=2)\n",
    "plt.ylim([0,1])\n",
    "plt.show()"
   ]
  },
  {
   "cell_type": "code",
   "execution_count": 24,
   "metadata": {},
   "outputs": [
    {
     "name": "stdout",
     "output_type": "stream",
     "text": [
      "The Euclidean distance between simulated wealth distribution and the estimates from the SCF data is 1.461381224774914\n"
     ]
    }
   ],
   "source": [
    "# Calculate a measure of the difference between the simulated and empirical distributions\n",
    "lorenz_distance = np.sqrt(np.sum((SCF_Lorenz_points - sim_Lorenz_points)**2))\n",
    "print(\"The Euclidean distance between simulated wealth distribution and the estimates from the SCF data is \"+str(lorenz_distance) )"
   ]
  },
  {
   "cell_type": "markdown",
   "metadata": {},
   "source": [
    "#### Heterogeneous Time Preference Rates\n",
    "\n",
    "As the figures show, the distribution of wealth that the baseline KS model produces is very far from matching the empirical degree of inequality in the US data.\n",
    "\n",
    "This could matter for macroeconomic purposes.  For example, the SCF data indicate that many agents are concentrated at low values of wealth where the MPC is very large.  We might expect, therefore, that a fiscal policy \"stimulus\" that gives a fixed amount of money to every agent would have a large effect on the consumption of the low-wealth households who have a high Marginal Propensity to Consume.\n",
    "\n",
    "KS attempt to address this problem by assuming that an individual agent's time preference rate can change over time.\n",
    "\n",
    "The rationale is that this represents a generational transition: The \"agent\" is really a \"dynasty\" and the time preference rate of the \"child\" dynast may differ from that of the \"parent.\"\n",
    "\n",
    "Specifically, KS assume that $\\beta$ can take on three values, 0.9858, 0.9894, and 0.9930, and that the transition probabilities are such that \n",
    "- The invariant distribution for $\\beta$’s has 80 percent of the population at the middle $\\beta$ and 10 percent at each of the other $\\beta$’s.\n",
    "- Immediate transitions between the extreme values of $\\beta$ occur with probability zero. \n",
    "- The average duration of the highest and lowest $\\beta$’s is 50 years. \n",
    "\n",
    "The HARK toolkit is not natively set up to accommodate stochastic time preference factors (though an extension to accommodate this would be easy).  \n",
    "\n",
    "Here, instead, we assume that different agents have different values of $\\beta$ that are uniformly distributed over some range. We approximate the uniform distribution by three points.  The agents are heterogeneous _ex ante_ (and permanently)."
   ]
  },
  {
   "cell_type": "code",
   "execution_count": 26,
   "metadata": {
    "code_folding": []
   },
   "outputs": [],
   "source": [
    "# Construct the distribution of types\n",
    "from HARK.utilities import approxUniform\n",
    "\n",
    "# Specify the distribution of the discount factor\n",
    "num_types = 3              # number of types we want;\n",
    "DiscFac_mean   = 0.9858    # center of beta distribution \n",
    "DiscFac_spread = 0.0085    # spread of beta distribution\n",
    "DiscFac_dstn = approxUniform(num_types, DiscFac_mean-DiscFac_spread, DiscFac_mean+DiscFac_spread)[1]\n",
    "BaselineType = deepcopy(KSAgent)\n",
    "\n",
    "MyTypes = [] # initialize an empty list to hold our consumer types\n",
    "for nn in range(len(DiscFac_dstn)):\n",
    "    # Now create the types, and append them to the list MyTypes\n",
    "    NewType = deepcopy(BaselineType)\n",
    "    NewType.DiscFac = DiscFac_dstn[nn]\n",
    "    NewType.seed = nn # give each consumer type a different RNG seed\n",
    "    MyTypes.append(NewType)"
   ]
  },
  {
   "cell_type": "code",
   "execution_count": 27,
   "metadata": {
    "code_folding": []
   },
   "outputs": [
    {
     "name": "stdout",
     "output_type": "stream",
     "text": [
      "**** WARNING: could not execute multiThreadCommands in HARK.core.Market.solveAgents()  so using the serial version instead. This will likely be slower. The multiTreadCommands() functions failed with the following error: \n",
      " <class 'AttributeError'> : Can't pickle local object 'CobbDouglasEconomy.update.<locals>.<lambda>'\n",
      "intercept=[-0.20631207957808662, -0.2040770496487026], slope=[1.0369201289798964, 1.0364507615773924], r-sq=[0.9994246745573431, 0.9988405896503614]\n",
      "intercept=[-0.2387916468113721, -0.23521084504718895], slope=[1.0455754866700544, 1.0448062439554797], r-sq=[0.9994324534752056, 0.9988864678866899]\n",
      "intercept=[-0.2508790955845493, -0.24778037415020177], slope=[1.0487891667116465, 1.0481795186093341], r-sq=[0.9994594622753665, 0.9988999824624171]\n",
      "intercept=[-0.25139294688472014, -0.25025913471602224], slope=[1.0489174762846745, 1.048848417897836], r-sq=[0.9994856315705158, 0.9989322824249554]\n",
      "intercept=[-0.249918127074164, -0.25008703441248376], slope=[1.0485199405183645, 1.0488057114917515], r-sq=[0.9995111065897844, 0.9989791219709223]\n",
      "intercept=[-0.2490337118178664, -0.24975693838603233], slope=[1.0482823047825405, 1.0487188426475131], r-sq=[0.9995251944986786, 0.9990072611524698]\n",
      "intercept=[-0.24865752456381013, -0.24957936747706422], slope=[1.0481813003244456, 1.0486719098395347], r-sq=[0.9995309962735117, 0.9990191776484115]\n",
      "intercept=[-0.2485140275755681, -0.2495006318062088], slope=[1.0481427784532853, 1.048651064074636], r-sq=[0.9995332213850738, 0.999023800233915]\n",
      "intercept=[-0.24846191684014357, -0.2494678039452262], slope=[1.0481287879104642, 1.0486423630191486], r-sq=[0.9995340569561038, 0.9990255459586751]\n"
     ]
    }
   ],
   "source": [
    "# Put all agents into the economy\n",
    "KSEconomy_sim = CobbDouglasMarkovEconomy(agents = MyTypes, **KSEconomyDictionary) \n",
    "KSEconomy_sim.AggShkDstn = KSAggShkDstn # Agg shocks are the same as defined earlier\n",
    "\n",
    "for ThisType in MyTypes:\n",
    "    ThisType.getEconomyData(KSEconomy_sim) # Makes attributes of the economy, attributes of the agent\n",
    "\n",
    "KSEconomy_sim.makeAggShkHist() # Make a simulated prehistory of the economy\n",
    "KSEconomy_sim.solve()          # Solve macro problem by getting a fixed point dynamic rule"
   ]
  },
  {
   "cell_type": "code",
   "execution_count": 28,
   "metadata": {
    "code_folding": []
   },
   "outputs": [
    {
     "name": "stdout",
     "output_type": "stream",
     "text": [
      "Aggregate capital to income ratio is 39.18827884598791\n"
     ]
    }
   ],
   "source": [
    "# Get the level of end-of-period assets a for all types of consumers\n",
    "aLvl_all = np.concatenate([KSEconomy_sim.aLvlNow[i] for i in range(len(MyTypes))])\n",
    "\n",
    "print('Aggregate capital to income ratio is ' + str(np.mean(aLvl_all)))"
   ]
  },
  {
   "cell_type": "code",
   "execution_count": 29,
   "metadata": {
    "code_folding": []
   },
   "outputs": [
    {
     "data": {
      "image/png": "[encoded data removed]",
      "text/plain": [
       "<Figure size 360x360 with 1 Axes>"
      ]
     },
     "metadata": {
      "needs_background": "light"
     },
     "output_type": "display_data"
    }
   ],
   "source": [
    "# Plot the distribution of wealth across all agent types\n",
    "sim_3beta_wealth = aLvl_all\n",
    "pctiles = np.linspace(0.001,0.999,15)\n",
    "sim_Lorenz_points = getLorenzShares(sim_wealth,percentiles=pctiles)\n",
    "SCF_Lorenz_points = getLorenzShares(SCF_wealth,weights=SCF_weights,percentiles=pctiles)\n",
    "sim_3beta_Lorenz_points = getLorenzShares(sim_3beta_wealth,percentiles=pctiles)\n",
    "\n",
    "## Plot\n",
    "plt.figure(figsize=(5,5))\n",
    "plt.title('Wealth Distribution')\n",
    "plt.plot(pctiles,SCF_Lorenz_points,'--k',label='SCF')\n",
    "plt.plot(pctiles,sim_Lorenz_points,'-b',label='Benchmark KS')\n",
    "plt.plot(pctiles,sim_3beta_Lorenz_points,'-*r',label='3 Types')\n",
    "plt.plot(pctiles,pctiles,'g-.',label='45 Degree')\n",
    "plt.xlabel('Percentile of net worth')\n",
    "plt.ylabel('Cumulative share of wealth')\n",
    "plt.legend(loc=2)\n",
    "plt.ylim([0,1])\n",
    "plt.show()"
   ]
  },
  {
   "cell_type": "code",
   "execution_count": 30,
   "metadata": {
    "code_folding": []
   },
   "outputs": [
    {
     "data": {
      "text/plain": [
       "[3.2261502192066773, 4.2876415263775405, 110.05104479237949]"
      ]
     },
     "execution_count": 30,
     "metadata": {},
     "output_type": "execute_result"
    }
   ],
   "source": [
    "# The mean levels of wealth for the three types of consumer are \n",
    "[np.mean(KSEconomy_sim.aLvlNow[0]),np.mean(KSEconomy_sim.aLvlNow[1]),np.mean(KSEconomy_sim.aLvlNow[2])]"
   ]
  },
  {
   "cell_type": "code",
   "execution_count": 31,
   "metadata": {
    "code_folding": [],
    "scrolled": true
   },
   "outputs": [
    {
     "data": {
      "image/png": "[encoded data removed]",
      "text/plain": [
       "<Figure size 432x288 with 1 Axes>"
      ]
     },
     "metadata": {
      "needs_background": "light"
     },
     "output_type": "display_data"
    }
   ],
   "source": [
    "# Plot the distribution of wealth \n",
    "for i in range(len(MyTypes)):\n",
    "    if i<=2:\n",
    "        plt.hist(np.log(KSEconomy_sim.aLvlNow[i])\\\n",
    "                 ,label=r'$\\beta$='+str(round(DiscFac_dstn[i],4))\\\n",
    "                 ,bins=np.arange(-2.,np.log(max(aLvl_all)),0.05))\n",
    "        plt.yticks([])\n",
    "plt.legend(loc=2)\n",
    "plt.title('Log Wealth Distribution of 3 Types')\n",
    "plt.show()"
   ]
  },
  {
   "cell_type": "code",
   "execution_count": 32,
   "metadata": {
    "code_folding": []
   },
   "outputs": [
    {
     "data": {
      "image/png": "[encoded data removed]",
      "text/plain": [
       "<Figure size 432x288 with 1 Axes>"
      ]
     },
     "metadata": {
      "needs_background": "light"
     },
     "output_type": "display_data"
    }
   ],
   "source": [
    "# Distribution of wealth in original model with one type\n",
    "plt.hist(np.log(sim_wealth),bins=np.arange(-2.,np.log(max(aLvl_all)),0.05))\n",
    "plt.yticks([])\n",
    "plt.title('Log Wealth Distribution of Original Model with One Type')\n",
    "plt.show()"
   ]
  },
  {
   "cell_type": "markdown",
   "metadata": {},
   "source": [
    "### Target Wealth is Nonlinear in Time Preference Rate\n",
    "\n",
    "Note the nonlinear relationship between wealth and time preference in the economy with three types.  Although the three groups are uniformly spaced in $\\beta$ values, there is a lot of overlap in the distribution of wealth of the two impatient types, who are both separated from the most patient type by a large gap.  \n",
    "\n",
    "A model of buffer stock saving that has simplified enough to be [tractable](http://econ.jhu.edu/people/ccarroll/public/lecturenotes/Consumption/TractableBufferStock) yields some insight.  If $\\sigma$ is a measure of income risk, $r$ is the interest rate, and $\\theta$ is the time preference rate, then for an 'impatient' consumer (for whom $\\theta > r$), in the logarithmic utility case an approximate formula for the target level of wealth is:\n",
    "\n",
    "<!-- Search for 'an approximation to target market resources' and note that a=m-1, and \\gamma=0 -->\n",
    "\n",
    "\\begin{eqnarray}\n",
    " a & \\approx & \\left(\\frac{1}{ \\theta(1+(\\theta-r)/\\sigma)-r}\\right)\n",
    "\\end{eqnarray}\n",
    "\n",
    "Conceptually, this reflects the fact that the only reason any of these agents holds positive wealth is the precautionary motive.  (If there is no uncertainty, $\\sigma=0$ and thus $a=0$).  \n",
    "\n",
    "For positive uncertainty $\\sigma>0$, as the degree of impatience (given by $\\theta-r$) approaches zero, the target level of wealth approaches infinity.  \n",
    "\n",
    "A plot of $a$ as a function of $\\theta$ for a particular parameterization is shown below."
   ]
  },
  {
   "cell_type": "code",
   "execution_count": 33,
   "metadata": {
    "code_folding": []
   },
   "outputs": [
    {
     "data": {
      "image/png": "[encoded data removed]",
      "text/plain": [
       "<Figure size 432x288 with 1 Axes>"
      ]
     },
     "metadata": {
      "needs_background": "light"
     },
     "output_type": "display_data"
    }
   ],
   "source": [
    "# Plot target wealth as a function of time preference rate for calibrated tractable model\n",
    "fig = plt.figure()\n",
    "ax  = plt.axes()\n",
    "sigma = 0.01\n",
    "r = 0.02\n",
    "theta = np.linspace(0.023,0.10,100)\n",
    "plt.plot(theta,1/(theta*(1+(theta-r)/sigma)-r))\n",
    "plt.xlabel(r'$\\theta$')\n",
    "plt.ylabel('Target wealth')\n",
    "plt.show()"
   ]
  }
 ],
 "metadata": {
  "jupytext": {
   "formats": "ipynb,py:percent"
  },
  "kernelspec": {
   "display_name": "Python 3",
   "language": "python",
   "name": "python3"
  },
  "language_info": {
   "codemirror_mode": {
    "name": "ipython",
    "version": 3
   },
   "file_extension": ".py",
   "mimetype": "text/x-python",
   "name": "python",
   "nbconvert_exporter": "python",
   "pygments_lexer": "ipython3",
   "version": "3.6.8"
  },
  "latex_envs": {
   "LaTeX_envs_menu_present": true,
   "autoclose": false,
   "autocomplete": true,
   "bibliofile": "biblio.bib",
   "cite_by": "apalike",
   "current_citInitial": 1,
   "eqLabelWithNumbers": true,
   "eqNumInitial": 1,
   "hotkeys": {
    "equation": "Ctrl-E",
    "itemize": "Ctrl-I"
   },
   "labels_anchors": false,
   "latex_user_defs": false,
   "report_style_numbering": false,
   "user_envs_cfg": false
  },
  "varInspector": {
   "cols": {
    "lenName": 16,
    "lenType": 16,
    "lenVar": 40
   },
   "kernels_config": {
    "python": {
     "delete_cmd_postfix": "",
     "delete_cmd_prefix": "del ",
     "library": "var_list.py",
     "varRefreshCmd": "print(var_dic_list())"
    },
    "r": {
     "delete_cmd_postfix": ") ",
     "delete_cmd_prefix": "rm(",
     "library": "var_list.r",
     "varRefreshCmd": "cat(var_dic_list()) "
    }
   },
   "types_to_exclude": [
    "module",
    "function",
    "builtin_function_or_method",
    "instance",
    "_Feature"
   ],
   "window_display": false
  }
 },
 "nbformat": 4,
 "nbformat_minor": 2
}
