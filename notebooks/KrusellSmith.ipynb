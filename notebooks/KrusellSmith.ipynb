{
 "cells": [
  {
   "cell_type": "markdown",
   "metadata": {},
   "source": [
    "# Krusell Smith (1998) Tao: Please put a link to a downloadable PDF of the KS paper here\n",
    "<!-- Also, though the notebook says it is by you and Melih, the only notations I found were for additions by you -->\n",
    "<!-- If Melih did not do much, his name does not deserve to be on an equal footing with yours -->\n",
    "- Original version by Tim Munday \n",
    "- Comments and additions by Tao Wang and Melih Firat\n",
    "- Further edits by Chris Carroll"
   ]
  },
  {
   "cell_type": "markdown",
   "metadata": {},
   "source": [
    "### Overview\n",
    "\n",
    "The benchmark Krusell-Smith model has the following broad features:\n",
    "   * The aggregate state switches between good and bad with known probabilities\n",
    "   * All consumers experience the same aggregate state for the economy (good or bad)\n",
    "   * _ex ante_ there is only one type of consumer, which is infinitely lived\n",
    "   * _ex post_ heterogeneity arises from uninsurable idiosyncratic income shocks\n",
    "      * Specifically, individuals are at risk of spells of unemployment\n",
    "      * In a spell of unemployment, their income is zero\n",
    "   \n",
    "Thus, each agent faces two types of uncertainty: About their employment state, and about the income they will earn when employed.  And the values of income and unemployment risk depend on the aggregate state.\n"
   ]
  },
  {
   "cell_type": "markdown",
   "metadata": {},
   "source": [
    "### Details\n",
    "\n",
    "#### Idiosyncratic\n",
    "Each agent _attempts_ to supply an amount of productive labor $\\ell$ in each period.  (Here and below we mostly follow the notation of Krusell and Smith (1998)).\n",
    "\n",
    "However, whether they _succeed_ in supplying that labor (and earning a corresponding wage) is governed by the realization of the stochastic variable $\\epsilon$.  If the agent is unlucky, $\\epsilon$ is zero and the agent is unemployed.  The amount of labor they succeed in supplying is thus $\\epsilon\\ell$.\n",
    "\n",
    "#### Aggregate\n",
    "Aggregate output ($\\bar{y}$) is produced using a Cobb-Douglas production function using capital and labor. (Bars over variables indicate the aggregate value of a variable that has different values across different idiosyncratic consumers).\n",
    "\n",
    "$z$ denotes the aggregate shock to productivity. $z$ can take two values, either $z_g$ -- the \"good\" state, or $z_b < z_g$ -- the \"bad\" state.  Consumers gain income from providing labor, and from the rental return on any capital they own.  Labor and capital markets are perfectly efficient so both factors are both paid their marginal products.\n",
    "\n",
    "The agent can choose to save by buying capital $k$ which is bounded below at the borrowing constraint of 0.\n",
    "\n",
    "\n",
    "Putting all of this together, aggregate output is given by \n",
    "\n",
    "\\begin{eqnarray}\n",
    "\\bar{y} & = & z\\bar{k}^\\alpha \\bar{\\ell}^{1-\\alpha}\n",
    "\\end{eqnarray}\n"
   ]
  },
  {
   "cell_type": "markdown",
   "metadata": {},
   "source": [
    "The aggregate shocks $z$ follow a first-order Markov chains with the transition probability of moving from state $s$ to state $s'$ denoted by $\\pi_{ss'}$. The aggregate shocks and individual shocks are correlated: The probability of being unemployed is higher in bad times, when aggregate productivity is low, than in good times, when aggregate productivity is high.\n",
    "\n",
    "#### Idiosyncratic and Aggregate Together\n",
    "\n",
    "The individual shocks satisfy the law of large numbers, and the model is constructed so that the number of agents who are unemployed in the good state always equals $u_g$, and is always $u_b$ in the bad state. Given the aggregate state, individual shocks are independent from each other.\n",
    "\n",
    "For the individual, the probability of moving between a good state and employment to a bad state and unemployment is denoted $\\pi_{gb10}$ with similar notation for the other transition probabilities.\n",
    "\n",
    "(Krusell and Smith allow for serially correlated unemployment at the idiosyncratic level. Here we will simplify this and have unemployment be serially uncorrelated.)"
   ]
  },
  {
   "cell_type": "markdown",
   "metadata": {},
   "source": [
    "Finally, $\\Gamma$ denotes the current distribution of consumers over capital and employment status, and $H$ denotes the law of motion of this distribution. "
   ]
  },
  {
   "cell_type": "markdown",
   "metadata": {},
   "source": [
    "#### The Idiosyncratic Individual's Problem Given the Aggregate State\n",
    "\n",
    "The individual's problem is:\n",
    "\\begin{eqnarray*}\n",
    "V(k, \\epsilon; \\Gamma, z) &=& \\max_{k'}\\{U(c) + \\beta \\mathbb{E}[V(k' ,\\epsilon'; \\Gamma', z')|z, \\epsilon]\\} \\\\\n",
    "c + k' &=& r(\\bar{k}, \\bar{\\ell}, z)k + w(\\bar{k}, \\bar{\\ell}, z)\\ell\\epsilon + (1-\\delta)k \\\\\n",
    "\\Gamma' &=& H(\\Gamma, z, z') \\\\\n",
    "k' &\\geq& 0 \\\\\n",
    "\\end{eqnarray*}"
   ]
  },
  {
   "cell_type": "markdown",
   "metadata": {},
   "source": [
    "Krusell and Smith define an equilibrium as a law of motion $H$, a value function $V$, a rule for updating capital $f$ and pricing functions $r$ and $w$, such that $V$ and $f$ solve the consumers problem, $r$ and $w$ denote the marginal products of capital and labour, and $H$ is consistent with $f$ (i.e. if we add up all of the individual agents capital choices we get the correct distribution of capital)."
   ]
  },
  {
   "cell_type": "markdown",
   "metadata": {},
   "source": [
    "##### Discussion of the KS Algorithm\n",
    "\n",
    "In general, $\\Gamma$ is a high-dimensional object because it includes the whole distribution of individuals' wealth in the economy. Because the optimal amount to save is a nonlinear function of the level of idiosyncratic $k$, next period's aggregate capital stock $\\bar{k}'$ depends on the distribution of the holdings of idiosyncratic $k$ across the population of consumers. Therefore the law of motion $H$ is not a trivial function of the $\\Gamma$. \n",
    "\n",
    "KS simplified this problem as by noting the following. \n",
    "\n",
    "1. The agent cares about the future aggregate aggregate state only insofar as that state affects their own personal value of $c$\n",
    "1. Future values of $c$ depend on the aggregate state only through the budget constraint\n",
    "1. The channels by which the budget constraint depends on the aggregate state are:\n",
    "   * The probability distributions of $\\epsilon$ and $z$ are affected by the aggregate state\n",
    "   * Interest rates and wages depend on the future values of $\\bar{k}$ and $\\bar{\\ell}$\n",
    "  \n",
    "\n",
    "Now note that\n",
    "\n",
    "1. The probability distributions for the future values of $\\{\\epsilon, z\\}$ are known; they are fully determined by the Markov transition matrices\n",
    "1. The values of $r$ and $w$ are both determined by the future value of $\\bar{k}$ (in combination with the exogenous value of $\\bar{\\ell}$)\n",
    "1. So the only endogenous object that the agent needs to form expectations about, in order to have a complete rational expectation about everything affecting them, is $\\bar{k}$\n",
    "\n",
    "The key result in Krusell and Smith is the discovery that a very simple linear rule does an extraordinarily good job (though not quite perfect) in forecasting $\\bar{k}$\n",
    "\n",
    "They then argue that, since rationality is surely bounded to some degree, the solution that an agent obtains using a good forecasting rule for $\\bar{k}$ is \"good enough\" to compute an \"approximate\" solution to the consumer's optimization problem.\n",
    "\n",
    "They define a generic algorithm to find a forecasting rule for $\\bar{k}$ as follows\n",
    "\n",
    "1. Choose the number of moments $n$ of the distribution of $k$ to be included in the set of variables to forecast $\\bar{k}'$. In the simplest case, $n=1$, the only forecasting variable for next period's $\\bar{k}'$ is the mean (the first moment, $n=1$)) of current capital, $\\bar{k}$.\n",
    "2. Each individual adopts the same belief about the law motion of these moments, $H_I$ and finds the optimal decision policy, $f_I$, contingent on that guess.\n",
    "3. Use the optimal policy to simulate a history of aggregate capital with a large number of agents. \n",
    "4. Characterize the realized law of motion using the same number of moments $n$ \n",
    "5. Compare it with the $H_I$, what is taken as given by individuals. \n",
    "6. Iterate until the two converge. \n",
    "\n",
    "In the end, the solution to the original problem is well approximated by the following simplified problem:\n",
    "\n",
    "\\begin{eqnarray*}\n",
    "V(k, \\epsilon; \\bar k, z) &=& max_{c, k'}\\{U(c) + \\beta E[V(k' ,\\epsilon'; \\bar k', z')|z, \\epsilon]\\} \\\\\n",
    "c + k' &=& r(\\bar{k}, \\bar{\\ell}, z)k + w(\\bar{k}, \\bar{\\ell}, z)l\\epsilon + (1-\\delta)k; \\\\\n",
    "\\text{When }~ z=z_g \\quad \\log\\bar k' & = & a_0 + a_1 \\log\\bar k; \\\\\n",
    "\\text{When }~ z=z_b  \\quad  \\log\\bar k' & = & b_0 + b_1 \\log\\bar k ; \\\\\n",
    "k' &\\geq& 0 \\\\\n",
    "\\end{eqnarray*}"
   ]
  },
  {
   "cell_type": "markdown",
   "metadata": {},
   "source": [
    "## Implementation Using the HARK Toolkit"
   ]
  },
  {
   "cell_type": "markdown",
   "metadata": {},
   "source": [
    "#### The Consumer"
   ]
  },
  {
   "cell_type": "code",
   "execution_count": 1,
   "metadata": {
    "code_folding": []
   },
   "outputs": [],
   "source": [
    "# Import generic setup tools\n",
    "\n",
    "# This is a jupytext paired notebook that autogenerates KrusellSmith.py\n",
    "# which can be executed from a terminal command line via \"ipython KrusellSmith.py\"\n",
    "# But a terminal does not permit inline figures, so we need to test jupyter vs terminal\n",
    "# Google \"how can I check if code is executed in the ipython notebook\"\n",
    "def in_ipynb():\n",
    "    try:\n",
    "        if str(type(get_ipython())) == \"<class 'ipykernel.zmqshell.ZMQInteractiveShell'>\":\n",
    "            return True\n",
    "        else:\n",
    "            return False\n",
    "    except NameError:\n",
    "        return False\n",
    "\n",
    "# Determine whether to make the figures inline (for spyder or jupyter)\n",
    "# vs whatever is the automatic setting that will apply if run from the terminal\n",
    "if in_ipynb():\n",
    "    # %matplotlib inline generates a syntax error when run from the shell\n",
    "    # so do this instead\n",
    "    get_ipython().run_line_magic('matplotlib', 'inline') \n",
    "else:\n",
    "    get_ipython().run_line_magic('matplotlib', 'auto') \n",
    "\n",
    "# Import the plot-figure library matplotlib\n",
    "\n",
    "import matplotlib\n",
    "import matplotlib.pyplot as plt\n",
    "matplotlib.rcParams['text.usetex'] = True\n",
    "\n",
    "import sys\n",
    "import os\n",
    "from copy import copy\n",
    "from HARK.utilities import plotFuncs, plotFuncsDer"
   ]
  },
  {
   "cell_type": "code",
   "execution_count": 2,
   "metadata": {
    "code_folding": []
   },
   "outputs": [],
   "source": [
    "# Import components of HARK needed for solving the KS model\n",
    "from HARK.ConsumptionSaving.ConsAggShockModel import *\n",
    "import HARK.ConsumptionSaving.ConsumerParameters as Params\n",
    "\n",
    "# Markov consumer type that allows aggregate shocks (redundant but instructive)\n",
    "from HARK.ConsumptionSaving.ConsAggShockModel import AggShockMarkovConsumerType"
   ]
  },
  {
   "cell_type": "code",
   "execution_count": 3,
   "metadata": {
    "code_folding": [
     4
    ]
   },
   "outputs": [],
   "source": [
    "# This cell defines a dictionary to make an instance of our Krusell-Smith consumer.\n",
    "\n",
    "# The folded dictionary below contains many parameters to the \n",
    "# AggShockMarkovConsumerType agent that are not needed for the KS model\n",
    "KSAgentDictionary = { \n",
    "    \"CRRA\": 1.0,                           # Coefficient of relative risk aversion\n",
    "    \"DiscFac\": 0.99,                       # Intertemporal discount factor\n",
    "    \"LivPrb\" : [1.0],                      # Survival probability\n",
    "    \"AgentCount\" : 10000,                  # Number of agents of this type (only matters for simulation)\n",
    "    \"aNrmInitMean\" : 0.0,                  # Mean of log initial assets (only matters for simulation)\n",
    "    \"aNrmInitStd\"  : 0.0,                  # Standard deviation of log initial assets (only for simulation)\n",
    "    \"pLvlInitMean\" : 0.0,                  # Mean of log initial permanent income (only matters for simulation)\n",
    "    \"pLvlInitStd\"  : 0.0,                  # Standard deviation of log initial permanent income (only matters for simulation)\n",
    "    \"PermGroFacAgg\" : 1.0,                 # Aggregate permanent income growth factor (only matters for simulation)\n",
    "    \"T_age\" : None,                        # Age after which simulated agents are automatically killed\n",
    "    \"T_cycle\" : 1,                         # Number of periods in the cycle for this agent type\n",
    "# Parameters for constructing the \"assets above minimum\" grid\n",
    "    \"aXtraMin\" : 0.001,                    # Minimum end-of-period \"assets above minimum\" value\n",
    "    \"aXtraMax\" : 20,                       # Maximum end-of-period \"assets above minimum\" value               \n",
    "    \"aXtraExtra\" : [None],                 # Some other value of \"assets above minimum\" to add to the grid\n",
    "    \"aXtraNestFac\" : 3,                    # Exponential nesting factor when constructing \"assets above minimum\" grid\n",
    "    \"aXtraCount\" : 24,                     # Num of pts in the grid of \"assets above minimum\"\n",
    "# Parameters describing the income process\n",
    "    \"PermShkCount\" : 1,                    # Num of pts in discrete approximation to permanent income shocks - no shocks of this kind!\n",
    "    \"TranShkCount\" : 1,                    # Num of pts in discrete approximation to transitory income shocks - no shocks of this kind!\n",
    "    \"PermShkStd\" : [0.],                   # Standard deviation of log permanent income shocks - no shocks of this kind!\n",
    "    \"TranShkStd\" : [0.],                   # Standard deviation of log transitory income shocks - no shocks of this kind!\n",
    "    \"UnempPrb\" : 0.0,                      # Probability of unemployment while working - no shocks of this kind!\n",
    "    \"UnempPrbRet\" : 0.00,                  # Probability of \"unemployment\" while retired - no shocks of this kind!\n",
    "    \"IncUnemp\" : 0.0,                      # Unemployment benefits replacement rate\n",
    "    \"IncUnempRet\" : 0.0,                   # \"Unemployment\" benefits when retired\n",
    "    \"tax_rate\" : 0.0,                      # Flat income tax rate\n",
    "    \"T_retire\" : 0,                        # Period of retirement (0 --> no retirement)\n",
    "    \"BoroCnstArt\" : 0.0,                   # Artificial borrowing constraint; imposed minimum level of end-of period assets   \n",
    "    \"cycles\": 0,                           # Consumer is infinitely lived\n",
    "    \"PermGroFac\" : [1.0],                  # Permanent income growth factor\n",
    "# New Parameters that we need now    \n",
    "    'MgridBase': np.array([0.1,0.3,0.6,\n",
    "                           0.8,0.9,0.98,\n",
    "                           1.0,1.02,1.1,\n",
    "                           1.2,1.6,2.0,\n",
    "                           3.0]),          # Grid of capital-to-labor-ratios (factors)\n",
    "    'MrkvArray': np.array([[0.875,0.125],\n",
    "                           [0.125,0.875]]),# Macro transition probabilities. [i,j] is probability of being in state j next\n",
    "                                           # period conditional on being in state i this period. \n",
    "    'PermShkAggStd' : [0.0,0.0],           # Standard deviation of log aggregate permanent shocks by state. No continous shocks in a state.\n",
    "    'TranShkAggStd' : [0.0,0.0],           # Standard deviation of log aggregate transitory shocks by state. No continuous shocks in a state.\n",
    "    'PermGroFacAgg' : 1.0\n",
    "}\n",
    "\n",
    "# Here we restate just the \"interesting\" parts of the consumer's specification\n",
    "\n",
    "KSAgentDictionary['CRRA']    = 1.0      # Relative risk aversion \n",
    "KSAgentDictionary['DiscFac'] = 0.99     # Intertemporal discount factor\n",
    "KSAgentDictionary['cycles']  = 0        # cycles=0 means consumer is infinitely lived\n",
    "\n",
    "# KS assume that 'good' and 'bad' times are of equal expected duration\n",
    "# The probability of a change in the aggregate state is p_change=0.125\n",
    "p_change=0.125\n",
    "p_remain=1-p_change\n",
    "\n",
    "# Macro transition probabilities for AggShockMarkovConsumerType\n",
    "#   [i,j] is probability of being in state j next period conditional on being in state i this period. \n",
    "\n",
    "# Markov transition matrix for the aggregate state: \n",
    "# In both states, there is 0.875 chance of staying, 0.125 chance of switching\n",
    "AggMrkvArray = \\\n",
    "np.array([[p_remain,p_change],  # Probabilities of states 0 and 1 next period if in state 0\n",
    "          [p_change,p_remain]]) # Probabilities of states 0 and 1 next period if in state 1\n",
    "KSAgentDictionary['MrkvArray'] = AggMrkvArray"
   ]
  },
  {
   "cell_type": "code",
   "execution_count": 4,
   "metadata": {},
   "outputs": [],
   "source": [
    "# Create the Krusell-Smith agent as an instance of AggShockMarkovConsumerType \n",
    "KSAgent = AggShockMarkovConsumerType(**KSAgentDictionary)"
   ]
  },
  {
   "cell_type": "markdown",
   "metadata": {},
   "source": [
    "Now we need to specify the income distribution. \n",
    "\n",
    "The HARK toolkit allows for two components of labor income: Persistent (or permanent), and transitory.  \n",
    "\n",
    "Using the KS notation above, a HARK consumer's income is\n",
    "\\begin{eqnarray}\n",
    "y & = & w p \\ell \\epsilon \n",
    "\\end{eqnarray}\n",
    "where $p$ is the persistent component of income.  Krusell and Smith did not incorporate a persistent component of income, however, so we will simply calibrate $p=1$ for all states.\n",
    "\n",
    "For each of the two aggregate states we need to specify:\n",
    "   * The _proportion_ of consumers in the $e$ and the $u$ states\n",
    "   * The level of persistent/permanent productivity $p$ (always 1)\n",
    "   * The ratio of actual to permanent productivity in each state $\\{e,u\\}$\n",
    "      * In the KS notation, this is $\\epsilon\\ell$  \n"
   ]
  },
  {
   "cell_type": "code",
   "execution_count": 5,
   "metadata": {
    "code_folding": [
     10
    ]
   },
   "outputs": [],
   "source": [
    "# Construct the income distribution for the Krusell-Smith agent\n",
    "prb_eg = 0.96         # Probability of   employment in the good state\n",
    "prb_ug = 1-prb_eg     # Probability of unemployment in the good state\n",
    "prb_eb = 0.90         # Probability of   employment in the bad state\n",
    "prb_ub = 1-prb_eb     # Probability of unemployment in the bad state\n",
    "p_ind  = 1            # Persistent component of income is always 1\n",
    "ell_ug = ell_ub = 0   # Labor supply is zero for unemployed consumers in either agg state\n",
    "ell_eg = 1.0/prb_eg   # Labor supply for employed consumer in good state\n",
    "ell_eb = 1.0/prb_eb   # 1=pe_g*ell_ge+pu_b*ell_gu=pe_b*ell_be+pu_b*ell_gu\n",
    "\n",
    "KSAgent.IncomeDstn[0] = [[np.array([prb_eg,prb_ug]),np.array([p_ind,p_ind]),np.array([ell_eg,ell_eg])], # Agg state good\n",
    "                         [np.array([prb_eb,prb_ub]),np.array([p_ind,p_ind]),np.array([ell_eb,ell_eb])]  # Agg state bad\n",
    "                        ] \n",
    "\n",
    "# IncomeDstn is a list of lists, one for each aggregate Markov state\n",
    "# Each contains three arrays of floats, representing a discrete approximation to the income process. \n",
    "# Order: \n",
    "#   state probabilities \n",
    "#   idiosyncratic persistent income level by state (KS have no persistent shocks p_ind is always 1.0)\n",
    "#   idiosyncratic transitory income level by state"
   ]
  },
  {
   "cell_type": "markdown",
   "metadata": {},
   "source": [
    "Up to this point, individual agents do not have enough information to solve their decision problem yet. What is missing are beliefs about the macro variables $r$ and $w$, both of which are functions of $z$ and $\\bar{k}$. "
   ]
  },
  {
   "cell_type": "markdown",
   "metadata": {},
   "source": [
    "#### The Aggregate Economy"
   ]
  },
  {
   "cell_type": "code",
   "execution_count": 6,
   "metadata": {
    "code_folding": [
     2
    ]
   },
   "outputs": [],
   "source": [
    "from HARK.ConsumptionSaving.ConsAggShockModel import CobbDouglasMarkovEconomy\n",
    "\n",
    "KSEconomyDictionary = {\n",
    "    'PermShkAggCount': 1, \n",
    "    'TranShkAggCount': 1, \n",
    "    'PermShkAggStd': [0.0,0.0], \n",
    "    'TranShkAggStd': [0.0,0.0], \n",
    "    'DeprFac': 0.025, # Depreciation factor\n",
    "    'CapShare': 0.36, # Share of capital income in cobb-douglas production function\n",
    "    'DiscFac': 0.99,\n",
    "    'CRRA': 1.0,\n",
    "    'PermGroFacAgg': [1.0,1.0],\n",
    "    'AggregateL':1.0, # Not sure on this. Looks like we have fixed the labour level...\n",
    "    'act_T':1200, # Number of periods for economy to run in simulation\n",
    "    'intercept_prev': [0.0,0.0], # Make some initial guesses at linear savings rule intercepts for each state\n",
    "    'slope_prev': [1.0,1.0], # Make some initial guesses at linear savings rule slopes for each state\n",
    "    'MrkvArray': np.array([[0.875,0.125],\n",
    "                           [0.125,0.875]]), # Transition probabilities\n",
    "    'MrkvNow_init': 0   # Pick a state to start in (we pick the first state)\n",
    "}\n",
    "\n",
    "# The 'interesting' parts of the CobbDouglasMarkovEconomy\n",
    "KSEconomyDictionary['CapShare']  = 0.36\n",
    "KSEconomyDictionary['MrkvArray'] = AggMrkvArray\n",
    "\n",
    "KSEconomy = CobbDouglasMarkovEconomy(agents = [KSAgent], **KSEconomyDictionary) # Combine production and consumption sides into an \"Economy\""
   ]
  },
  {
   "cell_type": "markdown",
   "metadata": {},
   "source": [
    "We have now populated the $\\texttt{KSEconomy}$ with $\\texttt{KSAgents}$ defined before. That is basically telling the agents to take the macro state from the $\\texttt{KSEconomy}$. \n",
    "\n",
    "Now we construct the $\\texttt{AggShkDstn}$ that specifies the evolution of the dynamics of the $\\texttt{KSEconomy}$.\n",
    "\n",
    "The structure of the inputs for $\\texttt{AggShkDstn}$ follows the same logic as for $\\texttt{IncomeDstn}$. Now there is only one possible outcome for each aggregate state (the KS aggregate states are very simple), therefore, each aggregate state has only one possible condition which happens with probability 1."
   ]
  },
  {
   "cell_type": "code",
   "execution_count": 7,
   "metadata": {},
   "outputs": [],
   "source": [
    "Perm_g = Perm_b = 1.0 # No aggregate permanent shocks\n",
    "Tran_g = 1.01 # Productivity in the good aggregate state\n",
    "Tran_b = 0.99\n",
    "\n",
    "KSAggShkDstn = [\n",
    "    [np.array([1.0]),np.array([Perm_g]),np.array([Tran_g])],\n",
    "    [np.array([1.0]),np.array([Perm_b]),np.array([Tran_b])]\n",
    "]\n",
    "\n",
    "KSEconomy.AggShkDstn = KSAggShkDstn\n",
    " \n",
    "# Aggregate productivity shock distribution by state.\n",
    "# First element is probabilities of different outcomes, given the state you are in. \n",
    "# Second element is agg permanent shocks (here we don't have any, so just they are just 1.).\n",
    "# Third  element is agg transitory shocks, which are calibrated the same as in Krusell Smith."
   ]
  },
  {
   "cell_type": "markdown",
   "metadata": {},
   "source": [
    "#### Summing Up\n",
    "\n",
    "The combined idiosyncratic and aggregate assumptions can be summarized mathematically as follows.\n",
    "\n",
    "$\\forall \\{s,s'\\}=\\{g,b\\}\\times\\{g,b\\}$, the following two conditions hold:\n",
    "\n",
    "$$\\underbrace{\\pi_{ss'01}}_{p(s \\rightarrow s',u \\rightarrow e)}+\\underbrace{\\pi_{ss'00}}_{p(s \\rightarrow s', u \\rightarrow u)} = \\underbrace{\\pi_{ss'11}}_{p(s\\rightarrow s', e \\rightarrow e) }  + \\underbrace{\\pi_{ss'10}}_{p(s \\rightarrow s', e \\rightarrow u)} = \\underbrace{\\pi_{ss'}}_{p(s\\rightarrow s')}$$\n",
    "\n",
    "$$u_s \\frac{\\pi_{ss'00}}{\\pi_{ss'}}+ (1-u_s) \\frac{\\pi_{ss'10}}{\\pi_{ss'}} = u_{s'}$$"
   ]
  },
  {
   "cell_type": "markdown",
   "metadata": {},
   "source": [
    "### Solving the Model\n",
    "Now, we have fully defined all of the elements of the macroeconomy, and we are in postion to construct an object that represents the economy and to construct a rational expectations equilibrium."
   ]
  },
  {
   "cell_type": "code",
   "execution_count": 8,
   "metadata": {},
   "outputs": [
    {
     "name": "stdout",
     "output_type": "stream",
     "text": [
      "intercept=[-0.3764682723211616, -0.35279928247639103], slope=[1.0821969566764638, 1.0750414784598281], r-sq=[0.9999969430862319, 0.9999975292538252]\n",
      "intercept=[0.4913073809853512, 0.5104555538486013], slope=[0.8546573345611526, 0.8509206269755999], r-sq=[0.9999999758698824, 0.9999999986393133]\n",
      "intercept=[-0.7068976716800414, -0.717619507415264], slope=[0.9676838715820751, 0.9938325696718922], r-sq=[0.9999999993187969, 0.9999999417248391]\n",
      "intercept=[-0.14810286493541266, -0.14528066685522975], slope=[0.9933197309932278, 0.9978214845636388], r-sq=[0.99999999999997, 0.9999999999940576]\n",
      "intercept=[-0.05037803161846363, -0.04461022373787768], slope=[1.0004621222444796, 1.0005712692043325], r-sq=[0.9999999999235911, 0.9999999999417459]\n",
      "intercept=[-0.3234533420844089, -0.30681262413778027], slope=[1.0681522878768763, 1.0643444209919868], r-sq=[0.9999995068683187, 0.9999993567233461]\n",
      "intercept=[0.16671465259758106, 0.1810645716217238], slope=[0.934625708978931, 0.9315349987859376], r-sq=[0.9999999959496528, 0.9999999968027973]\n",
      "intercept=[-0.12368920982311934, -0.11155294548747491], slope=[1.0153873763105765, 1.0131100376297975], r-sq=[0.9999998903565545, 0.9999998672561752]\n",
      "intercept=[-0.21646191037772658, -0.20196833433442982], slope=[1.0368388917504263, 1.0338452277193768], r-sq=[0.9999998274935892, 0.9999998119171054]\n",
      "intercept=[-0.09636329175930718, -0.08591727628504459], slope=[1.0115740649692095, 1.0097077965644368], r-sq=[0.9999999991453634, 0.9999999992674284]\n",
      "intercept=[-0.2587475752990412, -0.2421212900103501], slope=[1.04685061151012, 1.0430871443267753], r-sq=[0.9999996840325746, 0.9999996593786488]\n",
      "intercept=[-0.07455344324907523, -0.06457049778005858], slope=[1.0076293898968278, 1.005838789499814], r-sq=[0.9999999999285563, 0.9999999998481335]\n",
      "intercept=[-0.3121346152345454, -0.29435599760040454], slope=[1.0639702075776745, 1.0597498699629866], r-sq=[0.9999994749252711, 0.9999991819291832]\n",
      "intercept=[0.2210175344351834, 0.23123707243727498], slope=[0.9283220013098141, 0.9264528377201708], r-sq=[0.9999999605356114, 0.9999999615352543]\n",
      "intercept=[-0.8022853526903022, -0.799693820510232], slope=[1.3604069725081065, 1.37144317060707], r-sq=[0.9996201424946252, 0.9994342978441703]\n",
      "intercept=[-0.16515051081563104, -0.1448377719037568], slope=[0.9625832073766527, 0.9549687594046827], r-sq=[0.9999999553349548, 0.9999999509878083]\n",
      "intercept=[-0.04495908154395826, -0.035590506629765345], slope=[0.9930464776630128, 0.9907453726025973], r-sq=[0.9999999999875391, 0.9999999999983489]\n",
      "intercept=[-0.1887173672569433, -0.17599390727967593], slope=[1.0317032091872615, 1.029190046469488], r-sq=[0.9999999453136573, 0.9999999146667415]\n",
      "intercept=[-0.15485281827865294, -0.14181299316795493], slope=[1.021833185172876, 1.0192666072414276], r-sq=[0.9999999715589045, 0.9999999691364021]\n",
      "intercept=[-0.15611884226480674, -0.14504800634937037], slope=[1.0240915933082775, 1.0220867570891743], r-sq=[0.9999999124293363, 0.9999999528531233]\n"
     ]
    }
   ],
   "source": [
    "# Construct the economy, make an initial history, then solve \n",
    "\n",
    "KSAgent.getEconomyData(KSEconomy) # Makes attributes of the economy, attributes of the agent\n",
    "\n",
    "KSEconomy.makeAggShkHist() # Make a simulated history of the economy\n",
    "\n",
    "# Solve macro problem by finding a fixed point for beliefs\n",
    "\n",
    "KSEconomy.solve() # Solve the economy using the market method. \n",
    "# i.e. guess the saving function, and iterate until a fixed point"
   ]
  },
  {
   "cell_type": "markdown",
   "metadata": {},
   "source": [
    "The last line above is the converged aggregate saving rule for good and bad times, respectively."
   ]
  },
  {
   "cell_type": "code",
   "execution_count": 14,
   "metadata": {
    "code_folding": [],
    "scrolled": true
   },
   "outputs": [
    {
     "name": "stdout",
     "output_type": "stream",
     "text": [
      "Aggregate savings as a function of aggregate market resources:\n"
     ]
    },
    {
     "data": {
      "image/png": "[encoded data removed]",
      "text/plain": [
       "<Figure size 432x288 with 1 Axes>"
      ]
     },
     "metadata": {
      "needs_background": "light"
     },
     "output_type": "display_data"
    },
    {
     "name": "stdout",
     "output_type": "stream",
     "text": [
      "Wage rate as function of capital ratio:\n"
     ]
    },
    {
     "data": {
      "image/png": "[encoded data removed]",
      "text/plain": [
       "<Figure size 432x288 with 1 Axes>"
      ]
     },
     "metadata": {
      "needs_background": "light"
     },
     "output_type": "display_data"
    },
    {
     "name": "stdout",
     "output_type": "stream",
     "text": [
      "Interest factor as function of capital ratio\n"
     ]
    },
    {
     "data": {
      "image/png": "[encoded data removed]",
      "text/plain": [
       "<Figure size 432x288 with 1 Axes>"
      ]
     },
     "metadata": {
      "needs_background": "light"
     },
     "output_type": "display_data"
    },
    {
     "name": "stdout",
     "output_type": "stream",
     "text": [
      "Consumption function at each aggregate market resources gridpoint (in general equilibrium):\n"
     ]
    },
    {
     "data": {
      "image/png": "[encoded data removed]",
      "text/plain": [
       "<Figure size 432x288 with 1 Axes>"
      ]
     },
     "metadata": {
      "needs_background": "light"
     },
     "output_type": "display_data"
    },
    {
     "name": "stdout",
     "output_type": "stream",
     "text": [
      "Saving at each individual market resources gridpoint (in general equilibrium):\n"
     ]
    },
    {
     "data": {
      "image/png": "[encoded data removed]",
      "text/plain": [
       "<Figure size 432x288 with 1 Axes>"
      ]
     },
     "metadata": {
      "needs_background": "light"
     },
     "output_type": "display_data"
    }
   ],
   "source": [
    "# Plot some key results\n",
    "\n",
    "print('Aggregate savings as a function of aggregate market resources:')\n",
    "plotFuncs(KSEconomy.AFunc,0.1,2*KSEconomy.kSS)\n",
    "\n",
    "# Tao: The wage and interest rate functions are just a plot of the Cobb-Douglas production function\n",
    "# Is there any reason to plot them?  There is nothing unique to the KS model about them\n",
    "# Please delete these unless I'm missing something\n",
    "# print('Wage rate as function of capital ratio:')\n",
    "# plotFuncs(KSEconomy.wFunc, 0.1, 20) \n",
    "\n",
    "# print('Interest factor as function of capital ratio')\n",
    "# plotFuncs(KSEconomy.Rfunc, 0.1, 20)\n",
    "\n",
    "print('Consumption function at each aggregate market resources gridpoint (in general equilibrium):')\n",
    "KSAgent.unpackcFunc()\n",
    "m_grid = np.linspace(0,10,200)\n",
    "KSAgent.unpackcFunc()\n",
    "for M in KSAgent.Mgrid:\n",
    "    c_at_this_M = KSAgent.solution[0].cFunc[0](m_grid,M*np.ones_like(m_grid)) #Have two consumption functions, check this\n",
    "    plt.plot(m_grid,c_at_this_M)\n",
    "plt.show()\n",
    "\n",
    "print('Saving at each individual market resources gridpoint (in general equilibrium):')\n",
    "KSAgent.unpackcFunc()\n",
    "m_grid = np.linspace(0,10,200)\n",
    "KSAgent.unpackcFunc()\n",
    "for M in KSAgent.Mgrid:\n",
    "    s_at_this_M = m_grid-KSAgent.solution[0].cFunc[1](m_grid,M*np.ones_like(m_grid))\n",
    "    c_at_this_M = KSAgent.solution[0].cFunc[1](m_grid,M*np.ones_like(m_grid)) #Have two consumption functions, check this\n",
    "    plt.plot(m_grid,s_at_this_M)\n",
    "plt.show()"
   ]
  },
  {
   "cell_type": "markdown",
   "metadata": {},
   "source": [
    "### The Wealth Distribution in KS\n",
    "\n",
    "#### Benchmark Model\n"
   ]
  },
  {
   "cell_type": "code",
   "execution_count": 19,
   "metadata": {},
   "outputs": [
    {
     "name": "stdout",
     "output_type": "stream",
     "text": [
      "The mean of individual wealth is 47.70920856345894;\n",
      " the standard deviation is 7.105427357601002e-15;\n",
      " the median is 47.709208563458944.\n"
     ]
    }
   ],
   "source": [
    "sim_wealth = KSEconomy.aLvlNow[0]\n",
    "\n",
    "print(\"The mean of individual wealth is \"+ str(sim_wealth.mean()) + \";\\n the standard deviation is \"\n",
    "      + str(sim_wealth.std())+\";\\n the median is \" + str(np.median(sim_wealth)) +\".\")"
   ]
  },
  {
   "cell_type": "code",
   "execution_count": 20,
   "metadata": {
    "code_folding": [
     0
    ]
   },
   "outputs": [],
   "source": [
    "# Get some tools for plotting simulated vs actual wealth distributions\n",
    "from HARK.utilities import getLorenzShares, getPercentiles\n",
    "\n",
    "# The cstwMPC model conveniently has data on the wealth distribution \n",
    "# from the U.S. Survey of Consumer Finances\n",
    "from HARK.cstwMPC.SetupParamsCSTW import SCF_wealth, SCF_weights"
   ]
  },
  {
   "cell_type": "code",
   "execution_count": 21,
   "metadata": {
    "code_folding": []
   },
   "outputs": [
    {
     "data": {
      "image/png": "[encoded data removed]",
      "text/plain": [
       "<Figure size 360x360 with 1 Axes>"
      ]
     },
     "metadata": {
      "needs_background": "light"
     },
     "output_type": "display_data"
    }
   ],
   "source": [
    "# Construct the Lorenz curves and plot them: Tao, is there a problem here?  \n",
    "# Is the KS distribution SO close to the 45 degree line that they cannot be visually distinguished?\n",
    "# If so, probably the plot below needs to be supplemented with another plot \n",
    "# The second plot might just be of the _difference_ between the KS distribution and the 45 degree line\n",
    "pctiles = np.linspace(0.001,0.999,15)\n",
    "SCF_Lorenz_points = getLorenzShares(SCF_wealth,weights=SCF_weights,percentiles=pctiles)\n",
    "sim_Lorenz_points = getLorenzShares(sim_wealth,percentiles=pctiles)\n",
    "\n",
    "# Plot \n",
    "plt.figure(figsize=(5,5))\n",
    "plt.plot(pctiles,SCF_Lorenz_points,'--k',label='SCF')\n",
    "plt.plot(pctiles,sim_Lorenz_points,'-b',label='Benchmark KS')\n",
    "plt.plot(pctiles,pctiles,'g-.',label='45 Degree')\n",
    "plt.xlabel('Percentile of net worth')\n",
    "plt.ylabel('Cumulative share of wealth')\n",
    "plt.legend(loc=2)\n",
    "plt.ylim([0,1])\n",
    "plt.show()"
   ]
  },
  {
   "cell_type": "code",
   "execution_count": 26,
   "metadata": {},
   "outputs": [
    {
     "name": "stdout",
     "output_type": "stream",
     "text": [
      "The Euclidean distance between simulated wealth distribution and the estimates from the SCF data is 1.6510537518486164\n"
     ]
    }
   ],
   "source": [
    "# Calculate a measure of the difference between the simulated and empirical distributions\n",
    "lorenz_distance = np.sqrt(np.sum((SCF_Lorenz_points - sim_Lorenz_points)**2))\n",
    "print(\"The Euclidean distance between simulated wealth distribution and the estimates from the SCF data is \"+str(lorenz_distance) )"
   ]
  },
  {
   "cell_type": "markdown",
   "metadata": {},
   "source": [
    "#### Heterogeneous Time Preference Rates\n",
    "\n",
    "As the figures show, the distribution of wealth that the baseline KS model produces is very far from matching the empirical degree of inequality in the US data.\n",
    "\n",
    "This could matter for macroeconomic purposes.  For example, the SCF data indicate that many agents are concentrated at low values of wealth where the MPC is very large.  We might expect, therefore, that a fiscal policy \"stimulus\" that gives a fixed amount of money to every agent would have a large effect on the consumption of the low-wealth households who have a high Marginal Propensity to Consume.\n",
    "\n",
    "KS attempt to address this problem by assuming that an individual agent's time preference rate can change over time.\n",
    "\n",
    "The rationale is that this represents a generational transition: The \"agent\" is really a \"dynasty\" and the time preference rate of the \"child\" dynast may differ from that of the \"parent.\"\n",
    "\n",
    "Specifically, KS assume that $\\beta$ can take on three values, 0.9858, 0.9894, and 0.9930, and that the transition probabilities are such that \n",
    "- The invariant distribution for $\\beta$’s has 80 percent of the population at the middle $\\beta$ and 10 percent at each of the other $\\beta$’s.\n",
    "- Immediate transitions between the extreme values of $\\beta$ occur with probability zero. \n",
    "- The average duration of the highest and lowest $\\beta$’s is 50 years. \n",
    "\n",
    "The HARK toolkit is not natively set up to accommodate stochastic time preference factors (though an extension to accommodate this would be easy).  \n",
    "\n",
    "Here, instead, we assume that different agents have different values of $\\beta$ that are uniformly distributed over some range. We approximate the uniform distribution by seven points.  The agents are heterogeneous _ex ante_ (and permanently)."
   ]
  },
  {
   "cell_type": "code",
   "execution_count": 27,
   "metadata": {},
   "outputs": [],
   "source": [
    "# Construct the distribution of types\n",
    "from HARK.utilities import approxUniform\n",
    "\n",
    "# Specify the distribution of the discount factor\n",
    "num_types = 7              # number of types we want; this follows cstwMPC\n",
    "DiscFac_mean   = 0.9858 # center of beta distribution \n",
    "DiscFac_spread = 0.0085    # spread of beta distribution\n",
    "DiscFac_dstn = approxUniform(num_types, DiscFac_mean-DiscFac_spread, DiscFac_mean+DiscFac_spread)[1]\n",
    "#DiscFac_dstn = np.array([0.9858,0.9894,0.9930])\n",
    "BaselineType = deepcopy(KSAgent)\n",
    "\n",
    "MyTypes = [] # initialize an empty list to hold our consumer types\n",
    "for nn in range(len(DiscFac_dstn)):\n",
    "    # Now create the types, and append them to the list MyTypes\n",
    "    NewType = deepcopy(BaselineType)\n",
    "    NewType.DiscFac = DiscFac_dstn[nn]\n",
    "    NewType.seed = nn # give each consumer type a different RNG seed\n",
    "    MyTypes.append(NewType)"
   ]
  },
  {
   "cell_type": "code",
   "execution_count": 28,
   "metadata": {},
   "outputs": [
    {
     "name": "stdout",
     "output_type": "stream",
     "text": [
      "**** WARNING: could not execute multiThreadCommands in HARK.core.Market.solveAgents(), so using the serial version instead. This will likely be slower. The multiTreadCommands() functions failed with the following error: \n",
      "     <class '_pickle.PicklingError'> : Could not pickle the task to send it to the workers.\n",
      "intercept=[-0.22370856213905524, -0.1938897865903656], slope=[1.0417535663151307, 1.034506279674616], r-sq=[0.9995807829169794, 0.9995893273131948]\n",
      "intercept=[-0.23544240107867503, -0.2041012376160003], slope=[1.0448979138491372, 1.0372475254148208], r-sq=[0.999462563763321, 0.9995264793299619]\n",
      "intercept=[-0.243125254285977, -0.21002144242647472], slope=[1.046813582129871, 1.0386297139977712], r-sq=[0.9993011984944996, 0.9993380986487794]\n"
     ]
    },
    {
     "name": "stderr",
     "output_type": "stream",
     "text": [
      "/Volumes/Sync/Sys/OSX/linked/root/usr/local/bin/anaconda/lib/python3.6/site-packages/HARK/ConsumptionSaving/ConsAggShockModel.py:236: RuntimeWarning: invalid value encountered in double_scalars\n",
      "  Ractuarial = 1.0 + wealth_dead/wealth_living\n",
      "/Volumes/Sync/Sys/OSX/linked/root/usr/local/bin/anaconda/lib/python3.6/site-packages/HARK/interpolation.py:782: RuntimeWarning: invalid value encountered in less\n",
      "  below_lower_bound = x < self.x_list[0]\n",
      "/Volumes/Sync/Sys/OSX/linked/root/usr/local/bin/anaconda/lib/python3.6/site-packages/HARK/interpolation.py:1812: RuntimeWarning: All-NaN slice encountered\n",
      "  f = np.nanmin(temp,axis=1)\n"
     ]
    },
    {
     "name": "stdout",
     "output_type": "stream",
     "text": [
      "intercept=[nan, nan], slope=[nan, nan], r-sq=[nan, nan]\n"
     ]
    }
   ],
   "source": [
    "# Put all agents into the economy\n",
    "KSEconomy_sim = CobbDouglasMarkovEconomy(agents = MyTypes, **KSEconomyDictionary) \n",
    "KSEconomy_sim.AggShkDstn = KSAggShkDstn # Agg shocks are the same as defined earlier\n",
    "\n",
    "for ThisType in MyTypes:\n",
    "    ThisType.getEconomyData(KSEconomy_sim) # Makes attributes of the economy, attributes of the agent\n",
    "\n",
    "KSEconomy_sim.makeAggShkHist() # Make a simulated prehistory of the economy\n",
    "KSEconomy_sim.solve()          # Solve macro problem by getting a fixed point dynamic rule"
   ]
  },
  {
   "cell_type": "code",
   "execution_count": 29,
   "metadata": {},
   "outputs": [
    {
     "name": "stdout",
     "output_type": "stream",
     "text": [
      "Aggregate capital to income ratio is nan\n"
     ]
    }
   ],
   "source": [
    "# Get the level of end-of-period assets a for all types of consumers\n",
    "aLvl_all = np.concatenate([KSEconomy_sim.aLvlNow[i] for i in range(len(MyTypes))])\n",
    "print('Aggregate capital to income ratio is ' + str(np.mean(aLvl_all)))"
   ]
  },
  {
   "cell_type": "code",
   "execution_count": null,
   "metadata": {},
   "outputs": [],
   "source": [
    "# Tao: Why is this commented out?\n",
    "'''\n",
    "for i in range(len(MyTypes)):\n",
    "    plt.hist(KSEconomy_sim.aLvlNow[i],label=r'\\beta='+str(DiscFac_dstn[i]))\n",
    "plt.legend(loc=2)\n",
    "'''"
   ]
  },
  {
   "cell_type": "code",
   "execution_count": null,
   "metadata": {},
   "outputs": [],
   "source": [
    "# Tao: Do the figures below have identical horizontal axes so that they can be compared?\n",
    "# Please replace the \"print\" statements with proper in-figure labels\n",
    "# so that the two figures can be seen in the same cell one above the other for easy comparison\n",
    "print('Wealth Distribution of the Most Patient Type:')\n",
    "plt.hist(KSEconomy_sim.aLvlNow[0])"
   ]
  },
  {
   "cell_type": "code",
   "execution_count": null,
   "metadata": {},
   "outputs": [],
   "source": [
    "print('Wealth Distribution of the Most Impatient Type:')\n",
    "plt.hist(KSEconomy_sim.aLvlNow[-1])"
   ]
  },
  {
   "cell_type": "code",
   "execution_count": null,
   "metadata": {},
   "outputs": [],
   "source": [
    "# Plot the distribution of wealth across all agent types\n",
    "sim_3beta_wealth = aLvl_all\n",
    "pctiles = np.linspace(0.001,0.999,15)\n",
    "sim_Lorenz_points = getLorenzShares(sim_wealth,percentiles=pctiles)\n",
    "SCF_Lorenz_points = getLorenzShares(SCF_wealth,weights=SCF_weights,percentiles=pctiles)\n",
    "sim_3beta_Lorenz_points = getLorenzShares(sim_3beta_wealth,percentiles=pctiles)\n",
    "\n",
    "## Plot\n",
    "plt.figure(figsize=(5,5))\n",
    "plt.plot(pctiles,SCF_Lorenz_points,'--k',label='SCF')\n",
    "plt.plot(pctiles,sim_Lorenz_points,'-b',label='Benchmark KS')\n",
    "plt.plot(pctiles,sim_3beta_Lorenz_points,'-*r',label='3 Types')\n",
    "plt.plot(pctiles,pctiles,'g-.',label='45 Degree')\n",
    "plt.xlabel('Percentile of net worth')\n",
    "plt.ylabel('Cumulative share of wealth')\n",
    "plt.legend(loc=2)\n",
    "plt.ylim([0,1])\n",
    "plt.show()"
   ]
  },
  {
   "cell_type": "markdown",
   "metadata": {},
   "source": [
    "### Heterogeneity in the MPC "
   ]
  },
  {
   "cell_type": "code",
   "execution_count": null,
   "metadata": {},
   "outputs": [],
   "source": [
    "# Write a function to tell us about the distribution of the MPC in this code block, then test it!\n",
    "def describeMPCdstn(SomeTypes,percentiles):\n",
    "    MPC_sim = np.concatenate([ThisType.MPCnow for ThisType in SomeTypes])\n",
    "    MPCpercentiles_quarterly = getPercentiles(MPC_sim,percentiles=percentiles)\n",
    "    MPCpercentiles_annual = 1.0 - (1.0 - MPCpercentiles_quarterly)**4\n",
    "    \n",
    "    for j in range(len(percentiles)):\n",
    "        print('The ' + str(100*percentiles[j]) + 'the percentile of the MPC is ' + str(MPCpercentiles_annual[j]))\n",
    "        \n",
    "describeMPCdstn(MyTypes,np.linspace(0.05,0.95,19))"
   ]
  }
 ],
 "metadata": {
  "jupytext": {
   "formats": "ipynb,py:percent",
   "text_representation": {
    "extension": ".py",
    "format_name": "percent",
    "format_version": "1.1",
    "jupytext_version": "0.8.3"
   }
  },
  "kernelspec": {
   "display_name": "Python 3",
   "language": "python",
   "name": "python3"
  },
  "language_info": {
   "codemirror_mode": {
    "name": "ipython",
    "version": 3
   },
   "file_extension": ".py",
   "mimetype": "text/x-python",
   "name": "python",
   "nbconvert_exporter": "python",
   "pygments_lexer": "ipython3",
   "version": "3.6.6"
  }
 },
 "nbformat": 4,
 "nbformat_minor": 2
}
