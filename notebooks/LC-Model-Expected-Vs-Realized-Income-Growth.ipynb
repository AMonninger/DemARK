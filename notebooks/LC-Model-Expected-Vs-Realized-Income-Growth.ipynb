{
 "cells": [
  {
   "cell_type": "markdown",
   "id": "977e01fb-9600-4466-ad78-7e215d1c0359",
   "metadata": {
    "tags": []
   },
   "source": [
    "# Expectated vs Realized Income Growth in A Standard Life Cycle Model"
   ]
  },
  {
   "cell_type": "markdown",
   "id": "d62a3a23-f587-4e72-a42b-f876074efd55",
   "metadata": {},
   "source": [
    "This notebook uses the income process in [Cocco, Gomes & Maenhout (2005)](https://academic.oup.com/rfs/article/18/2/491/1599892?login=true) to demonstrate that estimates of a regression of expected income changes on realized income changes are sensitive to the size of transitory shocks.\n",
    "\n",
    "We first load some tools from the [HARK toolkit](https://github.com/econ-ark/HARK)."
   ]
  },
  {
   "cell_type": "code",
   "execution_count": 1,
   "id": "d4d379f7-1993-47af-912d-f7aa547c3557",
   "metadata": {
    "jupyter": {
     "source_hidden": true
    },
    "tags": []
   },
   "outputs": [],
   "source": [
    "from HARK.ConsumptionSaving.ConsIndShockModel import (\n",
    "    IndShockConsumerType,\n",
    "    init_lifecycle,\n",
    ")\n",
    "\n",
    "from HARK.Calibration.Income.IncomeTools import (\n",
    "    parse_income_spec,\n",
    "    parse_time_params,\n",
    "    CGM_income,\n",
    ")\n",
    "\n",
    "from HARK.datasets.life_tables.us_ssa.SSATools import parse_ssa_life_table\n",
    "from HARK.datasets.SCF.WealthIncomeDist.SCFDistTools import income_wealth_dists_from_scf\n",
    "import matplotlib.pyplot as plt\n",
    "import pandas as pd\n",
    "from copy import copy"
   ]
  },
  {
   "cell_type": "markdown",
   "id": "304179a2-d6ec-4ff5-8850-c33c17fdf3d6",
   "metadata": {
    "tags": []
   },
   "source": [
    "We now create a population of agents with the income process of [Cocco, Gomes & Maenhout (2005)](https://academic.oup.com/rfs/article/18/2/491/1599892?login=true), which is implemented as a default calibration in the toolkit."
   ]
  },
  {
   "cell_type": "code",
   "execution_count": 2,
   "id": "5d2760b8",
   "metadata": {
    "jupyter": {
     "source_hidden": true
    },
    "tags": [],
    "title": "Alter calibration"
   },
   "outputs": [],
   "source": [
    "birth_age = 21\n",
    "death_age = 66\n",
    "adjust_infl_to = 1992\n",
    "income_calib = CGM_income\n",
    "education = \"HS\"\n",
    "\n",
    "# Income specification\n",
    "income_params = parse_income_spec(\n",
    "    age_min=birth_age,\n",
    "    age_max=death_age,\n",
    "    adjust_infl_to=adjust_infl_to,\n",
    "    **income_calib[education],\n",
    "    SabelhausSong=True\n",
    ")\n",
    "\n",
    "# We need survival probabilities only up to death_age-1, because survival\n",
    "# probability at death_age is 1.\n",
    "liv_prb = parse_ssa_life_table(\n",
    "    female=True, cross_sec=True, year=2004, min_age=birth_age, max_age=death_age - 1\n",
    ")\n",
    "\n",
    "# Parameters related to the number of periods implied by the calibration\n",
    "time_params = parse_time_params(age_birth=birth_age, age_death=death_age)\n",
    "\n",
    "# Update all the new parameters\n",
    "params = copy(init_lifecycle)\n",
    "params.update(time_params)\n",
    "# params.update(dist_params)\n",
    "params.update(income_params)\n",
    "params.update(\n",
    "    {\n",
    "        \"LivPrb\": liv_prb,\n",
    "        \"pLvlInitStd\": 0.0,\n",
    "        \"PermGroFacAgg\": 1.0,\n",
    "        \"UnempPrb\": 0.0,\n",
    "        \"UnempPrbRet\": 0.0,\n",
    "        \"track_vars\": [\"pLvl\", \"t_age\", \"PermShk\", \"TranShk\"],\n",
    "        \"AgentCount\": 200,\n",
    "        \"T_sim\": 500,\n",
    "    }\n",
    ")\n",
    "\n",
    "Agent = IndShockConsumerType(**params)\n",
    "Agent.solve()"
   ]
  },
  {
   "cell_type": "markdown",
   "id": "36ec1e8d-024f-4bfa-bdf6-7a6bbe76ba3f",
   "metadata": {
    "title": "Create and solve agent"
   },
   "source": [
    "We simulate a population of agents"
   ]
  },
  {
   "cell_type": "code",
   "execution_count": 3,
   "id": "f5e966f8",
   "metadata": {
    "tags": [],
    "title": "Simulation"
   },
   "outputs": [],
   "source": [
    "%%capture\n",
    "# Run the simulations\n",
    "Agent.initialize_sim()\n",
    "Agent.simulate()"
   ]
  },
  {
   "cell_type": "markdown",
   "id": "a5aba367-bb4e-4cce-8d51-4c19c24afb4e",
   "metadata": {},
   "source": [
    "\n",
    "$\\newcommand{\\Ex}{\\mathbb{E}}$\n",
    "$\\newcommand{\\PermShk}{\\psi}$\n",
    "$\\newcommand{\\pLvl}{\\mathbf{p}}$\n",
    "$\\newcommand{\\pLvl}{P}$\n",
    "$\\newcommand{\\yLvl}{\\mathbf{y}}$\n",
    "$\\newcommand{\\yLvl}{Y}$\n",
    "$\\newcommand{\\PermGroFac}{\\Gamma}$\n",
    "$\\newcommand{\\UnempPrb}{\\wp}$\n",
    "$\\newcommand{\\TranShk}{\\theta}$\n",
    "\n",
    "We assume a standard income process with transitory and permanent shocks:  The consumer's __**p**__ermanent noncapital income $\\pLvl$ grows by a predictable factor $\\PermGroFac$ and is subject to an unpredictable multiplicative shock $\\Ex_{t}[\\PermShk_{t+1}]=1$,\n",
    "\n",
    "\\begin{eqnarray}\n",
    "\\pLvl_{t+1} & = & \\pLvl_{t} \\PermGroFac_{t+1} \\PermShk_{t+1}, \\notag\n",
    "\\end{eqnarray}\n",
    "and, if the consumer is employed, actual income $Y$ is permanent income multiplied by a transitory shock $\\Ex_{t}[\\TranShk_{t+1}]=1$,\n",
    "\\begin{eqnarray}\n",
    "\\yLvl_{t+1} & = & \\pLvl_{t+1} \\PermGroFac_{t+1} \\TranShk_{t+1}, \\notag\n",
    "\\end{eqnarray}\n",
    "\n",
    "Define $\\newcommand{\\yLog}{y}\\newcommand{\\pLog}{p}\\yLog = \\log \\yLvl,\\pLog=\\log \\pLvl$ and similarly for other variables.\n",
    "\n",
    "<!--- There is also a probability $\\UnempPrb$ that the consumer will be temporarily unemployed and experience income of $\\TranShk^{\\large u}  = 0$.  We construct $\\TranShk^{\\large e}$ so that its mean value is $1/(1-\\UnempPrb)$ because in that case the mean level of the transitory shock (accounting for both unemployed and employed states) is exactly\n",
    "\n",
    "\\begin{eqnarray}\n",
    "\\Ex_{t}[\\TranShk_{t+1}] & = & \\TranShk^{\\large{u}}  \\times \\UnempPrb + (1-\\UnempPrb) \\times \\Ex_{t}[\\TranShk^{\\large{e}}_{t+1}] \\notag\n",
    "\\\\ & = & 0 \\times \\UnempPrb + (1-\\UnempPrb) \\times 1/(1-\\UnempPrb)  \\notag\n",
    "\\\\ & = & 1. \\notag\n",
    "\\end{eqnarray}\n",
    "--->\n",
    "\n",
    "$\\Gamma_{t}$ captures the predictable life cycle profile of income growth (faster when young, slower when old).  See [our replication of CGM-2005](https://github.com/econ-ark/CGMPortfolio/blob/master/Code/Python/CGMPortfolio.ipynb) for a detailed account of how these objects map to CGM's notation."
   ]
  },
  {
   "cell_type": "markdown",
   "id": "d028fadf-2423-4965-a828-3caee7d624bc",
   "metadata": {},
   "source": [
    "\n",
    "Now we construct all the necessary inputs to the regressors. The main input is the expected income growth of every agent at every time period, which is given by\n",
    "\\begin{equation}\n",
    "\\begin{split}\n",
    "\\Ex_t[\\yLvl_{t+1}/\\yLvl_{t}] &= \\mathbb{E}_t[\\left(\\frac{\\theta_{t+1}\\pLvl_{t} \\PermGroFac_{t+1} \\PermShk_{t+1}}{\\theta_{t}P_{t}}\\right)]\\\\\n",
    " &= \\left(\\frac{\\PermGroFac_{t+1}}{\\theta_{t}}\\right)\\\\\n",
    "\\Ex_t[\\yLog_{t+1} - \\yLog_{t}] & = \\log \\Gamma_{t+1}-\\log \\theta_t\n",
    "\\end{split}\n",
    "\\end{equation}\n"
   ]
  },
  {
   "cell_type": "code",
   "execution_count": 4,
   "id": "d0cb9753",
   "metadata": {
    "jupyter": {
     "source_hidden": true
    },
    "lines_to_next_cell": 0,
    "tags": [],
    "title": "Compute expectations"
   },
   "outputs": [],
   "source": [
    "from HARK.distribution import calc_expectation\n",
    "\n",
    "exp = [\n",
    "    calc_expectation(Agent.IncShkDstn[i], func=lambda x: x[0] * x[1])\n",
    "    for i in range(Agent.T_cycle)\n",
    "]\n",
    "exp_df = pd.DataFrame(\n",
    "    {\n",
    "        \"exp_prod\": exp,\n",
    "        \"PermGroFac\": Agent.PermGroFac,\n",
    "        \"Age\": [x + birth_age for x in range(Agent.T_cycle)],\n",
    "    }\n",
    ")\n",
    "\n",
    "raw_data = {\n",
    "    \"Age\": Agent.history[\"t_age\"].T.flatten() + birth_age - 1,\n",
    "    \"pLvl\": Agent.history[\"pLvl\"].T.flatten(),\n",
    "    \"PermShk\": Agent.history[\"PermShk\"].T.flatten(),\n",
    "    \"TranShk\": Agent.history[\"TranShk\"].T.flatten(),\n",
    "}\n",
    "\n",
    "Data = pd.DataFrame(raw_data)\n",
    "\n",
    "# Create an individual id\n",
    "Data[\"id\"] = (Data[\"Age\"].diff(1) < 0).cumsum()\n",
    "\n",
    "Data[\"Y\"] = Data.pLvl * Data.TranShk\n",
    "\n",
    "# Find Et[Yt+1 - Yt]\n",
    "Data = Data.join(exp_df.set_index(\"Age\"), on=\"Age\", how=\"left\")\n",
    "Data[\"ExpIncChange\"] = Data[\"pLvl\"] * (\n",
    "    Data[\"PermGroFac\"] * Data[\"exp_prod\"] - Data[\"TranShk\"]\n",
    ")\n",
    "\n",
    "Data[\"Y_change\"] = Data.groupby(\"id\")[\"Y\"].diff(1)"
   ]
  },
  {
   "cell_type": "markdown",
   "id": "88a8c5bb-6f88-4d3f-8350-94d9e3a06bfd",
   "metadata": {},
   "source": [
    "The authors run an ''index'' version of the regression\n",
    "\\begin{equation*}\n",
    "        E_t[\\Delta Y_{i,t+1}] = \\alpha + \\beta \\Delta Y_{i,t} + f_i + \\epsilon_{i,t}\n",
    "\\end{equation*}\n",
    "We now estimate an analogous regression in our simulated population."
   ]
  },
  {
   "cell_type": "code",
   "execution_count": 5,
   "id": "2729d74b-8c59-40b3-8183-3c0cffc8b388",
   "metadata": {
    "jupyter": {
     "source_hidden": true
    },
    "tags": []
   },
   "outputs": [
    {
     "name": "stdout",
     "output_type": "stream",
     "text": [
      "                          PanelOLS Estimation Summary                           \n",
      "================================================================================\n",
      "Dep. Variable:                 ExpBin   R-squared:                        0.1928\n",
      "Estimator:                   PanelOLS   R-squared (Between):             -0.0671\n",
      "No. Observations:              100000   R-squared (Within):               0.1928\n",
      "Date:                Tue, Feb 22 2022   R-squared (Overall):              0.1863\n",
      "Time:                        14:48:42   Log-likelihood                -1.282e+05\n",
      "Cov. Estimator:            Unadjusted                                           \n",
      "                                        F-statistic:                   2.332e+04\n",
      "Entities:                        2334   P-value                           0.0000\n",
      "Avg Obs:                       42.845   Distribution:                 F(1,97665)\n",
      "Min Obs:                       2.0000                                           \n",
      "Max Obs:                       47.000   F-statistic (robust):          2.332e+04\n",
      "                                        P-value                           0.0000\n",
      "Time periods:                      46   Distribution:                 F(1,97665)\n",
      "Avg Obs:                       2173.9                                           \n",
      "Min Obs:                       1857.0                                           \n",
      "Max Obs:                       2339.0                                           \n",
      "                                                                                \n",
      "                             Parameter Estimates                              \n",
      "==============================================================================\n",
      "            Parameter  Std. Err.     T-stat    P-value    Lower CI    Upper CI\n",
      "------------------------------------------------------------------------------\n",
      "const          0.1249     0.0028     44.751     0.0000      0.1195      0.1304\n",
      "ChangeBin     -0.4336     0.0028    -152.72     0.0000     -0.4392     -0.4281\n",
      "==============================================================================\n",
      "\n",
      "F-test for Poolability: 1.2382\n",
      "P-value: 0.0000\n",
      "Distribution: F(2333,97665)\n",
      "\n",
      "Included effects: Entity\n"
     ]
    }
   ],
   "source": [
    "from linearmodels.panel.model import PanelOLS\n",
    "import statsmodels.api as sm\n",
    "\n",
    "Data = Data.set_index([\"id\",\"Age\"])\n",
    "\n",
    "# Create the variables they actually use\n",
    "Data[\"ExpBin\"] = 0\n",
    "Data.loc[Data[\"ExpIncChange\"] > 0, \"ExpBin\"] = 1\n",
    "Data.loc[Data[\"ExpIncChange\"] < 0, \"ExpBin\"] = -1\n",
    "\n",
    "Data[\"ChangeBin\"] = 0\n",
    "Data.loc[Data[\"Y_change\"] > 0, \"ChangeBin\"] = 1\n",
    "Data.loc[Data[\"Y_change\"] < 0, \"ChangeBin\"] = -1\n",
    "\n",
    "mod = PanelOLS(Data.ExpBin, sm.add_constant(Data.ChangeBin), entity_effects=True)\n",
    "fe_res = mod.fit()\n",
    "print(fe_res)"
   ]
  },
  {
   "cell_type": "markdown",
   "id": "7772169e-d8b3-498d-b0e1-2767d03f60b8",
   "metadata": {},
   "source": [
    "The estimated $\\hat{\\beta}$ is negative because in usual life-cycle calibrations, transitory shocks are volatile enough that mean reversion of transitory fluctuations is a stronger force than persistent trends in income age-profiles.\n",
    "\n",
    "However, with less volatile transitory shocks, the regression coefficient would be positive. We demonstrate this by shutting off transitory shocks, simulating another population of agents, and re-running the regression."
   ]
  },
  {
   "cell_type": "code",
   "execution_count": 6,
   "id": "018deabf-56d2-4586-bf51-5973a041a3c4",
   "metadata": {
    "lines_to_next_cell": 2,
    "tags": []
   },
   "outputs": [],
   "source": [
    "%%capture\n",
    "params_no_transitory = copy(params)\n",
    "params_no_transitory.update(\n",
    "    {\n",
    "        \"TranShkStd\": [0.0] * len(params[\"TranShkStd\"])\n",
    "    }\n",
    ")\n",
    "\n",
    "# Create agent\n",
    "Agent_nt = IndShockConsumerType(**params_no_transitory)\n",
    "Agent_nt.solve()\n",
    "# Run the simulations\n",
    "Agent_nt.initialize_sim()\n",
    "Agent_nt.simulate()"
   ]
  },
  {
   "cell_type": "code",
   "execution_count": 7,
   "id": "534f4132-5125-4194-8971-f88da52cd614",
   "metadata": {
    "jupyter": {
     "source_hidden": true
    },
    "tags": []
   },
   "outputs": [],
   "source": [
    "exp = [\n",
    "    calc_expectation(Agent_nt.IncShkDstn[i], func=lambda x: x[0] * x[1])\n",
    "    for i in range(Agent_nt.T_cycle)\n",
    "]\n",
    "exp_df = pd.DataFrame(\n",
    "    {\n",
    "        \"exp_prod\": exp,\n",
    "        \"PermGroFac\": Agent_nt.PermGroFac,\n",
    "        \"Age\": [x + birth_age for x in range(Agent.T_cycle)],\n",
    "    }\n",
    ")\n",
    "\n",
    "raw_data = {\n",
    "    \"Age\": Agent_nt.history[\"t_age\"].T.flatten() + birth_age - 1,\n",
    "    \"pLvl\": Agent_nt.history[\"pLvl\"].T.flatten(),\n",
    "    \"PermShk\": Agent_nt.history[\"PermShk\"].T.flatten(),\n",
    "    \"TranShk\": Agent_nt.history[\"TranShk\"].T.flatten(),\n",
    "}\n",
    "\n",
    "Data = pd.DataFrame(raw_data)\n",
    "\n",
    "# Create an individual id\n",
    "Data[\"id\"] = (Data[\"Age\"].diff(1) < 0).cumsum()\n",
    "\n",
    "Data[\"Y\"] = Data.pLvl * Data.TranShk\n",
    "\n",
    "# Find Et[Yt+1 - Yt]\n",
    "Data = Data.join(exp_df.set_index(\"Age\"), on=\"Age\", how=\"left\")\n",
    "Data[\"ExpIncChange\"] = Data[\"pLvl\"] * (\n",
    "    Data[\"PermGroFac\"] * Data[\"exp_prod\"] - Data[\"TranShk\"]\n",
    ")\n",
    "\n",
    "Data[\"Y_change\"] = Data.groupby(\"id\")[\"Y\"].diff(1)"
   ]
  },
  {
   "cell_type": "code",
   "execution_count": 8,
   "id": "cff4ce49-b290-4594-9cb3-6f2c6f1f3eb6",
   "metadata": {
    "jupyter": {
     "source_hidden": true
    },
    "tags": []
   },
   "outputs": [
    {
     "name": "stdout",
     "output_type": "stream",
     "text": [
      "                          PanelOLS Estimation Summary                           \n",
      "================================================================================\n",
      "Dep. Variable:                 ExpBin   R-squared:                        0.0072\n",
      "Estimator:                   PanelOLS   R-squared (Between):          -4.494e-05\n",
      "No. Observations:              100000   R-squared (Within):               0.0072\n",
      "Date:                Tue, Feb 22 2022   R-squared (Overall):              0.0076\n",
      "Time:                        14:48:46   Log-likelihood                -1.389e+05\n",
      "Cov. Estimator:            Unadjusted                                           \n",
      "                                        F-statistic:                      710.03\n",
      "Entities:                        2334   P-value                           0.0000\n",
      "Avg Obs:                       42.845   Distribution:                 F(1,97665)\n",
      "Min Obs:                       2.0000                                           \n",
      "Max Obs:                       47.000   F-statistic (robust):             710.03\n",
      "                                        P-value                           0.0000\n",
      "Time periods:                      46   Distribution:                 F(1,97665)\n",
      "Avg Obs:                       2173.9                                           \n",
      "Min Obs:                       1857.0                                           \n",
      "Max Obs:                       2339.0                                           \n",
      "                                                                                \n",
      "                             Parameter Estimates                              \n",
      "==============================================================================\n",
      "            Parameter  Std. Err.     T-stat    P-value    Lower CI    Upper CI\n",
      "------------------------------------------------------------------------------\n",
      "const          0.1083     0.0031     34.819     0.0000      0.1022      0.1144\n",
      "ChangeBin      0.0848     0.0032     26.646     0.0000      0.0786      0.0911\n",
      "==============================================================================\n",
      "\n",
      "F-test for Poolability: 0.9781\n",
      "P-value: 0.7692\n",
      "Distribution: F(2333,97665)\n",
      "\n",
      "Included effects: Entity\n"
     ]
    }
   ],
   "source": [
    "# Create variables\n",
    "Data[\"ExpBin\"] = 0\n",
    "Data.loc[Data[\"ExpIncChange\"] > 0, \"ExpBin\"] = 1\n",
    "Data.loc[Data[\"ExpIncChange\"] < 0, \"ExpBin\"] = -1\n",
    "\n",
    "Data[\"ChangeBin\"] = 0\n",
    "Data.loc[Data[\"Y_change\"] > 0, \"ChangeBin\"] = 1\n",
    "Data.loc[Data[\"Y_change\"] < 0, \"ChangeBin\"] = -1\n",
    "\n",
    "Data = Data.set_index([\"id\",\"Age\"])\n",
    "mod = PanelOLS(Data.ExpBin, sm.add_constant(Data.ChangeBin), entity_effects=True)\n",
    "fe_res = mod.fit()\n",
    "print(fe_res)"
   ]
  },
  {
   "cell_type": "markdown",
   "id": "c828d415-db10-4274-ae35-5efd5c60c178",
   "metadata": {},
   "source": [
    "The estimated $\\hat{\\beta}$ when there are no transitory shocks is positive."
   ]
  }
 ],
 "metadata": {
  "jupytext": {
   "formats": "ipynb,py:percent"
  },
  "kernelspec": {
   "display_name": "Python 3 (ipykernel)",
   "language": "python",
   "name": "python3"
  },
  "language_info": {
   "codemirror_mode": {
    "name": "ipython",
    "version": 3
   },
   "file_extension": ".py",
   "mimetype": "text/x-python",
   "name": "python",
   "nbconvert_exporter": "python",
   "pygments_lexer": "ipython3",
   "version": "3.8.8"
  },
  "latex_envs": {
   "LaTeX_envs_menu_present": true,
   "autoclose": false,
   "autocomplete": true,
   "bibliofile": "biblio.bib",
   "cite_by": "apalike",
   "current_citInitial": 1,
   "eqLabelWithNumbers": true,
   "eqNumInitial": 1,
   "hotkeys": {
    "equation": "Ctrl-E",
    "itemize": "Ctrl-I"
   },
   "labels_anchors": false,
   "latex_user_defs": false,
   "report_style_numbering": false,
   "user_envs_cfg": false
  }
 },
 "nbformat": 4,
 "nbformat_minor": 5
}
