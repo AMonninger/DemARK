{
 "cells": [
  {
   "cell_type": "markdown",
   "id": "operating-tower",
   "metadata": {
    "jp-MarkdownHeadingCollapsed": true,
    "tags": []
   },
   "source": [
    "# Lucas Asset Pricing Model\n",
    "\n",
    "## A notebook by [Christopher D. Carroll](http://www.econ2.jhu.edu/people/ccarroll/) and [Mateo Velásquez-Giraldo](https://mv77.github.io/)\n",
    "### Inspired by its [Quantecon counterpart](https://julia.quantecon.org/multi_agent_models/lucas_model.html)\n",
    "\n",
    "This notebook presents simple computational tools to solve an instance of Lucas's asset-pricing model for which there is no analytical solution: The case when the logarithm of the asset's dividend follows an autoregressive process of order 1,\n",
    "\\begin{equation*}\n",
    "\\ln d_{t+1} = \\gamma + \\alpha \\ln d_t + \\varepsilon_{t+1}, \\qquad \\varepsilon \\sim \\mathcal{N}(-\\frac{\\sigma^2}{2}, \\sigma).\n",
    "\\end{equation*}\n",
    "\n",
    "A presentation of this model can be found in [Christopher D. Carroll's lecture notes](http://www.econ2.jhu.edu/people/ccarroll/public/lecturenotes/AssetPricing/LucasAssetPrice/).\n",
    "\n",
    "Those notes use [the Bellman equation](http://www.econ2.jhu.edu/people/ccarroll/public/lecturenotes/AssetPricing/LucasAssetPrice/#pofc) to derive a relationship between the price of the asset in the current period $t$ and the next period $t+1$:\n",
    "\n",
    "\\begin{equation*}\n",
    "P_{t} =  \n",
    "\\overbrace{\\left(\\frac{1}{1+\\vartheta}\\right)}\n",
    "^{\\beta}\\mathbb{E}_{t}\\left[ \\frac{u^{\\prime}(d_{t+1})}{u^{\\prime}(d_t)} (P_{t+1} + d_{t+1}) \\right]\n",
    "\\end{equation*}\n",
    "\n",
    "The equilibrium pricing equation is a relationship between the price and the dividend (a \"pricing kernel\") $P^{*}(d)$ such that, if everyone _believes_ that to be the pricing kernel, everyone's Euler equation will be satisfied:\n",
    "\n",
    "\\begin{equation*}\n",
    "P^*(d_t) =   \\left(\\frac{1}{1+\\vartheta}\\right)\\mathbb{E}_{t}\\left[ \\frac{u^{\\prime}(d_{t+1})}{u^{\\prime}(d_t)} (P^*(d_{t+1}) + d_{t+1}) \\right]\n",
    "\\end{equation*}\n",
    "\n",
    "As noted in the handout, there are some special circumstances in which it is possible to solve for $P^{*}$ analytically:\n",
    "\n",
    "| Shock Process | Mean Restrictions  | CRRA | Solution for Pricing Kernel $P^*(d)$  |\n",
    "| --- | :-- | :--  | :---:  |\n",
    "| bounded, IID, $\\mathbb{E}[d]=\\bar{d}$  | $0 < d < \\infty$ | 1 (log) | $\\vartheta^{-1}d$  |\n",
    "| lognormal, mean 1 | $\\mu=-\\sigma^{2}/2$  | $\\rho$ | $\\vartheta^{-1}{d_t^\\rho}~e^{\\rho(\\rho-1)\\sigma^2/2}$  |\n",
    "| lognormal mean $e^{\\gamma}=\\mathbb{E}[d_{t+1}/d_{t}]$  | ${\\mu~=-\\sigma^{2}/2+\\gamma}$ |$\\rho$ |  $\\vartheta^{-1}d_t^{\\rho}e^{\\rho\\gamma+\\rho(\\rho-1)\\sigma^2/2}$  |\n",
    "\n",
    "However, under most circumstances, the only way to obtain the pricing function $P^{*}$ is by solving for it numerically, as outlined below."
   ]
  },
  {
   "cell_type": "markdown",
   "id": "bulgarian-bidder",
   "metadata": {},
   "source": [
    "# Finding the equilibrium pricing function.\n",
    "\n",
    "We know that the equilibrium pricing function must satisfy the equation above. Let's define an operator that allows us to evaluate whether any candidate pricing function satisfies this requirement.\n",
    "\n",
    "Let $T$ be an operator which takes as argument a function and returns another function (these are usually called [functionals or higher-order functions](https://en.wikipedia.org/wiki/Functional_(mathematics))). For some function $f$, denote with $T[f]$ the function that results from applying $T$ to $f$. Then, for any real number $x$, $T[f](x)$ will be the real number that one obtains when the function $T[f]$ is given $x$ as an input.\n",
    "\n",
    "We define our particular operator as follows. For any function $g:\\mathbb{R}\\rightarrow\\mathbb{R}$, $T[g]$ is obtained as\n",
    "\n",
    "\\begin{equation*}\n",
    "\\forall~d_t \\in \\mathbb{R},\\,\\,\\,\\, T[g](d_t) := \\beta~\\mathbb{E}_{t}\\left[ \\frac{u^{\\prime}(d_{t+1})}{u^{\\prime}(d_t)} (f(d_{t+1}) + d_{t+1}) \\right].\n",
    "\\end{equation*}\n",
    "\n",
    "\n",
    "We can use $T$ to re-express our pricing equation. If $P^*(\\bullet)$ is our equilibrium pricing funtion, it must satisfy\n",
    "\n",
    "\\begin{equation*}\n",
    "\\forall~d_t,\\,\\,\\,\\,P^*(d_t) = \\beta\\mathbb{E}_{t}\\left[ \\frac{u^{\\prime}(d_{t+1})}{u^{\\prime}(d_t)} (P^*(d_{t+1}) + d_{t+1}) \\right] = T[P^*](d_t).\n",
    "\\end{equation*}\n",
    "or, expressed differently,\n",
    "\\begin{equation*}\n",
    "P^* = T[P^*].\n",
    "\\end{equation*}\n",
    "\n",
    "Our equilibrium pricing function is therefore a *fixed point* of the operator $T$.\n",
    "\n",
    "It turns out that $T$ is a [contraction mapping](https://en.wikipedia.org/wiki/Contraction_mapping). This is useful because it implies, through [Banach's fixed-point theorem](https://en.wikipedia.org/wiki/Contraction_mapping), that:\n",
    "- $T$ has **exactly one** fixed point.\n",
    "- Starting from an arbitrary function $f$, the sequence $\\{T^n[f]\\}_{n=1}^{\\infty}$ converges to that fixed point.\n",
    "\n",
    "For our purposes, this translates to:\n",
    "- Our equilibrium pricing function not only exists, but is unique.\n",
    "- We can get arbitrarily close to the equilibrium pricing function by making some initial guess $f$ and applying the operator $T$ to it repeatedly.\n",
    "\n",
    "The code below creates a representation of our model and implements a solution routine to find $P^*$. The main components of this routine are:\n",
    "\n",
    "- `priceOnePeriod`: this is operator $T$ from above. It takes a function $f$, computes $\\beta~\\mathbb{E}_{t}\\left[ \\frac{u^{\\prime}(d_{t+1})}{u^{\\prime}(d_t)} (f(d_{t+1}) + d_{t+1}) \\right]$ for a grid of $d_t$ values, and uses the result to construct a piecewise linear interpolator that approximates $T[f]$.\n",
    "\n",
    "- `solve`: this is our iterative solution procedure. It generates an initial guess $f$ and applies `priceOnePeriod` to it iteratively. At each application, it constructs a measure of how much the candidate pricing function changed. Once changes between successive iterations are small enough, it declares that the solution has converged."
   ]
  },
  {
   "cell_type": "markdown",
   "id": "relative-friendly",
   "metadata": {},
   "source": [
    "# A computational representation of the problem and its solution."
   ]
  },
  {
   "cell_type": "markdown",
   "id": "immediate-gilbert",
   "metadata": {},
   "source": [
    "`Uninteresting setup:`"
   ]
  },
  {
   "cell_type": "code",
   "execution_count": 1,
   "id": "heated-hypothetical",
   "metadata": {
    "code_folding": [
     0
    ],
    "jupyter": {
     "source_hidden": true
    },
    "tags": [],
    "title": "Preamble"
   },
   "outputs": [],
   "source": [
    "# Setup\n",
    "import numpy as np\n",
    "import matplotlib.pyplot as plt\n",
    "from copy import copy\n",
    "\n",
    "from HARK.rewards import CRRAutilityP\n",
    "from HARK.distribution import Normal, calc_expectation\n",
    "from HARK.interpolation import LinearInterp, ConstantFunction"
   ]
  },
  {
   "cell_type": "code",
   "execution_count": 2,
   "id": "whole-livestock",
   "metadata": {
    "code_folding": [
     0
    ],
    "title": "Definitions"
   },
   "outputs": [],
   "source": [
    "# A python class representing log-AR1 dividend processes.\n",
    "\n",
    "class DivProcess:\n",
    "    \n",
    "    def __init__(self, α, σ, γ = 0.0, nApprox = 7):\n",
    "        \n",
    "        self.α = α\n",
    "        self.σ = σ\n",
    "        self.γ = γ\n",
    "        self.nApprox = nApprox\n",
    "\n",
    "        # Create a discrete approximation to the random shock\n",
    "        self.ShkAppDstn = Normal(mu = -(σ**2)/2, sigma = σ).discretize(N = nApprox)\n",
    "        \n",
    "    def getLogdGrid(self, n = 100):\n",
    "        '''\n",
    "        A method for creating a reasonable grid for log-dividends.\n",
    "        '''\n",
    "        μ = self.γ - (self.σ**2)/2\n",
    "        uncond_sd = self.σ / np.sqrt(1 - self.α**2)\n",
    "        uncond_mean = μ/(1-self.α)\n",
    "        logDGrid = np.linspace(-5*uncond_sd, 5*uncond_sd, n) + uncond_mean\n",
    "        return(logDGrid)\n",
    "        \n",
    "# A class representing economies with Lucas' trees.\n",
    "class LucasEconomy:\n",
    "    \"\"\"\n",
    "    A representation of an economy in which there are Lucas trees\n",
    "    whose dividends' logarithm follows an AR1 process.\n",
    "    \"\"\"\n",
    "\n",
    "    def __init__(self, CRRA, DiscFac, DivProcess):\n",
    "\n",
    "        self.CRRA = CRRA\n",
    "        self.DiscFac = DiscFac\n",
    "        self.DivProcess = DivProcess\n",
    "        self.uP = lambda c: CRRAutilityP(c, self.CRRA)\n",
    "\n",
    "    def priceOnePeriod(self, Pfunc_next, logDGrid):\n",
    "\n",
    "        # Create a function that, given current dividends\n",
    "        # and the value of next period's shock, returns\n",
    "        # the discounted value derived from the asset next period.\n",
    "        def discounted_value(shock, log_d_now):\n",
    "\n",
    "            # Find dividends\n",
    "            d_now = np.exp(log_d_now)    \n",
    "            log_d_next = self.DivProcess.γ + self.DivProcess.α * log_d_now + shock\n",
    "            d_next = np.exp(log_d_next)\n",
    "\n",
    "            # Payoff and sdf\n",
    "            payoff_next = Pfunc_next(log_d_next) + d_next\n",
    "            SDF = self.DiscFac * self.uP(d_next / d_now)\n",
    "\n",
    "            return SDF * payoff_next\n",
    "\n",
    "        # The price at a given d_t is the expectation of the discounted value.\n",
    "        # Compute it at every d in our grid. The expectation is taken over next\n",
    "        # period's shocks\n",
    "        prices_now = calc_expectation(\n",
    "            self.DivProcess.ShkAppDstn, discounted_value, logDGrid\n",
    "        )\n",
    "\n",
    "        # Create new interpolating price function\n",
    "        Pfunc_now = LinearInterp(logDGrid, prices_now, lower_extrap=True)\n",
    "\n",
    "        return Pfunc_now\n",
    "\n",
    "    def solve(self, Pfunc_0=None, logDGrid=None, tol=1e-5, maxIter=500, disp=False):\n",
    "\n",
    "        # Initialize the norm\n",
    "        norm = tol + 1\n",
    "\n",
    "        # Initialize Pfunc if initial guess is not provided\n",
    "        if Pfunc_0 is None:\n",
    "            Pfunc_0 = ConstantFunction(0.0)\n",
    "\n",
    "        # Create a grid for log-dividends if one is not provided\n",
    "        if logDGrid is None:\n",
    "            logDGrid = self.DivProcess.getLogdGrid()\n",
    "\n",
    "        # Initialize function and compute prices on the grid\n",
    "        Pf_0 = copy(Pfunc_0)\n",
    "        P_0 = Pf_0(logDGrid)\n",
    "\n",
    "        it = 0\n",
    "        while norm > tol and it < maxIter:\n",
    "\n",
    "            # Apply the pricing equation\n",
    "            Pf_next = self.priceOnePeriod(Pf_0, logDGrid)\n",
    "            # Find new prices on the grid\n",
    "            P_next = Pf_next(logDGrid)\n",
    "            # Measure the change between price vectors\n",
    "            norm = np.linalg.norm(P_0 - P_next)\n",
    "            # Update price function and vector\n",
    "            Pf_0 = Pf_next\n",
    "            P_0 = P_next\n",
    "            it = it + 1\n",
    "            # Print iteration information\n",
    "            if disp:\n",
    "                print(\"Iter:\" + str(it) + \"   Norm = \" + str(norm))\n",
    "\n",
    "        if disp:\n",
    "            if norm <= tol:\n",
    "                print(\"Price function converged!\")\n",
    "            else:\n",
    "                print(\"Maximum iterations exceeded!\")\n",
    "\n",
    "        self.EqlogPfun = Pf_0\n",
    "        self.EqPfun = lambda d: self.EqlogPfun(np.log(d))"
   ]
  },
  {
   "cell_type": "markdown",
   "id": "arranged-rider",
   "metadata": {},
   "source": [
    "# Creating and solving an example economy with AR1 dividends\n",
    "\n",
    "An economy is fully specified by:\n",
    "- **The dividend process for the assets (trees)**: we assume that $\\ln d_{t+1} = \\alpha \\ln d_t + \\varepsilon_{t+1}$, $\\varepsilon_{t+1}\\sim\\mathcal{N}(-\\sigma^2/2,\\sigma)$. We must create a dividend process specifying $\\alpha$ and $\\sigma_{\\varepsilon}$.\n",
    "- **The coefficient of relative risk aversion (CRRA).**\n",
    "- **The time-discount factor ($\\beta$).**"
   ]
  },
  {
   "cell_type": "code",
   "execution_count": null,
   "id": "three-binary",
   "metadata": {
    "code_folding": [
     0
    ],
    "lines_to_next_cell": 2,
    "title": "Example"
   },
   "outputs": [],
   "source": [
    "# Create a log-AR1 process for dividends\n",
    "DivProc = DivProcess(α=0.90, σ=0.1)\n",
    "\n",
    "# Create an example economy\n",
    "economy = LucasEconomy(CRRA=2, DiscFac=0.95, DivProcess=DivProc)"
   ]
  },
  {
   "cell_type": "markdown",
   "id": "becoming-gnome",
   "metadata": {},
   "source": [
    "Once created, the economy can be 'solved', which means finding the equilibrium price kernel. The distribution of dividends at period $t+1$ depends on the value of dividends at $t$, which also determines the resources agents have available to buy trees. Thus, $d_t$ is a state variable for the economy. The pricing function gives the price of trees that equates their demand and supply at every level of current dividends $d_t$."
   ]
  },
  {
   "cell_type": "code",
   "execution_count": null,
   "id": "divine-perry",
   "metadata": {
    "code_folding": [
     0
    ],
    "lines_to_next_cell": 2,
    "title": "Solution"
   },
   "outputs": [],
   "source": [
    "# Solve the economy\n",
    "economy.solve(disp=True)\n",
    "\n",
    "# After the economy is solved, we can use its Equilibrium price function\n",
    "d = 1\n",
    "print(\"P({}) = {}\".format(d, economy.EqPfun(d)))"
   ]
  },
  {
   "cell_type": "markdown",
   "id": "moderate-network",
   "metadata": {},
   "source": [
    "## The effect of risk aversion.\n",
    "\n",
    "[The notes](http://www.econ2.jhu.edu/people/ccarroll/public/lecturenotes/AssetPricing/LucasAssetPrice/) discuss the surprising implication that an increase in the coefficient of relative risk aversion $\\rho$ leads to higher prices for the risky trees! This is demonstrated below."
   ]
  },
  {
   "cell_type": "code",
   "execution_count": null,
   "id": "qualified-layout",
   "metadata": {
    "code_folding": [
     0
    ],
    "tags": []
   },
   "outputs": [],
   "source": [
    "# Create two economies with different risk aversion\n",
    "Disc = 0.95\n",
    "LowCRRAEcon = LucasEconomy(CRRA=2, DiscFac=Disc, DivProcess=DivProc)\n",
    "HighCRRAEcon = LucasEconomy(CRRA=4, DiscFac=Disc, DivProcess=DivProc)\n",
    "\n",
    "# Solve both\n",
    "LowCRRAEcon.solve()\n",
    "HighCRRAEcon.solve()\n",
    "\n",
    "# Plot the pricing functions for both\n",
    "dGrid = np.linspace(0.5, 2.5, 30)\n",
    "plt.figure()\n",
    "plt.plot(dGrid, LowCRRAEcon.EqPfun(dGrid), label=\"Low CRRA\")\n",
    "plt.plot(dGrid, HighCRRAEcon.EqPfun(dGrid), label=\"High CRRA\")\n",
    "plt.legend()\n",
    "plt.xlabel(\"$d_t$\")\n",
    "plt.ylabel(\"$P_t$\")"
   ]
  },
  {
   "cell_type": "markdown",
   "id": "postal-agenda",
   "metadata": {},
   "source": [
    "# Testing our analytical solutions"
   ]
  },
  {
   "cell_type": "markdown",
   "id": "aboriginal-vault",
   "metadata": {},
   "source": [
    "## Case 1: Log Utility\n",
    "\n",
    "The lecture notes show that with logarithmic utility (a CRRA of $1$), the pricing kernel has a closed form expression: $$P^*(d_t) = \\frac{d_t}{\\vartheta}$$.\n",
    "\n",
    "We now compare our numerical solution with this analytical expression."
   ]
  },
  {
   "cell_type": "code",
   "execution_count": null,
   "id": "silent-ownership",
   "metadata": {
    "code_folding": [
     0
    ]
   },
   "outputs": [],
   "source": [
    "# Create an economy with log utility and the same dividend process from before\n",
    "logUtilEcon = LucasEconomy(CRRA=1, DiscFac=Disc, DivProcess=DivProc)\n",
    "# Solve it\n",
    "logUtilEcon.solve()\n",
    "\n",
    "# Generate a function with our analytical solution\n",
    "theta = 1 / Disc - 1\n",
    "\n",
    "\n",
    "def aSol(d):\n",
    "    return d / theta\n",
    "\n",
    "\n",
    "# Get a grid for d over which to compare them\n",
    "dGrid = np.exp(DivProc.getLogdGrid())\n",
    "\n",
    "# Plot both\n",
    "plt.figure()\n",
    "plt.plot(dGrid, aSol(dGrid), \"*\", label=\"Analytical solution\")\n",
    "plt.plot(dGrid, logUtilEcon.EqPfun(dGrid), label=\"Numerical solution\")\n",
    "plt.legend()\n",
    "plt.xlabel(\"$d_t$\")\n",
    "plt.ylabel(\"$P^*(d_t)$\")"
   ]
  },
  {
   "cell_type": "markdown",
   "id": "presidential-electron",
   "metadata": {},
   "source": [
    " ## Case 2: I.I.D dividends\n",
    "\n",
    " The [notes also show](https://llorracc.github.io/LucasAssetPrice/#when-dividends-are-IID) that, if $\\ln d_{t+n}\\sim \\mathcal{N}(-\\sigma^2/2, \\sigma^2)$ for all $n$, the pricing kernel is exactly\n",
    " \\begin{equation*}\n",
    " P^*(d_t) = d_t^\\rho\\times e^{\\rho(\\rho-1)\\sigma^2/2}\\overbrace{\\frac{\\beta}{1-\\beta}}^{=\\vartheta}\n",
    " \\end{equation*}\n",
    "\n",
    " We now our numerical solution for this case."
   ]
  },
  {
   "cell_type": "code",
   "execution_count": 4,
   "id": "measured-password",
   "metadata": {
    "code_folding": [
     0
    ]
   },
   "outputs": [
    {
     "data": {
      "image/png": "[encoded data removed]",
      "text/plain": [
       "<Figure size 640x480 with 1 Axes>"
      ]
     },
     "metadata": {},
     "output_type": "display_data"
    }
   ],
   "source": [
    "# Create an i.i.d. dividend process\n",
    "σ = 0.1\n",
    "iidDivs = DivProcess(α = 0.0, σ = σ)\n",
    "\n",
    "# And an economy that embeds it\n",
    "CRRA = 2\n",
    "Disc = 0.9\n",
    "\n",
    "iidEcon = LucasEconomy(CRRA=CRRA, DiscFac=Disc, DivProcess=iidDivs)\n",
    "iidEcon.solve()\n",
    "\n",
    "# Generate a function with our analytical solution\n",
    "dTil = np.exp((σ**2) / 2 * CRRA * (CRRA - 1))\n",
    "\n",
    "def aSolIID(d):\n",
    "    return d**CRRA * dTil * Disc / (1 - Disc)\n",
    "\n",
    "\n",
    "# Get a grid for d over which to compare them\n",
    "dGrid = np.exp(iidDivs.getLogdGrid())\n",
    "\n",
    "# Plot both\n",
    "plt.figure()\n",
    "plt.plot(dGrid, aSolIID(dGrid), \"*\", label=\"Analytical solution\")\n",
    "plt.plot(dGrid, iidEcon.EqPfun(dGrid), label=\"Numerical solution\")\n",
    "plt.legend()\n",
    "plt.xlabel(\"$d_t$\")\n",
    "plt.ylabel(\"$P^*(d_t)$\")\n",
    "plt.show()"
   ]
  },
  {
   "cell_type": "markdown",
   "id": "db9d2d68",
   "metadata": {},
   "source": [
    "# Dividends that are a geometric random walk with drift\n",
    "\n",
    "The notes also show that if the dividend process is\n",
    "\\begin{equation*}\n",
    "\\ln d_{t+1} = \\gamma + \\ln d_t + \\varepsilon_{t+1}, \\qquad \\varepsilon \\sim \\mathcal{N}(-\\frac{\\sigma^2}{2}, \\sigma).\n",
    "\\end{equation*}\n",
    "so that $E_t[d_{t+1}/d_t] = e^\\gamma$, then we have\n",
    "\\begin{equation*}\n",
    " P^*(d_t) = d_t^\\rho\\times e^{(\\rho-1)\\left(\\rho\\sigma^2/2 - \\gamma\\right)}\\frac{\\beta}{1-\\beta}.\n",
    "\\end{equation*}"
   ]
  },
  {
   "cell_type": "code",
   "execution_count": 8,
   "id": "3cb3d0e4",
   "metadata": {},
   "outputs": [
    {
     "data": {
      "text/plain": [
       "Text(0, 0.5, '$P^*(d_t)$')"
      ]
     },
     "execution_count": 8,
     "metadata": {},
     "output_type": "execute_result"
    },
    {
     "data": {
      "image/png": "[encoded data removed]",
      "text/plain": [
       "<Figure size 640x480 with 1 Axes>"
      ]
     },
     "metadata": {},
     "output_type": "display_data"
    }
   ],
   "source": [
    "CRRA = 2\n",
    "Disc = 0.9\n",
    "σ = 0.1\n",
    "γ = 0.3\n",
    "\n",
    "# Create a random walk dividend process\n",
    "# (it turns out that the whole model can be normalized by d_t, and\n",
    "# in normalized, terms the dividend proces becomes iid again)\n",
    "rw_divs = DivProcess(γ=γ, α = 0, σ = σ)\n",
    "\n",
    "# And an economy that embeds it\n",
    "rw_econ = LucasEconomy(CRRA = CRRA, DiscFac = Disc, DivProcess = rw_divs)\n",
    "rw_econ.solve()\n",
    "\n",
    "# Generate a function with our analytical solution\n",
    "a_sol_factor = np.exp((CRRA-1)*(CRRA*σ**2/2 - γ))\n",
    "a_sol_rw = lambda d: d**(CRRA) * a_sol_factor * Disc/(1 - Disc)\n",
    "\n",
    "# Get a grid for d over which to compare them\n",
    "dGrid = np.exp(rw_divs.getLogdGrid())\n",
    "\n",
    "# Plot both\n",
    "plt.figure()\n",
    "plt.plot(dGrid, a_sol_rw(dGrid), '*',label = 'Analytical solution')\n",
    "plt.plot(dGrid, rw_econ.EqPfun(dGrid), label = 'Numerical solution')\n",
    "plt.legend()\n",
    "plt.xlabel('$d_t$')\n",
    "plt.ylabel('$P^*(d_t)$')"
   ]
  },
  {
   "cell_type": "markdown",
   "id": "pacific-cliff",
   "metadata": {},
   "source": [
    "# Testing our approximation of the dividend process\n",
    "\n",
    "Hidden in the solution method implemented above is the fact that, in order to make expectations easy to compute, we discretize the random shock $\\varepsilon_t$, which is to say, we create a discrete variable $\\tilde{\\varepsilon}$ that approximates the behavior of $\\varepsilon_t$. This is done using a [Gauss-Hermite quadrature](https://en.wikipedia.org/wiki/Gauss%E2%80%93Hermite_quadrature).\n",
    "\n",
    "A parameter for the numerical solution is the number of different values that we allow our discrete approximation $\\tilde{\\varepsilon}$ to take, $n^{\\#}$. We would expect a higher $n^#$ to improve our solution, as the discrete approximation of $\\varepsilon_t$ improves. We test this below."
   ]
  },
  {
   "cell_type": "code",
   "execution_count": 6,
   "id": "interstate-globe",
   "metadata": {
    "code_folding": [
     0
    ],
    "tags": []
   },
   "source": [
    "# Increase CRRA to make the effect of uncertainty more evident.\n",
    "CRRA = 10\n",
    "Disc = 0.9\n",
    "σ = 0.1\n",
    "ns = [1, 2, 10]\n",
    "\n",
    "dTil = np.exp((σ**2) / 2 * CRRA * (CRRA - 1.0))\n",
    "\n",
    "def aSolIID(d):\n",
    "    return d**CRRA * dTil * Disc / (1 - Disc)\n",
    "\n",
    "dGrid = np.exp(iidDivs.getLogdGrid())\n",
    "\n",
    "plt.figure()\n",
    "for n in ns:\n",
    "    iidDivs = DivProcess(α=0.0, σ=σ, nApprox=n)\n",
    "    iidEcon = LucasEconomy(CRRA=CRRA, DiscFac=Disc, DivProcess=iidDivs)\n",
    "    iidEcon.solve()\n",
    "    plt.plot(dGrid, iidEcon.EqPfun(dGrid), label=\"Num.Sol. $n^\\#$ = {}\".format(n))\n",
    "\n",
    "# Plot both\n",
    "plt.plot(dGrid, aSolIID(dGrid), \"*\", label=\"Analytical solution\")\n",
    "plt.legend()\n",
    "plt.xlabel(\"$d_t$\")\n",
    "plt.ylabel(\"$P^*(d_t)$\")\n",
    "plt.show()"
   ]
  }
 ],
 "metadata": {
  "jupytext": {
   "cell_metadata_json": true,
   "encoding": "# -*- coding: utf-8 -*-",
   "formats": "ipynb,py:percent",
   "notebook_metadata_filter": "all,-widgets,-varInspector"
  },
  "kernelspec": {
   "display_name": "Python 3 (ipykernel)",
   "language": "python",
   "name": "python3"
  },
  "language_info": {
   "codemirror_mode": {
    "name": "ipython",
    "version": 3
   },
   "file_extension": ".py",
   "mimetype": "text/x-python",
   "name": "python",
   "nbconvert_exporter": "python",
   "pygments_lexer": "ipython3",
   "version": "3.9.13"
  }
 },
 "nbformat": 4,
 "nbformat_minor": 5
}
