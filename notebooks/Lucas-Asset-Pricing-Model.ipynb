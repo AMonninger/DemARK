{
 "cells": [
  {
   "cell_type": "markdown",
   "id": "operating-tower",
   "metadata": {},
   "source": [
    "# Lucas Asset Pricing Model\n",
    "\n",
    "## A notebook by [Christopher D. Carroll](http://www.econ2.jhu.edu/people/ccarroll/) and [Mateo Velásquez-Giraldo](https://mv77.github.io/)\n",
    "### Inspired by its [Quantecon counterpart](https://julia.quantecon.org/multi_agent_models/lucas_model.html)\n",
    "\n",
    "This notebook presents simple computational tools to solve Lucas' asset-pricing model when the logarithm of the asset's dividend follows an autoregressive process of order 1,\n",
    "\n",
    "\\begin{equation*}\n",
    "\\ln d_{t+1} = \\alpha \\ln d_t + \\varepsilon_{t+1}, \\qquad \\varepsilon \\sim \\mathcal{N}(\\mu, \\sigma).\n",
    "\\end{equation*}\n",
    "\n",
    "A presentation of this model can be found in [Christopher D. Carroll's lecture notes](http://www.econ2.jhu.edu/people/ccarroll/public/lecturenotes/AssetPricing/LucasAssetPrice/).\n",
    "\n",
    "Those notes [use the Bellman equation to derive](http://www.econ2.jhu.edu/people/ccarroll/public/lecturenotes/AssetPricing/LucasAssetPrice/#pofc) a relationship between the price of the asset in the current period $t$ and the next period $t+1$:\n",
    "\n",
    "\\begin{equation*}\n",
    "P_{t} =\n",
    "\\overbrace{\\left(\\frac{1}{1+\\vartheta}\\right)}\n",
    "^{\\beta}\\mathbb{E}_{t}\\left[ \\frac{u^{\\prime}(d_{t+1})}{u^{\\prime}(d_t)} (P_{t+1} + d_{t+1}) \\right]\n",
    "\\end{equation*}\n",
    "\n",
    "The equilibrium pricing equation is a relationship between the price and the dividend (a \"pricing kernel\") $P^{*}(d)$ such that, if everyone _believes_ that to be the pricing kernel, everyone's Euler equation will be satisfied:\n",
    "\n",
    "\\begin{equation*}\n",
    "P^*(d_t) = \\left(\\frac{1}{1+\\vartheta}\\right)\\mathbb{E}_{t}\\left[ \\frac{u^{\\prime}(d_{t+1})}{u^{\\prime}(d_t)} (P^*(d_{t+1}) + d_{t+1}) \\right]\n",
    "\\end{equation*}\n",
    "\n",
    "As noted in the handout, there are some special circumstances in which it is possible to solve for $P^{*}$ analytically:\n",
    "\n",
    "| Shock Process | CRRA | Solution for Pricing Kernel |\n",
    "| --- | --- | --- |\n",
    "| bounded | 1 (log) | $P^*(d) = \\frac{d}{\\vartheta}$ |\n",
    "| lognormal, mean 1 | $\\rho$ | $P^*(d) = d_t^\\rho\\ e^{\\rho(\\rho-1)\\sigma^2/2}\\frac{\\beta}{1-\\beta}$ |\n",
    "\n",
    "However, under less special circumstances, the only way to obtain the pricing function $P^{*}$ is by solving for it numerically, as outlined below."
   ]
  },
  {
   "cell_type": "markdown",
   "id": "bulgarian-bidder",
   "metadata": {},
   "source": [
    "# Finding the equilibrium pricing function.\n",
    "\n",
    "We know that the equilibrium pricing function must satisfy the equation above. Let's define an operator that allows us to evaluate whether any candidate pricing function satisfies this requirement.\n",
    "\n",
    "Let $T$ be an operator which takes as argument a function and returns another function (these are usually called [functionals or higher-order functions](https://en.wikipedia.org/wiki/Functional_(mathematics))). For some function $f$, denote with $T[f]$ the function that results from applying $T$ to $f$. Then, for any real number $x$, $T[f](x)$ will be the real number that one obtains when the function $T[f]$ is given $x$ as an input.\n",
    "\n",
    "We define our particular operator as follows. For any function $g:\\mathbb{R}\\rightarrow\\mathbb{R}$, $T[g]$ is obtained as\n",
    "\n",
    "\\begin{equation*}\n",
    "\\forall~d_t \\in \\mathbb{R},\\,\\,\\,\\, T[g](d_t) := \\beta~\\mathbb{E}_{t}\\left[ \\frac{u^{\\prime}(d_{t+1})}{u^{\\prime}(d_t)} (f(d_{t+1}) + d_{t+1}) \\right].\n",
    "\\end{equation*}\n",
    "\n",
    "\n",
    "We can use $T$ to re-express our pricing equation. If $P^*(\\bullet)$ is our equilibrium pricing funtion, it must satisfy\n",
    "\n",
    "\\begin{equation*}\n",
    "\\forall~d_t,\\,\\,\\,\\,P^*(d_t) = \\beta\\mathbb{E}_{t}\\left[ \\frac{u^{\\prime}(d_{t+1})}{u^{\\prime}(d_t)} (P^*(d_{t+1}) + d_{t+1}) \\right] = T[P^*](d_t).\n",
    "\\end{equation*}\n",
    "or, expressed differently,\n",
    "\\begin{equation*}\n",
    "P^* = T[P^*].\n",
    "\\end{equation*}\n",
    "\n",
    "Our equilibrium pricing function is therefore a *fixed point* of the operator $T$.\n",
    "\n",
    "It turns out that $T$ is a [contraction mapping](https://en.wikipedia.org/wiki/Contraction_mapping). This is useful because it implies, through [Banach's fixed-point theorem](https://en.wikipedia.org/wiki/Contraction_mapping), that:\n",
    "- $T$ has **exactly one** fixed point.\n",
    "- Starting from an arbitrary function $f$, the sequence $\\{T^n[f]\\}_{n=1}^{\\infty}$ converges to such fixed point.\n",
    "\n",
    "For our purposes, this translates to:\n",
    "- Our equilibrium pricing function not only exists, but it is unique.\n",
    "- We can get arbitrarily close to the equilibrium pricing function by making some initial guess $f$ and applying the operator $T$ to it repeatedly.\n",
    "\n",
    "The code below creates a representation of our model and implements a solution routine to find $P^*$. The main components of this routine are:\n",
    "\n",
    "- `priceOnePeriod`: this is operator $T$ from above. It takes a function $f$, computes $\\beta~\\mathbb{E}_{t}\\left[ \\frac{u^{\\prime}(d_{t+1})}{u^{\\prime}(d_t)} (f(d_{t+1}) + d_{t+1}) \\right]$ for a grid of $d_t$ values, and uses the result to construct a linear interpolator that approximates $T[f]$.\n",
    "\n",
    "- `solve`: this is our iterative solution procedure. It generates an initial guess $f$ and applies `priceOnePeriod` to it iteratively. At each application, it constructs a measure of how much the candidate pricing function changed. Once changes between successive iterations are small enough, it declares that the solution has converged."
   ]
  },
  {
   "cell_type": "markdown",
   "id": "relative-friendly",
   "metadata": {},
   "source": [
    "# A computational representation of the problem and its solution."
   ]
  },
  {
   "cell_type": "markdown",
   "id": "immediate-gilbert",
   "metadata": {},
   "source": [
    "`Uninteresting setup:`"
   ]
  },
  {
   "cell_type": "code",
   "execution_count": 1,
   "id": "heated-hypothetical",
   "metadata": {
    "code_folding": [
     0
    ],
    "execution": {
     "iopub.execute_input": "2023-01-20T20:52:47.743353Z",
     "iopub.status.busy": "2023-01-20T20:52:47.743353Z",
     "iopub.status.idle": "2023-01-20T20:52:49.355674Z",
     "shell.execute_reply": "2023-01-20T20:52:49.354670Z"
    },
    "jupyter": {
     "source_hidden": true
    },
    "tags": [],
    "title": "Preamble"
   },
   "outputs": [],
   "source": [
    "# Setup\n",
    "import numpy as np\n",
    "import matplotlib.pyplot as plt\n",
    "from copy import copy\n",
    "\n",
    "from HARK.rewards import CRRAutilityP\n",
    "from HARK.distribution import Normal, calc_expectation\n",
    "from HARK.interpolation import LinearInterp, ConstantFunction"
   ]
  },
  {
   "cell_type": "code",
   "execution_count": 2,
   "id": "whole-livestock",
   "metadata": {
    "code_folding": [
     0
    ],
    "execution": {
     "iopub.execute_input": "2023-01-20T20:52:49.358671Z",
     "iopub.status.busy": "2023-01-20T20:52:49.358671Z",
     "iopub.status.idle": "2023-01-20T20:52:49.370671Z",
     "shell.execute_reply": "2023-01-20T20:52:49.370671Z"
    },
    "title": "Definitions"
   },
   "outputs": [],
   "source": [
    "# A python class representing log-AR1 dividend processes.\n",
    "\n",
    "\n",
    "class DivProcess:\n",
    "    def __init__(self, α, σ, μ=0.0, nApprox=7):\n",
    "\n",
    "        self.α = α\n",
    "        self.σ = σ\n",
    "        self.μ = μ\n",
    "        self.nApprox = nApprox\n",
    "\n",
    "        # Create a discrete approximation to the random shock\n",
    "        self.ShkAppDstn = Normal(mu=μ, sigma=σ).discretize(N=nApprox)\n",
    "\n",
    "    def getLogdGrid(self, n=100):\n",
    "        \"\"\"\n",
    "        A method for creating a reasonable grid for log-dividends.\n",
    "        \"\"\"\n",
    "        uncond_sd = self.σ / np.sqrt(1 - self.α**2)\n",
    "        uncond_mean = self.μ / (1 - self.α)\n",
    "        logDGrid = np.linspace(-5 * uncond_sd, 5 * uncond_sd, n) + uncond_mean\n",
    "        return logDGrid\n",
    "\n",
    "\n",
    "# A class representing economies with Lucas' trees.\n",
    "class LucasEconomy:\n",
    "    \"\"\"\n",
    "    A representation of an economy in which there are Lucas trees\n",
    "    whose dividends' logarithm follows an AR1 process.\n",
    "    \"\"\"\n",
    "\n",
    "    def __init__(self, CRRA, DiscFac, DivProcess):\n",
    "\n",
    "        self.CRRA = CRRA\n",
    "        self.DiscFac = DiscFac\n",
    "        self.DivProcess = DivProcess\n",
    "        self.uP = lambda c: CRRAutilityP(c, self.CRRA)\n",
    "\n",
    "    def priceOnePeriod(self, Pfunc_next, logDGrid):\n",
    "\n",
    "        # Create a function that, given current dividends\n",
    "        # and the value of next period's shock, returns\n",
    "        # the discounted value derived from the asset next period.\n",
    "        def discounted_value(shock, log_d_now):\n",
    "\n",
    "            # Find dividends\n",
    "            d_now = np.exp(log_d_now)\n",
    "            log_d_next = self.DivProcess.α * log_d_now + shock\n",
    "            d_next = np.exp(log_d_next)\n",
    "\n",
    "            # Payoff and sdf\n",
    "            payoff_next = Pfunc_next(log_d_next) + d_next\n",
    "            SDF = self.DiscFac * self.uP(d_next / d_now)\n",
    "\n",
    "            return SDF * payoff_next\n",
    "\n",
    "        # The price at a given d_t is the expectation of the discounted value.\n",
    "        # Compute it at every d in our grid. The expectation is taken over next\n",
    "        # period's shocks\n",
    "        prices_now = calc_expectation(\n",
    "            self.DivProcess.ShkAppDstn, discounted_value, logDGrid\n",
    "        )\n",
    "\n",
    "        # Create new interpolating price function\n",
    "        Pfunc_now = LinearInterp(logDGrid, prices_now, lower_extrap=True)\n",
    "\n",
    "        return Pfunc_now\n",
    "\n",
    "    def solve(self, Pfunc_0=None, logDGrid=None, tol=1e-5, maxIter=500, disp=False):\n",
    "\n",
    "        # Initialize the norm\n",
    "        norm = tol + 1\n",
    "\n",
    "        # Initialize Pfunc if initial guess is not provided\n",
    "        if Pfunc_0 is None:\n",
    "            Pfunc_0 = ConstantFunction(0.0)\n",
    "\n",
    "        # Create a grid for log-dividends if one is not provided\n",
    "        if logDGrid is None:\n",
    "            logDGrid = self.DivProcess.getLogdGrid()\n",
    "\n",
    "        # Initialize function and compute prices on the grid\n",
    "        Pf_0 = copy(Pfunc_0)\n",
    "        P_0 = Pf_0(logDGrid)\n",
    "\n",
    "        it = 0\n",
    "        while norm > tol and it < maxIter:\n",
    "\n",
    "            # Apply the pricing equation\n",
    "            Pf_next = self.priceOnePeriod(Pf_0, logDGrid)\n",
    "            # Find new prices on the grid\n",
    "            P_next = Pf_next(logDGrid)\n",
    "            # Measure the change between price vectors\n",
    "            norm = np.linalg.norm(P_0 - P_next)\n",
    "            # Update price function and vector\n",
    "            Pf_0 = Pf_next\n",
    "            P_0 = P_next\n",
    "            it = it + 1\n",
    "            # Print iteration information\n",
    "            if disp:\n",
    "                print(\"Iter:\" + str(it) + \"   Norm = \" + str(norm))\n",
    "\n",
    "        if disp:\n",
    "            if norm <= tol:\n",
    "                print(\"Price function converged!\")\n",
    "            else:\n",
    "                print(\"Maximum iterations exceeded!\")\n",
    "\n",
    "        self.EqlogPfun = Pf_0\n",
    "        self.EqPfun = lambda d: self.EqlogPfun(np.log(d))"
   ]
  },
  {
   "cell_type": "markdown",
   "id": "arranged-rider",
   "metadata": {},
   "source": [
    "# Creating and solving an example economy with AR1 dividends\n",
    "\n",
    "An economy is fully specified by:\n",
    "- **The dividend process for the assets (trees)**: we assume that $\\ln d_{t+1} = \\alpha \\ln d_t + \\varepsilon_{t+1}$. We must create a dividend process specifying $\\alpha$ and $\\sigma_{\\varepsilon}$.\n",
    "- **The coefficient of relative risk aversion (CRRA).**\n",
    "- **The time-discount factor ($\\beta$).**"
   ]
  },
  {
   "cell_type": "code",
   "execution_count": 3,
   "id": "three-binary",
   "metadata": {
    "code_folding": [
     0
    ],
    "execution": {
     "iopub.execute_input": "2023-01-20T20:52:49.373671Z",
     "iopub.status.busy": "2023-01-20T20:52:49.373671Z",
     "iopub.status.idle": "2023-01-20T20:52:49.386672Z",
     "shell.execute_reply": "2023-01-20T20:52:49.386672Z"
    },
    "lines_to_next_cell": 2,
    "title": "Example"
   },
   "outputs": [],
   "source": [
    "# Create a log-AR1 process for dividends\n",
    "DivProc = DivProcess(α=0.90, σ=0.1)\n",
    "\n",
    "# Create an example economy\n",
    "economy = LucasEconomy(CRRA=2, DiscFac=0.95, DivProcess=DivProc)"
   ]
  },
  {
   "cell_type": "markdown",
   "id": "becoming-gnome",
   "metadata": {},
   "source": [
    "Once created, the economy can be 'solved', which means finding the equilibrium price kernel. The distribution of dividends at period $t+1$ depends on the value of dividends at $t$, which also determines the resources agents have available to buy trees. Thus, $d_t$ is a state variable for the economy. The pricing function gives the price of trees that equates their demand and supply at every level of current dividends $d_t$."
   ]
  },
  {
   "cell_type": "code",
   "execution_count": 4,
   "id": "divine-perry",
   "metadata": {
    "code_folding": [
     0
    ],
    "execution": {
     "iopub.execute_input": "2023-01-20T20:52:49.389678Z",
     "iopub.status.busy": "2023-01-20T20:52:49.389678Z",
     "iopub.status.idle": "2023-01-20T20:52:49.481190Z",
     "shell.execute_reply": "2023-01-20T20:52:49.481190Z"
    },
    "lines_to_next_cell": 2,
    "title": "Solution"
   },
   "outputs": [
    {
     "name": "stdout",
     "output_type": "stream",
     "text": [
      "Iter:1   Norm = 15.078492707888973\n",
      "Iter:2   Norm = 15.364187550629122\n",
      "Iter:3   Norm = 15.574184260513519\n",
      "Iter:4   Norm = 15.705321834094173\n",
      "Iter:5   Norm = 15.758153638835235\n",
      "Iter:6   Norm = 15.735880818549687\n",
      "Iter:7   Norm = 15.643515942992451\n",
      "Iter:8   Norm = 15.487249547338953\n",
      "Iter:9   Norm = 15.273939284634382\n",
      "Iter:10   Norm = 15.01072032346231\n",
      "Iter:11   Norm = 14.704712752277223\n",
      "Iter:12   Norm = 14.362808402479404\n",
      "Iter:13   Norm = 13.991522607681391\n",
      "Iter:14   Norm = 13.59689781058941\n",
      "Iter:15   Norm = 13.184447889322422\n",
      "Iter:16   Norm = 12.759133681902242\n",
      "Iter:17   Norm = 12.325361778696143\n",
      "Iter:18   Norm = 11.887000083698242\n",
      "Iter:19   Norm = 11.447404920433058\n",
      "Iter:20   Norm = 11.009455566257238\n",
      "Iter:21   Norm = 10.57559303909209\n",
      "Iter:22   Norm = 10.147860743036267\n",
      "Iter:23   Norm = 9.727945217684848\n",
      "Iter:24   Norm = 9.317215747420908\n",
      "Iter:25   Norm = 8.916761989301403\n",
      "Iter:26   Norm = 8.52742908884575\n",
      "Iter:27   Norm = 8.149849988184085\n",
      "Iter:28   Norm = 7.784474805011751\n",
      "Iter:29   Norm = 7.4315972860846085\n",
      "Iter:30   Norm = 7.091378426112918\n",
      "Iter:31   Norm = 6.763867400609525\n",
      "Iter:32   Norm = 6.449019996648278\n",
      "Iter:33   Norm = 6.1467147443067205\n",
      "Iter:34   Norm = 5.856766958330841\n",
      "Iter:35   Norm = 5.578940897797849\n",
      "Iter:36   Norm = 5.312960243979353\n",
      "Iter:37   Norm = 5.058517085281368\n",
      "Iter:38   Norm = 4.81527958459194\n",
      "Iter:39   Norm = 4.582898489725019\n",
      "Iter:40   Norm = 4.361012632712031\n",
      "Iter:41   Norm = 4.149253549019743\n",
      "Iter:42   Norm = 3.947249333733819\n",
      "Iter:43   Norm = 3.7546278385768326\n",
      "Iter:44   Norm = 3.571019301457087\n",
      "Iter:45   Norm = 3.3960584891279124\n",
      "Iter:46   Norm = 3.2293864234827736\n",
      "Iter:47   Norm = 3.070651752988602\n",
      "Iter:48   Norm = 2.91951182271798\n",
      "Iter:49   Norm = 2.775633489310926\n",
      "Iter:50   Norm = 2.638693720909016\n",
      "Iter:51   Norm = 2.508380016580007\n",
      "Iter:52   Norm = 2.384390674915787\n",
      "Iter:53   Norm = 2.266434937267918\n",
      "Iter:54   Norm = 2.1542330274153856\n",
      "Iter:55   Norm = 2.0475161062743106\n",
      "Iter:56   Norm = 1.946026157502569\n",
      "Iter:57   Norm = 1.8495158174711426\n",
      "Iter:58   Norm = 1.757748161020164\n",
      "Iter:59   Norm = 1.670496452651597\n",
      "Iter:60   Norm = 1.5875438712918475\n",
      "Iter:61   Norm = 1.5086832154568077\n",
      "Iter:62   Norm = 1.4337165945370796\n",
      "Iter:63   Norm = 1.362455110968497\n",
      "Iter:64   Norm = 1.294718537241407\n",
      "Iter:65   Norm = 1.2303349910083925\n",
      "Iter:66   Norm = 1.1691406109627116\n",
      "Iter:67   Norm = 1.1109792356593775\n",
      "Iter:68   Norm = 1.0557020870281604\n",
      "Iter:69   Norm = 1.0031674599693239\n",
      "Iter:70   Norm = 0.953240419122276\n",
      "Iter:71   Norm = 0.9057925036428042\n",
      "Iter:72   Norm = 0.8607014406124017\n",
      "Iter:73   Norm = 0.8178508675250737\n",
      "Iter:74   Norm = 0.7771300641498445\n",
      "Iter:75   Norm = 0.7384336939430902\n",
      "Iter:76   Norm = 0.7016615550854858\n",
      "Iter:77   Norm = 0.6667183411342468\n",
      "Iter:78   Norm = 0.633513411214121\n",
      "Iter:79   Norm = 0.6019605696177034\n",
      "Iter:80   Norm = 0.5719778546400146\n",
      "Iter:81   Norm = 0.5434873364405036\n",
      "Iter:82   Norm = 0.5164149236988004\n",
      "Iter:83   Norm = 0.49069017881031934\n",
      "Iter:84   Norm = 0.46624614135519865\n",
      "Iter:85   Norm = 0.44301915956276\n",
      "Iter:86   Norm = 0.4209487294897066\n",
      "Iter:87   Norm = 0.3999773416260148\n",
      "Iter:88   Norm = 0.38005033464380744\n",
      "Iter:89   Norm = 0.36111575600511014\n",
      "Iter:90   Norm = 0.3431242291492153\n",
      "Iter:91   Norm = 0.3260288269845041\n",
      "Iter:92   Norm = 0.30978495141628953\n",
      "Iter:93   Norm = 0.2943502186480924\n",
      "Iter:94   Norm = 0.27968435000273756\n",
      "Iter:95   Norm = 0.26574906801567344\n",
      "Iter:96   Norm = 0.252507997562679\n",
      "Iter:97   Norm = 0.2399265717917707\n",
      "Iter:98   Norm = 0.22797194263738466\n",
      "Iter:99   Norm = 0.21661289570418335\n",
      "Iter:100   Norm = 0.20581976931503182\n",
      "Iter:101   Norm = 0.19556437752757916\n",
      "Iter:102   Norm = 0.18581993693056376\n",
      "Iter:103   Norm = 0.17656099703983202\n",
      "Iter:104   Norm = 0.1677633741217705\n",
      "Iter:105   Norm = 0.15940408827907238\n",
      "Iter:106   Norm = 0.15146130364147795\n",
      "Iter:107   Norm = 0.1439142715113068\n",
      "Iter:108   Norm = 0.1367432763197736\n",
      "Iter:109   Norm = 0.12992958425763274\n",
      "Iter:110   Norm = 0.12345539444968624\n",
      "Iter:111   Norm = 0.11730379254803189\n",
      "Iter:112   Norm = 0.11145870662665552\n",
      "Iter:113   Norm = 0.10590486526291906\n",
      "Iter:114   Norm = 0.10062775770002967\n",
      "Iter:115   Norm = 0.09561359598671618\n",
      "Iter:116   Norm = 0.0908492789973659\n",
      "Iter:117   Norm = 0.08632235823979652\n",
      "Iter:118   Norm = 0.0820210053618175\n",
      "Iter:119   Norm = 0.07793398127349907\n",
      "Iter:120   Norm = 0.07405060680420515\n",
      "Iter:121   Norm = 0.07036073481929013\n",
      "Iter:122   Norm = 0.06685472372353495\n",
      "Iter:123   Norm = 0.06352341228280843\n",
      "Iter:124   Norm = 0.06035809569867769\n",
      "Iter:125   Norm = 0.057350502873523716\n",
      "Iter:126   Norm = 0.05449277480730004\n",
      "Iter:127   Norm = 0.051777444069499697\n",
      "Iter:128   Norm = 0.049197415293351324\n",
      "Iter:129   Norm = 0.04674594664089066\n",
      "Iter:130   Norm = 0.04441663219092877\n",
      "Iter:131   Norm = 0.042203385204168525\n",
      "Iter:132   Norm = 0.04010042222166292\n",
      "Iter:133   Norm = 0.03810224795504771\n",
      "Iter:134   Norm = 0.03620364092934021\n",
      "Iter:135   Norm = 0.034399639841224045\n",
      "Iter:136   Norm = 0.03268553059602325\n",
      "Iter:137   Norm = 0.031056833991265066\n",
      "Iter:138   Norm = 0.02950929401304358\n",
      "Iter:139   Norm = 0.028038866715931872\n",
      "Iter:140   Norm = 0.02664170965638433\n",
      "Iter:141   Norm = 0.025314171852990668\n",
      "Iter:142   Norm = 0.02405278424651272\n",
      "Iter:143   Norm = 0.022854250635389445\n",
      "Iter:144   Norm = 0.021715439063048566\n",
      "Iter:145   Norm = 0.020633373633684532\n",
      "Iter:146   Norm = 0.01960522673647571\n",
      "Iter:147   Norm = 0.01862831165689259\n",
      "Iter:148   Norm = 0.01770007555609733\n",
      "Iter:149   Norm = 0.01681809280031936\n",
      "Iter:150   Norm = 0.015980058622358902\n",
      "Iter:151   Norm = 0.015183783099218898\n",
      "Iter:152   Norm = 0.014427185429424796\n",
      "Iter:153   Norm = 0.01370828849584283\n",
      "Iter:154   Norm = 0.013025213699256064\n",
      "Iter:155   Norm = 0.01237617604917011\n",
      "Iter:156   Norm = 0.01175947949969473\n",
      "Iter:157   Norm = 0.01117351251735821\n",
      "Iter:158   Norm = 0.01061674387005007\n",
      "Iter:159   Norm = 0.010087718625678452\n",
      "Iter:160   Norm = 0.009585054350134464\n",
      "Iter:161   Norm = 0.009107437495090746\n",
      "Iter:162   Norm = 0.0086536199651226\n",
      "Iter:163   Norm = 0.008222415856460188\n",
      "Iter:164   Norm = 0.00781269835808604\n",
      "Iter:165   Norm = 0.007423396807057969\n",
      "Iter:166   Norm = 0.007053493890793578\n",
      "Iter:167   Norm = 0.006702022988650933\n",
      "Iter:168   Norm = 0.006368065645991302\n",
      "Iter:169   Norm = 0.0060507491740897975\n",
      "Iter:170   Norm = 0.005749244369632125\n",
      "Iter:171   Norm = 0.005462763348051343\n",
      "Iter:172   Norm = 0.005190557484379666\n",
      "Iter:173   Norm = 0.004931915457114684\n",
      "Iter:174   Norm = 0.004686161389468238\n",
      "Iter:175   Norm = 0.004452653083136049\n",
      "Iter:176   Norm = 0.004230780340021126\n",
      "Iter:177   Norm = 0.004019963367864764\n",
      "Iter:178   Norm = 0.0038196512649470776\n",
      "Iter:179   Norm = 0.003629320580772987\n",
      "Iter:180   Norm = 0.003448473947878914\n",
      "Iter:181   Norm = 0.0032766387823240954\n",
      "Iter:182   Norm = 0.0031133660487405184\n",
      "Iter:183   Norm = 0.0029582290868316653\n",
      "Iter:184   Norm = 0.002810822496586475\n",
      "Iter:185   Norm = 0.002670761078689435\n",
      "Iter:186   Norm = 0.0025376788281145746\n",
      "Iter:187   Norm = 0.002411227977646055\n",
      "Iter:188   Norm = 0.0022910780889793974\n",
      "Iter:189   Norm = 0.0021769151894029427\n",
      "Iter:190   Norm = 0.0020684409512572955\n",
      "Iter:191   Norm = 0.001965371912329298\n",
      "Iter:192   Norm = 0.0018674387351205622\n",
      "Iter:193   Norm = 0.0017743855030822333\n",
      "Iter:194   Norm = 0.001685969051739589\n",
      "Iter:195   Norm = 0.0016019583334553537\n",
      "Iter:196   Norm = 0.0015221338134648369\n",
      "Iter:197   Norm = 0.0014462868962543361\n",
      "Iter:198   Norm = 0.0013742193805798234\n",
      "Iter:199   Norm = 0.0013057429413134848\n",
      "Iter:200   Norm = 0.0012406786375964431\n",
      "Iter:201   Norm = 0.0011788564448452392\n",
      "Iter:202   Norm = 0.0011201148109707103\n",
      "Iter:203   Norm = 0.0010643002336733923\n",
      "Iter:204   Norm = 0.0010112668596989995\n",
      "Iter:205   Norm = 0.000960876103515401\n",
      "Iter:206   Norm = 0.0009129962852688568\n",
      "Iter:207   Norm = 0.0008675022865971227\n",
      "Iter:208   Norm = 0.000824275223597883\n",
      "Iter:209   Norm = 0.0007832021365214752\n",
      "Iter:210   Norm = 0.0007441756940609504\n",
      "Iter:211   Norm = 0.0007070939133070504\n",
      "Iter:212   Norm = 0.0006718598930980037\n",
      "Iter:213   Norm = 0.0006383815607188517\n",
      "Iter:214   Norm = 0.0006065714313913625\n",
      "Iter:215   Norm = 0.0005763463796974065\n",
      "Iter:216   Norm = 0.0005476274222572792\n",
      "Iter:217   Norm = 0.0005203395113937212\n",
      "Iter:218   Norm = 0.0004944113390323528\n",
      "Iter:219   Norm = 0.0004697751502439757\n",
      "Iter:220   Norm = 0.0004463665664321902\n",
      "Iter:221   Norm = 0.00042412441678955264\n",
      "Iter:222   Norm = 0.00040299057866740825\n",
      "Iter:223   Norm = 0.00038290982568118663\n",
      "Iter:224   Norm = 0.0003638296833357162\n",
      "Iter:225   Norm = 0.00034570029173468025\n",
      "Iter:226   Norm = 0.00032847427575486175\n",
      "Iter:227   Norm = 0.000312106620662715\n",
      "Iter:228   Norm = 0.0002965545549508215\n",
      "Iter:229   Norm = 0.00028177743839169066\n",
      "Iter:230   Norm = 0.00026773665572156036\n",
      "Iter:231   Norm = 0.00025439551593073485\n",
      "Iter:232   Norm = 0.0002417191562695137\n",
      "Iter:233   Norm = 0.0002296744511900144\n",
      "Iter:234   Norm = 0.00021822992576191617\n",
      "Iter:235   Norm = 0.000207355673495021\n",
      "Iter:236   Norm = 0.00019702327793188473\n",
      "Iter:237   Norm = 0.00018720573879104298\n",
      "Iter:238   Norm = 0.00017787740113120787\n",
      "Iter:239   Norm = 0.0001690138883400988\n",
      "Iter:240   Norm = 0.00016059203851604637\n",
      "Iter:241   Norm = 0.00015258984382435613\n",
      "Iter:242   Norm = 0.00014498639324491734\n",
      "Iter:243   Norm = 0.00013776181751293593\n",
      "Iter:244   Norm = 0.000130897237617293\n",
      "Iter:245   Norm = 0.00012437471517143394\n",
      "Iter:246   Norm = 0.00011817720568631728\n",
      "Iter:247   Norm = 0.0001122885139791717\n",
      "Iter:248   Norm = 0.00010669325187277938\n",
      "Iter:249   Norm = 0.0001013767979853002\n",
      "Iter:250   Norm = 9.63252594282199e-05\n",
      "Iter:251   Norm = 9.152543571311355e-05\n",
      "Iter:252   Norm = 8.696478402605717e-05\n",
      "Iter:253   Norm = 8.263138655714457e-05\n",
      "Iter:254   Norm = 7.851391945292416e-05\n",
      "Iter:255   Norm = 7.46016229860828e-05\n",
      "Iter:256   Norm = 7.088427363170826e-05\n",
      "Iter:257   Norm = 6.735215733838744e-05\n",
      "Iter:258   Norm = 6.399604403853481e-05\n",
      "Iter:259   Norm = 6.080716366877462e-05\n",
      "Iter:260   Norm = 5.777718307284123e-05\n",
      "Iter:261   Norm = 5.4898184383918725e-05\n",
      "Iter:262   Norm = 5.216264433373113e-05\n",
      "Iter:263   Norm = 4.9563414396572016e-05\n",
      "Iter:264   Norm = 4.709370233559301e-05\n",
      "Iter:265   Norm = 4.474705443441005e-05\n",
      "Iter:266   Norm = 4.2517338438593305e-05\n",
      "Iter:267   Norm = 4.039872767447933e-05\n",
      "Iter:268   Norm = 3.838568590367035e-05\n",
      "Iter:269   Norm = 3.647295265816658e-05\n",
      "Iter:270   Norm = 3.465552965506188e-05\n",
      "Iter:271   Norm = 3.292866760700826e-05\n",
      "Iter:272   Norm = 3.12878539395649e-05\n",
      "Iter:273   Norm = 2.9728800977065016e-05\n",
      "Iter:274   Norm = 2.8247434552133117e-05\n",
      "Iter:275   Norm = 2.6839883635277777e-05\n",
      "Iter:276   Norm = 2.5502470048875644e-05\n",
      "Iter:277   Norm = 2.4231698901724992e-05\n",
      "Iter:278   Norm = 2.302424945888415e-05\n",
      "Iter:279   Norm = 2.1876966394426856e-05\n",
      "Iter:280   Norm = 2.0786851672328805e-05\n",
      "Iter:281   Norm = 1.9751056642553055e-05\n",
      "Iter:282   Norm = 1.876687459795399e-05\n",
      "Iter:283   Norm = 1.7831733707155232e-05\n",
      "Iter:284   Norm = 1.6943190243256563e-05\n",
      "Iter:285   Norm = 1.609892235651359e-05\n",
      "Iter:286   Norm = 1.5296723735615783e-05\n",
      "Iter:287   Norm = 1.4534498148029749e-05\n",
      "Iter:288   Norm = 1.3810253750084474e-05\n",
      "Iter:289   Norm = 1.3122097967728696e-05\n",
      "Iter:290   Norm = 1.2468232525613327e-05\n",
      "Iter:291   Norm = 1.184694877810874e-05\n",
      "Iter:292   Norm = 1.1256623197055962e-05\n",
      "Iter:293   Norm = 1.0695713137200073e-05\n",
      "Iter:294   Norm = 1.0162752857142603e-05\n",
      "Iter:295   Norm = 9.656349637910464e-06\n",
      "Price function converged!\n",
      "P(1) = 19.46757396451111\n"
     ]
    }
   ],
   "source": [
    "# Solve the economy\n",
    "economy.solve(disp=True)\n",
    "\n",
    "# After the economy is solved, we can use its Equilibrium price function\n",
    "d = 1\n",
    "print(\"P({}) = {}\".format(d, economy.EqPfun(d)))"
   ]
  },
  {
   "cell_type": "markdown",
   "id": "moderate-network",
   "metadata": {},
   "source": [
    "## The effect of risk aversion.\n",
    "\n",
    "[The notes](http://www.econ2.jhu.edu/people/ccarroll/public/lecturenotes/AssetPricing/LucasAssetPrice/) discuss the surprising implication that an increase in the coefficient of relative risk aversion $\\rho$ leads to higher prices for the risky trees! This is demonstrated below."
   ]
  },
  {
   "cell_type": "code",
   "execution_count": 5,
   "id": "qualified-layout",
   "metadata": {
    "code_folding": [
     0
    ],
    "execution": {
     "iopub.execute_input": "2023-01-20T20:52:49.485191Z",
     "iopub.status.busy": "2023-01-20T20:52:49.485191Z",
     "iopub.status.idle": "2023-01-20T20:52:49.862271Z",
     "shell.execute_reply": "2023-01-20T20:52:49.862271Z"
    }
   },
   "outputs": [
    {
     "data": {
      "text/plain": [
       "Text(0, 0.5, '$P_t$')"
      ]
     },
     "execution_count": 5,
     "metadata": {},
     "output_type": "execute_result"
    },
    {
     "data": {
      "image/png": "[encoded data removed]",
      "text/plain": [
       "<Figure size 640x480 with 1 Axes>"
      ]
     },
     "metadata": {},
     "output_type": "display_data"
    }
   ],
   "source": [
    "# Create two economies with different risk aversion\n",
    "Disc = 0.95\n",
    "LowCRRAEcon = LucasEconomy(CRRA=2, DiscFac=Disc, DivProcess=DivProc)\n",
    "HighCRRAEcon = LucasEconomy(CRRA=4, DiscFac=Disc, DivProcess=DivProc)\n",
    "\n",
    "# Solve both\n",
    "LowCRRAEcon.solve()\n",
    "HighCRRAEcon.solve()\n",
    "\n",
    "# Plot the pricing functions for both\n",
    "dGrid = np.linspace(0.5, 2.5, 30)\n",
    "plt.figure()\n",
    "plt.plot(dGrid, LowCRRAEcon.EqPfun(dGrid), label=\"Low CRRA\")\n",
    "plt.plot(dGrid, HighCRRAEcon.EqPfun(dGrid), label=\"High CRRA\")\n",
    "plt.legend()\n",
    "plt.xlabel(\"$d_t$\")\n",
    "plt.ylabel(\"$P_t$\")"
   ]
  },
  {
   "cell_type": "markdown",
   "id": "postal-agenda",
   "metadata": {},
   "source": [
    "# Testing our analytical solutions"
   ]
  },
  {
   "cell_type": "markdown",
   "id": "aboriginal-vault",
   "metadata": {},
   "source": [
    "## 1. Log-utility\n",
    "\n",
    "The lecture notes show that with log-utility (a CRRA of $1$), the pricing kernel has a closed form expression: $$P^*(d_t) = \\frac{d_t}{\\vartheta}$$.\n",
    "\n",
    "We now compare our numerical solution with this analytical expression."
   ]
  },
  {
   "cell_type": "code",
   "execution_count": 6,
   "id": "silent-ownership",
   "metadata": {
    "code_folding": [
     0
    ],
    "execution": {
     "iopub.execute_input": "2023-01-20T20:52:49.865270Z",
     "iopub.status.busy": "2023-01-20T20:52:49.865270Z",
     "iopub.status.idle": "2023-01-20T20:52:50.130815Z",
     "shell.execute_reply": "2023-01-20T20:52:50.130815Z"
    }
   },
   "outputs": [
    {
     "data": {
      "text/plain": [
       "Text(0, 0.5, '$P^*(d_t)$')"
      ]
     },
     "execution_count": 6,
     "metadata": {},
     "output_type": "execute_result"
    },
    {
     "data": {
      "image/png": "[encoded data removed]",
      "text/plain": [
       "<Figure size 640x480 with 1 Axes>"
      ]
     },
     "metadata": {},
     "output_type": "display_data"
    }
   ],
   "source": [
    "# Create an economy with log utility and the same dividend process from before\n",
    "logUtilEcon = LucasEconomy(CRRA=1, DiscFac=Disc, DivProcess=DivProc)\n",
    "# Solve it\n",
    "logUtilEcon.solve()\n",
    "\n",
    "# Generate a function with our analytical solution\n",
    "theta = 1 / Disc - 1\n",
    "\n",
    "\n",
    "def aSol(d):\n",
    "    return d / theta\n",
    "\n",
    "\n",
    "# Get a grid for d over which to compare them\n",
    "dGrid = np.exp(DivProc.getLogdGrid())\n",
    "\n",
    "# Plot both\n",
    "plt.figure()\n",
    "plt.plot(dGrid, aSol(dGrid), \"*\", label=\"Analytical solution\")\n",
    "plt.plot(dGrid, logUtilEcon.EqPfun(dGrid), label=\"Numerical solution\")\n",
    "plt.legend()\n",
    "plt.xlabel(\"$d_t$\")\n",
    "plt.ylabel(\"$P^*(d_t)$\")"
   ]
  },
  {
   "cell_type": "markdown",
   "id": "presidential-electron",
   "metadata": {},
   "source": [
    " ## 2. I.I.D dividends\n",
    "\n",
    " We also found that, if $\\ln d_{t+n}\\sim \\mathcal{N}(-\\sigma^2/2, \\sigma^2)$ for all $n$, the pricing kernel is exactly\n",
    " \\begin{equation*}\n",
    " P^*(d_t) = d_t^\\rho\\times e^{\\rho(\\rho-1)\\sigma^2/2}\\frac{\\beta}{1-\\beta}.\n",
    " \\end{equation*}\n",
    "\n",
    " We now our numerical solution for this case."
   ]
  },
  {
   "cell_type": "code",
   "execution_count": 7,
   "id": "measured-password",
   "metadata": {
    "code_folding": [
     0
    ],
    "execution": {
     "iopub.execute_input": "2023-01-20T20:52:50.133819Z",
     "iopub.status.busy": "2023-01-20T20:52:50.133819Z",
     "iopub.status.idle": "2023-01-20T20:52:50.305849Z",
     "shell.execute_reply": "2023-01-20T20:52:50.305849Z"
    }
   },
   "outputs": [
    {
     "data": {
      "text/plain": [
       "Text(0, 0.5, '$P^*(d_t)$')"
      ]
     },
     "execution_count": 7,
     "metadata": {},
     "output_type": "execute_result"
    },
    {
     "data": {
      "image/png": "[encoded data removed]",
      "text/plain": [
       "<Figure size 640x480 with 1 Axes>"
      ]
     },
     "metadata": {},
     "output_type": "display_data"
    }
   ],
   "source": [
    "# Create an i.i.d. dividend process\n",
    "σ = 0.1\n",
    "iidDivs = DivProcess(α=0.0, μ=-(σ**2) / 2, σ=σ)\n",
    "\n",
    "# And an economy that embeds it\n",
    "CRRA = 2\n",
    "Disc = 0.9\n",
    "\n",
    "iidEcon = LucasEconomy(CRRA=CRRA, DiscFac=Disc, DivProcess=iidDivs)\n",
    "iidEcon.solve()\n",
    "\n",
    "# Generate a function with our analytical solution\n",
    "dTil = np.exp((σ**2) / 2 * CRRA * (CRRA - 1))\n",
    "\n",
    "\n",
    "def aSolIID(d):\n",
    "    return d**CRRA * dTil * Disc / (1 - Disc)\n",
    "\n",
    "\n",
    "# Get a grid for d over which to compare them\n",
    "dGrid = np.exp(iidDivs.getLogdGrid())\n",
    "\n",
    "# Plot both\n",
    "plt.figure()\n",
    "plt.plot(dGrid, aSolIID(dGrid), \"*\", label=\"Analytical solution\")\n",
    "plt.plot(dGrid, iidEcon.EqPfun(dGrid), label=\"Numerical solution\")\n",
    "plt.legend()\n",
    "plt.xlabel(\"$d_t$\")\n",
    "plt.ylabel(\"$P^*(d_t)$\")"
   ]
  },
  {
   "cell_type": "markdown",
   "id": "pacific-cliff",
   "metadata": {},
   "source": [
    "# Testing our approximation of the dividend process\n",
    "\n",
    "Hidden in the solution method implemented above is the fact that, in order to make expectations easy to compute, we discretize the random shock $\\varepsilon_t$, which is to say, we create a discrete variable $\\tilde{\\varepsilon}$ that approximates the behavior of $\\varepsilon_t$. This is done using a [Gauss-Hermite quadrature](https://en.wikipedia.org/wiki/Gauss%E2%80%93Hermite_quadrature).\n",
    "\n",
    "A parameter for the numerical solution is the number of different values that we allow our discrete approximation $\\tilde{\\varepsilon}$ to take, $n^{\\#}$. We would expect a higher $n^#$ to improve our solution, as the discrete approximation of $\\varepsilon_t$ improves. We test this below."
   ]
  },
  {
   "cell_type": "code",
   "execution_count": 8,
   "id": "interstate-globe",
   "metadata": {
    "code_folding": [
     0
    ],
    "execution": {
     "iopub.execute_input": "2023-01-20T20:52:50.308852Z",
     "iopub.status.busy": "2023-01-20T20:52:50.308852Z",
     "iopub.status.idle": "2023-01-20T20:52:50.575887Z",
     "shell.execute_reply": "2023-01-20T20:52:50.574885Z"
    }
   },
   "outputs": [
    {
     "data": {
      "text/plain": [
       "Text(0, 0.5, '$P^*(d_t)$')"
      ]
     },
     "execution_count": 8,
     "metadata": {},
     "output_type": "execute_result"
    },
    {
     "data": {
      "image/png": "[encoded data removed]",
      "text/plain": [
       "<Figure size 640x480 with 1 Axes>"
      ]
     },
     "metadata": {},
     "output_type": "display_data"
    }
   ],
   "source": [
    "# Increase CRRA to make the effect of uncertainty more evident.\n",
    "CRRA = 10\n",
    "Disc = 0.9\n",
    "σ = 0.1\n",
    "ns = [1, 2, 10]\n",
    "\n",
    "#\n",
    "dTil = np.exp((σ**2) / 2 * CRRA * (CRRA - 1))\n",
    "fact = dTil * Disc\n",
    "\n",
    "\n",
    "def aSolIID(d):\n",
    "    return d**CRRA * dTil * Disc / (1 - Disc)\n",
    "\n",
    "\n",
    "plt.figure()\n",
    "for n in ns:\n",
    "    iidDivs = DivProcess(α=0.0, μ=-(σ**2) / 2, σ=σ, nApprox=n)\n",
    "    iidEcon = LucasEconomy(CRRA=CRRA, DiscFac=Disc, DivProcess=iidDivs)\n",
    "    iidEcon.solve()\n",
    "    plt.plot(dGrid, iidEcon.EqPfun(dGrid), label=\"Num.Sol. $n^\\#$ = {}\".format(n))\n",
    "\n",
    "# Plot both\n",
    "plt.plot(dGrid, aSolIID(dGrid), \"*\", label=\"Analytical solution\")\n",
    "plt.legend()\n",
    "plt.xlabel(\"$d_t$\")\n",
    "plt.ylabel(\"$P^*(d_t)$\")"
   ]
  }
 ],
 "metadata": {
  "jupytext": {
   "cell_metadata_json": true,
   "encoding": "# -*- coding: utf-8 -*-",
   "formats": "ipynb,py:percent"
  },
  "kernelspec": {
   "display_name": "Python 3",
   "language": "python",
   "name": "python3"
  },
  "language_info": {
   "codemirror_mode": {
    "name": "ipython",
    "version": 3
   },
   "file_extension": ".py",
   "mimetype": "text/x-python",
   "name": "python",
   "nbconvert_exporter": "python",
   "pygments_lexer": "ipython3",
   "version": "3.10.8"
  }
 },
 "nbformat": 4,
 "nbformat_minor": 5
}
