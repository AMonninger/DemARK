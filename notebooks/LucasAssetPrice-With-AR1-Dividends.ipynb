{
 "cells": [
  {
   "cell_type": "markdown",
   "metadata": {},
   "source": [
    "# Lucas Pricing of AR1 trees\n",
    "\n",
    "## A notebook by [Mateo Velásquez-Giraldo](https://mv77.github.io/)\n",
    "### Inspired by its [Quantecon counterpart](https://julia.quantecon.org/multi_agent_models/lucas_model.html)\n",
    "\n",
    "This notebook presents simple computational tools to solve Lucas' asset-pricing model when the logarithm of the asset's dividend follows an autoregressive process of order 1,\n",
    "\n",
    "\\begin{equation*}\n",
    "\\ln d_{t+1} = \\alpha \\ln d_t + \\varepsilon_{t+1}\n",
    "\\end{equation*}\n",
    "\n",
    "A presentation of this model can be found in [Christopher D. Carroll's lecture notes](http://www.econ2.jhu.edu/people/ccarroll/public/lecturenotes/AssetPricing/LucasAssetPrice/). \n",
    "\n",
    "Those notes [derive](http://www.econ2.jhu.edu/people/ccarroll/public/lecturenotes/AssetPricing/LucasAssetPrice/#pofc) from the Bellman equation a relationship between the price of the asset in the current period $t$ and the next period $t+1$:  \n",
    "\n",
    "\\begin{equation*}\n",
    "P_{t} = \n",
    "\\overbrace{\\left(\\frac{1}{1+\\theta}\\right)}\n",
    "^{\\beta}\\mathbb{E}_{t}\\left[ \\frac{u^{\\prime}(d_{t+1})}{u^{\\prime}(d_t)} (P_{t+1} + d_{t+1}) \\right]\n",
    "\\end{equation*}\n",
    "\n",
    "The equilibrium pricing equation is a relationship between prices and dividend (a \"pricing kernel\") $P^{*}(d)$ such that, if everyone _believes_ that to be the pricing kernel, everyone's Euler equation will be satisfied:\n",
    "\n",
    "\\begin{equation*}\n",
    "P^*(d_t) = \\left(\\frac{1}{1+\\theta}\\right)\\mathbb{E}_{t}\\left[ \\frac{u^{\\prime}(d_{t+1})}{u^{\\prime}(d_t)} (P^*(d_{t+1}) + d_{t+1}) \\right]\n",
    "\\end{equation*}\n",
    "\n",
    "As noted in the handout, there are some special circumstances in which it is possible to solve for $P^{*}$ analytically:\n",
    "\n",
    "| Process | CRRA | Solution for Pricing Kernel | \n",
    "| --- | --- | --- |\n",
    "| IID | 1 (log) | $P(d) = \\frac{d}{\\theta}$ |\n",
    "| IID | $\\rho$ | $P(d) = \\frac{d}{\\theta-\\rho(\\rho-1)\\sigma^{2}/2}$ |\n",
    "\n",
    "However, under less special circumstances, the only way to obtain the pricing function $P^{*}$ is by solving for it numerically, as below."
   ]
  },
  {
   "cell_type": "code",
   "execution_count": 1,
   "metadata": {
    "code_folding": [
     0
    ],
    "lines_to_next_cell": 1,
    "title": "Preamble"
   },
   "outputs": [],
   "source": [
    "# Setup\n",
    "import numpy as np\n",
    "import matplotlib.pyplot as plt\n",
    "from copy import copy\n",
    "\n",
    "from HARK.utilities import CRRAutilityP\n",
    "from HARK.distribution import Normal\n",
    "from HARK.interpolation import LinearInterp, ConstantFunction"
   ]
  },
  {
   "cell_type": "code",
   "execution_count": 2,
   "metadata": {
    "code_folding": [],
    "title": "Definitions"
   },
   "outputs": [],
   "source": [
    "# Define the model\n",
    "class DivProcess:\n",
    "    \n",
    "    def __init__(self, alpha, shock_sd, nApprox = 7):\n",
    "        \n",
    "        self.alpha = alpha\n",
    "        self.shock_sd = shock_sd\n",
    "        self.nApprox = nApprox\n",
    "        \n",
    "        # Create a discrete approximation to the random shock\n",
    "        self.ShkAppDstn = Normal(sigma = shock_sd).approx(N = nApprox)\n",
    "        \n",
    "class LucasEconomy:\n",
    "    \n",
    "    def __init__(self, CRRA, DiscFac, DivProcess):\n",
    "        \n",
    "        self.CRRA = CRRA\n",
    "        self.DiscFac = DiscFac\n",
    "        self.DivProcess = DivProcess\n",
    "        self.uP = lambda c: CRRAutilityP(c, self.CRRA)\n",
    "        "
   ]
  },
  {
   "cell_type": "markdown",
   "metadata": {},
   "source": [
    "Suppose we have a hypothesized pricing kernel for period $t+1$.\n",
    "\n",
    "\\begin{equation*}\n",
    "P_{t}(d_t) = \\left(\\frac{1}{1+\\theta}\\right)\\mathbb{E}_{t}\\left[ \\frac{u^{\\prime}(d_{t+1})}{u^{\\prime}(d_t)} (P_{t+1}(d_{t+1}) + d_{t+1}) \\right]\n",
    "\\end{equation*}\n"
   ]
  },
  {
   "cell_type": "code",
   "execution_count": 3,
   "metadata": {
    "code_folding": [],
    "title": "Definitions"
   },
   "outputs": [],
   "source": [
    "    def priceOnePeriod(self, Pfunc_next, logDGrid):\n",
    "        \n",
    "        # Create 'tiled arrays' rows are state today, columns are value of\n",
    "        # tomorrow's shock\n",
    "        dGrid_N = len(logDGrid)\n",
    "        shock_N = self.DivProcess.nApprox\n",
    "        \n",
    "        # Today's dividends\n",
    "        logD_now = np.tile(np.reshape(logDGrid, (dGrid_N,1)),\n",
    "                           (1,shock_N))\n",
    "        d_now = np.exp(logD_now)\n",
    "        \n",
    "        # Tomorrow's dividends\n",
    "        Shk_next = np.tile(self.DivProcess.ShkAppDstn.X,\n",
    "                               (dGrid_N, 1))\n",
    "        Shk_next_pmf = np.tile(self.DivProcess.ShkAppDstn.pmf,\n",
    "                               (dGrid_N, 1))\n",
    "        \n",
    "        logD_next = self.DivProcess.alpha * logD_now + Shk_next\n",
    "        d_next = np.exp(logD_next)\n",
    "        \n",
    "        # Tomorrow's prices\n",
    "        P_next = Pfunc_next(logD_next)\n",
    "        \n",
    "        # Compute the RHS of the pricing equation, pre-expectation\n",
    "        SDF = self.DiscFac * self.uP(d_next / d_now)\n",
    "        Payoff_next = P_next + d_next\n",
    "        \n",
    "        # Take expectation and discount\n",
    "        P_now = np.sum(SDF*Payoff_next*Shk_next_pmf, axis = 1, keepdims=True)\n",
    "        \n",
    "        # Create new interpolating price function\n",
    "        Pfunc_now = LinearInterp(logDGrid, P_now.flatten(), lower_extrap=True)\n",
    "        \n",
    "        return(Pfunc_now)\n",
    "        \n",
    "    def solve(self, Pfunc_0 = None, logDGrid = None, tol = 1e-5, maxIter = 500, disp = False):\n",
    "        \n",
    "        # Initialize the norm\n",
    "        norm = tol + 1\n",
    "        \n",
    "        # Initialize Pfunc if initial guess is not provided\n",
    "        if Pfunc_0 is None:\n",
    "            Pfunc_0 = ConstantFunction(0.0)\n",
    "        \n",
    "        # Create a grid for log-dividends if one is not provided\n",
    "        if logDGrid is None:\n",
    "            uncond_sd = self.DivProcess.shock_sd / np.sqrt(1 - self.DivProcess.alpha**2)\n",
    "            logDGrid = np.linspace(-5*uncond_sd, 5*uncond_sd, 100)\n",
    "        \n",
    "        # Initialize function and compute prices on the grid\n",
    "        Pf_0 = copy(Pfunc_0)\n",
    "        P_0 = Pf_0(logDGrid)\n",
    "        \n",
    "        it = 0\n",
    "        while norm > tol and it < maxIter:\n",
    "            \n",
    "            # Apply the pricing equation\n",
    "            Pf_next = self.priceOnePeriod(Pf_0, logDGrid)\n",
    "            # Find new prices on the grid\n",
    "            P_next = Pf_next(logDGrid)\n",
    "            # Measure the change between price vectors\n",
    "            norm = np.linalg.norm(P_0 - P_next)\n",
    "            # Update price function and vector\n",
    "            Pf_0 = Pf_next\n",
    "            P_0  = P_next\n",
    "            it = it + 1\n",
    "            # Print iteration information\n",
    "            if disp:\n",
    "                print('Iter:' + str(it) + '   Norm = '+ str(norm))\n",
    "        \n",
    "        if disp:\n",
    "            if norm <= tol:\n",
    "                print('Price function converged!')\n",
    "            else:\n",
    "                print('Maximum iterations exceeded!')\n",
    "        \n",
    "        self.EqlogPfun = Pf_0\n",
    "        self.EqPfun = lambda d: self.EqlogPfun(np.log(d))"
   ]
  },
  {
   "cell_type": "markdown",
   "metadata": {},
   "source": [
    "# An example economy\n",
    "\n",
    "An economy is fully specified by:\n",
    "- **The dividend process for the assets (trees)**: we assume that $\\ln d_{t+1} = \\alpha \\ln d_t + \\varepsilon_{t+1}$. We must create a dividend process specifying $\\alpha$ and $\\sigma_{\\varepsilon}$.\n",
    "- **The coefficient of relative risk aversion (CRRA).**\n",
    "- **The time-discount factor ($\\beta$).**"
   ]
  },
  {
   "cell_type": "code",
   "execution_count": 4,
   "metadata": {
    "lines_to_next_cell": 2,
    "title": "Example"
   },
   "outputs": [],
   "source": [
    "# Create a log-AR1 process for dividends\n",
    "DivProc = DivProcess(alpha = 0.90, shock_sd = 0.1)\n",
    "\n",
    "# Create an example economy\n",
    "economy = LucasEconomy(CRRA = 2, DiscFac = 0.95, DivProcess = DivProc)"
   ]
  },
  {
   "cell_type": "markdown",
   "metadata": {},
   "source": [
    "Once created, the economy can be 'solved', which means finding the equilibrium price function. The distribution of dividends at period $t+1$ depends on the value of dividends at $t$. Thus, $d_t$ is a state variable for the economy. The pricing function gives the price of trees that equates their demand and supply at every level of current dividends $d_t$."
   ]
  },
  {
   "cell_type": "code",
   "execution_count": 5,
   "metadata": {
    "lines_to_next_cell": 2,
    "title": "Solution"
   },
   "outputs": [
    {
     "ename": "AttributeError",
     "evalue": "'LucasEconomy' object has no attribute 'solve'",
     "output_type": "error",
     "traceback": [
      "\u001b[0;31m---------------------------------------------------------------------------\u001b[0m",
      "\u001b[0;31mAttributeError\u001b[0m                            Traceback (most recent call last)",
      "\u001b[0;32m<ipython-input-5-f26f449286ca>\u001b[0m in \u001b[0;36m<module>\u001b[0;34m\u001b[0m\n\u001b[1;32m      1\u001b[0m \u001b[0;31m# Solve the economy\u001b[0m\u001b[0;34m\u001b[0m\u001b[0;34m\u001b[0m\u001b[0;34m\u001b[0m\u001b[0m\n\u001b[0;32m----> 2\u001b[0;31m \u001b[0meconomy\u001b[0m\u001b[0;34m.\u001b[0m\u001b[0msolve\u001b[0m\u001b[0;34m(\u001b[0m\u001b[0mdisp\u001b[0m \u001b[0;34m=\u001b[0m \u001b[0;32mTrue\u001b[0m\u001b[0;34m)\u001b[0m\u001b[0;34m\u001b[0m\u001b[0;34m\u001b[0m\u001b[0m\n\u001b[0m\u001b[1;32m      3\u001b[0m \u001b[0;34m\u001b[0m\u001b[0m\n\u001b[1;32m      4\u001b[0m \u001b[0;31m# After the economy is solved, we can use its Equilibrium price function\u001b[0m\u001b[0;34m\u001b[0m\u001b[0;34m\u001b[0m\u001b[0;34m\u001b[0m\u001b[0m\n\u001b[1;32m      5\u001b[0m \u001b[0md\u001b[0m \u001b[0;34m=\u001b[0m \u001b[0;36m1\u001b[0m\u001b[0;34m\u001b[0m\u001b[0;34m\u001b[0m\u001b[0m\n",
      "\u001b[0;31mAttributeError\u001b[0m: 'LucasEconomy' object has no attribute 'solve'"
     ]
    }
   ],
   "source": [
    "# Solve the economy\n",
    "economy.solve(disp = True)\n",
    "\n",
    "# After the economy is solved, we can use its Equilibrium price function\n",
    "d = 1\n",
    "print('P({}) = {}'.format(d, economy.EqPfun(d)))"
   ]
  },
  {
   "cell_type": "markdown",
   "metadata": {},
   "source": [
    "## The effect of risk aversion"
   ]
  },
  {
   "cell_type": "code",
   "execution_count": null,
   "metadata": {},
   "outputs": [],
   "source": [
    "# Create two economies with different risk aversion\n",
    "Disc = 0.95\n",
    "LowCrraEcon  = LucasEconomy(CRRA = 2, DiscFac = Disc, DivProcess = DivProc)\n",
    "HighCrraEcon = LucasEconomy(CRRA = 4, DiscFac = Disc, DivProcess = DivProc)\n",
    "\n",
    "# Solve both\n",
    "LowCrraEcon.solve()\n",
    "HighCrraEcon.solve()\n",
    "\n",
    "# Plot the pricing functions for both\n",
    "dGrid = np.linspace(0.5,2.5,30)\n",
    "plt.plot(dGrid, LowCrraEcon.EqPfun(dGrid), label = 'Low CRRA')\n",
    "plt.plot(dGrid, HighCrraEcon.EqPfun(dGrid), label = 'High CRRA')\n",
    "plt.legend()\n",
    "plt.xlabel('$d_t$')\n",
    "plt.ylabel('$P_t$')"
   ]
  },
  {
   "cell_type": "code",
   "execution_count": null,
   "metadata": {},
   "outputs": [],
   "source": [
    "import HARK\n",
    "HARK.__file__"
   ]
  },
  {
   "cell_type": "code",
   "execution_count": null,
   "metadata": {},
   "outputs": [],
   "source": []
  }
 ],
 "metadata": {
  "jupytext": {
   "encoding": "# -*- coding: utf-8 -*-",
   "formats": "ipynb,py:percent"
  },
  "kernelspec": {
   "display_name": "Python 3",
   "language": "python",
   "name": "python3"
  },
  "language_info": {
   "codemirror_mode": {
    "name": "ipython",
    "version": 3
   },
   "file_extension": ".py",
   "mimetype": "text/x-python",
   "name": "python",
   "nbconvert_exporter": "python",
   "pygments_lexer": "ipython3",
   "version": "3.6.9"
  },
  "latex_envs": {
   "LaTeX_envs_menu_present": true,
   "autoclose": false,
   "autocomplete": true,
   "bibliofile": "biblio.bib",
   "cite_by": "apalike",
   "current_citInitial": 1,
   "eqLabelWithNumbers": true,
   "eqNumInitial": 1,
   "hotkeys": {
    "equation": "Ctrl-E",
    "itemize": "Ctrl-I"
   },
   "labels_anchors": false,
   "latex_user_defs": false,
   "report_style_numbering": false,
   "user_envs_cfg": false
  }
 },
 "nbformat": 4,
 "nbformat_minor": 4
}
