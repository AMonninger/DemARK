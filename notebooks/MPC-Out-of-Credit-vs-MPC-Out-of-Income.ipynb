{
 "cells": [
  {
   "cell_type": "markdown",
   "metadata": {},
   "source": [
    "# The MPC out of Credit vs the MPC Out of Income\n",
    "\n",
    "[![badge](https://img.shields.io/badge/Launch%20using%20-Econ--ARK-blue)](https://econ-ark.org/materials/mpc-out-of-credit-vs-mpc-out-of-income#launch)\n",
    "\n",
    "This notebook compares the Marginal Propensity to Consume (MPC) out of an increase in a credit limit, and the MPC out of transitory shock to income.\n",
    "\n",
    "The notebook is heavily commented to help newcomers, and does some things (like importing modules in the body of the code rather than at the top), that are typically deprecated by Python programmers.  This is all to make the code easier to read and understand.\n",
    "\n",
    "The notebook illustrates one simple way to use HARK: import and solve a model for different parameter values, to see how parameters affect the solution.\n",
    "\n",
    "The first step is to create the ConsumerType we want to solve the model for."
   ]
  },
  {
   "cell_type": "code",
   "execution_count": 1,
   "metadata": {
    "code_folding": []
   },
   "outputs": [],
   "source": [
    "## Import the HARK ConsumerType we want\n",
    "## Here, we bring in an agent making a consumption/savings decision every period, subject\n",
    "## to transitory and permanent income shocks.\n",
    "from HARK.ConsumptionSaving.ConsIndShockModel import IndShockConsumerType"
   ]
  },
  {
   "cell_type": "code",
   "execution_count": 2,
   "metadata": {
    "code_folding": []
   },
   "outputs": [],
   "source": [
    "## Now, create an instance of the consumer type using the default parameter values\n",
    "## We create the instance of the consumer type by calling IndShockConsumerType()\n",
    "## We use the default parameter values by passing **Params.init_idiosyncratic_shocks as an argument\n",
    "BaselineExample = IndShockConsumerType()"
   ]
  },
  {
   "cell_type": "code",
   "execution_count": 3,
   "metadata": {
    "code_folding": [],
    "lines_to_next_cell": 2
   },
   "outputs": [],
   "source": [
    "# Note: we've created an instance of a very standard consumer type, and many assumptions go\n",
    "# into making this kind of consumer.  As with any structural model, these assumptions matter.\n",
    "# For example, this consumer pays the same interest rate on\n",
    "# debt as she earns on savings.  If instead we wanted to solve the problem of a consumer\n",
    "# who pays a higher interest rate on debt than she earns on savings, this would be really easy,\n",
    "# since this is a model that is also solved in HARK.  All we would have to do is import that model\n",
    "# and instantiate an instance of that ConsumerType instead.  As a homework assignment, we leave it\n",
    "# to you to uncomment the two lines of code below, and see how the results change!\n",
    "\n",
    "from HARK.ConsumptionSaving.ConsIndShockModel import KinkedRconsumerType\n",
    "BaselineExample = KinkedRconsumerType()"
   ]
  },
  {
   "cell_type": "markdown",
   "metadata": {
    "cell_marker": "\"\"\""
   },
   "source": [
    "The next step is to change the values of parameters as we want.\n",
    "\n",
    "To see all the parameters used in the model, along with their default values, see $\\texttt{ConsumerParameters.py}$\n",
    "\n",
    "Parameter values are stored as attributes of the $\\texttt{ConsumerType}$ the values are used for. For example, the risk-free interest rate $\\texttt{Rfree}$ is stored as $\\texttt{BaselineExample.Rfree}$. Because we created $\\texttt{BaselineExample}$ using the default parameters values at the moment $\\texttt{BaselineExample.Rfree}$ is set to the default value of $\\texttt{Rfree}$ (which, at the time this demo was written, was 1.03).  Therefore, to change the risk-free interest rate used in $\\texttt{BaselineExample}$ to (say) 1.02, all we need to do is:\n"
   ]
  },
  {
   "cell_type": "code",
   "execution_count": 4,
   "metadata": {
    "code_folding": [
     0
    ]
   },
   "outputs": [],
   "source": [
    "# Change the Default Riskfree Interest Rate\n",
    "BaselineExample.Rfree = 1.02"
   ]
  },
  {
   "cell_type": "code",
   "execution_count": 5,
   "metadata": {
    "code_folding": [
     0
    ]
   },
   "outputs": [],
   "source": [
    "## Change some parameter values\n",
    "BaselineExample.Rfree       = 1.02 #change the risk-free interest rate\n",
    "BaselineExample.CRRA        = 2.   # change  the coefficient of relative risk aversion\n",
    "BaselineExample.BoroCnstArt = -.3  # change the artificial borrowing constraint\n",
    "BaselineExample.DiscFac     = .5   #chosen so that target debt-to-permanent-income_ratio is about .1\n",
    "                                   # i.e. BaselineExample.solution[0].cFunc(.9) ROUGHLY = 1.\n",
    "\n",
    "## There is one more parameter value we need to change.  This one is more complicated than the rest.\n",
    "## We could solve the problem for a consumer with an infinite horizon of periods that (ex-ante)\n",
    "## are all identical.  We could also solve the problem for a consumer with a fininite lifecycle,\n",
    "## or for a consumer who faces an infinite horizon of periods that cycle (e.g., a ski instructor\n",
    "## facing an infinite series of winters, with lots of income, and summers, with very little income.)\n",
    "## The way to differentiate is through the \"cycles\" attribute, which indicates how often the\n",
    "## sequence of periods needs to be solved.  The default value is 1, for a consumer with a finite\n",
    "## lifecycle that is only experienced 1 time.  A consumer who lived that life twice in a row, and\n",
    "## then died, would have cycles = 2.  But neither is what we want.  Here, we need to set cycles = 0,\n",
    "## to tell HARK that we are solving the model for an infinite horizon consumer.\n",
    "\n",
    "\n",
    "## Note that another complication with the cycles attribute is that it does not come from\n",
    "## Params.init_idiosyncratic_shocks.  Instead it is a keyword argument to the  __init__() method of\n",
    "## IndShockConsumerType.\n",
    "BaselineExample.cycles      = 0"
   ]
  },
  {
   "cell_type": "code",
   "execution_count": 6,
   "metadata": {
    "lines_to_next_cell": 0
   },
   "outputs": [],
   "source": [
    "# Now, create another consumer to compare the BaselineExample to."
   ]
  },
  {
   "cell_type": "code",
   "execution_count": 7,
   "metadata": {
    "code_folding": [
     0
    ]
   },
   "outputs": [],
   "source": [
    "# The easiest way to begin creating the comparison example is to just copy the baseline example.\n",
    "# We can change the parameters we want to change later.\n",
    "from copy import deepcopy\n",
    "XtraCreditExample = deepcopy(BaselineExample)\n",
    "\n",
    "# Now, change whatever parameters we want.\n",
    "# Here, we want to see what happens if we give the consumer access to more credit.\n",
    "# Remember, parameters are stored as attributes of the consumer they are used for.\n",
    "# So, to give the consumer more credit, we just need to relax their borrowing constraint a tiny bit.\n",
    "\n",
    "# Declare how much we want to increase credit by\n",
    "credit_change =  .0001\n",
    "\n",
    "# Now increase the consumer's credit limit.\n",
    "# We do this by decreasing the artificial borrowing constraint.\n",
    "XtraCreditExample.BoroCnstArt = BaselineExample.BoroCnstArt - credit_change"
   ]
  },
  {
   "cell_type": "markdown",
   "metadata": {
    "cell_marker": "\"\"\""
   },
   "source": [
    "Now we are ready to solve the consumers' problems.\n",
    "In HARK, this is done by calling the solve() method of the ConsumerType."
   ]
  },
  {
   "cell_type": "code",
   "execution_count": 8,
   "metadata": {
    "code_folding": [
     0
    ]
   },
   "outputs": [],
   "source": [
    "### First solve the baseline example.\n",
    "BaselineExample.solve()\n",
    "\n",
    "### Now solve the comparison example of the consumer with a bit more credit\n",
    "XtraCreditExample.solve()"
   ]
  },
  {
   "cell_type": "markdown",
   "metadata": {
    "cell_marker": "\"\"\""
   },
   "source": [
    "Now that we have the solutions to the 2 different problems, we can compare them.\n",
    "\n",
    "We are going to compare the consumption functions for the two different consumers.\n",
    "Policy functions (including consumption functions) in HARK are stored as attributes\n",
    "of the *solution* of the ConsumerType.  The solution, in turn, is a list, indexed by the time\n",
    "period the solution is for.  Since in this demo we are working with infinite-horizon models\n",
    "where every period is the same, there is only one time period and hence only one solution.\n",
    "e.g. BaselineExample.solution[0] is the solution for the BaselineExample.  If BaselineExample\n",
    "had 10 time periods, we could access the 5th with BaselineExample.solution[4] (remember, Python\n",
    "counts from 0!)  Therefore, the consumption function cFunc from the solution to the\n",
    "BaselineExample is $\\texttt{BaselineExample.solution[0].cFunc}$"
   ]
  },
  {
   "cell_type": "code",
   "execution_count": 9,
   "metadata": {
    "code_folding": [
     0
    ],
    "lines_to_next_cell": 1
   },
   "outputs": [],
   "source": [
    "## First, declare useful functions to plot later\n",
    "\n",
    "def FirstDiffMPC_Income(x):\n",
    "    # Approximate the MPC out of income by giving the agent a tiny bit more income,\n",
    "    # and plotting the proportion of the change that is reflected in increased consumption\n",
    "\n",
    "    # First, declare how much we want to increase income by\n",
    "    # Change income by the same amount we change credit, so that the two MPC\n",
    "    # approximations are comparable\n",
    "    income_change = credit_change\n",
    "\n",
    "    # Now, calculate the approximate MPC out of income\n",
    "    return (BaselineExample.solution[0].cFunc(x + income_change) -\n",
    "            BaselineExample.solution[0].cFunc(x)) / income_change\n",
    "\n",
    "\n",
    "def FirstDiffMPC_Credit(x):\n",
    "    # Approximate the MPC out of credit by plotting how much more of the increased credit the agent\n",
    "    # with higher credit spends\n",
    "    return (XtraCreditExample.solution[0].cFunc(x) -\n",
    "            BaselineExample.solution[0].cFunc(x)) / credit_change"
   ]
  },
  {
   "cell_type": "code",
   "execution_count": 10,
   "metadata": {
    "code_folding": [
     0
    ]
   },
   "outputs": [
    {
     "name": "stdout",
     "output_type": "stream",
     "text": [
      "The XtraCredit consumption function allows the consumer to spend a tiny bit more\n",
      "The difference is so small that the baseline is obscured by the XtraCredit solution\n"
     ]
    },
    {
     "data": {
      "image/png": "[encoded data removed]",
      "text/plain": [
       "<Figure size 432x288 with 1 Axes>"
      ]
     },
     "metadata": {
      "needs_background": "light"
     },
     "output_type": "display_data"
    },
    {
     "name": "stdout",
     "output_type": "stream",
     "text": [
      "MPC out of Credit v MPC out of Income\n"
     ]
    },
    {
     "data": {
      "image/png": "[encoded data removed]",
      "text/plain": [
       "<Figure size 432x288 with 1 Axes>"
      ]
     },
     "metadata": {
      "needs_background": "light"
     },
     "output_type": "display_data"
    }
   ],
   "source": [
    "## Now, plot the functions we want\n",
    "%matplotlib inline\n",
    "# Import a useful plotting function from HARK.utilities\n",
    "from HARK.utilities import plotFuncs\n",
    "import pylab as plt # We need this module to change the y-axis on the graphs\n",
    "\n",
    "\n",
    "# Declare the upper limit for the graph\n",
    "x_max = 10.\n",
    "\n",
    "\n",
    "# Note that plotFuncs takes four arguments: (1) a list of the arguments to plot,\n",
    "# (2) the lower bound for the plots, (3) the upper bound for the plots, and (4) keywords to pass\n",
    "# to the legend for the plot.\n",
    "\n",
    "# Plot the consumption functions to compare them\n",
    "# The only difference is that the XtraCredit function has a credit limit that is looser\n",
    "# by a tiny amount\n",
    "print('The XtraCredit consumption function allows the consumer to spend a tiny bit more') \n",
    "print('The difference is so small that the baseline is obscured by the XtraCredit solution') \n",
    "plotFuncs([BaselineExample.solution[0].cFunc,XtraCreditExample.solution[0].cFunc],\n",
    "           BaselineExample.solution[0].mNrmMin,x_max,\n",
    "           legend_kwds = {'loc': 'upper left', 'labels': [\"Baseline\",\"XtraCredit\"]})\n",
    "\n",
    "\n",
    "# Plot the MPCs to compare them\n",
    "print('MPC out of Credit v MPC out of Income')\n",
    "plt.ylim([0.,1.2])\n",
    "plotFuncs([FirstDiffMPC_Credit,FirstDiffMPC_Income],\n",
    "          BaselineExample.solution[0].mNrmMin,x_max,\n",
    "          legend_kwds = {'labels': [\"MPC out of Credit\",\"MPC out of Income\"]})"
   ]
  }
 ],
 "metadata": {
  "jupytext": {
   "cell_metadata_json": true,
   "formats": "ipynb,py:percent",
   "notebook_metadata_filter": "all"
  },
  "kernelspec": {
   "display_name": "Python 3",
   "language": "python",
   "name": "python3"
  },
  "language_info": {
   "codemirror_mode": {
    "name": "ipython",
    "version": 3
   },
   "file_extension": ".py",
   "mimetype": "text/x-python",
   "name": "python",
   "nbconvert_exporter": "python",
   "pygments_lexer": "ipython3",
   "version": "3.7.4"
  }
 },
 "nbformat": 4,
 "nbformat_minor": 4
}
