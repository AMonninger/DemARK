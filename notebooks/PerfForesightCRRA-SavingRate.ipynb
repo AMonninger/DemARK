{
 "cells": [
  {
   "cell_type": "markdown",
   "metadata": {},
   "source": [
    "# Perfect Foresight CRRA Model - Saving Rate\n",
    "\n",
    "[![badge](https://img.shields.io/badge/Launch%20using%20-Econ--ARK-blue)](https://econ-ark.org/materials/perfforesightcrra-savingrate#launch)\n"
   ]
  },
  {
   "cell_type": "code",
   "execution_count": 1,
   "metadata": {},
   "outputs": [],
   "source": [
    "%matplotlib inline\n",
    "import matplotlib.pyplot as plt\n",
    "\n",
    "import numpy as np\n",
    "import HARK \n",
    "from copy import deepcopy\n",
    "mystr = lambda number : \"{:.4f}\".format(number)\n",
    "from HARK.utilities import plot_funcs\n",
    "\n",
    "# These last two will make our charts look nice\n",
    "plt.style.use('seaborn-darkgrid')\n",
    "palette = plt.get_cmap('Dark2')"
   ]
  },
  {
   "cell_type": "code",
   "execution_count": 2,
   "metadata": {},
   "outputs": [],
   "source": [
    "# Set up a HARK Perfect Foresight Consumer called PFsavrate\n",
    "\n",
    "from HARK.ConsumptionSaving.ConsIndShockModel import PerfForesightConsumerType # Import the consumer type\n",
    "\n",
    "# Now we need to \"fill\" our consumer with parameters that allow us to solve the consumer's problem\n",
    "\n",
    "# First we need to set out a dictionary\n",
    "CRRA = 2.                           # Coefficient of relative risk aversion\n",
    "Rfree = 1.03                        # Interest factor on assets\n",
    "DiscFac = 0.97                      # Intertemporal discount factor\n",
    "LivPrb = [1.0]                      # Survival probability\n",
    "PermGroFac = [1.01]                 # Permanent income growth factor\n",
    "AgentCount = 1                      # Number of agents of this type (only matters for simulation)\n",
    "T_cycle = 1                         # Number of periods in the cycle for this agent type\n",
    "cycles = 0                          # Agent is infinitely lived\n",
    "\n",
    "# Make a dictionary to specify a perfect foresight consumer type\n",
    "dict_wealth = { 'CRRA': CRRA,\n",
    "                'Rfree': Rfree,\n",
    "                'DiscFac': DiscFac,\n",
    "                'LivPrb': LivPrb,\n",
    "                'PermGroFac': PermGroFac,\n",
    "                'AgentCount': AgentCount,\n",
    "                'T_cycle' : T_cycle,\n",
    "                'cycles' : cycles\n",
    "                }\n",
    "\n",
    "# Now lets pass our dictionary to our consumer class\n",
    "PFsavrate = PerfForesightConsumerType(**dict_wealth)"
   ]
  },
  {
   "cell_type": "markdown",
   "metadata": {},
   "source": [
    "# Now We can plot the saving rate as a function of market resoures"
   ]
  },
  {
   "cell_type": "code",
   "execution_count": null,
   "metadata": {},
   "outputs": [],
   "source": []
  }
 ],
 "metadata": {
  "jupytext": {
   "formats": "py:percent,ipynb",
   "notebook_metadata_filter": "all"
  },
  "kernelspec": {
   "display_name": "Python 3",
   "language": "python",
   "name": "python3"
  },
  "language_info": {
   "codemirror_mode": {
    "name": "ipython",
    "version": 3
   },
   "file_extension": ".py",
   "mimetype": "text/x-python",
   "name": "python",
   "nbconvert_exporter": "python",
   "pygments_lexer": "ipython3",
   "version": "3.8.8"
  }
 },
 "nbformat": 4,
 "nbformat_minor": 4
}
