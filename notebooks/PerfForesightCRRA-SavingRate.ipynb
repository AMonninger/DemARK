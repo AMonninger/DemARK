{
 "cells": [
  {
   "cell_type": "markdown",
   "id": "fifteen-treaty",
   "metadata": {},
   "source": [
    "# Perfect Foresight CRRA Model - Saving Rate\n",
    "\n",
    "[![badge](https://img.shields.io/badge/Launch%20using%20-Econ--ARK-blue)](https://econ-ark.org/materials/perfforesightcrra-savingrate#launch)\n"
   ]
  },
  {
   "cell_type": "markdown",
   "id": "employed-classroom",
   "metadata": {},
   "source": [
    "This notebook demonstrates how to obtain the saving rate of a forward-looking consumer using HARK."
   ]
  },
  {
   "cell_type": "code",
   "execution_count": 1,
   "id": "threaded-apollo",
   "metadata": {},
   "outputs": [],
   "source": [
    "# Preliminaries\n",
    "\n",
    "%matplotlib inline\n",
    "import matplotlib.pyplot as plt\n",
    "\n",
    "import numpy as np\n",
    "import HARK \n",
    "from copy import deepcopy\n",
    "mystr = lambda number : \"{:.4f}\".format(number)\n",
    "from HARK.utilities import plot_funcs\n",
    "\n",
    "# These last two will make our charts look nice\n",
    "plt.style.use('seaborn-darkgrid')\n",
    "palette = plt.get_cmap('Dark2')"
   ]
  },
  {
   "cell_type": "markdown",
   "id": "broke-myrtle",
   "metadata": {},
   "source": [
    "## 1. Creating an agent\n",
    "\n",
    "We now import the HARK class that represents a perfect-foresight consumer with CRRA utility, and create an instance of it with the parameters we'd like."
   ]
  },
  {
   "cell_type": "code",
   "execution_count": 2,
   "id": "thorough-booth",
   "metadata": {},
   "outputs": [],
   "source": [
    "# Set up a HARK Perfect Foresight Consumer called PFsavrate\n",
    "from HARK.ConsumptionSaving.ConsIndShockModel import PerfForesightConsumerType # Import the consumer type\n",
    "\n",
    "# Now we need to \"fill\" our consumer with parameters that allow us to solve the consumer's problem\n",
    "\n",
    "# First we need to set out a dictionary\n",
    "ρ = CRRA = 2.            # Coefficient of relative risk aversion\n",
    "Rfree = 1.03             # Interest factor on assets\n",
    "β = DiscFac = 0.97       # Intertemporal discount factor\n",
    "LivPrb = [1.0]           # Survival probability\n",
    "Γ = PermGroFac = [1.01]  # Permanent income growth factor\n",
    "AgentCount = 1           # Number of agents of this type (only matters for simulation# Number of periods in the cycle for this agent type\n",
    "cycles = 0               # Agent is infinitely lived\n",
    "T_cycle = 1              # Every period is the same\n",
    "\n",
    "# Make a dictionary to specify a perfect foresight consumer type\n",
    "dict_wealth = { 'CRRA': CRRA,\n",
    "                'Rfree': Rfree,\n",
    "                'DiscFac': DiscFac,\n",
    "                'LivPrb': LivPrb,\n",
    "                'PermGroFac': PermGroFac,\n",
    "                'AgentCount': AgentCount,\n",
    "                'cycles' : cycles,\n",
    "                'T_cycle' : T_cycle,\n",
    "                }\n",
    "\n",
    "# Now lets pass our dictionary to our consumer class\n",
    "PFsavrate = PerfForesightConsumerType(**dict_wealth)"
   ]
  },
  {
   "cell_type": "markdown",
   "id": "golden-syndication",
   "metadata": {},
   "source": [
    "## 2. Solving the consumer's problem and finding the saving rate.\n",
    "\n",
    "The next step is to ask HARK to solve the agent's optimal consumption problem. The result, or what we call \"solution\", is a function `cFunc` that tells us what is the optimal amount to consume at each level of normalized market resources.\n",
    "\n",
    "The next cell solves the agent and tests the function"
   ]
  },
  {
   "cell_type": "code",
   "execution_count": 3,
   "id": "political-country",
   "metadata": {},
   "outputs": [
    {
     "name": "stdout",
     "output_type": "stream",
     "text": [
      "When normalized market resources are m=4, the agent's normalized consumption should be c=1.611193200855211\n"
     ]
    }
   ],
   "source": [
    "PFsavrate.solve()\n",
    "test_m = 4\n",
    "test_c = PFsavrate.solution[0].cFunc(test_m)\n",
    "\n",
    "print(\"When normalized market resources are m={}, the agent's normalized consumption should be c={}\".format(test_m,test_c))"
   ]
  },
  {
   "cell_type": "markdown",
   "id": "informative-moment",
   "metadata": {},
   "source": [
    "We are now ready to think about the saving rate of the consumer.\n",
    "\n",
    "Remember that the saving rate of an agent at time $t$ is\n",
    "\n",
    "\\begin{equation}\n",
    "\\text{Saving Rate}_t = \\frac{\\text{Capital Income}_t + \\text{Labor Income}_t - \\text{Consumption_t}}{\\text{Capital Income}_t + \\text{Labor Income}_t}\n",
    "\\end{equation}\n",
    "\n",
    "Dividing both the numerator and denominator by the agent's permanent income $\\textbf{P}_t$ and adopting the notation in [the course's lecture notes](https://www.econ2.jhu.edu/people/ccarroll/public/LectureNotes/Consumption/PerfForesightCRRA/) we have\n",
    "\n",
    "\\begin{equation}\n",
    "\\begin{split}\n",
    "\\text{Saving Rate}_t &= \\frac{a_{t-1}*r/\\Gamma + 1 - c(m_t)}{a_{t-1}*r/\\Gamma + 1}\\\\\n",
    "&=\\frac{a_{t-1}*r/\\Gamma + 1 - c(a_{t-1}*R/\\Gamma + 1)}{a_{t-1}*r/\\Gamma + 1}\n",
    "\\end{split}\n",
    "\\end{equation}\n",
    "\n",
    "We now have an expression for the saving rate as a function of the previous period's end-of-period normalized assets $a_t$. The cell below calculates and plots this relationship for different levels of $a_t$. "
   ]
  },
  {
   "cell_type": "code",
   "execution_count": 4,
   "id": "future-finder",
   "metadata": {},
   "outputs": [
    {
     "data": {
      "text/plain": [
       "Text(0, 0.5, 'Saving Rate')"
      ]
     },
     "execution_count": 4,
     "metadata": {},
     "output_type": "execute_result"
    },
    {
     "data": {
      "image/png": "[encoded data removed]",
      "text/plain": [
       "<Figure size 432x288 with 1 Axes>"
      ]
     },
     "metadata": {},
     "output_type": "display_data"
    }
   ],
   "source": [
    "# Create a grid for a\n",
    "a_tm1 = np.linspace(-1,4)\n",
    "\n",
    "# Compute income components at every a\n",
    "cap_income_t = a_tm1*(Rfree-1)/Γ\n",
    "lab_income_t = 1\n",
    "\n",
    "# and market resources\n",
    "m_t = a_tm1 * Rfree/Γ + 1\n",
    "\n",
    "# Consumption\n",
    "c_t = PFsavrate.solution[0].cFunc(m_t)\n",
    "\n",
    "# and finally the saving rate\n",
    "ς_t = sav_rate_t = (cap_income_t + lab_income_t - c_t) / (cap_income_t + lab_income_t)\n",
    "\n",
    "# And now the plot\n",
    "plt.plot(a_tm1, sav_rate_t)\n",
    "plt.xlabel(r'$a_{t-1}$')\n",
    "plt.ylabel('Saving Rate')"
   ]
  }
 ],
 "metadata": {
  "jupytext": {
   "encoding": "# -*- coding: utf-8 -*-",
   "formats": "py:percent,ipynb",
   "notebook_metadata_filter": "all"
  },
  "kernelspec": {
   "display_name": "Python 3",
   "language": "python",
   "name": "python3"
  },
  "language_info": {
   "codemirror_mode": {
    "name": "ipython",
    "version": 3
   },
   "file_extension": ".py",
   "mimetype": "text/x-python",
   "name": "python",
   "nbconvert_exporter": "python",
   "pygments_lexer": "ipython3",
   "version": "3.7.9"
  }
 },
 "nbformat": 4,
 "nbformat_minor": 5
}
