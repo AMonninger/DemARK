{
 "cells": [
  {
   "cell_type": "markdown",
   "metadata": {},
   "source": [
    "## Persistent Shock Model and Income Expectations\n"
   ]
  },
  {
   "cell_type": "markdown",
   "metadata": {},
   "source": [
    "Classes to solve consumption-saving models with idiosyncratic shocks to income in which shocks are not necessarily fully transitory or fully permanent. This model extends $\\texttt{ConsIndShockModel}$ by tracking persistent income as a state variable and allows persistent income to follow an AR(1) process rather than random walk."
   ]
  },
  {
   "cell_type": "code",
   "execution_count": 2,
   "metadata": {
    "code_folding": [
     0
    ]
   },
   "outputs": [],
   "source": [
    "# Initial imports and notebook setup, click arrow to show\n",
    "%matplotlib inline\n",
    "import matplotlib.pyplot as plt\n",
    "\n",
    "import sys\n",
    "import os\n",
    "from copy import copy\n",
    "\n",
    "from HARK.ConsumptionSaving.ConsGenIncProcessModel import *\n",
    "import HARK.ConsumptionSaving.ConsumerParameters as Params\n",
    "\n",
    "\n",
    "from HARK.utilities import plotFuncs\n",
    "from time import clock\n",
    "mystr = lambda number : \"{:.4f}\".format(number)"
   ]
  },
  {
   "cell_type": "markdown",
   "metadata": {},
   "source": [
    "###  What if beliefs about persistent income differ from actual ?\n",
    "\n",
    "What if the consumer is having some expectations about his persistent income which potentially differ from his *actual* persistent income?\n",
    "\n",
    "We can use the $\\texttt{PersistentShockConsumerType}$ class as an appropriate model to solve the problem of a consumer facing idiosyncratic shocks to his persistent and transitory income, and who experiences some beliefs about his income process.\n",
    "\n",
    "Suppose the consumer *perceived* the persistence of his income process differently than what his *actual* one is: the correlation coefficient for the *percieved* persistent income being 0.9831 instead of 0.9774. Let's include these parameters in the dictionary for this agent's type."
   ]
  },
  {
   "cell_type": "code",
   "execution_count": 5,
   "metadata": {},
   "outputs": [],
   "source": [
    "ExampleDict={\n",
    "    \"CRRA\": 2.0,                           # Coefficient of relative risk aversion\n",
    "    \"Rfree\": 1.03,                         # Interest factor on assets\n",
    "    \"DiscFac\": 0.96,                       # Intertemporal discount factor\n",
    "    \"LivPrb\" : [0.98],                     # Survival probability\n",
    "    \"AgentCount\" : 10000,                  # Number of agents of this type (only matters for simulation)\n",
    "    \"aNrmInitMean\" : 0.0,                  # Mean of log initial assets (only matters for simulation)\n",
    "    \"aNrmInitStd\"  : 1.0,                  # Standard deviation of log initial assets (only for simulation)\n",
    "    \"pLvlInitMean\" : 0.0,                  # Mean of log initial permanent income (only matters for simulation)\n",
    "    \"pLvlInitStd\"  : 0.0,                  # Standard deviation of log initial permanent income (only matters for simulation)\n",
    "    \"PermGroFacAgg\" : 1.0,                 # Aggregate permanent income growth factor (only matters for simulation)\n",
    "    \"T_age\" : None,                        # Age after which simulated agents are automatically killed\n",
    "    \"T_cycle\" : 1,                         # Number of periods in the cycle for this agent type\n",
    "    \"aXtraMin\" : 0.001,                    # Minimum end-of-period \"assets above minimum\" value\n",
    "    \"aXtraMax\" : 30,                       # Maximum end-of-period \"assets above minimum\" value               \n",
    "    \"aXtraExtra\" : [0.005,0.01],           # Some other value of \"assets above minimum\" to add to the grid\n",
    "    \"aXtraNestFac\" : 3,                    # Exponential nesting factor when constructing \"assets above minimum\" grid\n",
    "    \"aXtraCount\" : 48,                     # Number of points in the grid of \"assets above minimum\"\n",
    "    \"PermShkCount\" : 7,                    # Number of points in discrete approximation to permanent income shocks\n",
    "    \"TranShkCount\" : 7,                    # Number of points in discrete approximation to transitory income shocks\n",
    "    \"PermShkStd\" : [0.1],                  # Standard deviation of log permanent income shocks\n",
    "    \"TranShkStd\" : [0.1],                  # Standard deviation of log transitory income shocks\n",
    "    \"UnempPrb\" : 0.05,                     # Probability of unemployment while working\n",
    "    \"UnempPrbRet\" : 0.005,                 # Probability of \"unemployment\" while retired\n",
    "    \"IncUnemp\" : 0.3,                      # Unemployment benefits replacement rate\n",
    "    \"IncUnempRet\" : 0.0,                   # \"Unemployment\" benefits when retired\n",
    "    \"tax_rate\" : 0.0,                      # Flat income tax rate\n",
    "    \"T_retire\" : 0,                        # Period of retirement (0 --> no retirement)\n",
    "    \"BoroCnstArt\" : 0.0,                   # Artificial borrowing constraint; imposed minimum level of end-of period assets\n",
    "    \"CubicBool\" : False,                   # Use cubic spline interpolation when True, linear interpolation when False\n",
    "    \"vFuncBool\" : True,                    # Whether to calculate the value function during solution    \n",
    "    \"cycles\": 0,\n",
    "    \"pLvlPctiles\" : np.concatenate(([0.001, 0.005, 0.01, 0.03], np.linspace(0.05, 0.95, num=19),[0.97, 0.99, 0.995, 0.999])),\n",
    "    \"PermGroFac\" : [1.0],                  # Permanent income growth factor - long run permanent income growth doesn't work yet  \n",
    "    \"PrstIncCorr\": 0.9831,        # Serial correlation coefficient for *perceived* persistence of income\n",
    "}\n",
    "#     \"ActualIncCorr\": 0.9774,       # Serial correlation coefficient for *actual* persistence of income \n"
   ]
  },
  {
   "cell_type": "code",
   "execution_count": 6,
   "metadata": {},
   "outputs": [],
   "source": [
    "# Create an instance of a Persistent shock consumer\n",
    "#PersistentExample = PersistentShockConsumerType(**Params.init_persistent_shocks)\n",
    "PersistentExample = PersistentShockConsumerType(**ExampleDict)\n",
    "PersistentExample.cycles = 0   # Make this type have an infinite horizon"
   ]
  },
  {
   "cell_type": "code",
   "execution_count": 7,
   "metadata": {},
   "outputs": [
    {
     "name": "stdout",
     "output_type": "stream",
     "text": [
      "divide by zero encountered in double_scalars\n"
     ]
    }
   ],
   "source": [
    "# Give paramaters for perceived and actual persistence and include them into the dictionary\n",
    "#PersistentExample.ActualIncCorr= 0.9774       # Serial correlation coefficient for *actual* persistence of income \n",
    "#PersistentExample.PrstIncCorr= 0.9831        # Serial correlation coefficient for *perceived* persistence of income\n",
    "#PersistentExample.PerceivedPrstIncCorr= 0.9831 # Serial correlation coefficient for *perceived* persistence of income\n",
    "\n",
    "# Update the income process, the assets grid, the persistent income grid, and the terminal solution \n",
    "PersistentExample.updatepLvlNextFunc() \n",
    "\n",
    "# Solve the consumer's problem with *perceived* persistence\n",
    "PersistentExample.solve()\n"
   ]
  },
  {
   "cell_type": "code",
   "execution_count": null,
   "metadata": {},
   "outputs": [],
   "source": [
    "# Replace PrstIncCorr parameter with *actual* persistence\n",
    "PersistentExample.PrstIncCorr= 0.9774 \n",
    "PersistentExample.updatepLvlNextFunc()\n",
    "\n",
    "# Update the income process, the assets grid, the persistent income grid, and the terminal solution \n",
    "PersistentExample.updateIncomeProcess() \n",
    "\n",
    "# Solve the consumer's problem with actual persistence \n",
    "PersistentExample.solve()\n",
    "\n"
   ]
  },
  {
   "cell_type": "code",
   "execution_count": null,
   "metadata": {},
   "outputs": [],
   "source": [
    "# Plot the results: consumption function and MPC\n",
    "\n",
    "# Compare actual persistence vs beliefs about persistence\n",
    "\n",
    "# Simulate some data"
   ]
  },
  {
   "cell_type": "code",
   "execution_count": null,
   "metadata": {},
   "outputs": [],
   "source": []
  },
  {
   "cell_type": "code",
   "execution_count": null,
   "metadata": {},
   "outputs": [],
   "source": []
  }
 ],
 "metadata": {
  "kernelspec": {
   "display_name": "Python 2",
   "language": "python",
   "name": "python2"
  },
  "language_info": {
   "codemirror_mode": {
    "name": "ipython",
    "version": 2
   },
   "file_extension": ".py",
   "mimetype": "text/x-python",
   "name": "python",
   "nbconvert_exporter": "python",
   "pygments_lexer": "ipython2",
   "version": "2.7.13"
  }
 },
 "nbformat": 4,
 "nbformat_minor": 2
}
