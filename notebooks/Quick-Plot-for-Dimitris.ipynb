{
 "cells": [
  {
   "cell_type": "markdown",
   "metadata": {},
   "source": [
    "# Quick Plot of Variance of Consumption Growth vs Market Resources\n",
    "\n",
    "This notebook makes a quick plot of the variance of consumption growth $Var[\\Delta \\log C_{t+1}]$ vs normalized market resources $m_t$.  It was prompted by a comment by CDC to MNW re: a prior paper by Dimitris Georgarakos."
   ]
  },
  {
   "cell_type": "code",
   "execution_count": null,
   "metadata": {
    "code_folding": [
     0
    ],
    "collapsed": true
   },
   "outputs": [],
   "source": [
    "# This cell has just a bit of initial setup. You can click the arrow to expand it.\n",
    "%matplotlib inline\n",
    "import matplotlib.pyplot as plt\n",
    "\n",
    "# The first step is to be able to bring things in from different directories\n",
    "import sys \n",
    "import os\n",
    "sys.path.insert(0, os.path.abspath('../lib'))\n",
    "\n",
    "import numpy as np\n",
    "import HARK # Prevents import error from Demos repo\n",
    "from time import clock\n",
    "from copy import deepcopy\n",
    "mystr = lambda number : \"{:.4f}\".format(number)\n",
    "from HARK.utilities import plotFuncs"
   ]
  },
  {
   "cell_type": "code",
   "execution_count": null,
   "metadata": {
    "code_folding": [
     0,
     2
    ],
    "collapsed": true
   },
   "outputs": [],
   "source": [
    "# This cell defines a parameter dictionary for making an instance of IndShockConsumerType.\n",
    "\n",
    "IndShockDictionary = {\n",
    "    'CRRA': 2.5,          # The dictionary includes our original parameters...\n",
    "    'Rfree': 1.03,\n",
    "    'DiscFac': 0.96,\n",
    "    'LivPrb': [0.98],\n",
    "    'PermGroFac': [1.01],\n",
    "    'PermShkStd': [0.1], \n",
    "    'PermShkCount': 7,\n",
    "    'TranShkStd': [0.1],\n",
    "    'TranShkCount': 7,\n",
    "    'UnempPrb': 0.05,\n",
    "    'IncUnemp': 0.3,\n",
    "    'BoroCnstArt': 0.0,\n",
    "    'aXtraMin': 0.001,  \n",
    "    'aXtraMax': 50.,      \n",
    "    'aXtraNestFac': 3,\n",
    "    'aXtraCount': 48,\n",
    "    'aXtraExtra': [None],\n",
    "    'vFuncBool': False,   \n",
    "    'CubicBool': False,   \n",
    "    'aNrmInitMean' : -10.,\n",
    "    'aNrmInitStd' : 0.0,  \n",
    "    'pLvlInitMean' : 0.0,\n",
    "    'pLvlInitStd' : 0.0,  \n",
    "    'PermGroFacAgg' : 1.0,\n",
    "    'T_retire': 0,        \n",
    "    'UnempPrbRet': 0.0,   \n",
    "    'IncUnempRet': 0.0,   \n",
    "    'T_age' : None,\n",
    "    'T_cycle' : 1,\n",
    "    'cycles' : 0,\n",
    "    'AgentCount': 10000,\n",
    "    'tax_rate':0.0,\n",
    "}"
   ]
  },
  {
   "cell_type": "code",
   "execution_count": null,
   "metadata": {
    "collapsed": true
   },
   "outputs": [],
   "source": [
    "# Create some agents, solves them, and extracts the consumption function\n",
    "from Demos.ConsumptionSaving.ConsIndShockModel  import IndShockConsumerType\n",
    "DimitrisType = IndShockConsumerType(**IndShockDictionary)\n",
    "DimitrisType.solve()\n",
    "cFunc = DimitrisType.solution[0].cFunc"
   ]
  },
  {
   "cell_type": "code",
   "execution_count": null,
   "metadata": {
    "collapsed": false
   },
   "outputs": [],
   "source": [
    "# Draw income shocks and reshape them into tiled arrays\n",
    "N = DimitrisType.AgentCount\n",
    "M = 200\n",
    "DimitrisType.T_sim = 1\n",
    "DimitrisType.initializeSim()\n",
    "DimitrisType.makeShockHistory()\n",
    "PermShkArray = np.tile(np.reshape(DimitrisType.PermShkNow,(1,N)),(M,1))\n",
    "TranShkArray = np.tile(np.reshape(DimitrisType.TranShkNow,(1,N)),(M,1))"
   ]
  },
  {
   "cell_type": "code",
   "execution_count": null,
   "metadata": {
    "collapsed": false
   },
   "outputs": [],
   "source": [
    "# Define a grid of current market resources and reshape it into tiled form\n",
    "mNrmNowGrid = np.linspace(0.1,10.,M)\n",
    "mNrmNowArray = np.tile(np.reshape(mNrmNowGrid,(M,1)),(1,N))\n",
    "\n",
    "# Do the same thing for consumption today\n",
    "cNrmNowGrid = cFunc(mNrmNowGrid)\n",
    "cNrmNowArray = np.tile(np.reshape(cNrmNowGrid,(M,1)),(1,N))\n",
    "cLvlNowArray = 1.0*cNrmNowArray"
   ]
  },
  {
   "cell_type": "code",
   "execution_count": null,
   "metadata": {
    "collapsed": true
   },
   "outputs": [],
   "source": [
    "# Calculate future market resources and future consumption\n",
    "aNrmNowArray  = mNrmNowArray - cNrmNowArray\n",
    "mNrmNextArray = DimitrisType.Rfree*aNrmNowArray/PermShkArray + TranShkArray\n",
    "cNrmNextArray = cFunc(mNrmNextArray)\n",
    "cLvlNextArray = PermShkArray*cNrmNextArray "
   ]
  },
  {
   "cell_type": "code",
   "execution_count": null,
   "metadata": {
    "collapsed": false
   },
   "outputs": [],
   "source": [
    "# Calculate log consumption growth\n",
    "cGroArray = np.log(cLvlNextArray/cLvlNowArray)\n",
    "\n",
    "# Calculate the mean and variance of consumption growth by mNrmNow\n",
    "cGroMean = np.mean(cGroArray,axis=1)\n",
    "cGroVar  = np.var(cGroArray,axis=1)"
   ]
  },
  {
   "cell_type": "code",
   "execution_count": null,
   "metadata": {
    "collapsed": true
   },
   "outputs": [],
   "source": [
    "# Make linear interpolation functions of mean and variance of consumption growth\n",
    "from HARK.interpolation import LinearInterp\n",
    "cGroMeanFunc = LinearInterp(mNrmNowGrid,cGroMean)\n",
    "cGroVarFunc = LinearInterp(mNrmNowGrid,cGroVar)"
   ]
  },
  {
   "cell_type": "code",
   "execution_count": null,
   "metadata": {
    "collapsed": false
   },
   "outputs": [],
   "source": [
    "# Plot the consumption function, mean consumption growth, and variance consumption growth functions\n",
    "plt.xlabel('Market resources')\n",
    "plt.ylabel('Consumption')\n",
    "plotFuncs(cFunc,0.,10.)\n",
    "\n",
    "plt.xlabel('Market resources')\n",
    "plt.ylabel('Mean consumption growth')\n",
    "plotFuncs(cGroMeanFunc,0.,10.)\n",
    "\n",
    "plt.xlabel('Market resources')\n",
    "plt.ylabel('Variance consumption growth')\n",
    "plotFuncs(cGroVarFunc,0.,10.)"
   ]
  },
  {
   "cell_type": "code",
   "execution_count": null,
   "metadata": {
    "collapsed": true
   },
   "outputs": [],
   "source": []
  }
 ],
 "metadata": {
  "kernelspec": {
   "display_name": "Python 2",
   "language": "python",
   "name": "python2"
  },
  "language_info": {
   "codemirror_mode": {
    "name": "ipython",
    "version": 2
   },
   "file_extension": ".py",
   "mimetype": "text/x-python",
   "name": "python",
   "nbconvert_exporter": "python",
   "pygments_lexer": "ipython2",
   "version": "2.7.13"
  }
 },
 "nbformat": 4,
 "nbformat_minor": 2
}
