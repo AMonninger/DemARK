{
 "cells": [
  {
   "cell_type": "markdown",
   "metadata": {},
   "source": [
    "# Making Structural Estimates From Empirical Results\n",
    "\n",
    "[![badge](https://img.shields.io/badge/Launch%20using%20-Econ--ARK-blue)](https://econ-ark.org/materials/structural-estimates-from-empirical-mpcs-fagereng-et-al#launch)\n",
    "\n",
    "This notebook conducts a quick and dirty structural estimation based on Table 9 of \"MPC Heterogeneity and Household Balance Sheets\" by Fagereng, Holm, and Natvik <cite data-cite=\"6202365/SUE56C4B\"></cite>, who use Norweigian administrative data on income, household assets, and lottery winnings to examine the MPC from transitory income shocks (lottery prizes).  Their Table 9 reports an estimated MPC broken down by quartiles of bank deposits and\n",
    "prize size; this table is reproduced here as $\\texttt{MPC_target_base}$.  In this demo, we use the Table 9 estimates as targets in a simple structural estimation, seeking to minimize the sum of squared differences between simulated and estimated MPCs by changing the (uniform) distribution of discount factors.  The essential question is how well their results be rationalized by a simple one-asset consumption-saving model.  \n",
    "\n",
    "\n",
    "The function that estimates discount factors includes several options for estimating different specifications:\n",
    "\n",
    "1. TypeCount : Integer number of discount factors in discrete distribution; can be set to 1 to turn off _ex ante_ heterogeneity (and to discover that the model has no chance to fit the data well without such heterogeneity).\n",
    "2. AdjFactor : Scaling factor for the target MPCs; user can try to fit estimated MPCs scaled down by (e.g.) 50%.\n",
    "3. T_kill    : Maximum number of years the (perpetually young) agents are allowed to live.  Because this is quick and dirty, it's also the number of periods to simulate.\n",
    "4. Splurge   : Amount of lottery prize that an individual will automatically spend in a moment of excitement (perhaps ancient tradition in Norway requires a big party when you win the lottery), before beginning to behave according to the optimal consumption function.  The patterns in Table 9 can be fit much better when this is set around \\$700 --> 0.7.  That doesn't seem like an unreasonable amount of money to spend on a memorable party.\n",
    "5. do_secant : Boolean indicator for whether to use \"secant MPC\", which is average MPC over the range of the prize.  MNW believes authors' regressions are estimating this rather than point MPC.  When False, structural estimation uses point MPC after receiving prize.  NB: This is incompatible with Splurge > 0.\n",
    "6. drop_corner : Boolean for whether to include target MPC in the top left corner, which is greater than 1.  Authors discuss reasons why the MPC from a transitory shock *could* exceed 1.  Option is included here because this target tends to push the estimate around a bit."
   ]
  },
  {
   "cell_type": "code",
   "execution_count": null,
   "metadata": {
    "code_folding": []
   },
   "outputs": [],
   "source": [
    "# Import python tools\n",
    "\n",
    "import sys\n",
    "import os\n",
    "\n",
    "import numpy as np\n",
    "from copy import deepcopy"
   ]
  },
  {
   "cell_type": "code",
   "execution_count": null,
   "metadata": {
    "code_folding": []
   },
   "outputs": [],
   "source": [
    "# Import needed tools from HARK\n",
    "\n",
    "from HARK.distribution import Uniform\n",
    "from HARK.utilities import get_percentiles\n",
    "from HARK.parallel import multi_thread_commands\n",
    "from HARK.estimation import minimize_nelder_mead\n",
    "from HARK.ConsumptionSaving.ConsIndShockModel import *\n",
    "\n",
    "\n",
    "init_infinite = {\n",
    "    \"CRRA\":1.0,                    # Coefficient of relative risk aversion \n",
    "    \"Rfree\":1.01/(1.0 - 1.0/160.0), # Survival probability,\n",
    "    \"PermGroFac\":[1.000**0.25], # Permanent income growth factor (no perm growth),\n",
    "    \"PermGroFacAgg\":1.0,\n",
    "    \"BoroCnstArt\":0.0,\n",
    "    \"CubicBool\":False,\n",
    "    \"vFuncBool\":False,\n",
    "    \"PermShkStd\":[(0.01*4/11)**0.5],  # Standard deviation of permanent shocks to income\n",
    "    \"PermShkCount\":5,  # Number of points in permanent income shock grid\n",
    "    \"TranShkStd\":[(0.01*4)**0.5],  # Standard deviation of transitory shocks to income,\n",
    "    \"TranShkCount\":5,  # Number of points in transitory income shock grid\n",
    "    \"UnempPrb\":0.07,  # Probability of unemployment while working\n",
    "    \"IncUnemp\":0.15,  # Unemployment benefit replacement rate\n",
    "    \"UnempPrbRet\":None,\n",
    "    \"IncUnempRet\":None,\n",
    "    \"aXtraMin\":0.00001,  # Minimum end-of-period assets in grid\n",
    "    \"aXtraMax\":40,  # Maximum end-of-period assets in grid\n",
    "    \"aXtraCount\":32,  # Number of points in assets grid\n",
    "    \"aXtraExtra\":[None],\n",
    "    \"aXtraNestFac\":3,  # Number of times to 'exponentially nest' when constructing assets grid\n",
    "    \"LivPrb\":[1.0 - 1.0/160.0],  # Survival probability\n",
    "    \"DiscFac\":0.97,             # Default intertemporal discount factor; dummy value, will be overwritten\n",
    "    \"cycles\":0,\n",
    "    \"T_cycle\":1,\n",
    "    \"T_retire\":0,\n",
    "    'T_sim':1200,  # Number of periods to simulate (idiosyncratic shocks model, perpetual youth)\n",
    "    'T_age': 400,\n",
    "    'IndL': 10.0/9.0,  # Labor supply per individual (constant),\n",
    "    'aNrmInitMean':np.log(0.00001),\n",
    "    'aNrmInitStd':0.0,\n",
    "    'pLvlInitMean':0.0,\n",
    "    'pLvlInitStd':0.0,\n",
    "    'AgentCount':10000,\n",
    "}"
   ]
  },
  {
   "cell_type": "code",
   "execution_count": null,
   "metadata": {
    "code_folding": []
   },
   "outputs": [],
   "source": [
    "# Set key problem-specific parameters\n",
    "\n",
    "TypeCount = 8    # Number of consumer types with heterogeneous discount factors\n",
    "AdjFactor = 1.0  # Factor by which to scale all of MPCs in Table 9\n",
    "T_kill = 100     # Don't let agents live past this age\n",
    "Splurge = 0.0    # Consumers automatically spend this amount of any lottery prize\n",
    "do_secant = True # If True, calculate MPC by secant, else point MPC\n",
    "drop_corner = False # If True, ignore upper left corner when calculating distance"
   ]
  },
  {
   "cell_type": "code",
   "execution_count": null,
   "metadata": {
    "code_folding": []
   },
   "outputs": [],
   "source": [
    "# Set standard HARK parameter values\n",
    "\n",
    "base_params = deepcopy(init_infinite)\n",
    "base_params['LivPrb'] = [0.975]\n",
    "base_params['Rfree'] = 1.04/base_params['LivPrb'][0]\n",
    "base_params['PermShkStd'] = [0.1]\n",
    "base_params['TranShkStd'] = [0.1]\n",
    "base_params['T_age'] = T_kill # Kill off agents if they manage to achieve T_kill working years\n",
    "base_params['AgentCount'] = 10000\n",
    "base_params['pLvlInitMean'] = np.log(23.72) # From Table 1, in thousands of USD\n",
    "base_params['T_sim'] = T_kill  # No point simulating past when agents would be killed off"
   ]
  },
  {
   "cell_type": "code",
   "execution_count": null,
   "metadata": {
    "code_folding": []
   },
   "outputs": [],
   "source": [
    "# Define the MPC targets from Fagereng et al Table 9; element i,j is lottery quartile i, deposit quartile j\n",
    "\n",
    "MPC_target_base = np.array([[1.047, 0.745, 0.720, 0.490],\n",
    "                            [0.762, 0.640, 0.559, 0.437],\n",
    "                            [0.663, 0.546, 0.390, 0.386],\n",
    "                            [0.354, 0.325, 0.242, 0.216]])\n",
    "MPC_target = AdjFactor*MPC_target_base"
   ]
  },
  {
   "cell_type": "code",
   "execution_count": null,
   "metadata": {
    "code_folding": []
   },
   "outputs": [],
   "source": [
    "# Define the four lottery sizes, in thousands of USD; these are eyeballed centers/averages\n",
    "\n",
    "lottery_size = np.array([1.625, 3.3741, 7.129, 40.0])"
   ]
  },
  {
   "cell_type": "code",
   "execution_count": null,
   "metadata": {
    "code_folding": [],
    "lines_to_next_cell": 1
   },
   "outputs": [],
   "source": [
    "# Make several consumer types to be used during estimation\n",
    "\n",
    "BaseType = IndShockConsumerType(**base_params)\n",
    "EstTypeList = []\n",
    "for j in range(TypeCount):\n",
    "    EstTypeList.append(deepcopy(BaseType))\n",
    "    EstTypeList[-1].seed = j"
   ]
  },
  {
   "cell_type": "code",
   "execution_count": null,
   "metadata": {
    "code_folding": []
   },
   "outputs": [],
   "source": [
    "# Define the objective function\n",
    "\n",
    "def FagerengObjFunc(center,spread,verbose=False):\n",
    "    '''\n",
    "    Objective function for the quick and dirty structural estimation to fit\n",
    "    Fagereng, Holm, and Natvik's Table 9 results with a basic infinite horizon\n",
    "    consumption-saving model (with permanent and transitory income shocks).\n",
    "\n",
    "    Parameters\n",
    "    ----------\n",
    "    center : float\n",
    "        Center of the uniform distribution of discount factors.\n",
    "    spread : float\n",
    "        Width of the uniform distribution of discount factors.\n",
    "    verbose : bool\n",
    "        When True, print to screen MPC table for these parameters.  When False,\n",
    "        print (center, spread, distance).\n",
    "\n",
    "    Returns\n",
    "    -------\n",
    "    distance : float\n",
    "        Euclidean distance between simulated MPCs and (adjusted) Table 9 MPCs.\n",
    "    '''\n",
    "    # Give our consumer types the requested discount factor distribution\n",
    "    beta_set = Uniform(bot=center-spread,top=center+spread).approx(N=TypeCount).X\n",
    "    for j in range(TypeCount):\n",
    "        EstTypeList[j].DiscFac = beta_set[j]\n",
    "\n",
    "    # Solve and simulate all consumer types, then gather their wealth levels\n",
    "    multi_thread_commands(EstTypeList,['solve()','initialize_sim()','simulate()','unpack_cFunc()'])\n",
    "    WealthNow = np.concatenate([ThisType.state_now[\"aLvl\"] for ThisType in EstTypeList])\n",
    "\n",
    "    # Get wealth quartile cutoffs and distribute them to each consumer type\n",
    "    quartile_cuts = get_percentiles(WealthNow,percentiles=[0.25,0.50,0.75])\n",
    "    for ThisType in EstTypeList:\n",
    "        WealthQ = np.zeros(ThisType.AgentCount,dtype=int)\n",
    "        for n in range(3):\n",
    "            WealthQ[ThisType.state_now[\"aLvl\"] > quartile_cuts[n]] += 1\n",
    "        ThisType(WealthQ = WealthQ)\n",
    "\n",
    "    # Keep track of MPC sets in lists of lists of arrays\n",
    "    MPC_set_list = [ [[],[],[],[]],\n",
    "                     [[],[],[],[]],\n",
    "                     [[],[],[],[]],\n",
    "                     [[],[],[],[]] ]\n",
    "\n",
    "    # Calculate the MPC for each of the four lottery sizes for all agents\n",
    "    for ThisType in EstTypeList:\n",
    "        ThisType.simulate(1)\n",
    "        c_base = ThisType.controls[\"cNrm\"]\n",
    "        MPC_this_type = np.zeros((ThisType.AgentCount,4))\n",
    "        for k in range(4): # Get MPC for all agents of this type\n",
    "            Llvl = lottery_size[k]\n",
    "            Lnrm = Llvl/ThisType.state_now[\"pLvl\"]\n",
    "            if do_secant:\n",
    "                SplurgeNrm = Splurge/ThisType.state_now[\"pLvl\"]\n",
    "                mAdj = ThisType.state_now[\"mNrmNow\"] + Lnrm - SplurgeNrm\n",
    "                cAdj = ThisType.cFunc[0](mAdj) + SplurgeNrm\n",
    "                MPC_this_type[:,k] = (cAdj - c_base)/Lnrm\n",
    "            else:\n",
    "                mAdj = ThisType.state_now[\"mNrmNow\"] + Lnrm\n",
    "                MPC_this_type[:,k] = cAdj = ThisType.cFunc[0].derivative(mAdj)\n",
    "\n",
    "        # Sort the MPCs into the proper MPC sets\n",
    "        for q in range(4):\n",
    "            these = ThisType.WealthQ == q\n",
    "            for k in range(4):\n",
    "                MPC_set_list[k][q].append(MPC_this_type[these,k])\n",
    "\n",
    "    # Calculate average within each MPC set\n",
    "    simulated_MPC_means = np.zeros((4,4))\n",
    "    for k in range(4):\n",
    "        for q in range(4):\n",
    "            MPC_array = np.concatenate(MPC_set_list[k][q])\n",
    "            simulated_MPC_means[k,q] = np.mean(MPC_array)\n",
    "\n",
    "    # Calculate Euclidean distance between simulated MPC averages and Table 9 targets\n",
    "    diff = simulated_MPC_means - MPC_target\n",
    "    if drop_corner:\n",
    "        diff[0,0] = 0.0\n",
    "    distance = np.sqrt(np.sum((diff)**2))\n",
    "    if verbose:\n",
    "        print(simulated_MPC_means)\n",
    "    else:\n",
    "        print (center, spread, distance)\n",
    "    return distance"
   ]
  },
  {
   "cell_type": "code",
   "execution_count": null,
   "metadata": {},
   "outputs": [],
   "source": [
    "# Put your solution here"
   ]
  }
 ],
 "metadata": {
  "jupytext": {
   "cell_metadata_filter": "collapsed,code_folding",
   "cell_metadata_json": true,
   "formats": "ipynb,py:percent",
   "notebook_metadata_filter": "all"
  },
  "kernelspec": {
   "display_name": "Python 3",
   "language": "python",
   "name": "python3"
  },
  "language_info": {
   "codemirror_mode": {
    "name": "ipython",
    "version": 3
   },
   "file_extension": ".py",
   "mimetype": "text/x-python",
   "name": "python",
   "nbconvert_exporter": "python",
   "pygments_lexer": "ipython3",
   "version": "3.8.5"
  },
  "latex_envs": {
   "LaTeX_envs_menu_present": true,
   "autoclose": false,
   "autocomplete": true,
   "bibliofile": "biblio.bib",
   "cite_by": "apalike",
   "current_citInitial": 1,
   "eqLabelWithNumbers": true,
   "eqNumInitial": 1,
   "hotkeys": {
    "equation": "Ctrl-E",
    "itemize": "Ctrl-I"
   },
   "labels_anchors": false,
   "latex_user_defs": false,
   "report_style_numbering": false,
   "user_envs_cfg": false
  },
  "toc": {
   "base_numbering": 1,
   "nav_menu": {},
   "number_sections": true,
   "sideBar": true,
   "skip_h1_title": false,
   "title_cell": "Table of Contents",
   "title_sidebar": "Contents",
   "toc_cell": false,
   "toc_position": {},
   "toc_section_display": true,
   "toc_window_display": false
  }
 },
 "nbformat": 4,
 "nbformat_minor": 4
}
