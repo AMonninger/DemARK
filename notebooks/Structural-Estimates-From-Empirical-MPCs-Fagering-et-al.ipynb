{
 "cells": [
  {
   "cell_type": "markdown",
   "metadata": {},
   "source": [
    "# Making Structural Estimates From Empirical Results\n",
    "\n",
    "This notebook conducts a quick and dirty structural estimation based on Table 9 of \"MPC Heterogeneity and Household Balance Sheets\" by Fagereng, Holm, and Natvik <cite data-cite=\"6202365/SUE56C4B\"></cite>, who use Norweigian administrative data on income, household assets, and lottery winnings to examine the MPC from transitory income shocks (lottery prizes).  Their Table 9 reports an estimated MPC broken down by quartiles of bank deposits and\n",
    "prize size; this table is reproduced here as $\\texttt{MPC_target_base}$.  In this demo, we use the Table 9 estimates as targets in a simple structural estimation, seeking to minimize the sum of squared differences between simulated and estimated MPCs by changing the (uniform) distribution of discount factors.  The essential question is how well their results be rationalized by a simple one-asset consumption-saving model.  \n",
    "\n",
    "\n",
    "The function that estimates discount factors includes several options for estimating different specifications:\n",
    "\n",
    "1. TypeCount : Integer number of discount factors in discrete distribution; can be set to 1 to turn off _ex ante_ heterogeneity (and to discover that the model has no chance to fit the data well without such heterogeneity).\n",
    "2. AdjFactor : Scaling factor for the target MPCs; user can try to fit estimated MPCs scaled down by (e.g.) 50%.\n",
    "3. T_kill    : Maximum number of years the (perpetually young) agents are allowed to live.  Because this is quick and dirty, it's also the number of periods to simulate.\n",
    "4. Splurge   : Amount of lottery prize that an individual will automatically spend in a moment of excitement (perhaps ancient tradition in Norway requires a big party when you win the lottery), before beginning to behave according to the optimal consumption function.  The patterns in Table 9 can be fit much better when this is set around \\$700 --> 0.7.  That doesn't seem like an unreasonable amount of money to spend on a memorable party.\n",
    "5. do_secant : Boolean indicator for whether to use \"secant MPC\", which is average MPC over the range of the prize.  MNW believes authors' regressions are estimating this rather than point MPC.  When False, structural estimation uses point MPC after receiving prize.  NB: This is incompatible with Splurge > 0.\n",
    "6. drop_corner : Boolean for whether to include target MPC in the top left corner, which is greater than 1.  Authors discuss reasons why the MPC from a transitory shock *could* exceed 1.  Option is included here because this target tends to push the estimate around a bit."
   ]
  },
  {
   "cell_type": "code",
   "execution_count": 1,
   "metadata": {
    "code_folding": [
     0
    ]
   },
   "outputs": [],
   "source": [
    "# Import python tools\n",
    "\n",
    "import sys\n",
    "import os\n",
    "\n",
    "import numpy as np\n",
    "from copy import deepcopy\n",
    "from time import clock"
   ]
  },
  {
   "cell_type": "code",
   "execution_count": 2,
   "metadata": {
    "code_folding": [
     0
    ]
   },
   "outputs": [],
   "source": [
    "# Import needed tools from HARK\n",
    "\n",
    "from HARK.utilities import approxUniform, getPercentiles\n",
    "from HARK.parallel import multiThreadCommands\n",
    "from HARK.estimation import minimizeNelderMead\n",
    "from HARK.ConsumptionSaving.ConsIndShockModel import *\n",
    "from HARK.cstwMPC.SetupParamsCSTW import init_infinite"
   ]
  },
  {
   "cell_type": "code",
   "execution_count": 5,
   "metadata": {
    "code_folding": []
   },
   "outputs": [],
   "source": [
    "# Set standard HARK parameter values\n",
    "\n",
    "base_params = deepcopy(init_infinite)\n",
    "base_params['LivPrb'] = [0.975]\n",
    "base_params['Rfree'] = 1.04/base_params['LivPrb'][0]\n",
    "base_params['PermShkStd'] = [0.1]\n",
    "base_params['TranShkStd'] = [0.1]\n",
    "base_params['T_age'] = 120 # Kill off agents if they manage to achieve T_kill working years\n",
    "base_params['AgentCount'] = 10000\n",
    "base_params['pLvlInitMean'] = np.log(23.72) # From Table 1, in thousands of USD\n",
    "base_params['T_sim'] = 120  # No point simulating past when agents would be killed off"
   ]
  },
  {
   "cell_type": "code",
   "execution_count": 6,
   "metadata": {
    "code_folding": []
   },
   "outputs": [],
   "source": [
    "# Set key problem-specific parameters\n",
    "\n",
    "TypeCount = 8    # Number of consumer types with heterogeneous discount factors\n",
    "AdjFactor = 1.0  # Factor by which to scale all of Fagereng's MPCs in Table 9\n",
    "T_kill = 100     # Don't let agents live past this age\n",
    "Splurge = 0.0    # Consumers automatically spend this amount of any lottery prize\n",
    "do_secant = True # If True, calculate MPC by secant, else point MPC\n",
    "drop_corner = False # If True, ignore upper left corner when calculating distance"
   ]
  },
  {
   "cell_type": "code",
   "execution_count": 7,
   "metadata": {
    "code_folding": []
   },
   "outputs": [],
   "source": [
    "# Define the MPC targets from Fagereng et al Table 9; element i,j is lottery quartile i, deposit quartile j\n",
    "\n",
    "MPC_target_base = np.array([[1.047, 0.745, 0.720, 0.490],\n",
    "                            [0.762, 0.640, 0.559, 0.437],\n",
    "                            [0.663, 0.546, 0.390, 0.386],\n",
    "                            [0.354, 0.325, 0.242, 0.216]])\n",
    "MPC_target = AdjFactor*MPC_target_base"
   ]
  },
  {
   "cell_type": "code",
   "execution_count": 8,
   "metadata": {
    "code_folding": []
   },
   "outputs": [],
   "source": [
    "# Define the four lottery sizes, in thousands of USD; these are eyeballed centers/averages\n",
    "\n",
    "lottery_size = np.array([1.625, 3.3741, 7.129, 40.0])"
   ]
  },
  {
   "cell_type": "code",
   "execution_count": 9,
   "metadata": {
    "code_folding": []
   },
   "outputs": [],
   "source": [
    "# Make several consumer types to be used during estimation\n",
    "\n",
    "BaseType = IndShockConsumerType(**base_params)\n",
    "EstTypeList = []\n",
    "for j in range(TypeCount):\n",
    "    EstTypeList.append(deepcopy(BaseType))\n",
    "    EstTypeList[-1](seed = j)"
   ]
  },
  {
   "cell_type": "code",
   "execution_count": 10,
   "metadata": {
    "code_folding": [],
    "lines_to_next_cell": 2
   },
   "outputs": [],
   "source": [
    "# Define the objective function\n",
    "\n",
    "def FagerengObjFunc(center,spread,verbose=False):\n",
    "    '''\n",
    "    Objective function for the quick and dirty structural estimation to fit\n",
    "    Fagereng, Holm, and Natvik's Table 9 results with a basic infinite horizon\n",
    "    consumption-saving model (with permanent and transitory income shocks).\n",
    "\n",
    "    Parameters\n",
    "    ----------\n",
    "    center : float\n",
    "        Center of the uniform distribution of discount factors.\n",
    "    spread : float\n",
    "        Width of the uniform distribution of discount factors.\n",
    "    verbose : bool\n",
    "        When True, print to screen MPC table for these parameters.  When False,\n",
    "        print (center, spread, distance).\n",
    "\n",
    "    Returns\n",
    "    -------\n",
    "    distance : float\n",
    "        Euclidean distance between simulated MPCs and (adjusted) Table 9 MPCs.\n",
    "    '''\n",
    "    # Give our consumer types the requested discount factor distribution\n",
    "    beta_set = approxUniform(N=TypeCount,bot=center-spread,top=center+spread)[1]\n",
    "    for j in range(TypeCount):\n",
    "        EstTypeList[j](DiscFac = beta_set[j])\n",
    "\n",
    "    # Solve and simulate all consumer types, then gather their wealth levels\n",
    "    multiThreadCommands(EstTypeList,['solve()','initializeSim()','simulate()','unpackcFunc()'])\n",
    "    WealthNow = np.concatenate([ThisType.aLvlNow for ThisType in EstTypeList])\n",
    "\n",
    "    # Get wealth quartile cutoffs and distribute them to each consumer type\n",
    "    quartile_cuts = getPercentiles(WealthNow,percentiles=[0.25,0.50,0.75])\n",
    "    for ThisType in EstTypeList:\n",
    "        WealthQ = np.zeros(ThisType.AgentCount,dtype=int)\n",
    "        for n in range(3):\n",
    "            WealthQ[ThisType.aLvlNow > quartile_cuts[n]] += 1\n",
    "        ThisType(WealthQ = WealthQ)\n",
    "\n",
    "    # Keep track of MPC sets in lists of lists of arrays\n",
    "    MPC_set_list = [ [[],[],[],[]],\n",
    "                     [[],[],[],[]],\n",
    "                     [[],[],[],[]],\n",
    "                     [[],[],[],[]] ]\n",
    "\n",
    "    # Calculate the MPC for each of the four lottery sizes for all agents\n",
    "    for ThisType in EstTypeList:\n",
    "        ThisType.simulate(1)\n",
    "        c_base = ThisType.cNrmNow\n",
    "        MPC_this_type = np.zeros((ThisType.AgentCount,4))\n",
    "        for k in range(4): # Get MPC for all agents of this type\n",
    "            Llvl = lottery_size[k]\n",
    "            Lnrm = Llvl/ThisType.pLvlNow\n",
    "            if do_secant:\n",
    "                SplurgeNrm = Splurge/ThisType.pLvlNow\n",
    "                mAdj = ThisType.mNrmNow + Lnrm - SplurgeNrm\n",
    "                cAdj = ThisType.cFunc[0](mAdj) + SplurgeNrm\n",
    "                MPC_this_type[:,k] = (cAdj - c_base)/Lnrm\n",
    "            else:\n",
    "                mAdj = ThisType.mNrmNow + Lnrm\n",
    "                MPC_this_type[:,k] = cAdj = ThisType.cFunc[0].derivative(mAdj)\n",
    "\n",
    "        # Sort the MPCs into the proper MPC sets\n",
    "        for q in range(4):\n",
    "            these = ThisType.WealthQ == q\n",
    "            for k in range(4):\n",
    "                MPC_set_list[k][q].append(MPC_this_type[these,k])\n",
    "\n",
    "    # Calculate average within each MPC set\n",
    "    simulated_MPC_means = np.zeros((4,4))\n",
    "    for k in range(4):\n",
    "        for q in range(4):\n",
    "            MPC_array = np.concatenate(MPC_set_list[k][q])\n",
    "            simulated_MPC_means[k,q] = np.mean(MPC_array)\n",
    "\n",
    "    # Calculate Euclidean distance between simulated MPC averages and Table 9 targets\n",
    "    diff = simulated_MPC_means - MPC_target\n",
    "    if drop_corner:\n",
    "        diff[0,0] = 0.0\n",
    "    distance = np.sqrt(np.sum((diff)**2))\n",
    "    if verbose:\n",
    "        print(simulated_MPC_means)\n",
    "    else:\n",
    "        print (center, spread, distance)\n",
    "    return distance"
   ]
  },
  {
   "cell_type": "code",
   "execution_count": 11,
   "metadata": {
    "code_folding": []
   },
   "outputs": [
    {
     "name": "stdout",
     "output_type": "stream",
     "text": [
      "0.92 0.03 1.1435027723158975\n",
      "0.9660000000000001 0.03 1.873991603696948\n",
      "0.92 0.0315 1.1445438723186305\n",
      "0.874 0.0315 0.7857490973951103\n",
      "0.8280000000000001 0.03225 0.6837330592209642\n",
      "0.8280000000000002 0.03075 0.6855056040664419\n",
      "0.7360000000000001 0.033 0.7911745486719227\n",
      "0.782 0.03225 0.7019247379657031\n",
      "0.8740000000000001 0.03075 0.786403824620794\n",
      "0.805 0.031875 0.6811884943578418\n",
      "0.8049999999999998 0.033375 0.6794557802553078\n",
      "0.7934999999999997 0.03468750000000001 0.6855811328072691\n",
      "0.7819999999999998 0.033 0.7010149750004234\n",
      "0.8165 0.0324375 0.6787705685522363\n",
      "0.8164999999999997 0.033937499999999995 0.6768620546409319\n",
      "0.8222499999999997 0.03496874999999999 0.6772905051611531\n",
      "0.8279999999999997 0.03299999999999999 0.682796465356596\n",
      "0.8107499999999999 0.03328125 0.6778094581315043\n",
      "0.8107499999999996 0.03478124999999999 0.6759352163520597\n",
      "0.8078749999999992 0.03595312499999999 0.6753950040150025\n",
      "0.8136249999999989 0.036609374999999986 0.6736457816594216\n",
      "0.8150624999999985 0.03827343749999998 0.6713757367235786\n",
      "0.806437499999998 0.04028906249999997 0.6701738643391913\n",
      "0.8014062499999974 0.043464843749999954 0.6680692201950844\n",
      "0.8085937499999967 0.045785156249999945 0.6616615849765272\n",
      "0.8089531249999955 0.05070117187499992 0.6539512195362261\n",
      "0.7952968749999945 0.0558925781249999 0.6534978451785627\n",
      "0.7854140624999926 0.06470214843749986 0.6495822551890398\n",
      "0.7929609374999906 0.07193847656249983 0.6280905194334951\n",
      "0.7887382812499872 0.08617529296874976 0.6052651302954737\n",
      "0.7651992187499843 0.1001762695312497 0.617966612623223\n",
      "0.768523437499979 0.1216494140624996 0.575397585859143\n",
      "0.7600781249999722 0.1501230468749995 0.5593196172880615\n",
      "0.7836171874999751 0.13612207031249957 0.5256906067384406\n",
      "0.7928261718749705 0.1540949707031245 0.5014327858914844\n",
      "0.7641660156249555 0.21804272460937424 0.5993286402545643\n",
      "0.7703090820312135 0.18507586669921813 0.5257505729187293\n",
      "0.8030571289062118 0.18904779052734316 0.6031934253376332\n",
      "0.7708228759765321 0.15985423278808542 0.5229029272009226\n",
      "0.7933399658202891 0.12887333679199178 0.5261757205067268\n",
      "0.7760668029784824 0.17102523422241156 0.5102042141087978\n",
      "0.7980700988769209 0.16526597213745065 0.5137783532818507\n",
      "0.7912582931518237 0.16391303730010934 0.501895720740685\n",
      "0.8080176620483118 0.14698277378082225 0.5181648929245216\n",
      "0.7840545177459397 0.16501461911201423 0.5016021359102278\n",
      "0.7856223964690865 0.15519655251502937 0.502956521644339\n",
      "0.7898493189811394 0.16173391610383936 0.5004831808921038\n",
      "0.7986209731101703 0.15081426769494963 0.5043339884893341\n",
      "0.7876961315869974 0.16146453125774807 0.5001048602709964\n",
      "0.7847192786931663 0.16910347665846293 0.5029202316021452\n",
      "0.7907994485795194 0.1578470971919591 0.5006070039426822\n",
      "0.7867460019886173 0.16535135016962832 0.5010224946281108\n",
      "0.7897860869317939 0.1597231604363764 0.5002493057943629\n",
      "0.7876328995376519 0.15945377559028512 0.500323633229122\n",
      "0.7881870043985237 0.16002381071867366 0.500146674770006\n",
      "0.7860970490537273 0.16176518154004532 0.5004080328065333\n",
      "0.7888638274622772 0.16023366571229364 0.5001416519568511\n",
      "0.788372954650751 0.16167438625136804 0.5001120692620773\n",
      "0.7872052587754712 0.16290525179682247 0.5002562120299822\n",
      "0.7884491852905757 0.16090156223342583 0.500073087296652\n",
      "0.787772362226822 0.16069170723980586 0.5001155502827487\n",
      "0.7882228065447687 0.1614287164984775 0.5000945482777289\n",
      "0.7889758602483471 0.16086574747415527 0.5001544505644305\n",
      "0.7880160637523348 0.16131483531184987 0.5001038483406189\n",
      "0.7886559280830097 0.16101544342005347 0.5000856880434525\n",
      "0.7888823068288167 0.1604882891550018 0.5001238465616906\n",
      "0.7883876816157807 0.1611936096626086 0.5000615743133221\n",
      "0.7881809388233467 0.16107972847598095 0.5000775234890963\n",
      "0.7882996861382624 0.16106365721199908 0.5000723461037373\n",
      "0.7882381824634672 0.16135570464118182 0.5000853249249599\n",
      "0.7883964345837986 0.16101509783536483 0.50007990793693\n",
      "0.7883436838770215 0.16112863343730383 0.500079183138636\n",
      "0.7884184334531782 0.1610475859480172 0.5000660353613294\n",
      "0.7884624311919373 0.16111256217332198 0.5000680606607953\n",
      "0.7884327443632084 0.16111657998931744 0.5000687325069355\n",
      "0.7884030575344794 0.1611205978053129 0.5000689030211729\n",
      "0.7883656827464011 0.1611611215499562 0.5000634455203875\n",
      "Optimization terminated successfully.\n",
      "         Current function value: 0.500062\n",
      "         Iterations: 38\n",
      "         Function evaluations: 77\n",
      "Time to estimate is 79.05552506446838 seconds.\n",
      "Finished estimating for scaling factor of 1.0 and \"splurge amount\" of $0.0\n",
      "Optimal (beta,nabla) is [0.78838768 0.16119361], simulated MPCs are:\n",
      "[[0.77577172 0.6821381  0.56388153 0.40797683]\n",
      " [0.74575401 0.66361244 0.55204664 0.39956766]\n",
      " [0.70513142 0.63335989 0.52950535 0.38275016]\n",
      " [0.56252963 0.50193784 0.41205329 0.29714524]]\n",
      "Distance from Fagereng et al Table 9 is 0.5000615743133221\n"
     ]
    }
   ],
   "source": [
    "# Conduct the estimation\n",
    "\n",
    "guess = [0.92,0.03]\n",
    "f_temp = lambda x : FagerengObjFunc(x[0],x[1])\n",
    "opt_params = minimizeNelderMead(f_temp, guess, verbose=True)\n",
    "print('Finished estimating for scaling factor of ' + str(AdjFactor) + ' and \"splurge amount\" of $' + str(1000*Splurge))\n",
    "print('Optimal (beta,nabla) is ' + str(opt_params) + ', simulated MPCs are:')\n",
    "dist = FagerengObjFunc(opt_params[0],opt_params[1],True)\n",
    "print('Distance from Fagereng et al Table 9 is ' + str(dist))"
   ]
  }
 ],
 "metadata": {
  "cite2c": {
   "citations": {
    "6202365/SUE56C4B": {
     "author": [
      {
       "family": "Fagereng",
       "given": "Andreas"
      },
      {
       "family": "Holm",
       "given": "Martin B."
      },
      {
       "family": "Natvik",
       "given": "Gisle J."
      }
     ],
     "genre": "discussion paper",
     "id": "6202365/SUE56C4B",
     "issued": {
      "year": 2017
     },
     "publisher": "Statistics Norway",
     "title": "MPC Heterogeneity and Household Balance Sheets",
     "type": "report"
    }
   }
  },
  "jupytext": {
   "formats": "ipynb,py:percent",
   "metadata_filter": {
    "cells": "collapsed"
   },
   "text_representation": {
    "extension": ".py",
    "format_name": "percent",
    "format_version": "1.1",
    "jupytext_version": "0.8.3"
   }
  },
  "kernelspec": {
   "display_name": "Python 3",
   "language": "python",
   "name": "python3"
  },
  "language_info": {
   "codemirror_mode": {
    "name": "ipython",
    "version": 3
   },
   "file_extension": ".py",
   "mimetype": "text/x-python",
   "name": "python",
   "nbconvert_exporter": "python",
   "pygments_lexer": "ipython3",
   "version": "3.6.7"
  },
  "varInspector": {
   "cols": {
    "lenName": 16,
    "lenType": 16,
    "lenVar": 40
   },
   "kernels_config": {
    "python": {
     "delete_cmd_postfix": "",
     "delete_cmd_prefix": "del ",
     "library": "var_list.py",
     "varRefreshCmd": "print(var_dic_list())"
    },
    "r": {
     "delete_cmd_postfix": ") ",
     "delete_cmd_prefix": "rm(",
     "library": "var_list.r",
     "varRefreshCmd": "cat(var_dic_list()) "
    }
   },
   "types_to_exclude": [
    "module",
    "function",
    "builtin_function_or_method",
    "instance",
    "_Feature"
   ],
   "window_display": false
  }
 },
 "nbformat": 4,
 "nbformat_minor": 2
}
