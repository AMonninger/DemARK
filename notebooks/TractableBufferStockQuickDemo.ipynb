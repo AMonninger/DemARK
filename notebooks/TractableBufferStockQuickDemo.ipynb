{
 "cells": [
  {
   "cell_type": "markdown",
   "metadata": {},
   "source": [
    "# The Tractable Buffer Stock Model"
   ]
  },
  {
   "cell_type": "code",
   "execution_count": null,
   "metadata": {
    "code_folding": [
     0
    ]
   },
   "outputs": [],
   "source": [
    "# This cell has just a bit of initial setup. You can click the arrow to expand it.\n",
    "%matplotlib inline\n",
    "import matplotlib.pyplot as plt\n",
    "\n",
    "import sys \n",
    "import os\n",
    "sys.path.insert(0, os.path.abspath('../lib'))\n",
    "\n",
    "import numpy as np\n",
    "import HARK # Prevents import error from Demos repo\n",
    "from time import clock\n",
    "from copy import deepcopy\n",
    "mystr = lambda number : \"{:.4f}\".format(number)\n",
    "\n",
    "from ipywidgets import interact, interactive, fixed, interact_manual\n",
    "import ipywidgets as widgets\n",
    "\n",
    "from HARK.utilities import plotFuncs\n",
    "from Demos.ConsumptionSaving.TractableBufferStockModel import TractableConsumerType"
   ]
  },
  {
   "cell_type": "code",
   "execution_count": null,
   "metadata": {
    "code_folding": [
     0
    ]
   },
   "outputs": [],
   "source": [
    "# Define a parameter dictionary and representation of the agents for the tractable buffer stock model\n",
    "TBS_dictionary =  {'UnempPrb' : .00625,    # Probability of becoming unemployed\n",
    "                   'DiscFac' : 0.975,      # Intertemporal discount factor\n",
    "                   'Rfree' : 1.01,         # Risk-free interest factor on assets\n",
    "                   'PermGroFac' : 1.0025,  # Permanent income growth factor (uncompensated)\n",
    "                   'CRRA' : 2.5}           # Coefficient of relative risk aversion\n",
    "MyTBStype = TractableConsumerType(**TBS_dictionary)"
   ]
  },
  {
   "cell_type": "code",
   "execution_count": null,
   "metadata": {
    "code_folding": [
     0,
     1
    ]
   },
   "outputs": [],
   "source": [
    "# Define a function that plots the employed consumption function and sustainable consumption function for given beta\n",
    "def plotTBScFunc(DiscFac):\n",
    "    m_top = 50.\n",
    "    MyTBStype.DiscFac = DiscFac\n",
    "    MyTBStype.solve()\n",
    "    plt.xlabel('Market resources $M_t$')\n",
    "    plt.ylabel('Consumption $C_t$')\n",
    "    plt.ylim([0.,1.5])\n",
    "    plt.xlim([0.,50.])\n",
    "    m_upper = 30.\n",
    "    m = MyTBStype.solution[0].cFunc.x_list\n",
    "    c = MyTBStype.solution[0].cFunc.y_list\n",
    "    #plotFuncs([MyTBStype.solution[0].cFunc,MyTBStype.mSSfunc],0.,m_upper)\n",
    "    plt.plot(m,c)\n",
    "    plt.plot([0.,m_top],[(MyTBStype.PermGroFacCmp/MyTBStype.Rfree),(MyTBStype.PermGroFacCmp/MyTBStype.Rfree + m_top*(1.0-MyTBStype.PermGroFacCmp/MyTBStype.Rfree))],'--k')\n",
    "    plt.show()\n",
    "    return None"
   ]
  },
  {
   "cell_type": "code",
   "execution_count": null,
   "metadata": {
    "code_folding": [
     0
    ]
   },
   "outputs": [],
   "source": [
    "# Make an interactive plot of the employed consumption function\n",
    "interact(plotTBScFunc, DiscFac=widgets.FloatSlider(min=0.9, max=0.99, step=0.0002, value=0.95\n",
    "                                                , continuous_update=False, readout_format='.4f', description='$\\\\beta$'));"
   ]
  },
  {
   "cell_type": "code",
   "execution_count": null,
   "metadata": {},
   "outputs": [],
   "source": []
  }
 ],
 "metadata": {
  "kernelspec": {
   "display_name": "Python 2",
   "language": "python",
   "name": "python2"
  },
  "language_info": {
   "codemirror_mode": {
    "name": "ipython",
    "version": 2
   },
   "file_extension": ".py",
   "mimetype": "text/x-python",
   "name": "python",
   "nbconvert_exporter": "python",
   "pygments_lexer": "ipython2",
   "version": "2.7.14"
  }
 },
 "nbformat": 4,
 "nbformat_minor": 2
}
